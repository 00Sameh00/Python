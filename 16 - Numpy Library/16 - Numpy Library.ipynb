{
 "cells": [
  {
   "cell_type": "markdown",
   "id": "choice-nickname",
   "metadata": {},
   "source": [
    "<h1 align = center>Numpy Library"
   ]
  },
  {
   "cell_type": "markdown",
   "id": "variable-internship",
   "metadata": {
    "toc": true
   },
   "source": [
    "<h1>Table of Contents<span class=\"tocSkip\"></span></h1>\n",
    "<div class=\"toc\"><ul class=\"toc-item\"><li><span><a href=\"#Import-the-library\" data-toc-modified-id=\"Import-the-library-1\"><span class=\"toc-item-num\">1&nbsp;&nbsp;</span>Import the library</a></span></li><li><span><a href=\"#Trigonometric-functions-\" data-toc-modified-id=\"Trigonometric-functions--2\"><span class=\"toc-item-num\">2&nbsp;&nbsp;</span>Trigonometric functions </a></span></li><li><span><a href=\"#Round-Function\" data-toc-modified-id=\"Round-Function-3\"><span class=\"toc-item-num\">3&nbsp;&nbsp;</span>Round Function</a></span></li><li><span><a href=\"#Ceil-&amp;-Floor-functions\" data-toc-modified-id=\"Ceil-&amp;-Floor-functions-4\"><span class=\"toc-item-num\">4&nbsp;&nbsp;</span>Ceil &amp; Floor functions</a></span></li><li><span><a href=\"#mod-&amp;-power-functions\" data-toc-modified-id=\"mod-&amp;-power-functions-5\"><span class=\"toc-item-num\">5&nbsp;&nbsp;</span>mod &amp; power functions</a></span></li><li><span><a href=\"#Matrices\" data-toc-modified-id=\"Matrices-6\"><span class=\"toc-item-num\">6&nbsp;&nbsp;</span>Matrices</a></span><ul class=\"toc-item\"><li><span><a href=\"#Manual-Matrix-using-format-command-\" data-toc-modified-id=\"Manual-Matrix-using-format-command--6.1\"><span class=\"toc-item-num\">6.1&nbsp;&nbsp;</span>Manual Matrix using format command </a></span></li><li><span><a href=\"#1-D-Matrix-\" data-toc-modified-id=\"1-D-Matrix--6.2\"><span class=\"toc-item-num\">6.2&nbsp;&nbsp;</span>1 D Matrix </a></span></li><li><span><a href=\"#2-D-Matrix-\" data-toc-modified-id=\"2-D-Matrix--6.3\"><span class=\"toc-item-num\">6.3&nbsp;&nbsp;</span>2 D Matrix </a></span></li><li><span><a href=\"#Matrix-using-range-function-\" data-toc-modified-id=\"Matrix-using-range-function--6.4\"><span class=\"toc-item-num\">6.4&nbsp;&nbsp;</span>Matrix using range function </a></span></li><li><span><a href=\"#Empty-Matrix\" data-toc-modified-id=\"Empty-Matrix-6.5\"><span class=\"toc-item-num\">6.5&nbsp;&nbsp;</span>Empty Matrix</a></span></li><li><span><a href=\"#Get-a-Random-value\" data-toc-modified-id=\"Get-a-Random-value-6.6\"><span class=\"toc-item-num\">6.6&nbsp;&nbsp;</span>Get a Random value</a></span><ul class=\"toc-item\"><li><span><a href=\"#-uniform-function-\" data-toc-modified-id=\"-uniform-function--6.6.1\"><span class=\"toc-item-num\">6.6.1&nbsp;&nbsp;</span> uniform function </a></span></li><li><span><a href=\"#-rand-function-\" data-toc-modified-id=\"-rand-function--6.6.2\"><span class=\"toc-item-num\">6.6.2&nbsp;&nbsp;</span> rand function </a></span></li></ul></li><li><span><a href=\"#Get-a-Random-Matrix\" data-toc-modified-id=\"Get-a-Random-Matrix-6.7\"><span class=\"toc-item-num\">6.7&nbsp;&nbsp;</span>Get a Random Matrix</a></span><ul class=\"toc-item\"><li><span><a href=\"#option-(1)\" data-toc-modified-id=\"option-(1)-6.7.1\"><span class=\"toc-item-num\">6.7.1&nbsp;&nbsp;</span>option (1)</a></span></li><li><span><a href=\"#option-(2)\" data-toc-modified-id=\"option-(2)-6.7.2\"><span class=\"toc-item-num\">6.7.2&nbsp;&nbsp;</span>option (2)</a></span></li><li><span><a href=\"#option-(3)\" data-toc-modified-id=\"option-(3)-6.7.3\"><span class=\"toc-item-num\">6.7.3&nbsp;&nbsp;</span>option (3)</a></span></li><li><span><a href=\"#option-(4)\" data-toc-modified-id=\"option-(4)-6.7.4\"><span class=\"toc-item-num\">6.7.4&nbsp;&nbsp;</span>option (4)</a></span></li><li><span><a href=\"#option-(5)\" data-toc-modified-id=\"option-(5)-6.7.5\"><span class=\"toc-item-num\">6.7.5&nbsp;&nbsp;</span>option (5)</a></span></li><li><span><a href=\"#option-(6)\" data-toc-modified-id=\"option-(6)-6.7.6\"><span class=\"toc-item-num\">6.7.6&nbsp;&nbsp;</span>option (6)</a></span></li></ul></li><li><span><a href=\"#-Random-normal-function\" data-toc-modified-id=\"-Random-normal-function-6.8\"><span class=\"toc-item-num\">6.8&nbsp;&nbsp;</span> Random normal function</a></span></li><li><span><a href=\"#Get-a-Random-value-within-a-certain-range-(randint-function)\" data-toc-modified-id=\"Get-a-Random-value-within-a-certain-range-(randint-function)-6.9\"><span class=\"toc-item-num\">6.9&nbsp;&nbsp;</span>Get a Random value within a certain range (randint function)</a></span></li><li><span><a href=\"#choice-function\" data-toc-modified-id=\"choice-function-6.10\"><span class=\"toc-item-num\">6.10&nbsp;&nbsp;</span>choice function</a></span><ul class=\"toc-item\"><li><span><a href=\"#option-(1)\" data-toc-modified-id=\"option-(1)-6.10.1\"><span class=\"toc-item-num\">6.10.1&nbsp;&nbsp;</span>option (1)</a></span></li><li><span><a href=\"#option-(2)\" data-toc-modified-id=\"option-(2)-6.10.2\"><span class=\"toc-item-num\">6.10.2&nbsp;&nbsp;</span>option (2)</a></span></li></ul></li><li><span><a href=\"#shuffle-function\" data-toc-modified-id=\"shuffle-function-6.11\"><span class=\"toc-item-num\">6.11&nbsp;&nbsp;</span>shuffle function</a></span></li><li><span><a href=\"#Matrix-of-zeros-or-ones\" data-toc-modified-id=\"Matrix-of-zeros-or-ones-6.12\"><span class=\"toc-item-num\">6.12&nbsp;&nbsp;</span>Matrix of zeros or ones</a></span><ul class=\"toc-item\"><li><span><a href=\"#1-D\" data-toc-modified-id=\"1-D-6.12.1\"><span class=\"toc-item-num\">6.12.1&nbsp;&nbsp;</span>1 D</a></span></li><li><span><a href=\"#2-D\" data-toc-modified-id=\"2-D-6.12.2\"><span class=\"toc-item-num\">6.12.2&nbsp;&nbsp;</span>2 D</a></span></li><li><span><a href=\"#3-D\" data-toc-modified-id=\"3-D-6.12.3\"><span class=\"toc-item-num\">6.12.3&nbsp;&nbsp;</span>3 D</a></span></li></ul></li><li><span><a href=\"#Identity-Matrix\" data-toc-modified-id=\"Identity-Matrix-6.13\"><span class=\"toc-item-num\">6.13&nbsp;&nbsp;</span>Identity Matrix</a></span></li><li><span><a href=\"#full-Matrix\" data-toc-modified-id=\"full-Matrix-6.14\"><span class=\"toc-item-num\">6.14&nbsp;&nbsp;</span>full Matrix</a></span></li><li><span><a href=\"#range-Matrix\" data-toc-modified-id=\"range-Matrix-6.15\"><span class=\"toc-item-num\">6.15&nbsp;&nbsp;</span>range Matrix</a></span></li><li><span><a href=\"#linspace-command\" data-toc-modified-id=\"linspace-command-6.16\"><span class=\"toc-item-num\">6.16&nbsp;&nbsp;</span>linspace command</a></span></li><li><span><a href=\"#lincpace-to-a-Matrix\" data-toc-modified-id=\"lincpace-to-a-Matrix-6.17\"><span class=\"toc-item-num\">6.17&nbsp;&nbsp;</span>lincpace to a Matrix</a></span></li><li><span><a href=\"#Diagonal-Matrix\" data-toc-modified-id=\"Diagonal-Matrix-6.18\"><span class=\"toc-item-num\">6.18&nbsp;&nbsp;</span>Diagonal Matrix</a></span></li><li><span><a href=\"#Dealing-with-Matrices\" data-toc-modified-id=\"Dealing-with-Matrices-6.19\"><span class=\"toc-item-num\">6.19&nbsp;&nbsp;</span>Dealing with Matrices</a></span></li><li><span><a href=\"#Compare-between-Matrices\" data-toc-modified-id=\"Compare-between-Matrices-6.20\"><span class=\"toc-item-num\">6.20&nbsp;&nbsp;</span>Compare between Matrices</a></span></li><li><span><a href=\"#Matrix-multiplication\" data-toc-modified-id=\"Matrix-multiplication-6.21\"><span class=\"toc-item-num\">6.21&nbsp;&nbsp;</span>Matrix multiplication</a></span></li><li><span><a href=\"#matrix-summation-value\" data-toc-modified-id=\"matrix-summation-value-6.22\"><span class=\"toc-item-num\">6.22&nbsp;&nbsp;</span>matrix summation value</a></span></li><li><span><a href=\"#matrix-length\" data-toc-modified-id=\"matrix-length-6.23\"><span class=\"toc-item-num\">6.23&nbsp;&nbsp;</span>matrix length</a></span></li><li><span><a href=\"#Matrix-Dimension\" data-toc-modified-id=\"Matrix-Dimension-6.24\"><span class=\"toc-item-num\">6.24&nbsp;&nbsp;</span>Matrix Dimension</a></span></li><li><span><a href=\"#data-type-inside-the-Matrix\" data-toc-modified-id=\"data-type-inside-the-Matrix-6.25\"><span class=\"toc-item-num\">6.25&nbsp;&nbsp;</span>data type inside the Matrix</a></span></li><li><span><a href=\"#The-sum-of-the-matrix-diagonal\" data-toc-modified-id=\"The-sum-of-the-matrix-diagonal-6.26\"><span class=\"toc-item-num\">6.26&nbsp;&nbsp;</span>The sum of the matrix diagonal</a></span></li><li><span><a href=\"#Subtraction-From-The-Matrix\" data-toc-modified-id=\"Subtraction-From-The-Matrix-6.27\"><span class=\"toc-item-num\">6.27&nbsp;&nbsp;</span>Subtraction From The Matrix</a></span></li><li><span><a href=\"#Modify-Values\" data-toc-modified-id=\"Modify-Values-6.28\"><span class=\"toc-item-num\">6.28&nbsp;&nbsp;</span>Modify Values</a></span></li><li><span><a href=\"#Dealing-with-copied-matrices-\" data-toc-modified-id=\"Dealing-with-copied-matrices--6.29\"><span class=\"toc-item-num\">6.29&nbsp;&nbsp;</span>Dealing with copied matrices </a></span></li><li><span><a href=\"#Independent-Matrices-\" data-toc-modified-id=\"Independent-Matrices--6.30\"><span class=\"toc-item-num\">6.30&nbsp;&nbsp;</span>Independent Matrices </a></span></li><li><span><a href=\"#Split-command\" data-toc-modified-id=\"Split-command-6.31\"><span class=\"toc-item-num\">6.31&nbsp;&nbsp;</span>Split command</a></span></li><li><span><a href=\"#Select-an-Item-form-the-matrix\" data-toc-modified-id=\"Select-an-Item-form-the-matrix-6.32\"><span class=\"toc-item-num\">6.32&nbsp;&nbsp;</span>Select an Item form the matrix</a></span></li><li><span><a href=\"#Combine-Matrices\" data-toc-modified-id=\"Combine-Matrices-6.33\"><span class=\"toc-item-num\">6.33&nbsp;&nbsp;</span>Combine Matrices</a></span><ul class=\"toc-item\"><li><span><a href=\"#stack-command\" data-toc-modified-id=\"stack-command-6.33.1\"><span class=\"toc-item-num\">6.33.1&nbsp;&nbsp;</span>stack command</a></span></li><li><span><a href=\"#Concatenate-command\" data-toc-modified-id=\"Concatenate-command-6.33.2\"><span class=\"toc-item-num\">6.33.2&nbsp;&nbsp;</span>Concatenate command</a></span></li></ul></li><li><span><a href=\"#Find-the-Matrix-Variance-and-the-Covariance-\" data-toc-modified-id=\"Find-the-Matrix-Variance-and-the-Covariance--6.34\"><span class=\"toc-item-num\">6.34&nbsp;&nbsp;</span>Find the Matrix Variance and the Covariance </a></span></li><li><span><a href=\"#Mathematical-Operations-for-Matrices\" data-toc-modified-id=\"Mathematical-Operations-for-Matrices-6.35\"><span class=\"toc-item-num\">6.35&nbsp;&nbsp;</span>Mathematical Operations for Matrices</a></span><ul class=\"toc-item\"><li><span><a href=\"#Addition-and-Subtraction--\" data-toc-modified-id=\"Addition-and-Subtraction---6.35.1\"><span class=\"toc-item-num\">6.35.1&nbsp;&nbsp;</span>Addition and Subtraction  </a></span></li><li><span><a href=\"#Multiplication-and-division\" data-toc-modified-id=\"Multiplication-and-division-6.35.2\"><span class=\"toc-item-num\">6.35.2&nbsp;&nbsp;</span>Multiplication and division</a></span></li><li><span><a href=\"#Multiplication-and-division-by-a-number\" data-toc-modified-id=\"Multiplication-and-division-by-a-number-6.35.3\"><span class=\"toc-item-num\">6.35.3&nbsp;&nbsp;</span>Multiplication and division by a number</a></span></li><li><span><a href=\"#functions-of-the-matrix\" data-toc-modified-id=\"functions-of-the-matrix-6.35.4\"><span class=\"toc-item-num\">6.35.4&nbsp;&nbsp;</span>functions of the matrix</a></span></li><li><span><a href=\"#Multiply-the-Matrices\" data-toc-modified-id=\"Multiply-the-Matrices-6.35.5\"><span class=\"toc-item-num\">6.35.5&nbsp;&nbsp;</span>Multiply the Matrices</a></span></li><li><span><a href=\"#Matrix-Summation\" data-toc-modified-id=\"Matrix-Summation-6.35.6\"><span class=\"toc-item-num\">6.35.6&nbsp;&nbsp;</span>Matrix Summation</a></span></li><li><span><a href=\"#Statistical-Values\" data-toc-modified-id=\"Statistical-Values-6.35.7\"><span class=\"toc-item-num\">6.35.7&nbsp;&nbsp;</span>Statistical Values</a></span></li><li><span><a href=\"#Correlation-Coefficient\" data-toc-modified-id=\"Correlation-Coefficient-6.35.8\"><span class=\"toc-item-num\">6.35.8&nbsp;&nbsp;</span>Correlation Coefficient</a></span></li><li><span><a href=\"#Matrix-sort\" data-toc-modified-id=\"Matrix-sort-6.35.9\"><span class=\"toc-item-num\">6.35.9&nbsp;&nbsp;</span>Matrix sort</a></span></li><li><span><a href=\"#Matrix-Inversion\" data-toc-modified-id=\"Matrix-Inversion-6.35.10\"><span class=\"toc-item-num\">6.35.10&nbsp;&nbsp;</span>Matrix Inversion</a></span></li></ul></li></ul></li><li><span><a href=\"#-Read-files\" data-toc-modified-id=\"-Read-files-7\"><span class=\"toc-item-num\">7&nbsp;&nbsp;</span> Read files</a></span><ul class=\"toc-item\"><li><span><a href=\"#Load-and-read-the-files\" data-toc-modified-id=\"Load-and-read-the-files-7.1\"><span class=\"toc-item-num\">7.1&nbsp;&nbsp;</span>Load and read the files</a></span><ul class=\"toc-item\"><li><span><a href=\"#Example-(1):\" data-toc-modified-id=\"Example-(1):-7.1.1\"><span class=\"toc-item-num\">7.1.1&nbsp;&nbsp;</span>Example (1):</a></span></li><li><span><a href=\"#Example-(2):\" data-toc-modified-id=\"Example-(2):-7.1.2\"><span class=\"toc-item-num\">7.1.2&nbsp;&nbsp;</span>Example (2):</a></span></li><li><span><a href=\"#Example-(3):\" data-toc-modified-id=\"Example-(3):-7.1.3\"><span class=\"toc-item-num\">7.1.3&nbsp;&nbsp;</span>Example (3):</a></span></li></ul></li></ul></li><li><span><a href=\"#Polynomials\" data-toc-modified-id=\"Polynomials-8\"><span class=\"toc-item-num\">8&nbsp;&nbsp;</span>Polynomials</a></span><ul class=\"toc-item\"><li><span><a href=\"#polyfit-command\" data-toc-modified-id=\"polyfit-command-8.1\"><span class=\"toc-item-num\">8.1&nbsp;&nbsp;</span>polyfit command</a></span></li><li><span><a href=\"#Get-the-Polynomial-Equation-\" data-toc-modified-id=\"Get-the-Polynomial-Equation--8.2\"><span class=\"toc-item-num\">8.2&nbsp;&nbsp;</span>Get the Polynomial Equation </a></span></li><li><span><a href=\"#Compansate-The-Value-of-&quot;x&quot;\" data-toc-modified-id=\"Compansate-The-Value-of-&quot;x&quot;-8.3\"><span class=\"toc-item-num\">8.3&nbsp;&nbsp;</span>Compansate The Value of \"x\"</a></span><ul class=\"toc-item\"><li><span><a href=\"#Option-(1):\" data-toc-modified-id=\"Option-(1):-8.3.1\"><span class=\"toc-item-num\">8.3.1&nbsp;&nbsp;</span>Option (1):</a></span></li><li><span><a href=\"#Option-(2):\" data-toc-modified-id=\"Option-(2):-8.3.2\"><span class=\"toc-item-num\">8.3.2&nbsp;&nbsp;</span>Option (2):</a></span></li></ul></li><li><span><a href=\"#Derivative\" data-toc-modified-id=\"Derivative-8.4\"><span class=\"toc-item-num\">8.4&nbsp;&nbsp;</span>Derivative</a></span><ul class=\"toc-item\"><li><span><a href=\"#polyder-command\" data-toc-modified-id=\"polyder-command-8.4.1\"><span class=\"toc-item-num\">8.4.1&nbsp;&nbsp;</span>polyder command</a></span></li><li><span><a href=\"#Compansate-the-value-of-&quot;x&quot;\" data-toc-modified-id=\"Compansate-the-value-of-&quot;x&quot;-8.4.2\"><span class=\"toc-item-num\">8.4.2&nbsp;&nbsp;</span>Compansate the value of \"x\"</a></span></li></ul></li><li><span><a href=\"#Integration\" data-toc-modified-id=\"Integration-8.5\"><span class=\"toc-item-num\">8.5&nbsp;&nbsp;</span>Integration</a></span><ul class=\"toc-item\"><li><span><a href=\"#polyint-command\" data-toc-modified-id=\"polyint-command-8.5.1\"><span class=\"toc-item-num\">8.5.1&nbsp;&nbsp;</span>polyint command</a></span></li><li><span><a href=\"#Compansate-the-Value-of-&quot;x&quot;\" data-toc-modified-id=\"Compansate-the-Value-of-&quot;x&quot;-8.5.2\"><span class=\"toc-item-num\">8.5.2&nbsp;&nbsp;</span>Compansate the Value of \"x\"</a></span></li></ul></li><li><span><a href=\"#Roots-of-the-Equation\" data-toc-modified-id=\"Roots-of-the-Equation-8.6\"><span class=\"toc-item-num\">8.6&nbsp;&nbsp;</span>Roots of the Equation</a></span></li></ul></li><li><span><a href=\"#Deal-with-time\" data-toc-modified-id=\"Deal-with-time-9\"><span class=\"toc-item-num\">9&nbsp;&nbsp;</span>Deal with time</a></span><ul class=\"toc-item\"><li><span><a href=\"#Datetime64-command\" data-toc-modified-id=\"Datetime64-command-9.1\"><span class=\"toc-item-num\">9.1&nbsp;&nbsp;</span>Datetime64 command</a></span></li><li><span><a href=\"#Days-Increase\" data-toc-modified-id=\"Days-Increase-9.2\"><span class=\"toc-item-num\">9.2&nbsp;&nbsp;</span>Days Increase</a></span></li><li><span><a href=\"#Days-Decrease\" data-toc-modified-id=\"Days-Decrease-9.3\"><span class=\"toc-item-num\">9.3&nbsp;&nbsp;</span>Days Decrease</a></span></li><li><span><a href=\"#Days-Difference\" data-toc-modified-id=\"Days-Difference-9.4\"><span class=\"toc-item-num\">9.4&nbsp;&nbsp;</span>Days Difference</a></span></li></ul></li><li><span><a href=\"#functions-in-numpy\" data-toc-modified-id=\"functions-in-numpy-10\"><span class=\"toc-item-num\">10&nbsp;&nbsp;</span>functions in numpy</a></span></li></ul></div>"
   ]
  },
  {
   "cell_type": "markdown",
   "id": "naughty-amino",
   "metadata": {},
   "source": [
    "<h2 align=left>Import the library"
   ]
  },
  {
   "cell_type": "code",
   "execution_count": 1,
   "id": "greek-procedure",
   "metadata": {},
   "outputs": [],
   "source": [
    "from  numpy import *"
   ]
  },
  {
   "cell_type": "markdown",
   "id": "electric-friend",
   "metadata": {},
   "source": [
    "<h2 align=left>Trigonometric functions "
   ]
  },
  {
   "cell_type": "code",
   "execution_count": 2,
   "id": "rational-barrier",
   "metadata": {},
   "outputs": [
    {
     "name": "stdout",
     "output_type": "stream",
     "text": [
      "-0.9880316240928618 0.15425144988758405 -6.405331196646276\n"
     ]
    }
   ],
   "source": [
    "# The problem with trigonometric functions is that they deal with radians in python, not degrees\n",
    "\n",
    "a = sin(30)\n",
    "b = cos(30)\n",
    "c = tan(30)\n",
    "\n",
    "print(a , b , c)"
   ]
  },
  {
   "cell_type": "code",
   "execution_count": 3,
   "id": "hourly-islam",
   "metadata": {},
   "outputs": [
    {
     "name": "stdout",
     "output_type": "stream",
     "text": [
      "0.49999999999999994\n",
      "0.8660254037844387\n",
      "0.5773502691896257\n"
     ]
    }
   ],
   "source": [
    "# To remedy the matter, the number is multiplied by (pi / 180).\n",
    "\n",
    "a = sin(30*pi/180)\n",
    "b = cos(30*pi/180)\n",
    "c = tan(30*pi/180)\n",
    "\n",
    "print(a)\n",
    "print(b)\n",
    "print(c)"
   ]
  },
  {
   "cell_type": "code",
   "execution_count": 4,
   "id": "sufficient-cooperation",
   "metadata": {},
   "outputs": [
    {
     "name": "stdout",
     "output_type": "stream",
     "text": [
      "0.49999999999999994\n",
      "0.8660254037844387\n",
      "0.5773502691896257\n"
     ]
    }
   ],
   "source": [
    "# Or use the deg2rad function \n",
    "\n",
    "a = sin(deg2rad(30))\n",
    "b = cos(deg2rad(30))\n",
    "c = tan(deg2rad(30))\n",
    "\n",
    "print(a)\n",
    "print(b)\n",
    "print(c)"
   ]
  },
  {
   "cell_type": "markdown",
   "id": "modified-deposit",
   "metadata": {},
   "source": [
    "<h2 align=left>Round Function"
   ]
  },
  {
   "cell_type": "code",
   "execution_count": 5,
   "id": "informational-permit",
   "metadata": {},
   "outputs": [
    {
     "name": "stdout",
     "output_type": "stream",
     "text": [
      "4\n",
      "3.7\n",
      "3.69\n",
      "3.685\n",
      "3.6853\n"
     ]
    }
   ],
   "source": [
    "# round command  \n",
    "\n",
    "a = round(3.68528)\n",
    "b = round(3.68528,1) # round the number to the first decimal number \n",
    "c = round(3.68528,2) # round the number to the second decimal number \n",
    "d = round(3.68528,3) # round the number to the third decimal number\n",
    "e = round(3.68528,4) # round the number to the forth decimal number\n",
    "\n",
    "print(a)\n",
    "print(b)\n",
    "print(c)\n",
    "print(d)\n",
    "print(e)"
   ]
  },
  {
   "cell_type": "markdown",
   "id": "least-binding",
   "metadata": {},
   "source": [
    "<h2 align=left>Ceil & Floor functions"
   ]
  },
  {
   "cell_type": "code",
   "execution_count": 6,
   "id": "certain-premises",
   "metadata": {},
   "outputs": [
    {
     "name": "stdout",
     "output_type": "stream",
     "text": [
      "3.0\n",
      "4.0\n"
     ]
    }
   ],
   "source": [
    "# ceil, floor commands for higher and lower approximation.  \n",
    "\n",
    "a = floor(3.68528)\n",
    "b = ceil(3.68528)\n",
    "\n",
    "print(a)\n",
    "print(b)"
   ]
  },
  {
   "cell_type": "markdown",
   "id": "crazy-designer",
   "metadata": {},
   "source": [
    "<h2 align=left>mod & power functions"
   ]
  },
  {
   "cell_type": "code",
   "execution_count": 7,
   "id": "emerging-matthew",
   "metadata": {},
   "outputs": [
    {
     "name": "stdout",
     "output_type": "stream",
     "text": [
      "6\n",
      "32\n"
     ]
    }
   ],
   "source": [
    "a = mod(20,7) # the remaining of the division (20/7 = 2.8571), (20-(2*7) = 6)\n",
    "b = power(2,5)\n",
    "\n",
    "print(a)\n",
    "print(b)"
   ]
  },
  {
   "cell_type": "markdown",
   "id": "portable-engineering",
   "metadata": {},
   "source": [
    "<h2 align=left>Matrices"
   ]
  },
  {
   "cell_type": "markdown",
   "id": "c19b9593",
   "metadata": {},
   "source": [
    "<h3 align=left>Manual Matrix using format command "
   ]
  },
  {
   "cell_type": "code",
   "execution_count": 8,
   "id": "antique-slovak",
   "metadata": {},
   "outputs": [
    {
     "name": "stdout",
     "output_type": "stream",
     "text": [
      "a = [[1 2]\n",
      " [3 4]]\n",
      "-------------------------\n",
      "b = [[1 2 3]\n",
      " [4 5 6]]\n"
     ]
    }
   ],
   "source": [
    "# We can create the matrix using format command \n",
    "\n",
    "a = matrix('{} {} ; {} {}'.format(1,2,3,4))\n",
    "b = matrix('{} {} {};{} {} {}'.format(1,2,3,4,5,6))\n",
    "\n",
    "print('a =', a)\n",
    "print('-------------------------')\n",
    "print('b =', b)"
   ]
  },
  {
   "cell_type": "markdown",
   "id": "green-turning",
   "metadata": {},
   "source": [
    "<h3 align=left>1 D Matrix "
   ]
  },
  {
   "cell_type": "code",
   "execution_count": 9,
   "id": "parallel-moderator",
   "metadata": {},
   "outputs": [
    {
     "name": "stdout",
     "output_type": "stream",
     "text": [
      "[2, 3, 6, 5, 4, 7, 8]\n",
      "-------------------------\n",
      "[2 3 6 5 4 7 8]\n"
     ]
    }
   ],
   "source": [
    "# The array command is used to convert a list into an array\n",
    "\n",
    "a = [2,3,6,5,4,7,8] # list\n",
    "b = array(a)        # array\n",
    "\n",
    "print(a)\n",
    "print('-------------------------')\n",
    "print(b)"
   ]
  },
  {
   "cell_type": "markdown",
   "id": "progressive-romantic",
   "metadata": {},
   "source": [
    "<h3 align=left>2 D Matrix "
   ]
  },
  {
   "cell_type": "code",
   "execution_count": 10,
   "id": "brazilian-quest",
   "metadata": {},
   "outputs": [
    {
     "name": "stdout",
     "output_type": "stream",
     "text": [
      "a =  [[1, 2, 3], [5, 3, 6], [9, 6, 5]]\n",
      "-------------------------\n",
      "b =  [[1 2 3]\n",
      " [5 3 6]\n",
      " [9 6 5]]\n"
     ]
    }
   ],
   "source": [
    "# Also a two-dimensional matrix can be made \n",
    "\n",
    "a = [[1,2,3],[5,3,6],[9,6,5]]\n",
    "b = array(a)\n",
    "\n",
    "print('a = ', a)\n",
    "print('-------------------------')\n",
    "print('b = ', b)"
   ]
  },
  {
   "cell_type": "markdown",
   "id": "acknowledged-navigation",
   "metadata": {},
   "source": [
    "<h3 align=left>Matrix using range function "
   ]
  },
  {
   "cell_type": "code",
   "execution_count": 11,
   "id": "naval-rotation",
   "metadata": {},
   "outputs": [
    {
     "name": "stdout",
     "output_type": "stream",
     "text": [
      "[[2 3 4]\n",
      " [4 5 6]\n",
      " [6 7 8]]\n"
     ]
    }
   ],
   "source": [
    "# The range command can be used to create an array\n",
    "\n",
    "a = array([range(i, i + 3) for i in [2, 4, 6]])\n",
    "print(a)"
   ]
  },
  {
   "cell_type": "code",
   "execution_count": 12,
   "id": "further-respect",
   "metadata": {},
   "outputs": [
    {
     "name": "stdout",
     "output_type": "stream",
     "text": [
      "[('x', 3, 4.2) ('y', 4, 5.3) ('z', 5, 6.3)]\n"
     ]
    }
   ],
   "source": [
    "# •\tVariables can be declared after they are written\n",
    "\n",
    "a = array([('x', 3, 4.2), ('y', 4, 5.3), ('z', 5, 6.3)],\n",
    "          dtype=[('name', 'U5'), ('number', 'i2'),\n",
    "                 ('value', 'f4')])\n",
    "''' where \n",
    "* U5 represents: the number of the string letters (maximum 5)\n",
    "* i2 : the number of int. value( maximum 2)\n",
    "* f4 : the number of float value ( maximum 4)\n",
    "'''\n",
    "\n",
    "print(a)"
   ]
  },
  {
   "cell_type": "markdown",
   "id": "loved-tumor",
   "metadata": {},
   "source": [
    "<h3 align=left>Empty Matrix"
   ]
  },
  {
   "cell_type": "code",
   "execution_count": 13,
   "id": "freelance-martin",
   "metadata": {},
   "outputs": [
    {
     "name": "stdout",
     "output_type": "stream",
     "text": [
      "[[6.23042070e-307 4.67296746e-307 1.69121096e-306]\n",
      " [3.22646744e-307 9.45763339e-308 4.00535703e-307]]\n"
     ]
    }
   ],
   "source": [
    "# Using the empty command, an empty array or matrix can be created  \n",
    "\n",
    "a = empty ((2,3))\n",
    "print(a)"
   ]
  },
  {
   "cell_type": "markdown",
   "id": "periodic-constitutional",
   "metadata": {},
   "source": [
    "<h3 align=left>Get a Random value"
   ]
  },
  {
   "cell_type": "markdown",
   "id": "stone-cedar",
   "metadata": {},
   "source": [
    "<h4 align=left> uniform function "
   ]
  },
  {
   "cell_type": "code",
   "execution_count": 14,
   "id": "opponent-acrobat",
   "metadata": {},
   "outputs": [
    {
     "name": "stdout",
     "output_type": "stream",
     "text": [
      "8.781908980241365\n",
      "-------------------------\n",
      "[2.23125023 1.63702357 6.46737668 5.622309   7.04186187 6.83114168\n",
      " 7.86958179 9.41997854 1.78779309 5.87743983 8.52898432 3.68823673\n",
      " 5.75740564 1.49986004 8.96774077 5.21110581 5.61297214 9.53194691\n",
      " 2.93585773 5.47632354]\n",
      "-------------------------\n"
     ]
    }
   ],
   "source": [
    "# The uniform command returns a random value\n",
    "\n",
    "a = random.uniform(1,10)     # one random value from 1 to 10\n",
    "b = random.uniform(1,10,20)  # 20 random values from 1 to 10\n",
    "\n",
    "print(a)\n",
    "print('-------------------------')\n",
    "print(b)\n",
    "print('-------------------------')"
   ]
  },
  {
   "cell_type": "markdown",
   "id": "interpreted-washer",
   "metadata": {},
   "source": [
    "<h4 align=left> rand function "
   ]
  },
  {
   "cell_type": "code",
   "execution_count": 15,
   "id": "exterior-patrick",
   "metadata": {},
   "outputs": [
    {
     "name": "stdout",
     "output_type": "stream",
     "text": [
      "[0.25989335 0.79683331 0.77765412 0.92616414 0.78644668 0.5070631\n",
      " 0.03918235 0.21700498 0.31290231 0.71761638 0.44264464 0.78881047\n",
      " 0.97184017 0.87144546 0.58322638]\n"
     ]
    }
   ],
   "source": [
    "# Here, Using rand command helps to get random numbers from 0 to 1 are used  \n",
    "\n",
    "a = random.rand(15) \n",
    "print(a)"
   ]
  },
  {
   "cell_type": "markdown",
   "id": "failing-detective",
   "metadata": {},
   "source": [
    "<h3 align=left>Get a Random Matrix"
   ]
  },
  {
   "cell_type": "markdown",
   "id": "artificial-kinase",
   "metadata": {},
   "source": [
    "<h4 align=left>option (1)"
   ]
  },
  {
   "cell_type": "code",
   "execution_count": 16,
   "id": "inner-absence",
   "metadata": {},
   "outputs": [
    {
     "name": "stdout",
     "output_type": "stream",
     "text": [
      "[[0.82769349 0.39292491 0.17863016]\n",
      " [0.73157698 0.0979619  0.59458029]]\n"
     ]
    }
   ],
   "source": [
    "# The random.random command can create an array with random numbers between 0 and 1   \n",
    "\n",
    "a = random.random((2,3))\n",
    "print(a)"
   ]
  },
  {
   "cell_type": "markdown",
   "id": "expensive-williams",
   "metadata": {},
   "source": [
    "<h4 align=left>option (2)"
   ]
  },
  {
   "cell_type": "code",
   "execution_count": 17,
   "id": "supreme-cowboy",
   "metadata": {},
   "outputs": [
    {
     "name": "stdout",
     "output_type": "stream",
     "text": [
      "[[5 9 3]\n",
      " [4 3 9]\n",
      " [7 1 5]]\n"
     ]
    }
   ],
   "source": [
    "# An array of integers can be made between 0 and 10 using randint command  \n",
    "\n",
    "a = random.randint(0, 10, (3, 3))\n",
    "\n",
    "'''where\n",
    "0 & 10 is the range\n",
    "3,3 is the matrix size'''\n",
    "\n",
    "print(a)"
   ]
  },
  {
   "cell_type": "markdown",
   "id": "structured-magnet",
   "metadata": {},
   "source": [
    "<h4 align=left>option (3)"
   ]
  },
  {
   "cell_type": "code",
   "execution_count": 18,
   "id": "balanced-puppy",
   "metadata": {},
   "outputs": [
    {
     "name": "stdout",
     "output_type": "stream",
     "text": [
      "[[[5 6 7 9 8]\n",
      "  [6 9 7 5 5]]\n",
      "\n",
      " [[8 8 5 8 9]\n",
      "  [5 5 6 8 5]]\n",
      "\n",
      " [[5 6 7 6 6]\n",
      "  [9 7 6 9 5]]]\n"
     ]
    }
   ],
   "source": [
    "# or three dimensions  \n",
    "\n",
    "a = random.randint(5,10, size=(3, 2, 5))\n",
    "\n",
    "'''where\n",
    "5, 10 is the numbers range\n",
    "3 the dimensions numbers\n",
    "2 is the raws numbers\n",
    "5 is the columns numbers'''\n",
    "print(a)"
   ]
  },
  {
   "cell_type": "markdown",
   "id": "graphic-shopping",
   "metadata": {},
   "source": [
    "<h4 align=left>option (4)"
   ]
  },
  {
   "cell_type": "code",
   "execution_count": 19,
   "id": "confident-variable",
   "metadata": {},
   "outputs": [
    {
     "name": "stdout",
     "output_type": "stream",
     "text": [
      "[52 29 21 36 11 29 31 56 45 47 37 56  1 23 28 20 43 25 18 39 17 48 53 12\n",
      " 51]\n",
      "[[52 29 21 36 11]\n",
      " [29 31 56 45 47]\n",
      " [37 56  1 23 28]\n",
      " [20 43 25 18 39]\n",
      " [17 48 53 12 51]]\n"
     ]
    }
   ],
   "source": [
    "# Or use a row of numbers and form it \n",
    "\n",
    "a = random.randint(1,60,25)\n",
    "b = reshape(a,(5,5))\n",
    "\n",
    "print(a)\n",
    "print(b)"
   ]
  },
  {
   "cell_type": "markdown",
   "id": "posted-relief",
   "metadata": {},
   "source": [
    "<h4 align=left>option (5)"
   ]
  },
  {
   "cell_type": "code",
   "execution_count": 20,
   "id": "optional-twins",
   "metadata": {},
   "outputs": [
    {
     "name": "stdout",
     "output_type": "stream",
     "text": [
      "[[0.76350622 0.58435628 0.97827138]\n",
      " [0.67697192 0.83985071 0.12705612]\n",
      " [0.93476594 0.47137008 0.67139969]\n",
      " [0.64985367 0.25244755 0.72079362]\n",
      " [0.38902194 0.77980449 0.16444589]]\n"
     ]
    }
   ],
   "source": [
    "# or a two-dimensional matrix between 0 & 1\n",
    "\n",
    "a = random.rand(5,3)\n",
    "print(a)"
   ]
  },
  {
   "cell_type": "markdown",
   "id": "juvenile-election",
   "metadata": {},
   "source": [
    "<h4 align=left>option (6)"
   ]
  },
  {
   "cell_type": "code",
   "execution_count": 21,
   "id": "opening-protein",
   "metadata": {},
   "outputs": [
    {
     "name": "stdout",
     "output_type": "stream",
     "text": [
      "[[[0.29187914 0.89761121]\n",
      "  [0.46182751 0.13981212]\n",
      "  [0.7746511  0.44460625]]\n",
      "\n",
      " [[0.29768992 0.403605  ]\n",
      "  [0.26974129 0.86855743]\n",
      "  [0.2731609  0.84139574]]\n",
      "\n",
      " [[0.52556495 0.38882235]\n",
      "  [0.62458009 0.93532229]\n",
      "  [0.52239929 0.15004205]]\n",
      "\n",
      " [[0.30349926 0.83798858]\n",
      "  [0.0649942  0.26831448]\n",
      "  [0.91870625 0.45099549]]]\n"
     ]
    }
   ],
   "source": [
    "# or a three-dimensional matrix   \n",
    "\n",
    "a = random.rand(4,3,2)\n",
    "print(a)"
   ]
  },
  {
   "cell_type": "markdown",
   "id": "measured-anaheim",
   "metadata": {},
   "source": [
    "<h3 align=left> Random normal function"
   ]
  },
  {
   "cell_type": "code",
   "execution_count": 22,
   "id": "minor-circulation",
   "metadata": {},
   "outputs": [
    {
     "name": "stdout",
     "output_type": "stream",
     "text": [
      "[-0.4546004  -0.31247463  0.81958729  0.51559646  0.29258305 -0.26250391\n",
      " -0.08085571  0.18017785  1.57623717  0.74889128]\n"
     ]
    }
   ],
   "source": [
    "# The random.normal command brings the normal distribution of numbers between zero and 1 as a Gaussian distribution.    \n",
    "\n",
    "a = random.normal(0,1,10)  #  get 10 numbers within range 0 & 1.\n",
    "print(a)"
   ]
  },
  {
   "cell_type": "markdown",
   "id": "approved-complaint",
   "metadata": {},
   "source": [
    "<h3 align=left>Get a Random value within a certain range (randint function)"
   ]
  },
  {
   "cell_type": "code",
   "execution_count": 23,
   "id": "continued-appeal",
   "metadata": {},
   "outputs": [
    {
     "name": "stdout",
     "output_type": "stream",
     "text": [
      "19\n"
     ]
    }
   ],
   "source": [
    "# The random.randint command can specify an integer random number between a certain range of two numbers \n",
    "\n",
    "a = random.randint(150) # get random numbers between 0 & 150\n",
    "print(a)"
   ]
  },
  {
   "cell_type": "code",
   "execution_count": 24,
   "id": "centered-matthew",
   "metadata": {},
   "outputs": [
    {
     "name": "stdout",
     "output_type": "stream",
     "text": [
      "[0 0 1 2 4 1 2]\n"
     ]
    }
   ],
   "source": [
    "# You can select certain numbers of random integers within a range\n",
    "\n",
    "a =random.randint(5, size=7)\n",
    "print(a)"
   ]
  },
  {
   "cell_type": "code",
   "execution_count": 25,
   "id": "bacterial-pottery",
   "metadata": {},
   "outputs": [
    {
     "name": "stdout",
     "output_type": "stream",
     "text": [
      "[18 11  7]\n"
     ]
    }
   ],
   "source": [
    "# If two numbers are written, then the numbers range between the two numbers  \n",
    "\n",
    "a =random.randint(5,20, size=3)\n",
    "print(a)"
   ]
  },
  {
   "cell_type": "markdown",
   "id": "green-onion",
   "metadata": {},
   "source": [
    "<h3 align=left>choice function"
   ]
  },
  {
   "cell_type": "markdown",
   "id": "fiscal-carrier",
   "metadata": {},
   "source": [
    "<h4 align=left>option (1)"
   ]
  },
  {
   "cell_type": "code",
   "execution_count": 26,
   "id": "constant-foundation",
   "metadata": {},
   "outputs": [
    {
     "name": "stdout",
     "output_type": "stream",
     "text": [
      "9\n"
     ]
    }
   ],
   "source": [
    "# The choice command selects a random value a mong a list  \n",
    "\n",
    "y = [1,2,3,6,9,8,5,4,7,8,9,6,5,9,6]\n",
    "a = random.choice(y)\n",
    "\n",
    "print(a)"
   ]
  },
  {
   "cell_type": "markdown",
   "id": "exposed-tonight",
   "metadata": {},
   "source": [
    "<h4 align=left>option (2)"
   ]
  },
  {
   "cell_type": "code",
   "execution_count": 27,
   "id": "healthy-symposium",
   "metadata": {},
   "outputs": [
    {
     "name": "stdout",
     "output_type": "stream",
     "text": [
      "[9 3 2 9 9]\n"
     ]
    }
   ],
   "source": [
    "# Also more than one value can be selected  \n",
    "\n",
    "y = [1,2,3,6,9,8,5,4,7,8,9,6,5,9,6]\n",
    "a = random.choice(y, size = 5)\n",
    "\n",
    "print(a)"
   ]
  },
  {
   "cell_type": "markdown",
   "id": "posted-share",
   "metadata": {},
   "source": [
    "<h3 align=left>shuffle function"
   ]
  },
  {
   "cell_type": "code",
   "execution_count": 28,
   "id": "working-airline",
   "metadata": {},
   "outputs": [
    {
     "name": "stdout",
     "output_type": "stream",
     "text": [
      "[1, 2, 3, 6, 9, 8, 5, 4, 7, 8, 9, 6, 5, 9, 6]\n",
      "[3, 4, 9, 5, 9, 6, 1, 8, 8, 6, 5, 9, 2, 6, 7]\n"
     ]
    }
   ],
   "source": [
    "# The shuffle command performs a random change in order  \n",
    "\n",
    "y = [1,2,3,6,9,8,5,4,7,8,9,6,5,9,6]\n",
    "print(y)\n",
    "\n",
    "random.shuffle(y)\n",
    "print(y)"
   ]
  },
  {
   "cell_type": "markdown",
   "id": "popular-destination",
   "metadata": {},
   "source": [
    "<h3 align=left>Matrix of zeros or ones"
   ]
  },
  {
   "cell_type": "markdown",
   "id": "considered-antigua",
   "metadata": {},
   "source": [
    "<h4 align=left>1 D"
   ]
  },
  {
   "cell_type": "code",
   "execution_count": 29,
   "id": "australian-layout",
   "metadata": {},
   "outputs": [
    {
     "name": "stdout",
     "output_type": "stream",
     "text": [
      "[0. 0. 0. 0. 0. 0. 0. 0.]\n",
      "---------------------------------------------------------------\n",
      "[1. 1. 1. 1. 1. 1. 1. 1. 1. 1.]\n"
     ]
    }
   ],
   "source": [
    "# •\tعمل مصفوفة اصفار او  وحايد  \n",
    "\n",
    "a = zeros(8)\n",
    "b = ones(10)\n",
    "\n",
    "print(a)\n",
    "print('---------------------------------------------------------------')\n",
    "print(b)"
   ]
  },
  {
   "cell_type": "markdown",
   "id": "alpha-lawsuit",
   "metadata": {},
   "source": [
    "<h4 align=left>2 D"
   ]
  },
  {
   "cell_type": "code",
   "execution_count": 30,
   "id": "saving-benjamin",
   "metadata": {},
   "outputs": [
    {
     "name": "stdout",
     "output_type": "stream",
     "text": [
      "[[0. 0. 0.]\n",
      " [0. 0. 0.]\n",
      " [0. 0. 0.]]\n"
     ]
    }
   ],
   "source": [
    "a = zeros((3,3))\n",
    "print(a)"
   ]
  },
  {
   "cell_type": "code",
   "execution_count": 31,
   "id": "scenic-immunology",
   "metadata": {},
   "outputs": [
    {
     "name": "stdout",
     "output_type": "stream",
     "text": [
      "[[1. 1. 1.]\n",
      " [1. 1. 1.]\n",
      " [1. 1. 1.]]\n"
     ]
    }
   ],
   "source": [
    "b = ones((3,3))\n",
    "\n",
    "print(b)"
   ]
  },
  {
   "cell_type": "markdown",
   "id": "catholic-crowd",
   "metadata": {},
   "source": [
    "<h4 align=left>3 D"
   ]
  },
  {
   "cell_type": "code",
   "execution_count": 32,
   "id": "joined-humor",
   "metadata": {},
   "outputs": [
    {
     "name": "stdout",
     "output_type": "stream",
     "text": [
      "[[[0. 0.]\n",
      "  [0. 0.]\n",
      "  [0. 0.]]\n",
      "\n",
      " [[0. 0.]\n",
      "  [0. 0.]\n",
      "  [0. 0.]]]\n",
      "---------------------------------------------------------------\n",
      "[[[1. 1.]\n",
      "  [1. 1.]\n",
      "  [1. 1.]]\n",
      "\n",
      " [[1. 1.]\n",
      "  [1. 1.]\n",
      "  [1. 1.]]]\n"
     ]
    }
   ],
   "source": [
    "# three dimentions\n",
    "\n",
    "a = zeros((2,3,2))\n",
    "b = ones((2,3,2))\n",
    "\n",
    "print(a)\n",
    "print('---------------------------------------------------------------')\n",
    "print(b)"
   ]
  },
  {
   "cell_type": "markdown",
   "id": "moral-treatment",
   "metadata": {},
   "source": [
    "<h3 align=left>Identity Matrix"
   ]
  },
  {
   "cell_type": "code",
   "execution_count": 33,
   "id": "modified-cleveland",
   "metadata": {},
   "outputs": [
    {
     "name": "stdout",
     "output_type": "stream",
     "text": [
      "[[1. 0. 0. 0. 0.]\n",
      " [0. 1. 0. 0. 0.]\n",
      " [0. 0. 1. 0. 0.]\n",
      " [0. 0. 0. 1. 0.]\n",
      " [0. 0. 0. 0. 1.]]\n"
     ]
    }
   ],
   "source": [
    "a = eye(5) \n",
    "print(a)"
   ]
  },
  {
   "cell_type": "markdown",
   "id": "conditional-footage",
   "metadata": {},
   "source": [
    "<h3 align=left>full Matrix"
   ]
  },
  {
   "cell_type": "code",
   "execution_count": 34,
   "id": "enormous-commander",
   "metadata": {},
   "outputs": [
    {
     "name": "stdout",
     "output_type": "stream",
     "text": [
      "[[35 35 35 35 35]\n",
      " [35 35 35 35 35]\n",
      " [35 35 35 35 35]]\n"
     ]
    }
   ],
   "source": [
    "# The full command creates an array with the given number  \n",
    "\n",
    "a = full((3, 5), 35)\n",
    "print(a)"
   ]
  },
  {
   "cell_type": "markdown",
   "id": "global-prison",
   "metadata": {},
   "source": [
    "<h3 align=left>range Matrix"
   ]
  },
  {
   "cell_type": "code",
   "execution_count": 35,
   "id": "chronic-century",
   "metadata": {},
   "outputs": [
    {
     "name": "stdout",
     "output_type": "stream",
     "text": [
      "[[ 0  1  2  3  4  5]\n",
      " [ 6  7  8  9 10 11]\n",
      " [12 13 14 15 16 17]]\n",
      "[[[ 0  1  2]\n",
      "  [ 3  4  5]\n",
      "  [ 6  7  8]]\n",
      "\n",
      " [[ 9 10 11]\n",
      "  [12 13 14]\n",
      "  [15 16 17]]\n",
      "\n",
      " [[18 19 20]\n",
      "  [21 22 23]\n",
      "  [24 25 26]]]\n"
     ]
    }
   ],
   "source": [
    "# And it is possible to write an array with specific dimensions like this\n",
    "\n",
    "a =arange(18).reshape(3,6)\n",
    "b =arange(27).reshape(3,3,3)\n",
    "'''\n",
    "where\n",
    "18 is the range of the numbers\n",
    "3*6 represent the sahpe of the matrix\n",
    "important notice: reshape(3*6) = range (18)\n",
    "'''\n",
    "\n",
    "print(a)\n",
    "print(b)"
   ]
  },
  {
   "cell_type": "markdown",
   "id": "73c9625d",
   "metadata": {},
   "source": [
    "<h3 align=left>linspace command"
   ]
  },
  {
   "cell_type": "code",
   "execution_count": 36,
   "id": "wicked-literature",
   "metadata": {},
   "outputs": [
    {
     "name": "stdout",
     "output_type": "stream",
     "text": [
      "[ 0.          0.6122449   1.2244898   1.83673469  2.44897959  3.06122449\n",
      "  3.67346939  4.28571429  4.89795918  5.51020408  6.12244898  6.73469388\n",
      "  7.34693878  7.95918367  8.57142857  9.18367347  9.79591837 10.40816327\n",
      " 11.02040816 11.63265306 12.24489796 12.85714286 13.46938776 14.08163265\n",
      " 14.69387755 15.30612245 15.91836735 16.53061224 17.14285714 17.75510204\n",
      " 18.36734694 18.97959184 19.59183673 20.20408163 20.81632653 21.42857143\n",
      " 22.04081633 22.65306122 23.26530612 23.87755102 24.48979592 25.10204082\n",
      " 25.71428571 26.32653061 26.93877551 27.55102041 28.16326531 28.7755102\n",
      " 29.3877551  30.        ]\n",
      "---------------------------------------------------------------\n",
      "[  0.  25.  50.  75. 100.]\n"
     ]
    }
   ],
   "source": [
    "# To write numbers distributed evenly between two numbers using linespace command \n",
    "\n",
    "b = linspace(0,30)  # the auto steps are '50' between the required range \n",
    "c = linspace(0,100, 5) # i managed the steps to be 5 in this case\n",
    "\n",
    "print(b)\n",
    "print('---------------------------------------------------------------')\n",
    "print(c)"
   ]
  },
  {
   "cell_type": "markdown",
   "id": "joint-network",
   "metadata": {},
   "source": [
    "<h3 align=left>lincpace to a Matrix"
   ]
  },
  {
   "cell_type": "code",
   "execution_count": 37,
   "id": "innocent-display",
   "metadata": {},
   "outputs": [
    {
     "name": "stdout",
     "output_type": "stream",
     "text": [
      "b = \n",
      " [[ 0.          2.72727273  5.45454545  8.18181818]\n",
      " [10.90909091 13.63636364 16.36363636 19.09090909]\n",
      " [21.81818182 24.54545455 27.27272727 30.        ]]\n",
      "---------------------------------------------------------------\n",
      "c = \n",
      " [[[  0.           3.84615385   7.69230769]\n",
      "  [ 11.53846154  15.38461538  19.23076923]\n",
      "  [ 23.07692308  26.92307692  30.76923077]]\n",
      "\n",
      " [[ 34.61538462  38.46153846  42.30769231]\n",
      "  [ 46.15384615  50.          53.84615385]\n",
      "  [ 57.69230769  61.53846154  65.38461538]]\n",
      "\n",
      " [[ 69.23076923  73.07692308  76.92307692]\n",
      "  [ 80.76923077  84.61538462  88.46153846]\n",
      "  [ 92.30769231  96.15384615 100.        ]]]\n"
     ]
    }
   ],
   "source": [
    "# •\tconvert it to a matrix\n",
    "\n",
    "b =linspace(0,30,12).reshape(3,4)\n",
    "c =linspace(0,100,27).reshape(3,3,3)\n",
    "\n",
    "print('b = \\n', b)\n",
    "print('---------------------------------------------------------------')\n",
    "print('c = \\n', c)"
   ]
  },
  {
   "cell_type": "markdown",
   "id": "recent-banner",
   "metadata": {},
   "source": [
    "<h3 align=left>Diagonal Matrix"
   ]
  },
  {
   "cell_type": "code",
   "execution_count": 38,
   "id": "lasting-shade",
   "metadata": {},
   "outputs": [
    {
     "name": "stdout",
     "output_type": "stream",
     "text": [
      "[[ 5  0  0  0  0]\n",
      " [ 0 12  0  0  0]\n",
      " [ 0  0  4  0  0]\n",
      " [ 0  0  0 -1  0]\n",
      " [ 0  0  0  0  3]]\n",
      "-------------------------\n",
      "[[ 0  0  0  5  0  0  0  0]\n",
      " [ 0  0  0  0 12  0  0  0]\n",
      " [ 0  0  0  0  0  4  0  0]\n",
      " [ 0  0  0  0  0  0 -1  0]\n",
      " [ 0  0  0  0  0  0  0  3]\n",
      " [ 0  0  0  0  0  0  0  0]\n",
      " [ 0  0  0  0  0  0  0  0]\n",
      " [ 0  0  0  0  0  0  0  0]]\n",
      "-------------------------\n"
     ]
    }
   ],
   "source": [
    "a =diag(array([5,12,4,-1,3]))\n",
    "\n",
    "b =diag(array([5,12,4,-1,3]),k=3)\n",
    "\n",
    "print(a)\n",
    "print('-------------------------')\n",
    "print(b)\n",
    "print('-------------------------')"
   ]
  },
  {
   "cell_type": "markdown",
   "id": "christian-right",
   "metadata": {},
   "source": [
    "<h3 align=left>Dealing with Matrices"
   ]
  },
  {
   "cell_type": "code",
   "execution_count": 39,
   "id": "olive-massachusetts",
   "metadata": {},
   "outputs": [
    {
     "name": "stdout",
     "output_type": "stream",
     "text": [
      "[[2 9 2]\n",
      " [0 5 1]\n",
      " [9 3 0]]\n"
     ]
    }
   ],
   "source": [
    "# Numbers that are not zero can be calculated using count_nonzero command\n",
    "\n",
    "\n",
    "a = random.randint(0, 10, (3, 3))\n",
    "print(a)"
   ]
  },
  {
   "cell_type": "code",
   "execution_count": 40,
   "id": "intended-auditor",
   "metadata": {},
   "outputs": [
    {
     "name": "stdout",
     "output_type": "stream",
     "text": [
      "7\n"
     ]
    }
   ],
   "source": [
    "b = count_nonzero(a)\n",
    "print(b)"
   ]
  },
  {
   "cell_type": "code",
   "execution_count": 41,
   "id": "generic-testament",
   "metadata": {},
   "outputs": [
    {
     "name": "stdout",
     "output_type": "stream",
     "text": [
      "2\n",
      "---------------------------------------------------------------\n",
      "7\n"
     ]
    }
   ],
   "source": [
    "# Or specify the number of numbers greater or less than a certain value\n",
    "\n",
    "c = count_nonzero(a>5)\n",
    "d = count_nonzero(a<7)\n",
    "\n",
    "print(c)\n",
    "print('---------------------------------------------------------------')\n",
    "print(d)"
   ]
  },
  {
   "cell_type": "code",
   "execution_count": 42,
   "id": "august-canyon",
   "metadata": {},
   "outputs": [
    {
     "name": "stdout",
     "output_type": "stream",
     "text": [
      "a = [[2 9 2]\n",
      " [0 5 1]\n",
      " [9 3 0]]\n",
      "-------------------------\n",
      "b = [1 0 1]\n",
      "-------------------------\n",
      "c = [2 3 2]\n"
     ]
    }
   ],
   "source": [
    "# deal with each raw then gives a sum value per each.\n",
    "\n",
    "b = count_nonzero(a>5,axis=1)   \n",
    "c = count_nonzero(a<8,axis=1)\n",
    "\n",
    "print('a =', a)\n",
    "print('-------------------------')\n",
    "print('b =', b)\n",
    "print('-------------------------')\n",
    "print('c =', c)"
   ]
  },
  {
   "cell_type": "code",
   "execution_count": 43,
   "id": "conditional-morris",
   "metadata": {},
   "outputs": [
    {
     "name": "stdout",
     "output_type": "stream",
     "text": [
      "[[2 9 2]\n",
      " [0 5 1]\n",
      " [9 3 0]]\n",
      "-------------------------\n",
      "True\n"
     ]
    }
   ],
   "source": [
    "# To find out whether there is a number greater or less than a certain value or not\n",
    "\n",
    "b = any(a>5)\n",
    "print(a)\n",
    "print('-------------------------')\n",
    "print(b)"
   ]
  },
  {
   "cell_type": "code",
   "execution_count": 44,
   "id": "middle-smell",
   "metadata": {},
   "outputs": [
    {
     "name": "stdout",
     "output_type": "stream",
     "text": [
      "[[2 9 2]\n",
      " [0 5 1]\n",
      " [9 3 0]]\n",
      "-------------------------\n",
      "[ True False  True]\n"
     ]
    }
   ],
   "source": [
    "# It can be done in every row \n",
    "\n",
    "b = any(a>5,axis=1)\n",
    "\n",
    "print(a)\n",
    "print('-------------------------')\n",
    "print(b)"
   ]
  },
  {
   "cell_type": "code",
   "execution_count": 45,
   "id": "physical-population",
   "metadata": {},
   "outputs": [
    {
     "name": "stdout",
     "output_type": "stream",
     "text": [
      "[[2 9 2]\n",
      " [0 5 1]\n",
      " [9 3 0]]\n",
      "-------------------------\n",
      "False\n"
     ]
    }
   ],
   "source": [
    "# It is possible to find out whether all elements are complying with a certain condition\n",
    "\n",
    "b = all(a>5)\n",
    "\n",
    "print(a)\n",
    "print('-------------------------')\n",
    "print(b)"
   ]
  },
  {
   "cell_type": "code",
   "execution_count": 46,
   "id": "variable-breakdown",
   "metadata": {},
   "outputs": [
    {
     "name": "stdout",
     "output_type": "stream",
     "text": [
      "[[12  5 10]\n",
      " [ 6 18 15]\n",
      " [13  8 11]]\n",
      "-------------------------\n",
      "[[ True False False]\n",
      " [False  True  True]\n",
      " [ True False  True]]\n",
      "-------------------------\n",
      "[[ True  True  True]\n",
      " [ True False False]\n",
      " [ True  True  True]]\n"
     ]
    }
   ],
   "source": [
    "# You can find out if the elements are greater than or less than a certain number\n",
    "\n",
    "a =random.randint(5,20, size=9).reshape(3,3)\n",
    "\n",
    "b = a>10\n",
    "c = a<15\n",
    "\n",
    "print(a)\n",
    "print('-------------------------')\n",
    "print(b)\n",
    "print('-------------------------')\n",
    "print(c)"
   ]
  },
  {
   "cell_type": "markdown",
   "id": "judicial-mechanism",
   "metadata": {},
   "source": [
    "<h3 align=left>Compare between Matrices"
   ]
  },
  {
   "cell_type": "code",
   "execution_count": 47,
   "id": "technological-effect",
   "metadata": {},
   "outputs": [
    {
     "name": "stdout",
     "output_type": "stream",
     "text": [
      "[[0 1 2]\n",
      " [3 4 5]\n",
      " [6 7 8]]\n",
      "-------------------------\n",
      "[[0 1 2]\n",
      " [3 4 5]\n",
      " [6 7 8]]\n",
      "-------------------------\n",
      "[[ 0  2  4]\n",
      " [ 6  8 10]\n",
      " [12 14 16]]\n",
      "-------------------------\n",
      "[[ True  True  True]\n",
      " [ True  True  True]\n",
      " [ True  True  True]]\n",
      "-------------------------\n",
      "[[ True False False]\n",
      " [False False False]\n",
      " [False False False]]\n"
     ]
    }
   ],
   "source": [
    "# isclose command\n",
    "\n",
    "a =arange(9).reshape(3,3)\n",
    "b =arange(9).reshape(3,3)\n",
    "c = 2*b\n",
    "d = isclose(a,b,rtol = 0.1)\n",
    "e = isclose(a,c,rtol = 0.1)\n",
    "\n",
    "print(a)\n",
    "print('-------------------------')\n",
    "print(b)\n",
    "print('-------------------------')\n",
    "print(c)\n",
    "print('-------------------------')\n",
    "print(d)\n",
    "print('-------------------------')\n",
    "print(e)"
   ]
  },
  {
   "cell_type": "markdown",
   "id": "proper-pilot",
   "metadata": {},
   "source": [
    "<h3 align=left>Matrix multiplication"
   ]
  },
  {
   "cell_type": "code",
   "execution_count": 48,
   "id": "floating-radius",
   "metadata": {},
   "outputs": [
    {
     "name": "stdout",
     "output_type": "stream",
     "text": [
      "[0 1 2 3 4]\n",
      "-------------------------\n",
      "[ 0. 10. 20. 30. 40.]\n"
     ]
    }
   ],
   "source": [
    "# Matrix values can be multiplied by a number\n",
    " \n",
    "a =arange(5)\n",
    "b =empty(5)\n",
    "\n",
    "multiply(a, 10, out=b)\n",
    "\n",
    "print(a)\n",
    "print('-------------------------')\n",
    "print(b)"
   ]
  },
  {
   "cell_type": "code",
   "execution_count": 49,
   "id": "becoming-sacramento",
   "metadata": {
    "code_folding": []
   },
   "outputs": [
    {
     "name": "stdout",
     "output_type": "stream",
     "text": [
      "[0 1 2 3 4]\n",
      "-------------------------\n",
      "[  0.   1.  16.  81. 256.]\n"
     ]
    }
   ],
   "source": [
    "# To raise all elements to the a chosen power  \n",
    "\n",
    "power(a, 4, out=b)\n",
    "\n",
    "print(a)\n",
    "print('-------------------------')\n",
    "print(b)"
   ]
  },
  {
   "cell_type": "markdown",
   "id": "governing-spencer",
   "metadata": {},
   "source": [
    "<h3 align=left>matrix summation value"
   ]
  },
  {
   "cell_type": "code",
   "execution_count": 50,
   "id": "emotional-arrangement",
   "metadata": {},
   "outputs": [
    {
     "name": "stdout",
     "output_type": "stream",
     "text": [
      "[ 0  1  2  3  4  5  6  7  8  9 10 11 12 13 14]\n",
      "-------------------------\n",
      "105\n"
     ]
    }
   ],
   "source": [
    "# The sum of the matrix values and reduce the matrix dimensions \n",
    "\n",
    "a = arange(15)\n",
    "b = add.reduce(a)\n",
    "\n",
    "print(a)\n",
    "print('-------------------------')\n",
    "print(b)"
   ]
  },
  {
   "cell_type": "code",
   "execution_count": 51,
   "id": "light-motorcycle",
   "metadata": {},
   "outputs": [
    {
     "name": "stdout",
     "output_type": "stream",
     "text": [
      "[2 3 4 5 6 7]\n",
      "-------------------------\n",
      "5040\n"
     ]
    }
   ],
   "source": [
    "# The product of the matrix values \n",
    "\n",
    "a =arange(2,8)\n",
    "b = multiply.reduce(a)\n",
    "\n",
    "print(a)\n",
    "print('-------------------------')\n",
    "print(b)"
   ]
  },
  {
   "cell_type": "code",
   "execution_count": 52,
   "id": "foreign-roads",
   "metadata": {},
   "outputs": [
    {
     "name": "stdout",
     "output_type": "stream",
     "text": [
      "a = [2 3 4 5 6 7]\n",
      "-------------------------\n",
      "b = [[ 4  6  8 10 12 14]\n",
      " [ 6  9 12 15 18 21]\n",
      " [ 8 12 16 20 24 28]\n",
      " [10 15 20 25 30 35]\n",
      " [12 18 24 30 36 42]\n",
      " [14 21 28 35 42 49]]\n"
     ]
    }
   ],
   "source": [
    "'''\n",
    "Reciprocal multiplication: where it takes the first numner then multiply it in all the list,\n",
    "for the second raw it takes the second number of the list then multiply it on all the list,\n",
    "and so on till it useses all the list numbers   \n",
    "'''\n",
    "a =arange(2,8)\n",
    "b = multiply.outer(a,a)\n",
    "\n",
    "print('a =', a)\n",
    "print('-------------------------')\n",
    "print('b =', b)"
   ]
  },
  {
   "cell_type": "code",
   "execution_count": 53,
   "id": "coastal-broadcasting",
   "metadata": {},
   "outputs": [
    {
     "name": "stdout",
     "output_type": "stream",
     "text": [
      "[0 1 2 3 4 5 6 7 8 9]\n",
      "-------------------------\n",
      "[ 0  1  3  6 10 15 21 28 36 45]\n"
     ]
    }
   ],
   "source": [
    "# Add all previous numbers:   \n",
    "\n",
    "a =arange(10)\n",
    "b = add.accumulate(a)\n",
    "\n",
    "print(a)\n",
    "print('-------------------------')\n",
    "print(b)"
   ]
  },
  {
   "cell_type": "code",
   "execution_count": 54,
   "id": "otherwise-vegetable",
   "metadata": {},
   "outputs": [
    {
     "name": "stdout",
     "output_type": "stream",
     "text": [
      "[2 3 4 5 6 7]\n",
      "-------------------------\n",
      "[   2    6   24  120  720 5040]\n"
     ]
    }
   ],
   "source": [
    "# Multiply the previous numbers  \n",
    " \n",
    "a =arange(2,8)\n",
    "b = multiply.accumulate(a)\n",
    "\n",
    "print(a)\n",
    "print('-------------------------')\n",
    "print(b)"
   ]
  },
  {
   "cell_type": "markdown",
   "id": "accepting-source",
   "metadata": {},
   "source": [
    "<h3 align=left>matrix length"
   ]
  },
  {
   "cell_type": "code",
   "execution_count": 55,
   "id": "complex-alpha",
   "metadata": {},
   "outputs": [
    {
     "name": "stdout",
     "output_type": "stream",
     "text": [
      "[ 0  1  2  3  4  5  6  7  8  9 10 11]\n",
      "-------------------------\n",
      "12\n"
     ]
    }
   ],
   "source": [
    "# To find out the number of elements of the array, or the number of its rows, if more than one.\n",
    " \n",
    "a =arange(12)\n",
    "b = len(a)\n",
    "\n",
    "print(a)\n",
    "print('-------------------------')\n",
    "print(b)"
   ]
  },
  {
   "cell_type": "code",
   "execution_count": 56,
   "id": "boring-programmer",
   "metadata": {},
   "outputs": [
    {
     "name": "stdout",
     "output_type": "stream",
     "text": [
      "c value = [[ 0  1  2  3]\n",
      " [ 4  5  6  7]\n",
      " [ 8  9 10 11]]\n",
      "-------------------------\n",
      "d value = 3 raws in the matrix\n"
     ]
    }
   ],
   "source": [
    "c = a.reshape(3,4)\n",
    "d = len(c)\n",
    "\n",
    "print('c value =', c)\n",
    "print('-------------------------')\n",
    "print('d value =', d, 'raws in the matrix') # number of raws"
   ]
  },
  {
   "cell_type": "code",
   "execution_count": 57,
   "id": "julian-toilet",
   "metadata": {},
   "outputs": [
    {
     "name": "stdout",
     "output_type": "stream",
     "text": [
      "12\n"
     ]
    }
   ],
   "source": [
    "# To find out all the number of its elements \n",
    " \n",
    "b = size(a)\n",
    "print(b)"
   ]
  },
  {
   "cell_type": "code",
   "execution_count": 58,
   "id": "leading-procurement",
   "metadata": {},
   "outputs": [
    {
     "name": "stdout",
     "output_type": "stream",
     "text": [
      "c value = [[ 0  1  2  3]\n",
      " [ 4  5  6  7]\n",
      " [ 8  9 10 11]]\n",
      "-------------------------\n",
      "d value = 12\n"
     ]
    }
   ],
   "source": [
    "c = a.reshape(3,4)\n",
    "d = c.size  # will give all the number of the elements inside the matrix\n",
    "\n",
    "print('c value =', c)\n",
    "print('-------------------------')\n",
    "print('d value =', d)"
   ]
  },
  {
   "cell_type": "code",
   "execution_count": 59,
   "id": "rough-spread",
   "metadata": {},
   "outputs": [
    {
     "name": "stdout",
     "output_type": "stream",
     "text": [
      "[ 0  1  2  3  4  5  6  7  8  9 10 11]\n",
      "-------------------------\n",
      "(12,)\n",
      "-------------------------\n",
      "[[ 0  1  2  3]\n",
      " [ 4  5  6  7]\n",
      " [ 8  9 10 11]]\n",
      "-------------------------\n",
      "(3, 4)\n"
     ]
    }
   ],
   "source": [
    "# Here are the dimensions in detail\n",
    " \n",
    "a =arange(12)\n",
    "b = a.shape\n",
    "\n",
    "c = a.reshape(3,4)\n",
    "d = c.shape\n",
    "\n",
    "print(a)\n",
    "print('-------------------------')\n",
    "print(b)\n",
    "print('-------------------------')\n",
    "print(c)\n",
    "print('-------------------------')\n",
    "print(d)"
   ]
  },
  {
   "cell_type": "markdown",
   "id": "alleged-preference",
   "metadata": {},
   "source": [
    "<h3 align=left>Matrix Dimension"
   ]
  },
  {
   "cell_type": "code",
   "execution_count": 60,
   "id": "stopped-pressing",
   "metadata": {},
   "outputs": [
    {
     "name": "stdout",
     "output_type": "stream",
     "text": [
      "[ 0  1  2  3  4  5  6  7  8  9 10 11]\n",
      "-------------------------\n",
      "no.of the matrix dimentions = 1\n",
      "-------------------------\n",
      "[[ 0  1  2  3]\n",
      " [ 4  5  6  7]\n",
      " [ 8  9 10 11]]\n",
      "-------------------------\n",
      "no.of the matrix dimentions = 2\n"
     ]
    }
   ],
   "source": [
    "# Dimensions number\n",
    " \n",
    "a =arange(12)\n",
    "b = a.ndim\n",
    "\n",
    "c = a.reshape(3,4)\n",
    "d = c.ndim\n",
    "\n",
    "print(a)\n",
    "print('-------------------------')\n",
    "print('no.of the matrix dimentions =', b)\n",
    "print('-------------------------')\n",
    "print(c)\n",
    "print('-------------------------')\n",
    "print('no.of the matrix dimentions =',d)"
   ]
  },
  {
   "cell_type": "markdown",
   "id": "southeast-certification",
   "metadata": {},
   "source": [
    "<h3 align=left>data type inside the Matrix"
   ]
  },
  {
   "cell_type": "code",
   "execution_count": 61,
   "id": "conventional-scanner",
   "metadata": {},
   "outputs": [
    {
     "name": "stdout",
     "output_type": "stream",
     "text": [
      "['a' 'd' 'g' 'h' 'j']\n",
      "-------------------------\n",
      "<U1\n",
      "-------------------------\n",
      "[ 0  1  2  3  4  5  6  7  8  9 10 11]\n",
      "-------------------------\n",
      "[[ 0  1  2  3]\n",
      " [ 4  5  6  7]\n",
      " [ 8  9 10 11]]\n",
      "-------------------------\n",
      "int32\n"
     ]
    }
   ],
   "source": [
    "a =array(['a','d','g','h','j'])\n",
    "b = a.dtype\n",
    "\n",
    "c = arange(12)\n",
    "d = c.reshape(3,4)\n",
    "e = d.dtype\n",
    "\n",
    "print(a)\n",
    "print('-------------------------')\n",
    "print(b)\n",
    "print('-------------------------')\n",
    "print(c)\n",
    "print('-------------------------')\n",
    "print(d)\n",
    "print('-------------------------')\n",
    "print(e)"
   ]
  },
  {
   "cell_type": "markdown",
   "id": "fd184388",
   "metadata": {},
   "source": [
    "<h3 align =left>The sum of the matrix diagonal"
   ]
  },
  {
   "cell_type": "code",
   "execution_count": 62,
   "id": "lonely-process",
   "metadata": {},
   "outputs": [
    {
     "name": "stdout",
     "output_type": "stream",
     "text": [
      "[0 1 2 3 4 5 6 7 8]\n",
      "-------------------------\n",
      "[[0 1 2]\n",
      " [3 4 5]\n",
      " [6 7 8]]\n",
      "-------------------------\n",
      "12\n"
     ]
    }
   ],
   "source": [
    "# sum of the matrix diagonal using trace command\n",
    "\n",
    "a =arange(9)\n",
    "b = a.reshape(3,3)\n",
    "c = trace(b)\n",
    "\n",
    "print(a)\n",
    "print('-------------------------')\n",
    "print(b)\n",
    "print('-------------------------')\n",
    "print(c)"
   ]
  },
  {
   "cell_type": "code",
   "execution_count": 63,
   "id": "cutting-links",
   "metadata": {},
   "outputs": [
    {
     "name": "stdout",
     "output_type": "stream",
     "text": [
      "[[0 1 2]\n",
      " [3 4 5]\n",
      " [6 7 8]]\n",
      "-------------------------\n",
      "0.0\n",
      "-------------------------\n",
      "(array([ 1.33484692e+01, -1.34846923e+00, -1.26963291e-15]), array([[ 0.16476382,  0.79969966,  0.40824829],\n",
      "       [ 0.50577448,  0.10420579, -0.81649658],\n",
      "       [ 0.84678513, -0.59128809,  0.40824829]]))\n"
     ]
    }
   ],
   "source": [
    "# The determinant value of the matrix, and the Egan Value\n",
    "\n",
    "a =arange(9).reshape(3,3)\n",
    "\n",
    "c = linalg.det(a) # matrix determinant\n",
    "d = linalg.eig(a) # Compute the eigenvalues and right eigenvectors of a square array.\n",
    "print(a)\n",
    "print('-------------------------')\n",
    "print(c)\n",
    "print('-------------------------')\n",
    "print(d)"
   ]
  },
  {
   "cell_type": "markdown",
   "id": "e928f89f",
   "metadata": {},
   "source": [
    "<h3 align=left>Subtraction From The Matrix"
   ]
  },
  {
   "cell_type": "code",
   "execution_count": 64,
   "id": "trained-calvin",
   "metadata": {},
   "outputs": [
    {
     "name": "stdout",
     "output_type": "stream",
     "text": [
      "[0 1 2 3 4 5 6 7 8 9]\n",
      "-------------------------\n",
      "3\n",
      "-------------------------\n",
      "[3 4 5 6 7 8]\n",
      "-------------------------\n",
      "[3 5 7]\n",
      "-------------------------\n",
      "9\n",
      "-------------------------\n",
      "7\n"
     ]
    }
   ],
   "source": [
    "# Subtraction from an array\n",
    "\n",
    "a =arange(10) \n",
    "\n",
    "c = a[3]\n",
    "d = a[3:9]\n",
    "e = a[3:9:2]\n",
    "f = a[-1]\n",
    "g = a[-3]\n",
    "\n",
    "print(a)\n",
    "print('-------------------------')\n",
    "print(c)\n",
    "print('-------------------------')\n",
    "print(d)\n",
    "print('-------------------------')\n",
    "print(e)\n",
    "print('-------------------------')\n",
    "print(f)\n",
    "print('-------------------------')\n",
    "print(g)"
   ]
  },
  {
   "cell_type": "code",
   "execution_count": 65,
   "id": "printable-assurance",
   "metadata": {},
   "outputs": [
    {
     "name": "stdout",
     "output_type": "stream",
     "text": [
      "[[ 0  1  2  3  4  5]\n",
      " [ 6  7  8  9 10 11]\n",
      " [12 13 14 15 16 17]\n",
      " [18 19 20 21 22 23]\n",
      " [24 25 26 27 28 29]\n",
      " [30 31 32 33 34 35]]\n",
      "-------------------------\n",
      "[18 19 20 21 22 23]\n",
      "-------------------------\n",
      "[[18 19 20 21 22 23]\n",
      " [24 25 26 27 28 29]\n",
      " [30 31 32 33 34 35]]\n",
      "-------------------------\n",
      "[[18 19 20 21 22 23]\n",
      " [30 31 32 33 34 35]]\n",
      "-------------------------\n",
      "[30 31 32 33 34 35]\n",
      "-------------------------\n",
      "[18 19 20 21 22 23]\n"
     ]
    }
   ],
   "source": [
    "# Subtraction from a 2D matrix.\n",
    "\n",
    "\n",
    "a =arange(36).reshape(6,6)\n",
    "\n",
    "c = a[3]         # pick raw no. 4\n",
    "d = a[3:9]       # pick from raw no. 4 to the last raw\n",
    "e = a[3:9:2]\n",
    "f = a[-1]\n",
    "g = a[-3]\n",
    "\n",
    "print(a)\n",
    "print('-------------------------')\n",
    "print(c)\n",
    "print('-------------------------')\n",
    "print(d)\n",
    "print('-------------------------')\n",
    "print(e)\n",
    "print('-------------------------')\n",
    "print(f)\n",
    "print('-------------------------')\n",
    "print(g)"
   ]
  },
  {
   "cell_type": "code",
   "execution_count": 66,
   "id": "standing-venue",
   "metadata": {},
   "outputs": [
    {
     "name": "stdout",
     "output_type": "stream",
     "text": [
      "[[ 0  1  2  3  4  5]\n",
      " [ 6  7  8  9 10 11]\n",
      " [12 13 14 15 16 17]\n",
      " [18 19 20 21 22 23]\n",
      " [24 25 26 27 28 29]\n",
      " [30 31 32 33 34 35]]\n",
      "-------------------------\n",
      "19\n",
      "-------------------------\n",
      "[18 19 20 21 22 23]\n",
      "-------------------------\n",
      "[ 2  8 14 20 26 32]\n",
      "-------------------------\n",
      "[[ 1  2]\n",
      " [ 7  8]\n",
      " [13 14]\n",
      " [19 20]\n",
      " [25 26]\n",
      " [31 32]]\n",
      "-------------------------\n",
      "[[ 6  7  8  9 10 11]]\n"
     ]
    }
   ],
   "source": [
    "a =arange(36).reshape(6,6)\n",
    "\n",
    "c = a[3,1]\n",
    "d = a[3,:]\n",
    "e = a[:,2]\n",
    "f = a[:,1:3]\n",
    "g = a[1:2,:]\n",
    "\n",
    "print(a)\n",
    "print('-------------------------')\n",
    "print(c)\n",
    "print('-------------------------')\n",
    "print(d)\n",
    "print('-------------------------')\n",
    "print(e)\n",
    "print('-------------------------')\n",
    "print(f)\n",
    "print('-------------------------')\n",
    "print(g)"
   ]
  },
  {
   "cell_type": "code",
   "execution_count": 67,
   "id": "cathedral-holocaust",
   "metadata": {},
   "outputs": [
    {
     "name": "stdout",
     "output_type": "stream",
     "text": [
      "[[ 0  1  2  3  4  5]\n",
      " [ 6  7  8  9 10 11]\n",
      " [12 13 14 15 16 17]\n",
      " [18 19 20 21 22 23]\n",
      " [24 25 26 27 28 29]\n",
      " [30 31 32 33 34 35]]\n",
      "-------------------------\n",
      "[[19 20 21 22]]\n",
      "-------------------------\n",
      "[[15 16 17]\n",
      " [21 22 23]\n",
      " [27 28 29]\n",
      " [33 34 35]]\n",
      "-------------------------\n",
      "[[0 1 2]\n",
      " [6 7 8]]\n",
      "-------------------------\n",
      "[ 5 11 17 23 29 35]\n",
      "-------------------------\n",
      "[30 31 32 33 34 35]\n"
     ]
    }
   ],
   "source": [
    "a =arange(36).reshape(6,6)\n",
    "\n",
    "c = a[3:4,1:5]\n",
    "d = a[2:,3:]\n",
    "e = a[:2,:3]\n",
    "f = a[:,-1]\n",
    "g = a[-1,:]\n",
    "\n",
    "print(a)\n",
    "print('-------------------------')\n",
    "print(c)\n",
    "print('-------------------------')\n",
    "print(d)\n",
    "print('-------------------------')\n",
    "print(e)\n",
    "print('-------------------------')\n",
    "print(f)\n",
    "print('-------------------------')\n",
    "print(g)"
   ]
  },
  {
   "cell_type": "code",
   "execution_count": 68,
   "id": "coastal-premises",
   "metadata": {},
   "outputs": [
    {
     "name": "stdout",
     "output_type": "stream",
     "text": [
      "[[ 0  1  2  3  4  5]\n",
      " [ 6  7  8  9 10 11]\n",
      " [12 13 14 15 16 17]\n",
      " [18 19 20 21 22 23]\n",
      " [24 25 26 27 28 29]\n",
      " [30 31 32 33 34 35]]\n",
      "-------------------------\n",
      "[[ 0  3]\n",
      " [12 15]\n",
      " [24 27]]\n",
      "-------------------------\n",
      "[[35 34 33 32 31 30]\n",
      " [29 28 27 26 25 24]\n",
      " [23 22 21 20 19 18]\n",
      " [17 16 15 14 13 12]\n",
      " [11 10  9  8  7  6]\n",
      " [ 5  4  3  2  1  0]]\n",
      "-------------------------\n",
      "[[35 34]\n",
      " [29 28]\n",
      " [23 22]]\n",
      "-------------------------\n",
      "[[15]\n",
      " [27]]\n",
      "-------------------------\n",
      "[[35]]\n"
     ]
    }
   ],
   "source": [
    "a =arange(36).reshape(6,6)\n",
    "\n",
    "c = a[::2,::3]\n",
    "d = a[::-1,::-1] # this will reverse the matrix\n",
    "e = a[:2:-1,:3:-1]\n",
    "f = a[2::2,3::3]\n",
    "g = a[-1::,-1::]\n",
    "\n",
    "print(a)\n",
    "print('-------------------------')\n",
    "print(c)\n",
    "print('-------------------------')\n",
    "print(d)\n",
    "print('-------------------------')\n",
    "print(e)\n",
    "print('-------------------------')\n",
    "print(f)\n",
    "print('-------------------------')\n",
    "print(g)"
   ]
  },
  {
   "cell_type": "code",
   "execution_count": 69,
   "id": "particular-spine",
   "metadata": {},
   "outputs": [
    {
     "name": "stdout",
     "output_type": "stream",
     "text": [
      "[[[ 0  1]\n",
      "  [ 2  3]\n",
      "  [ 4  5]]\n",
      "\n",
      " [[ 6  7]\n",
      "  [ 8  9]\n",
      "  [10 11]]\n",
      "\n",
      " [[12 13]\n",
      "  [14 15]\n",
      "  [16 17]]]\n",
      "-------------------------\n",
      "[[ 6  7]\n",
      " [ 8  9]\n",
      " [10 11]]\n",
      "-------------------------\n",
      "[10 11]\n",
      "-------------------------\n",
      "17\n"
     ]
    }
   ],
   "source": [
    "# 3D  \n",
    "\n",
    "a =arange(18).reshape(3,3,2)\n",
    "\n",
    "c = a[1]  # pick the second layer\n",
    "d = a[1,2]\n",
    "e = a[2,2,1]\n",
    "\n",
    "print(a)\n",
    "print('-------------------------')\n",
    "print(c)\n",
    "print('-------------------------')\n",
    "print(d)\n",
    "print('-------------------------')\n",
    "print(e)"
   ]
  },
  {
   "cell_type": "markdown",
   "id": "766cdec6",
   "metadata": {},
   "source": [
    "<h3 align=left>Modify Values"
   ]
  },
  {
   "cell_type": "code",
   "execution_count": 70,
   "id": "palestinian-breeding",
   "metadata": {},
   "outputs": [
    {
     "name": "stdout",
     "output_type": "stream",
     "text": [
      "[[ 0  1  2  3]\n",
      " [ 4  5  6  7]\n",
      " [ 8  9 10 11]\n",
      " [12 13 14 15]]\n",
      "-------------------------\n",
      "[[ 0  1  2  3]\n",
      " [ 4  5  6  7]\n",
      " [ 8  9 10  0]\n",
      " [12 13 14 15]]\n",
      "-------------------------\n",
      "[[ 0  1  2  0]\n",
      " [ 4  5  6  0]\n",
      " [ 8  9 10  0]\n",
      " [12 13 14  0]]\n",
      "-------------------------\n",
      "[[ 0  1  2  0]\n",
      " [ 4  5  6  0]\n",
      " [ 0  0  0  0]\n",
      " [12 13 14  0]]\n",
      "-------------------------\n",
      "[[0 0 0 0]\n",
      " [0 0 0 0]\n",
      " [0 0 0 0]\n",
      " [0 0 0 0]]\n"
     ]
    }
   ],
   "source": [
    "a =arange(16).reshape(4,4)\n",
    "\n",
    "print(a)\n",
    "print('-------------------------')\n",
    "a[2,3] = 0\n",
    "print(a)\n",
    "print('-------------------------')\n",
    "a[:,3] = 0 \n",
    "print(a)\n",
    "print('-------------------------')\n",
    "a[2,:] = 0 \n",
    "print(a)\n",
    "print('-------------------------')\n",
    "a[:,:] = 0 \n",
    "print(a)"
   ]
  },
  {
   "cell_type": "markdown",
   "id": "8c70631d",
   "metadata": {},
   "source": [
    "<h3 align=left>Dealing with copied matrices "
   ]
  },
  {
   "cell_type": "code",
   "execution_count": 71,
   "id": "unlimited-credits",
   "metadata": {},
   "outputs": [
    {
     "name": "stdout",
     "output_type": "stream",
     "text": [
      "[[ 0  1  2  3]\n",
      " [ 4  5  6  7]\n",
      " [ 8  9 10 11]\n",
      " [12 13 14 15]]\n",
      "-------------------------\n",
      "[[ 1  2]\n",
      " [ 5  6]\n",
      " [ 9 10]\n",
      " [13 14]]\n"
     ]
    }
   ],
   "source": [
    "'''\n",
    "The copied matrices is affected with any operations have been done in the original one, as the following example \n",
    "'''\n",
    "\n",
    "a =arange(16).reshape(4,4)\n",
    "\n",
    "\n",
    "print(a)\n",
    "print('-------------------------')\n",
    "b = a[:,1:3]\n",
    "print(b)"
   ]
  },
  {
   "cell_type": "code",
   "execution_count": 72,
   "id": "18a88c40",
   "metadata": {},
   "outputs": [
    {
     "name": "stdout",
     "output_type": "stream",
     "text": [
      "[[5 5 5 5]\n",
      " [5 5 5 5]\n",
      " [5 5 5 5]\n",
      " [5 5 5 5]]\n",
      "-------------------------\n",
      "[[5 5]\n",
      " [5 5]\n",
      " [5 5]\n",
      " [5 5]]\n"
     ]
    }
   ],
   "source": [
    "a[:,:] = 5\n",
    "print(a)\n",
    "print('-------------------------')\n",
    "print(b)"
   ]
  },
  {
   "cell_type": "markdown",
   "id": "f34acb83",
   "metadata": {},
   "source": [
    "<h3 align=left>Independent Matrices "
   ]
  },
  {
   "cell_type": "code",
   "execution_count": 73,
   "id": "latin-correspondence",
   "metadata": {},
   "outputs": [
    {
     "name": "stdout",
     "output_type": "stream",
     "text": [
      "[[ 0  1  2  3]\n",
      " [ 4  5  6  7]\n",
      " [ 8  9 10 11]\n",
      " [12 13 14 15]]\n",
      "-------------------------\n",
      "[[ 1  2]\n",
      " [ 5  6]\n",
      " [ 9 10]\n",
      " [13 14]]\n"
     ]
    }
   ],
   "source": [
    "a =arange(16).reshape(4,4)\n",
    "print(a)\n",
    "print('-------------------------')\n",
    "b = a[:,1:3].copy()                   # this copy will not be affect with any operation in the main matrix\n",
    "print(b)"
   ]
  },
  {
   "cell_type": "code",
   "execution_count": 74,
   "id": "f1191dc0",
   "metadata": {},
   "outputs": [
    {
     "name": "stdout",
     "output_type": "stream",
     "text": [
      "-------------------------\n",
      "[[5 5 5 5]\n",
      " [5 5 5 5]\n",
      " [5 5 5 5]\n",
      " [5 5 5 5]]\n",
      "-------------------------\n",
      "[[ 1  2]\n",
      " [ 5  6]\n",
      " [ 9 10]\n",
      " [13 14]]\n"
     ]
    }
   ],
   "source": [
    "print('-------------------------')\n",
    "a[:,:] = 5\n",
    "print(a)\n",
    "print('-------------------------')\n",
    "print(b)"
   ]
  },
  {
   "cell_type": "markdown",
   "id": "0369591f",
   "metadata": {},
   "source": [
    "<h3 align=left>Split command"
   ]
  },
  {
   "cell_type": "code",
   "execution_count": 75,
   "id": "vanilla-presence",
   "metadata": {},
   "outputs": [
    {
     "name": "stdout",
     "output_type": "stream",
     "text": [
      "[11 22 33] [44 55 66] [77 88]\n",
      "-------------------------\n",
      "[11] [22 33 44 55] [66 77 88]\n",
      "-------------------------\n",
      "[11 22 33 44 55 66] [] [44 55 66 77 88]\n",
      "-------------------------\n",
      "[] [11 22 33] [44 55 66 77 88]\n",
      "-------------------------\n",
      "[11 22 33 44] [] [11 22 33 44 55 66 77 88]\n"
     ]
    }
   ],
   "source": [
    "x = [11,22,33,44,55,66,77,88]\n",
    "\n",
    "x1, x2, x3 = split(x, (3,6))\n",
    "print(x1, x2, x3)\n",
    "print('-------------------------')\n",
    "x1, x2, x3 = split(x, (1,5))\n",
    "print(x1, x2, x3)\n",
    "print('-------------------------')\n",
    "x1, x2, x3 = split(x, (6, 3))\n",
    "print(x1, x2, x3)\n",
    "print('-------------------------')\n",
    "x1, x2, x3 = split(x, (0, 3))\n",
    "print(x1, x2, x3)\n",
    "print('-------------------------')\n",
    "x1, x2, x3 = split(x, (4, 0))\n",
    "print(x1, x2, x3)"
   ]
  },
  {
   "cell_type": "markdown",
   "id": "8edd5e5b",
   "metadata": {},
   "source": [
    "<h3 align=left>Select an Item form the matrix"
   ]
  },
  {
   "cell_type": "code",
   "execution_count": 76,
   "id": "efficient-honor",
   "metadata": {},
   "outputs": [
    {
     "name": "stdout",
     "output_type": "stream",
     "text": [
      "[[ 0  1  2  3]\n",
      " [ 4  5  6  7]\n",
      " [ 8  9 10 11]\n",
      " [12 13 14 15]]\n",
      "-------------------------\n",
      "9\n"
     ]
    }
   ],
   "source": [
    "a =arange(16).reshape(4,4)\n",
    "\n",
    "b = a[2][1]\n",
    "\n",
    "print(a)\n",
    "print('-------------------------')\n",
    "print(b)"
   ]
  },
  {
   "cell_type": "markdown",
   "id": "9cc42ba0",
   "metadata": {},
   "source": [
    "<h3 align=left>Combine Matrices"
   ]
  },
  {
   "cell_type": "markdown",
   "id": "099b8085",
   "metadata": {},
   "source": [
    "<h4 align=left>stack command"
   ]
  },
  {
   "cell_type": "code",
   "execution_count": 77,
   "id": "independent-paragraph",
   "metadata": {},
   "outputs": [
    {
     "name": "stdout",
     "output_type": "stream",
     "text": [
      "[[0 1]\n",
      " [2 3]]\n",
      "-------------------------\n",
      "[[0 2]\n",
      " [4 6]]\n",
      "-------------------------\n",
      "[[0 1]\n",
      " [2 3]\n",
      " [0 2]\n",
      " [4 6]]\n"
     ]
    }
   ],
   "source": [
    "# vertical stack\n",
    "\n",
    "a =arange(4).reshape(2,2)\n",
    "b =2*arange(4).reshape(2,2)\n",
    "\n",
    "c = vstack((a,b))\n",
    "print(a)\n",
    "print('-------------------------')\n",
    "print(b)\n",
    "print('-------------------------')\n",
    "print(c)"
   ]
  },
  {
   "cell_type": "code",
   "execution_count": 78,
   "id": "regional-steal",
   "metadata": {},
   "outputs": [
    {
     "name": "stdout",
     "output_type": "stream",
     "text": [
      "[[0 1]\n",
      " [2 3]]\n",
      "-------------------------\n",
      "[[0 2]\n",
      " [4 6]]\n",
      "-------------------------\n",
      "[[0 1 0 2]\n",
      " [2 3 4 6]]\n"
     ]
    }
   ],
   "source": [
    "# horizontal stack\n",
    "\n",
    "a =arange(4).reshape(2,2)\n",
    "b =2*a\n",
    "\n",
    "c = hstack((a,b))\n",
    "print(a)\n",
    "print('-------------------------')\n",
    "print(b)\n",
    "print('-------------------------')\n",
    "print(c)"
   ]
  },
  {
   "cell_type": "markdown",
   "id": "ee5bcf68",
   "metadata": {},
   "source": [
    "<h4 align=left>Concatenate command"
   ]
  },
  {
   "cell_type": "code",
   "execution_count": 79,
   "id": "amateur-beatles",
   "metadata": {},
   "outputs": [
    {
     "name": "stdout",
     "output_type": "stream",
     "text": [
      "[[19 16  6]\n",
      " [11  7 10]\n",
      " [11 18 19]]\n",
      "-------------------------\n",
      "[[ 6 17 18]\n",
      " [ 6 13  9]\n",
      " [18  5 17]]\n",
      "-------------------------\n",
      "[[19 16  6]\n",
      " [11  7 10]\n",
      " [11 18 19]\n",
      " [ 6 17 18]\n",
      " [ 6 13  9]\n",
      " [18  5 17]]\n",
      "-------------------------\n"
     ]
    }
   ],
   "source": [
    "# Vertical concatenation\n",
    "\n",
    "a =random.randint(5,20, size=9).reshape(3,3)\n",
    "b =random.randint(5,20, size=9).reshape(3,3)\n",
    "c = concatenate([a,b] , axis = 0)   # same as vstack\n",
    "\n",
    "print(a)\n",
    "print('-------------------------')\n",
    "print(b)\n",
    "print('-------------------------')\n",
    "print(c)\n",
    "print('-------------------------')"
   ]
  },
  {
   "cell_type": "code",
   "execution_count": 80,
   "id": "tight-richmond",
   "metadata": {},
   "outputs": [
    {
     "name": "stdout",
     "output_type": "stream",
     "text": [
      "[[19 16  6  6 17 18]\n",
      " [11  7 10  6 13  9]\n",
      " [11 18 19 18  5 17]]\n"
     ]
    }
   ],
   "source": [
    "# horizontal concatenation   \n",
    "\n",
    "c = concatenate([a,b] , axis = 1)\n",
    "print(c)"
   ]
  },
  {
   "cell_type": "code",
   "execution_count": 81,
   "id": "athletic-rebel",
   "metadata": {},
   "outputs": [
    {
     "name": "stdout",
     "output_type": "stream",
     "text": [
      "[[14 10  6]\n",
      " [16 16  9]\n",
      " [18 11 16]]\n",
      "-------------------------\n",
      "18\n",
      "-------------------------\n",
      "6\n",
      "-------------------------\n",
      "6\n",
      "-------------------------\n",
      "2\n"
     ]
    }
   ],
   "source": [
    "#  Detect the largest and smallest values in a matrix  \n",
    "\n",
    "a = random.randint(5,20, size=9).reshape(3,3)\n",
    "\n",
    "b = a.max()\n",
    "c = a.min()\n",
    "d = a.argmax()  # detect the place of the maximum value inside the matrix\n",
    "e = a.argmin() # detect the place of the minimum value inside the matrix\n",
    "\n",
    "print(a)\n",
    "print('-------------------------')\n",
    "print(b)\n",
    "print('-------------------------')\n",
    "print(c)\n",
    "print('-------------------------')\n",
    "print(d)\n",
    "print('-------------------------')\n",
    "print(e)"
   ]
  },
  {
   "cell_type": "markdown",
   "id": "7cb6d815",
   "metadata": {},
   "source": [
    "<h3 align=left>Find the Matrix Variance and the Covariance "
   ]
  },
  {
   "cell_type": "code",
   "execution_count": 82,
   "id": "viral-capture",
   "metadata": {},
   "outputs": [
    {
     "name": "stdout",
     "output_type": "stream",
     "text": [
      "[[12  6 19]\n",
      " [ 7 10 16]\n",
      " [ 5  7 11]]\n",
      "-------------------------\n",
      "20.0\n",
      "-------------------------\n",
      "[[42.33333333 20.5        13.66666667]\n",
      " [20.5        21.         14.        ]\n",
      " [13.66666667 14.          9.33333333]]\n"
     ]
    }
   ],
   "source": [
    "a =random.randint(5,20, size=9).reshape(3,3)\n",
    "\n",
    "b = var(a)\n",
    "c = cov(a)\n",
    "\n",
    "print(a)\n",
    "print('-------------------------')\n",
    "print(b)\n",
    "print('-------------------------')\n",
    "print(c)"
   ]
  },
  {
   "cell_type": "markdown",
   "id": "78a25dbb",
   "metadata": {},
   "source": [
    "<h3 align=left>Mathematical Operations for Matrices"
   ]
  },
  {
   "cell_type": "markdown",
   "id": "662d46d6",
   "metadata": {},
   "source": [
    "<h4 align=left>Addition and Subtraction  "
   ]
  },
  {
   "cell_type": "code",
   "execution_count": 83,
   "id": "higher-transcript",
   "metadata": {},
   "outputs": [
    {
     "name": "stdout",
     "output_type": "stream",
     "text": [
      "[[10 15  5]\n",
      " [ 7 11  7]\n",
      " [12 17 15]]\n",
      "-------------------------\n",
      "[[ 9 12  9]\n",
      " [14 15  6]\n",
      " [13 19 18]]\n",
      "-------------------------\n",
      "[[19 27 14]\n",
      " [21 26 13]\n",
      " [25 36 33]]\n",
      "-------------------------\n",
      "[[ 1  3 -4]\n",
      " [-7 -4  1]\n",
      " [-1 -2 -3]]\n"
     ]
    }
   ],
   "source": [
    "a =random.randint(5,20, size=9).reshape(3,3)\n",
    "b =random.randint(5,20, size=9).reshape(3,3)\n",
    "\n",
    "c = a+b\n",
    "d = a-b\n",
    "\n",
    "print(a)\n",
    "print('-------------------------')\n",
    "print(b)\n",
    "print('-------------------------')\n",
    "print(c)\n",
    "print('-------------------------')\n",
    "print(d)"
   ]
  },
  {
   "cell_type": "markdown",
   "id": "12a646dd",
   "metadata": {},
   "source": [
    "<h4 align=left>Multiplication and division"
   ]
  },
  {
   "cell_type": "code",
   "execution_count": 84,
   "id": "green-survival",
   "metadata": {},
   "outputs": [
    {
     "name": "stdout",
     "output_type": "stream",
     "text": [
      "[[13  9 18]\n",
      " [11  5 14]\n",
      " [17 13 18]]\n",
      "-------------------------\n",
      "[[ 6 19 19]\n",
      " [16  7  6]\n",
      " [15  8 14]]\n",
      "-------------------------\n",
      "[[ 78 171 342]\n",
      " [176  35  84]\n",
      " [255 104 252]]\n",
      "-------------------------\n",
      "[[2.16666667 0.47368421 0.94736842]\n",
      " [0.6875     0.71428571 2.33333333]\n",
      " [1.13333333 1.625      1.28571429]]\n"
     ]
    }
   ],
   "source": [
    "a =random.randint(5,20, size=9).reshape(3,3)\n",
    "b =random.randint(5,20, size=9).reshape(3,3)\n",
    "\n",
    "c = a*b # direct multiply number by number\n",
    "d = a/b\n",
    "\n",
    "print(a)\n",
    "print('-------------------------')\n",
    "print(b)\n",
    "print('-------------------------')\n",
    "print(c)\n",
    "print('-------------------------')\n",
    "print(d)"
   ]
  },
  {
   "cell_type": "markdown",
   "id": "a5a87c5d",
   "metadata": {},
   "source": [
    "<h4 align=left>Multiplication and division by a number"
   ]
  },
  {
   "cell_type": "code",
   "execution_count": 85,
   "id": "aerial-undergraduate",
   "metadata": {},
   "outputs": [
    {
     "name": "stdout",
     "output_type": "stream",
     "text": [
      "[[16  7 15]\n",
      " [ 7  8  6]\n",
      " [19 16 17]]\n",
      "-------------------------\n",
      "[[14 17 11]\n",
      " [14 15 19]\n",
      " [17 15  7]]\n",
      "-------------------------\n",
      "[[48 21 45]\n",
      " [21 24 18]\n",
      " [57 48 51]]\n",
      "-------------------------\n",
      "[[2.8 3.4 2.2]\n",
      " [2.8 3.  3.8]\n",
      " [3.4 3.  1.4]]\n"
     ]
    }
   ],
   "source": [
    "a =random.randint(5,20, size=9).reshape(3,3)\n",
    "b =random.randint(5,20, size=9).reshape(3,3)\n",
    "c = a*3\n",
    "d = b/5\n",
    "\n",
    "print(a)\n",
    "print('-------------------------')\n",
    "print(b)\n",
    "print('-------------------------')\n",
    "print(c)\n",
    "print('-------------------------')\n",
    "print(d)"
   ]
  },
  {
   "cell_type": "markdown",
   "id": "f6f0fcfc",
   "metadata": {},
   "source": [
    "<h4 align=left>functions of the matrix"
   ]
  },
  {
   "cell_type": "code",
   "execution_count": 86,
   "id": "specified-korean",
   "metadata": {},
   "outputs": [
    {
     "name": "stdout",
     "output_type": "stream",
     "text": [
      "[[ 7 18 16]\n",
      " [18 12 18]\n",
      " [ 5 16 19]]\n",
      "-------------------------\n",
      "[[12 10 18]\n",
      " [ 8 16 17]\n",
      " [13 13  5]]\n",
      "-------------------------\n",
      "[[ 0.6569866  -0.75098725 -0.28790332]\n",
      " [-0.75098725 -0.53657292 -0.75098725]\n",
      " [-0.95892427 -0.28790332  0.14987721]]\n",
      "-------------------------\n",
      "[[144 100 324]\n",
      " [ 64 256 289]\n",
      " [169 169  25]]\n",
      "-------------------------\n",
      "[[1.94591015 2.89037176 2.77258872]\n",
      " [2.89037176 2.48490665 2.89037176]\n",
      " [1.60943791 2.77258872 2.94443898]]\n"
     ]
    }
   ],
   "source": [
    "a =random.randint(5,20, size=9).reshape(3,3)\n",
    "b =random.randint(5,20, size=9).reshape(3,3)\n",
    "\n",
    "c = sin(a)\n",
    "d = b**2\n",
    "e = log(a)\n",
    "\n",
    "print(a)\n",
    "print('-------------------------')\n",
    "print(b)\n",
    "print('-------------------------')\n",
    "print(c)\n",
    "print('-------------------------')\n",
    "print(d)\n",
    "print('-------------------------')\n",
    "print(e)"
   ]
  },
  {
   "cell_type": "markdown",
   "id": "4b8beb03",
   "metadata": {},
   "source": [
    "<h4 align=left>Multiply the Matrices"
   ]
  },
  {
   "cell_type": "code",
   "execution_count": 87,
   "id": "driving-kitty",
   "metadata": {},
   "outputs": [
    {
     "name": "stdout",
     "output_type": "stream",
     "text": [
      "[[1 3 3]\n",
      " [2 2 2]\n",
      " [1 1 2]]\n",
      "-------------------------\n",
      "[[1 3 3]\n",
      " [3 3 1]\n",
      " [3 1 1]]\n",
      "-------------------------\n",
      "[[19 15  9]\n",
      " [14 14 10]\n",
      " [10  8  6]]\n"
     ]
    }
   ],
   "source": [
    "a =random.randint(1,4, size=9).reshape(3,3)\n",
    "b =random.randint(1,4, size=9).reshape(3,3)\n",
    "\n",
    "c = dot(a,b) \n",
    "\n",
    "print(a)\n",
    "print('-------------------------')\n",
    "print(b)\n",
    "print('-------------------------')\n",
    "print(c)"
   ]
  },
  {
   "cell_type": "markdown",
   "id": "d8760d7a",
   "metadata": {},
   "source": [
    "<h4 align=left>Matrix Summation"
   ]
  },
  {
   "cell_type": "code",
   "execution_count": 88,
   "id": "computational-trunk",
   "metadata": {},
   "outputs": [
    {
     "name": "stdout",
     "output_type": "stream",
     "text": [
      "[[ 5  7 19]\n",
      " [ 6  9  5]\n",
      " [14 16 12]]\n",
      "-------------------------\n",
      "93\n",
      "-------------------------\n",
      "93\n",
      "-------------------------\n",
      "[31 20 42]\n",
      "-------------------------\n",
      "[25 32 36]\n"
     ]
    }
   ],
   "source": [
    "a =random.randint(5,20, size=9).reshape(3,3)\n",
    "b = sum(a)\n",
    "c = a.sum()\n",
    "d = a.sum(axis = 1)  # individually sum each raw \n",
    "e = a.sum(axis = 0)  # individually sum each column\n",
    "\n",
    "print(a)\n",
    "print('-------------------------')\n",
    "print(b)\n",
    "print('-------------------------')\n",
    "print(c)\n",
    "print('-------------------------')\n",
    "print(d)\n",
    "print('-------------------------')\n",
    "print(e)"
   ]
  },
  {
   "cell_type": "markdown",
   "id": "f5eab9ce",
   "metadata": {},
   "source": [
    "<h4 align=left>Statistical Values"
   ]
  },
  {
   "cell_type": "code",
   "execution_count": 89,
   "id": "martial-default",
   "metadata": {},
   "outputs": [
    {
     "name": "stdout",
     "output_type": "stream",
     "text": [
      "[[15  8 16]\n",
      " [10  5 14]\n",
      " [12 12 13]]\n",
      "-------------------------\n",
      "11.666666666666666\n",
      "-------------------------\n",
      "3.299831645537222\n",
      "-------------------------\n",
      "10.888888888888891\n"
     ]
    }
   ],
   "source": [
    "a =random.randint(5,20, size=9).reshape(3,3)\n",
    "b = a.mean()\n",
    "c = a.std()\n",
    "d = a.var()\n",
    "\n",
    "print(a)\n",
    "print('-------------------------')\n",
    "print(b)\n",
    "print('-------------------------')\n",
    "print(c)\n",
    "print('-------------------------')\n",
    "print(d)"
   ]
  },
  {
   "cell_type": "markdown",
   "id": "e7a8a662",
   "metadata": {},
   "source": [
    "<h4 align=left>Correlation Coefficient"
   ]
  },
  {
   "cell_type": "code",
   "execution_count": 90,
   "id": "rational-reading",
   "metadata": {},
   "outputs": [
    {
     "name": "stdout",
     "output_type": "stream",
     "text": [
      "[[15 10 12]\n",
      " [18  5 18]\n",
      " [ 8 17 13]]\n",
      "-------------------------\n",
      "[[ 1.          0.80295507 -0.99870494]\n",
      " [ 0.80295507  1.         -0.83223972]\n",
      " [-0.99870494 -0.83223972  1.        ]]\n",
      "-------------------------\n"
     ]
    }
   ],
   "source": [
    " \n",
    "\n",
    "a =random.randint(5,20, size=9).reshape(3,3)\n",
    "b = corrcoef(a)\n",
    "\n",
    "print(a)\n",
    "print('-------------------------')\n",
    "print(b)\n",
    "print('-------------------------')"
   ]
  },
  {
   "cell_type": "markdown",
   "id": "7ec7feef",
   "metadata": {},
   "source": [
    "<h4 align=left>Matrix sort"
   ]
  },
  {
   "cell_type": "code",
   "execution_count": 91,
   "id": "extended-casino",
   "metadata": {},
   "outputs": [
    {
     "name": "stdout",
     "output_type": "stream",
     "text": [
      "[[ 6  6  9]\n",
      " [14 18  6]\n",
      " [ 9 16  7]]\n",
      "-------------------------\n",
      "[[ 6  6  6]\n",
      " [ 9 16  7]\n",
      " [14 18  9]]\n",
      "-------------------------\n",
      "[[ 6  6  9]\n",
      " [ 6 14 18]\n",
      " [ 7  9 16]]\n",
      "-------------------------\n"
     ]
    }
   ],
   "source": [
    "a =random.randint(5,20, size=9).reshape(3,3)\n",
    "b = sort(a,axis=0)  # sort columns\n",
    "c = sort(a,axis=1)  # sort raws\n",
    "\n",
    "print(a)\n",
    "print('-------------------------')\n",
    "print(b)\n",
    "print('-------------------------')\n",
    "print(c)\n",
    "print('-------------------------')"
   ]
  },
  {
   "cell_type": "markdown",
   "id": "9ab5b641",
   "metadata": {},
   "source": [
    "<h4 align=left>Matrix Inversion"
   ]
  },
  {
   "cell_type": "code",
   "execution_count": 92,
   "id": "looking-adams",
   "metadata": {},
   "outputs": [
    {
     "name": "stdout",
     "output_type": "stream",
     "text": [
      "[[2 3 1]\n",
      " [2 3 3]\n",
      " [1 2 2]]\n",
      "-------------------------\n",
      "[[ 0.   2.  -3. ]\n",
      " [ 0.5 -1.5  2. ]\n",
      " [-0.5  0.5  0. ]]\n",
      "-------------------------\n",
      "[[1. 0. 0.]\n",
      " [0. 1. 0.]\n",
      " [0. 0. 1.]]\n"
     ]
    }
   ],
   "source": [
    "a =random.randint(1,4, size=9).reshape(3,3)\n",
    "b =linalg.inv(a)   # matrix inverse\n",
    "\n",
    "\n",
    "'''\n",
    "when you multiply the matrix with its inversion you got the identity matrix\n",
    "'''\n",
    "c = dot(a,b)       \n",
    "print(a)\n",
    "print('-------------------------')\n",
    "print(b)\n",
    "print('-------------------------')\n",
    "print(c)"
   ]
  },
  {
   "cell_type": "markdown",
   "id": "after-broadway",
   "metadata": {},
   "source": [
    "<h2 align=left> Read files"
   ]
  },
  {
   "cell_type": "markdown",
   "id": "a8d74abe",
   "metadata": {},
   "source": [
    "<h3 align=left>Load and read the files"
   ]
  },
  {
   "cell_type": "markdown",
   "id": "ad5f6e63",
   "metadata": {},
   "source": [
    "<h4 align=left>Example (1):"
   ]
  },
  {
   "cell_type": "code",
   "execution_count": 93,
   "id": "freelance-member",
   "metadata": {},
   "outputs": [
    {
     "name": "stdout",
     "output_type": "stream",
     "text": [
      "[(b'M', 1.82) (b'M', 1.77) (b'F', 1.68) (b'M', 1.72) (b'F', 1.78)\n",
      " (b'F', 1.6 ) (b'M', 1.72) (b'M', 1.83) (b'F', 1.56) (b'F', 1.64)\n",
      " (b'M', 1.63) (b'M', 1.67) (b'M', 1.66) (b'F', 1.59) (b'F', 1.7 )\n",
      " (b'M', 1.97) (b'F', 1.66) (b'F', 1.63) (b'M', 1.69)]\n"
     ]
    }
   ],
   "source": [
    "fname = 'data_1.txt'\n",
    "dtype1 = dtype([('gender', '|S1'), ('height', 'f4')])\n",
    "a = loadtxt(fname, dtype = dtype1, skiprows = 9, usecols = (1, 3))\n",
    "\n",
    "print(a)"
   ]
  },
  {
   "cell_type": "markdown",
   "id": "d6a11194",
   "metadata": {},
   "source": [
    "<h4 align=left>Example (2):"
   ]
  },
  {
   "cell_type": "code",
   "execution_count": 94,
   "id": "delayed-edinburgh",
   "metadata": {},
   "outputs": [
    {
     "name": "stdout",
     "output_type": "stream",
     "text": [
      "a = [1890. 1900. 1910. 1920. 1930.]\n",
      "b = [26.1 25.9 25.1 24.6 24.3]\n",
      "c = [22.  21.9 21.6 21.2 21.3]\n"
     ]
    }
   ],
   "source": [
    "a, b, c = loadtxt('data_2.txt', unpack = True,skiprows = 3)\n",
    "\n",
    "print('a =', a)\n",
    "print('b =', b)\n",
    "print('c =', c)"
   ]
  },
  {
   "cell_type": "markdown",
   "id": "c8a6a5fd",
   "metadata": {},
   "source": [
    "<h4 align=left>Example (3):"
   ]
  },
  {
   "cell_type": "code",
   "execution_count": 95,
   "id": "unlikely-saudi",
   "metadata": {},
   "outputs": [
    {
     "name": "stdout",
     "output_type": "stream",
     "text": [
      "[(1, b'F', 18.72, 31.11) (2, b'F', 21.14, 52.47) (3, b'F', 19.38, 33.9 )]\n"
     ]
    }
   ],
   "source": [
    "data = genfromtxt('data_3.txt',\n",
    "                  skip_header=1,\n",
    "                  dtype=[('student', 'u8'), ('gender', 'S1'), ('black', 'f8'),\n",
    "                         ('colour', 'f8')],\n",
    "                  delimiter = ',',\n",
    "                  missing_values = 'X')\n",
    "\n",
    "print(data)"
   ]
  },
  {
   "cell_type": "markdown",
   "id": "structural-consultation",
   "metadata": {},
   "source": [
    "<h2 align=left>Polynomials"
   ]
  },
  {
   "cell_type": "markdown",
   "id": "f7f0ddb2",
   "metadata": {},
   "source": [
    "<h3 align=left>polyfit command"
   ]
  },
  {
   "cell_type": "code",
   "execution_count": 96,
   "id": "liable-manitoba",
   "metadata": {},
   "outputs": [
    {
     "name": "stdout",
     "output_type": "stream",
     "text": [
      "points =  [-0.05 10.  ]\n"
     ]
    }
   ],
   "source": [
    "X = array([0, 20, 40, 60, 80, 100, 120, 140, 160, 180])\n",
    "Y = array([10, 9, 8, 7, 6, 5, 4, 3, 2, 1])\n",
    "\n",
    "# to get the best fit\n",
    "\n",
    "points = polyfit(X, Y, 1) # (1) refer A polynomial of degree 1, which is a linear expression.\n",
    "\n",
    "'''\n",
    "the output has two numbers which represents the best line where, \n",
    "the the first number is the slope and the second one is the intersect\n",
    "'''\n",
    "\n",
    "print('points = ', points)"
   ]
  },
  {
   "cell_type": "code",
   "execution_count": 97,
   "id": "functioning-advantage",
   "metadata": {},
   "outputs": [
    {
     "name": "stdout",
     "output_type": "stream",
     "text": [
      "[3 6 2 5 4]\n",
      "-------------------------\n",
      "[ 2.   3.  -9.   6.   2.5]\n",
      "-------------------------\n",
      "[  2.8 -10.3]\n",
      "-------------------------\n"
     ]
    }
   ],
   "source": [
    "x = array([3, 6, 2, 5, 4])\n",
    "y = array([2, 3, -9, 6, 2.5])\n",
    "\n",
    "z = polyfit(x, y, 1)  # best fit\n",
    "\n",
    "print(x)\n",
    "print('-------------------------')\n",
    "print(y)\n",
    "print('-------------------------')\n",
    "print(z)\n",
    "print('-------------------------')"
   ]
  },
  {
   "cell_type": "markdown",
   "id": "92b930fb",
   "metadata": {},
   "source": [
    "<h3 align=left>Get the Polynomial Equation "
   ]
  },
  {
   "cell_type": "code",
   "execution_count": 98,
   "id": "prostate-drove",
   "metadata": {},
   "outputs": [
    {
     "name": "stdout",
     "output_type": "stream",
     "text": [
      " \n",
      "-7\n",
      "-------------------------\n",
      " \n",
      "-7 x + 2\n",
      "-------------------------\n",
      "    2\n",
      "-7 x + 2 x + 1\n",
      "-------------------------\n",
      "    3     2\n",
      "-7 x + 2 x + 1 x + 3\n",
      "-------------------------\n",
      "    4     3     2\n",
      "-7 x + 2 x + 1 x + 3 x + 6\n"
     ]
    }
   ],
   "source": [
    "a = poly1d((-7))                   # just constant\n",
    "b = poly1d((-7, 2))                # linear equation\n",
    "c = poly1d((-7, 2, 1))             # quadratic equation\n",
    "d = poly1d((-7, 2, 1, 3))\n",
    "e = poly1d((-7, 2, 1, 3, 6))\n",
    "\n",
    "print(a)\n",
    "print('-------------------------')\n",
    "print(b)\n",
    "print('-------------------------')\n",
    "print(c)\n",
    "print('-------------------------')\n",
    "print(d)\n",
    "print('-------------------------')\n",
    "print(e)"
   ]
  },
  {
   "cell_type": "markdown",
   "id": "53e2d9e2",
   "metadata": {},
   "source": [
    "<h3 align=left>Compansate The Value of \"x\""
   ]
  },
  {
   "cell_type": "markdown",
   "id": "fa6dd060",
   "metadata": {},
   "source": [
    "<h4 align=left>Option (1):"
   ]
  },
  {
   "cell_type": "code",
   "execution_count": 99,
   "id": "breathing-stanford",
   "metadata": {},
   "outputs": [
    {
     "name": "stdout",
     "output_type": "stream",
     "text": [
      "    4     3     2\n",
      "-7 x + 2 x + 1 x + 3 x + 6\n",
      "-------------------------\n",
      "-4079\n",
      "-------------------------\n",
      "6\n",
      "-------------------------\n",
      "-360939\n"
     ]
    }
   ],
   "source": [
    "a = poly1d((-7, 2, 1, 3, 6))\n",
    "\n",
    "b = a(5)\n",
    "c = a(0)\n",
    "d = a(-15)\n",
    "\n",
    "print(a)\n",
    "print('-------------------------')\n",
    "print(b)\n",
    "print('-------------------------')\n",
    "print(c)\n",
    "print('-------------------------')\n",
    "print(d)"
   ]
  },
  {
   "cell_type": "markdown",
   "id": "39a575fb",
   "metadata": {},
   "source": [
    "<h4 align=left>Option (2):"
   ]
  },
  {
   "cell_type": "code",
   "execution_count": 100,
   "id": "surrounded-ecuador",
   "metadata": {},
   "outputs": [
    {
     "name": "stdout",
     "output_type": "stream",
     "text": [
      "4\n",
      "-------------------------\n",
      "66\n",
      "-------------------------\n",
      "-13\n",
      "-------------------------\n",
      "29738.769599999992\n"
     ]
    }
   ],
   "source": [
    "# •\tأمر مختلف\n",
    "\n",
    "a = polyval((1, 2), 2)               # linear equation and compansate X with value of 2.\n",
    "b = polyval((1, 2, 3), 7)            # quadratic equation and compansate X with value of 7.\n",
    "c = polyval((1, 2, 3, 5), -3)\n",
    "d = polyval((1, 2, 3, 5, -6), 12.6)\n",
    "\n",
    "print(a)\n",
    "print('-------------------------')\n",
    "print(b)\n",
    "print('-------------------------')\n",
    "print(c)\n",
    "print('-------------------------')\n",
    "print(d)"
   ]
  },
  {
   "cell_type": "markdown",
   "id": "7963fa4a",
   "metadata": {},
   "source": [
    "<h3 align=left>Derivative"
   ]
  },
  {
   "cell_type": "markdown",
   "id": "f805f760",
   "metadata": {},
   "source": [
    "<h4 align=left>polyder command"
   ]
  },
  {
   "cell_type": "code",
   "execution_count": 102,
   "id": "ignored-header",
   "metadata": {},
   "outputs": [
    {
     "name": "stdout",
     "output_type": "stream",
     "text": [
      " \n",
      "2 x + 2\n",
      "-------------------------\n",
      " \n",
      "2\n",
      "-------------------------\n",
      " \n",
      "0\n",
      "-------------------------\n",
      "   3     2\n",
      "4 x + 6 x + 6 x + 5\n",
      "-------------------------\n",
      " \n",
      "24 x + 12\n"
     ]
    }
   ],
   "source": [
    "a = polyder(poly1d((1, 2, 3)))          # first derivitave\n",
    "b = polyder(poly1d((1, 2, 3)), 2)        # second derivitave\n",
    "c = polyder(poly1d((1, 2, 3)), 3)        # third derivitave\n",
    "\n",
    "d = polyder(poly1d((1, 2, 3, 5, 12)))     # first derivitave\n",
    "e = polyder(poly1d((1, 2, 3, 5, 12)), 3)   # third derivitave\n",
    "\n",
    "print(a)\n",
    "print('-------------------------')\n",
    "print(b)\n",
    "print('-------------------------')\n",
    "print(c)\n",
    "print('-------------------------')\n",
    "print(d)\n",
    "print('-------------------------')\n",
    "print(e)"
   ]
  },
  {
   "cell_type": "markdown",
   "id": "06b09ba7",
   "metadata": {},
   "source": [
    "<h4 align=left>Compansate the value of \"x\""
   ]
  },
  {
   "cell_type": "code",
   "execution_count": 103,
   "id": "settled-nickel",
   "metadata": {},
   "outputs": [
    {
     "name": "stdout",
     "output_type": "stream",
     "text": [
      "6\n",
      "-------------------------\n",
      "2\n",
      "-------------------------\n",
      "0\n",
      "-------------------------\n",
      "1\n",
      "-------------------------\n",
      "132\n"
     ]
    }
   ],
   "source": [
    "a = polyder(poly1d((1, 2, 3)))\n",
    "b = polyder(poly1d((1, 2, 3)), 2)\n",
    "c = polyder(poly1d((1, 2, 3)), 3)\n",
    "\n",
    "d = polyder(poly1d((1, 2, 3, 5, 12)))\n",
    "e = polyder(poly1d((1, 2, 3, 5, 12)), 3)\n",
    "\n",
    "print(a(2))\n",
    "print('-------------------------')\n",
    "print(b(0))\n",
    "print('-------------------------')\n",
    "print(c(3))\n",
    "print('-------------------------')\n",
    "print(d(-1))\n",
    "print('-------------------------')\n",
    "print(e(5))"
   ]
  },
  {
   "cell_type": "markdown",
   "id": "87f0ac04",
   "metadata": {},
   "source": [
    "<h3 align=left>Integration"
   ]
  },
  {
   "cell_type": "markdown",
   "id": "9413d549",
   "metadata": {},
   "source": [
    "<h4 align=left>polyint command"
   ]
  },
  {
   "cell_type": "code",
   "execution_count": 104,
   "id": "italic-effort",
   "metadata": {},
   "outputs": [
    {
     "name": "stdout",
     "output_type": "stream",
     "text": [
      "        3     2\n",
      "0.3333 x + 1 x + 3 x\n",
      "-------------------------\n",
      "         4          3       2\n",
      "0.08333 x + 0.3333 x + 1.5 x\n",
      "-------------------------\n",
      "         5           4       3\n",
      "0.01667 x + 0.08333 x + 0.5 x\n",
      "-------------------------\n",
      "     5       4     3       2\n",
      "0.2 x + 0.5 x + 1 x + 2.5 x + 12 x\n",
      "-------------------------\n",
      "          7           6        5          4     3\n",
      "0.004762 x + 0.01667 x + 0.05 x + 0.2083 x + 2 x\n"
     ]
    }
   ],
   "source": [
    "a = polyint(poly1d((1, 2, 3)))\n",
    "b = polyint(poly1d((1, 2, 3)), 2)\n",
    "c = polyint(poly1d((1, 2, 3)), 3)\n",
    "\n",
    "d = polyint(poly1d((1, 2, 3, 5, 12)))\n",
    "e = polyint(poly1d((1, 2, 3, 5, 12)), 3)\n",
    "\n",
    "print(a)\n",
    "print('-------------------------')\n",
    "print(b)\n",
    "print('-------------------------')\n",
    "print(c)\n",
    "print('-------------------------')\n",
    "print(d)\n",
    "print('-------------------------')\n",
    "print(e)"
   ]
  },
  {
   "cell_type": "markdown",
   "id": "0ad2e781",
   "metadata": {},
   "source": [
    "<h4 align=left>Compansate the Value of \"x\""
   ]
  },
  {
   "cell_type": "code",
   "execution_count": 105,
   "id": "excellent-superior",
   "metadata": {},
   "outputs": [
    {
     "name": "stdout",
     "output_type": "stream",
     "text": [
      "12.666666666666666\n",
      "-------------------------\n",
      "0.0\n",
      "-------------------------\n",
      "24.300000000000004\n",
      "-------------------------\n",
      "-10.2\n",
      "-------------------------\n",
      "1168.8988095238094\n"
     ]
    }
   ],
   "source": [
    "a = polyint(poly1d((1, 2, 3)))\n",
    "b = polyint(poly1d((1, 2, 3)), 2)\n",
    "c = polyint(poly1d((1, 2, 3)), 3)\n",
    "\n",
    "d = polyint(poly1d((1, 2, 3, 5, 12)))\n",
    "e = polyint(poly1d((1, 2, 3, 5, 12)), 3)\n",
    "\n",
    "print(a(2))\n",
    "print('-------------------------')\n",
    "print(b(0))\n",
    "print('-------------------------')\n",
    "print(c(3))\n",
    "print('-------------------------')\n",
    "print(d(-1))\n",
    "print('-------------------------')\n",
    "print(e(5))"
   ]
  },
  {
   "cell_type": "markdown",
   "id": "98275db6",
   "metadata": {},
   "source": [
    "<h3 align=left>Roots of the Equation"
   ]
  },
  {
   "cell_type": "code",
   "execution_count": 106,
   "id": "relevant-death",
   "metadata": {},
   "outputs": [
    {
     "name": "stdout",
     "output_type": "stream",
     "text": [
      "[-2.]\n",
      "-------------------------\n",
      "[-1.+1.41421356j -1.-1.41421356j]\n",
      "-------------------------\n",
      "[-1.84373428+0.j         -0.07813286+1.64492638j -0.07813286-1.64492638j]\n",
      "-------------------------\n",
      "[-1.61635728+1.15083694j -1.61635728-1.15083694j  0.61635728+1.63342631j\n",
      "  0.61635728-1.63342631j]\n",
      "-------------------------\n",
      "[ 0.98732723+1.53502015j  0.98732723-1.53502015j -1.06743101+1.56536107j\n",
      " -1.06743101-1.56536107j -1.83979245+0.j        ]\n"
     ]
    }
   ],
   "source": [
    "# the values when you compansate it in the equation the output will be zero.\n",
    "\n",
    "a = roots(poly1d((1, 2)))\n",
    "b = roots(poly1d((1, 2, 3)))\n",
    "c = roots(poly1d((1, 2, 3, 5)))\n",
    "d = roots(poly1d((1, 2, 3, 5, 12)))\n",
    "e = roots(poly1d((1, 2, 3, 5, 12, 22)))\n",
    "\n",
    "print(a)\n",
    "print('-------------------------')\n",
    "print(b)\n",
    "print('-------------------------')\n",
    "print(c)\n",
    "print('-------------------------')\n",
    "print(d)\n",
    "print('-------------------------')\n",
    "print(e)"
   ]
  },
  {
   "cell_type": "markdown",
   "id": "extraordinary-rabbit",
   "metadata": {},
   "source": [
    "<h2 align=left>Deal with time"
   ]
  },
  {
   "cell_type": "markdown",
   "id": "127a6162",
   "metadata": {},
   "source": [
    "<h3 align=left>Datetime64 command"
   ]
  },
  {
   "cell_type": "code",
   "execution_count": 107,
   "id": "seasonal-michigan",
   "metadata": {},
   "outputs": [
    {
     "name": "stdout",
     "output_type": "stream",
     "text": [
      "2021-08-13\n"
     ]
    }
   ],
   "source": [
    "x = array('2021-08-13', dtype=datetime64)\n",
    "print(x)"
   ]
  },
  {
   "cell_type": "code",
   "execution_count": 108,
   "id": "cleared-vegetarian",
   "metadata": {},
   "outputs": [
    {
     "name": "stdout",
     "output_type": "stream",
     "text": [
      "2021-08-14\n"
     ]
    }
   ],
   "source": [
    "x = datetime64('2021-08-14')\n",
    "print(x)"
   ]
  },
  {
   "cell_type": "markdown",
   "id": "22b54f06",
   "metadata": {},
   "source": [
    "<h3 align=left>Days Increase"
   ]
  },
  {
   "cell_type": "code",
   "execution_count": 109,
   "id": "elementary-customer",
   "metadata": {},
   "outputs": [
    {
     "name": "stdout",
     "output_type": "stream",
     "text": [
      "2021-02-26\n",
      "-------------------------\n",
      "['2021-02-26' '2021-02-27' '2021-02-28' '2021-03-01' '2021-03-02'\n",
      " '2021-03-03' '2021-03-04' '2021-03-05' '2021-03-06' '2021-03-07'\n",
      " '2021-03-08' '2021-03-09']\n"
     ]
    }
   ],
   "source": [
    "x = datetime64('2021-02-26')\n",
    "\n",
    "y = x + arange(12)\n",
    "\n",
    "print(x)\n",
    "print('-------------------------')\n",
    "print(y)"
   ]
  },
  {
   "cell_type": "markdown",
   "id": "f95eec59",
   "metadata": {},
   "source": [
    "<h3 align=left>Days Decrease"
   ]
  },
  {
   "cell_type": "code",
   "execution_count": 110,
   "id": "wicked-switzerland",
   "metadata": {},
   "outputs": [
    {
     "name": "stdout",
     "output_type": "stream",
     "text": [
      "2015-07-04\n",
      "-------------------------\n",
      "['2015-07-04' '2015-07-03' '2015-07-02' '2015-07-01' '2015-06-30'\n",
      " '2015-06-29' '2015-06-28' '2015-06-27' '2015-06-26' '2015-06-25'\n",
      " '2015-06-24' '2015-06-23']\n"
     ]
    }
   ],
   "source": [
    "x = datetime64('2015-07-04')\n",
    "\n",
    "y = x - arange(12)\n",
    "\n",
    "print(x)\n",
    "print('-------------------------')\n",
    "print(y)"
   ]
  },
  {
   "cell_type": "markdown",
   "id": "7776960e",
   "metadata": {},
   "source": [
    "<h3 align=left>Days Difference"
   ]
  },
  {
   "cell_type": "code",
   "execution_count": 111,
   "id": "conceptual-victim",
   "metadata": {},
   "outputs": [
    {
     "name": "stdout",
     "output_type": "stream",
     "text": [
      "1975-04-20\n",
      "-------------------------\n",
      "2022-12-29\n",
      "-------------------------\n",
      "17420 days\n"
     ]
    }
   ],
   "source": [
    "x = datetime64('1975-04-20')\n",
    "y = datetime64('2022-12-29')\n",
    "\n",
    "z = y-x\n",
    "\n",
    "print(x)\n",
    "print('-------------------------')\n",
    "print(y)\n",
    "print('-------------------------')\n",
    "print(z)"
   ]
  },
  {
   "cell_type": "markdown",
   "id": "paperback-carol",
   "metadata": {},
   "source": [
    "<h2 align=left>functions in numpy"
   ]
  },
  {
   "cell_type": "code",
   "execution_count": 112,
   "id": "first-joyce",
   "metadata": {},
   "outputs": [
    {
     "name": "stdout",
     "output_type": "stream",
     "text": [
      "[  0.   1.   8.  27.  64. 125. 216. 343. 512. 729.]\n"
     ]
    }
   ],
   "source": [
    "# They are used with the fromfunction command\n",
    "\n",
    "x = fromfunction(lambda i: i**3, (10, ))\n",
    "\n",
    "print(x)"
   ]
  },
  {
   "cell_type": "code",
   "execution_count": 113,
   "id": "literary-mileage",
   "metadata": {},
   "outputs": [
    {
     "name": "stdout",
     "output_type": "stream",
     "text": [
      "[ 375.  648. 1029. 1536. 2187. 3000. 3993. 5184. 6591. 8232.]\n"
     ]
    }
   ],
   "source": [
    "# 1 Dimension\n",
    "\n",
    "x = fromfunction(lambda i: 3 * (i + 5)**3, (10, ))\n",
    "print(x)"
   ]
  },
  {
   "cell_type": "code",
   "execution_count": 114,
   "id": "downtown-promotion",
   "metadata": {},
   "outputs": [
    {
     "name": "stdout",
     "output_type": "stream",
     "text": [
      "[[0. 1. 2. 3. 4.]\n",
      " [1. 2. 3. 4. 5.]\n",
      " [2. 3. 4. 5. 6.]\n",
      " [3. 4. 5. 6. 7.]]\n"
     ]
    }
   ],
   "source": [
    "# 2 Dimensions\n",
    "\n",
    "x = fromfunction(lambda i, j: i + j, (4, 5))\n",
    "'''\n",
    "python puts i as a column, for first column it adds the first value of j,\n",
    "second column adds the second value of j and so on\n",
    "'''\n",
    "\n",
    "print(x)"
   ]
  },
  {
   "cell_type": "code",
   "execution_count": 115,
   "id": "undefined-benefit",
   "metadata": {},
   "outputs": [
    {
     "name": "stdout",
     "output_type": "stream",
     "text": [
      "[[ 0.  0.  0.  0.  0.]\n",
      " [ 0.  3.  6.  9. 12.]\n",
      " [ 0.  6. 12. 18. 24.]\n",
      " [ 0.  9. 18. 27. 36.]]\n"
     ]
    }
   ],
   "source": [
    "x = fromfunction(lambda i, j: 3 * i * j, (4, 5))\n",
    "print(x)"
   ]
  },
  {
   "cell_type": "code",
   "execution_count": 116,
   "id": "cathedral-trial",
   "metadata": {},
   "outputs": [
    {
     "name": "stdout",
     "output_type": "stream",
     "text": [
      "[[[0. 1. 2. 3.]\n",
      "  [1. 2. 3. 4.]\n",
      "  [2. 3. 4. 5.]]\n",
      "\n",
      " [[1. 2. 3. 4.]\n",
      "  [2. 3. 4. 5.]\n",
      "  [3. 4. 5. 6.]]]\n"
     ]
    }
   ],
   "source": [
    "# 3 Dimensions\n",
    "\n",
    "x = fromfunction(lambda i, j, k: i + j + k, (2, 3, 4))\n",
    "print(x)"
   ]
  },
  {
   "cell_type": "code",
   "execution_count": 117,
   "id": "copyrighted-rolling",
   "metadata": {
    "scrolled": true
   },
   "outputs": [
    {
     "name": "stdout",
     "output_type": "stream",
     "text": [
      "[[[ 0.  0.  0.  0.]\n",
      "  [ 0.  1.  2.  3.]\n",
      "  [ 0.  4.  8. 12.]]\n",
      "\n",
      " [[ 2.  2.  2.  2.]\n",
      "  [ 2.  3.  4.  5.]\n",
      "  [ 2.  6. 10. 14.]]]\n"
     ]
    }
   ],
   "source": [
    "x = fromfunction(lambda i, j, k: (2 * i) + (j**2) * k, (2, 3, 4))\n",
    "print(x)"
   ]
  },
  {
   "cell_type": "code",
   "execution_count": 118,
   "id": "welsh-galaxy",
   "metadata": {},
   "outputs": [
    {
     "name": "stdout",
     "output_type": "stream",
     "text": [
      "[ 0  1  4  9 16 25 36 49 64]\n"
     ]
    }
   ],
   "source": [
    "def powers(i):\n",
    "    i = i**2\n",
    "    return i\n",
    "\n",
    "\n",
    "x = fromfunction(powers, (9, ), dtype=int)\n",
    "print(x)"
   ]
  },
  {
   "cell_type": "code",
   "execution_count": 119,
   "id": "eight-client",
   "metadata": {
    "code_folding": []
   },
   "outputs": [
    {
     "name": "stdout",
     "output_type": "stream",
     "text": [
      "[[ 1  0  0  0  0]\n",
      " [ 1  1  1  1  1]\n",
      " [ 1  2  4  8 16]\n",
      " [ 1  3  9 27 81]]\n"
     ]
    }
   ],
   "source": [
    "def powers(i, j):\n",
    "    i = i**j\n",
    "    return i\n",
    "\n",
    "\n",
    "x = fromfunction(powers, (4, 5), dtype=int)\n",
    "# N.B: 0**0 does not equal 1, put python type it as one \n",
    "print(x)"
   ]
  },
  {
   "cell_type": "code",
   "execution_count": 120,
   "id": "governmental-accident",
   "metadata": {
    "code_folding": []
   },
   "outputs": [
    {
     "name": "stdout",
     "output_type": "stream",
     "text": [
      "[ True False False False False  True False False False False  True False\n",
      " False False False  True False False False False]\n"
     ]
    }
   ],
   "source": [
    "# Boolean values\n",
    "\n",
    "m, n = 20, 5\n",
    "\n",
    "\n",
    "def f(i):\n",
    "    return (i % n == 0)\n",
    "\n",
    "\n",
    "x = fromfunction(f, (m, ))\n",
    "print(x)"
   ]
  }
 ],
 "metadata": {
  "kernelspec": {
   "display_name": "base",
   "language": "python",
   "name": "python3"
  },
  "language_info": {
   "codemirror_mode": {
    "name": "ipython",
    "version": 3
   },
   "file_extension": ".py",
   "mimetype": "text/x-python",
   "name": "python",
   "nbconvert_exporter": "python",
   "pygments_lexer": "ipython3",
   "version": "3.9.12"
  },
  "latex_envs": {
   "LaTeX_envs_menu_present": true,
   "autoclose": false,
   "autocomplete": true,
   "bibliofile": "biblio.bib",
   "cite_by": "apalike",
   "current_citInitial": 1,
   "eqLabelWithNumbers": true,
   "eqNumInitial": 1,
   "hotkeys": {
    "equation": "Ctrl-E",
    "itemize": "Ctrl-I"
   },
   "labels_anchors": false,
   "latex_user_defs": false,
   "report_style_numbering": false,
   "user_envs_cfg": false
  },
  "toc": {
   "base_numbering": 1,
   "nav_menu": {},
   "number_sections": true,
   "sideBar": false,
   "skip_h1_title": true,
   "title_cell": "Table of Contents",
   "title_sidebar": "Contents",
   "toc_cell": true,
   "toc_position": {
    "height": "573.588px",
    "left": "27px",
    "top": "109.562px",
    "width": "243px"
   },
   "toc_section_display": true,
   "toc_window_display": true
  },
  "vscode": {
   "interpreter": {
    "hash": "55f2fe7b1c560c2d324ed046faeb8a55513d29ab718ddf7bfc99dad8debd2a7a"
   }
  }
 },
 "nbformat": 4,
 "nbformat_minor": 5
}
