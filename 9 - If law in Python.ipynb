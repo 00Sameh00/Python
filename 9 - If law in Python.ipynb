{
 "cells": [
  {
   "cell_type": "markdown",
   "id": "bizarre-performance",
   "metadata": {},
   "source": [
    "<h1 align=center>If Law in Python"
   ]
  },
  {
   "cell_type": "markdown",
   "id": "editorial-application",
   "metadata": {
    "toc": true
   },
   "source": [
    "<h1>Table of Contents<span class=\"tocSkip\"></span></h1>\n",
    "<div class=\"toc\"><ul class=\"toc-item\"><li><span><a href=\"#If-Law\" data-toc-modified-id=\"If-Law-1\"><span class=\"toc-item-num\">1&nbsp;&nbsp;</span>If Law</a></span><ul class=\"toc-item\"><li><span><a href=\"#simple-if-example-\" data-toc-modified-id=\"simple-if-example--1.1\"><span class=\"toc-item-num\">1.1&nbsp;&nbsp;</span>simple if example </a></span></li><li><span><a href=\"#else-condition\" data-toc-modified-id=\"else-condition-1.2\"><span class=\"toc-item-num\">1.2&nbsp;&nbsp;</span>else condition</a></span></li><li><span><a href=\"#elif-condition\" data-toc-modified-id=\"elif-condition-1.3\"><span class=\"toc-item-num\">1.3&nbsp;&nbsp;</span>elif condition</a></span></li><li><span><a href=\"#different-way\" data-toc-modified-id=\"different-way-1.4\"><span class=\"toc-item-num\">1.4&nbsp;&nbsp;</span>different way</a></span></li><li><span><a href=\"#and,-or-functions\" data-toc-modified-id=\"and,-or-functions-1.5\"><span class=\"toc-item-num\">1.5&nbsp;&nbsp;</span>and, or functions</a></span></li></ul></li></ul></div>"
   ]
  },
  {
   "cell_type": "markdown",
   "id": "formed-bleeding",
   "metadata": {},
   "source": [
    "<h2 align=left>If Law"
   ]
  },
  {
   "cell_type": "markdown",
   "id": "early-banking",
   "metadata": {},
   "source": [
    "<h3 align=left>simple example "
   ]
  },
  {
   "cell_type": "code",
   "execution_count": 1,
   "id": "latter-interest",
   "metadata": {},
   "outputs": [
    {
     "name": "stdout",
     "output_type": "stream",
     "text": [
      "hello\n"
     ]
    }
   ],
   "source": [
    "# Example\n",
    "x = 6\n",
    "if x != 5 :\n",
    "    print ('hello')"
   ]
  },
  {
   "cell_type": "markdown",
   "id": "received-closer",
   "metadata": {},
   "source": [
    "<h3 align=left>else condition"
   ]
  },
  {
   "cell_type": "code",
   "execution_count": 2,
   "id": "identical-setup",
   "metadata": {},
   "outputs": [
    {
     "name": "stdout",
     "output_type": "stream",
     "text": [
      "no\n"
     ]
    }
   ],
   "source": [
    "x = 5\n",
    "\n",
    "if x != 5 :\n",
    "    print ('hello')\n",
    "else :\n",
    "    print ('no')\n"
   ]
  },
  {
   "cell_type": "markdown",
   "id": "herbal-union",
   "metadata": {},
   "source": [
    "<h3 align=left>elif condition"
   ]
  },
  {
   "cell_type": "code",
   "execution_count": 3,
   "id": "missing-coupon",
   "metadata": {},
   "outputs": [
    {
     "name": "stdout",
     "output_type": "stream",
     "text": [
      "yes\n"
     ]
    }
   ],
   "source": [
    "x = 9\n",
    "\n",
    "if x <= 5 :\n",
    "    print ('hello')\n",
    "elif x > 8 :\n",
    "    print ('yes')\n",
    "else :\n",
    "    print ('no')"
   ]
  },
  {
   "cell_type": "markdown",
   "id": "bizarre-dressing",
   "metadata": {},
   "source": [
    "<h3 align=left>different way"
   ]
  },
  {
   "cell_type": "code",
   "execution_count": 4,
   "id": "happy-chance",
   "metadata": {},
   "outputs": [
    {
     "name": "stdout",
     "output_type": "stream",
     "text": [
      "no\n"
     ]
    }
   ],
   "source": [
    "# the condition can be written in the same line\n",
    "x = 5 \n",
    "\n",
    "if x != 5 : print ('hello')\n",
    "elif x > 8 : print ('yes')\n",
    "else :print ('no')"
   ]
  },
  {
   "cell_type": "code",
   "execution_count": 5,
   "id": "ancient-station",
   "metadata": {},
   "outputs": [
    {
     "name": "stdout",
     "output_type": "stream",
     "text": [
      "20\n"
     ]
    }
   ],
   "source": [
    "a, b = 10, 20\n",
    "\n",
    "max = a if (a > b) else b \n",
    "print(max)"
   ]
  },
  {
   "cell_type": "markdown",
   "id": "active-evidence",
   "metadata": {},
   "source": [
    "<h3 align=left>and, or functions"
   ]
  },
  {
   "cell_type": "code",
   "execution_count": 6,
   "id": "packed-contents",
   "metadata": {},
   "outputs": [
    {
     "name": "stdout",
     "output_type": "stream",
     "text": [
      "Hello!!\n"
     ]
    }
   ],
   "source": [
    "x = 3\n",
    "y = 6\n",
    "\n",
    "if (x == 4) or (y == 6):\n",
    "    print('Hello!!')"
   ]
  },
  {
   "cell_type": "code",
   "execution_count": 7,
   "id": "silver-desktop",
   "metadata": {},
   "outputs": [
    {
     "name": "stdout",
     "output_type": "stream",
     "text": [
      "Hello!!\n"
     ]
    }
   ],
   "source": [
    "x = 3\n",
    "y = 6\n",
    "\n",
    "if (x == 3) and (y == 6):\n",
    "    print('Hello!!')"
   ]
  },
  {
   "cell_type": "code",
   "execution_count": 8,
   "id": "roman-tobago",
   "metadata": {},
   "outputs": [
    {
     "name": "stdout",
     "output_type": "stream",
     "text": [
      "sorry!!\n"
     ]
    }
   ],
   "source": [
    "x = 3\n",
    "y = 6\n",
    "\n",
    "if (x == 12) or (y == 10):\n",
    "    print('Hello!!')\n",
    "else:\n",
    "    print('sorry!!')"
   ]
  }
 ],
 "metadata": {
  "kernelspec": {
   "display_name": "Python 3.9.12 ('base')",
   "language": "python",
   "name": "python3"
  },
  "language_info": {
   "codemirror_mode": {
    "name": "ipython",
    "version": 3
   },
   "file_extension": ".py",
   "mimetype": "text/x-python",
   "name": "python",
   "nbconvert_exporter": "python",
   "pygments_lexer": "ipython3",
   "version": "3.9.12"
  },
  "latex_envs": {
   "LaTeX_envs_menu_present": true,
   "autoclose": false,
   "autocomplete": true,
   "bibliofile": "biblio.bib",
   "cite_by": "apalike",
   "current_citInitial": 1,
   "eqLabelWithNumbers": true,
   "eqNumInitial": 1,
   "hotkeys": {
    "equation": "Ctrl-E",
    "itemize": "Ctrl-I"
   },
   "labels_anchors": false,
   "latex_user_defs": false,
   "report_style_numbering": false,
   "user_envs_cfg": false
  },
  "toc": {
   "base_numbering": 1,
   "nav_menu": {},
   "number_sections": true,
   "sideBar": false,
   "skip_h1_title": true,
   "title_cell": "Table of Contents",
   "title_sidebar": "Contents",
   "toc_cell": true,
   "toc_position": {
    "height": "676.6px",
    "left": "36px",
    "top": "77px",
    "width": "252.788px"
   },
   "toc_section_display": true,
   "toc_window_display": true
  },
  "vscode": {
   "interpreter": {
    "hash": "55f2fe7b1c560c2d324ed046faeb8a55513d29ab718ddf7bfc99dad8debd2a7a"
   }
  }
 },
 "nbformat": 4,
 "nbformat_minor": 5
}
