{
 "cells": [
  {
   "cell_type": "markdown",
   "id": "fresh-tobago",
   "metadata": {},
   "source": [
    "<h1 align=center>Statistics Library \n",
    "    "
   ]
  },
  {
   "cell_type": "markdown",
   "id": "difficult-cooperation",
   "metadata": {
    "toc": true
   },
   "source": [
    "<h1>Table of Contents<span class=\"tocSkip\"></span></h1>\n",
    "<div class=\"toc\"><ul class=\"toc-item\"><li><span><a href=\"#Import-Statistics-module\" data-toc-modified-id=\"Import-Statistics-module-1\"><span class=\"toc-item-num\">1&nbsp;&nbsp;</span>Import Statistics module</a></span></li><li><span><a href=\"#-important-Statistics-functions\" data-toc-modified-id=\"-important-Statistics-functions-2\"><span class=\"toc-item-num\">2&nbsp;&nbsp;</span> important Statistics functions</a></span><ul class=\"toc-item\"><li><span><a href=\"#mean-function\" data-toc-modified-id=\"mean-function-2.1\"><span class=\"toc-item-num\">2.1&nbsp;&nbsp;</span>mean function</a></span></li><li><span><a href=\"#harmonic-mean-function\" data-toc-modified-id=\"harmonic-mean-function-2.2\"><span class=\"toc-item-num\">2.2&nbsp;&nbsp;</span>harmonic mean function</a></span></li><li><span><a href=\"#median-function\" data-toc-modified-id=\"median-function-2.3\"><span class=\"toc-item-num\">2.3&nbsp;&nbsp;</span>median function</a></span></li><li><span><a href=\"#mode-function\" data-toc-modified-id=\"mode-function-2.4\"><span class=\"toc-item-num\">2.4&nbsp;&nbsp;</span>mode function</a></span></li><li><span><a href=\"#standard-deviation-function\" data-toc-modified-id=\"standard-deviation-function-2.5\"><span class=\"toc-item-num\">2.5&nbsp;&nbsp;</span>standard deviation function</a></span></li><li><span><a href=\"#variance-function\" data-toc-modified-id=\"variance-function-2.6\"><span class=\"toc-item-num\">2.6&nbsp;&nbsp;</span>variance function</a></span></li></ul></li></ul></div>"
   ]
  },
  {
   "cell_type": "markdown",
   "id": "opponent-mailing",
   "metadata": {},
   "source": [
    "<h2 align=left>Import Statistics module"
   ]
  },
  {
   "cell_type": "code",
   "execution_count": 2,
   "id": "documented-syndicate",
   "metadata": {},
   "outputs": [],
   "source": [
    "import statistics as st"
   ]
  },
  {
   "cell_type": "markdown",
   "id": "exclusive-spell",
   "metadata": {},
   "source": [
    "<h2 align=left> important Statistics functions"
   ]
  },
  {
   "cell_type": "markdown",
   "id": "resistant-authorization",
   "metadata": {},
   "source": [
    "<h3 align=left>mean function"
   ]
  },
  {
   "cell_type": "code",
   "execution_count": 3,
   "id": "departmental-walker",
   "metadata": {
    "scrolled": true
   },
   "outputs": [
    {
     "name": "stdout",
     "output_type": "stream",
     "text": [
      "3.5\n"
     ]
    }
   ],
   "source": [
    "b = [1,2,3,4,5,6]\n",
    "\n",
    "a = st.mean(b) \n",
    "print(a)"
   ]
  },
  {
   "cell_type": "markdown",
   "id": "boring-cloud",
   "metadata": {},
   "source": [
    "<h3 align=left>harmonic mean function"
   ]
  },
  {
   "cell_type": "markdown",
   "id": "color-parish",
   "metadata": {},
   "source": [
    "<img src=\"https://1.bp.blogspot.com/-_XShXa4_Zas/YQrFhv33PwI/AAAAAAAAAxo/7AiNNG2UkooCoqiQ4opRDh3vUgimFo0PwCLcBGAsYHQ/s1019/3.JPG\" width=\"500\" style=\"float: center;\"> \n"
   ]
  },
  {
   "cell_type": "code",
   "execution_count": 4,
   "id": "little-bolivia",
   "metadata": {},
   "outputs": [
    {
     "name": "stdout",
     "output_type": "stream",
     "text": [
      "4.156100068540096\n"
     ]
    }
   ],
   "source": [
    "a = st.harmonic_mean ( [7,2,3,6,9,33,2.5])\n",
    "print(a)"
   ]
  },
  {
   "cell_type": "markdown",
   "id": "promotional-ethics",
   "metadata": {},
   "source": [
    "<h3 align=left>median function"
   ]
  },
  {
   "cell_type": "code",
   "execution_count": 5,
   "id": "daily-barrier",
   "metadata": {},
   "outputs": [
    {
     "name": "stdout",
     "output_type": "stream",
     "text": [
      "5.5\n"
     ]
    }
   ],
   "source": [
    "a = st.median( [3,6,9,4,5,3.2,9,7])   \n",
    "print(a)  "
   ]
  },
  {
   "cell_type": "code",
   "execution_count": 6,
   "id": "hindu-holly",
   "metadata": {},
   "outputs": [
    {
     "name": "stdout",
     "output_type": "stream",
     "text": [
      "6\n"
     ]
    }
   ],
   "source": [
    "# the middle value between the list numbers\n",
    "a = st.median( [3,6,9,4,5,3.2,9,7,9]) \n",
    "print(a)"
   ]
  },
  {
   "cell_type": "code",
   "execution_count": 7,
   "id": "political-employer",
   "metadata": {},
   "outputs": [
    {
     "name": "stdout",
     "output_type": "stream",
     "text": [
      "6\n"
     ]
    }
   ],
   "source": [
    "'''\n",
    "If the middle value consist of two numbers instead of one, then we take the lowest one\n",
    "'''\n",
    "a = st.median_low( [3,6,9,4,5,3.2,9,7,9])\n",
    "print(a)"
   ]
  },
  {
   "cell_type": "code",
   "execution_count": 8,
   "id": "handmade-polish",
   "metadata": {},
   "outputs": [
    {
     "name": "stdout",
     "output_type": "stream",
     "text": [
      "6\n"
     ]
    }
   ],
   "source": [
    "'''\n",
    "If the middle value consist of two numbers instead of one, then we take the highest one\n",
    "'''\n",
    "a = st.median_high( [3,6,9,4,5,3.2,9,7,9])\n",
    "print(a)"
   ]
  },
  {
   "cell_type": "markdown",
   "id": "metric-seller",
   "metadata": {},
   "source": [
    "<h3 align=left>mode function"
   ]
  },
  {
   "cell_type": "code",
   "execution_count": 9,
   "id": "through-seattle",
   "metadata": {},
   "outputs": [
    {
     "name": "stdout",
     "output_type": "stream",
     "text": [
      "2\n"
     ]
    }
   ],
   "source": [
    "# the most repeated number in the list\n",
    "\n",
    "a = st.mode( [2,3,5,4,2,3,6,9,8,5,2,2,3,4,6])  \n",
    "print(a)"
   ]
  },
  {
   "cell_type": "markdown",
   "id": "short-atlanta",
   "metadata": {},
   "source": [
    "<h3 align=left>standard deviation function"
   ]
  },
  {
   "cell_type": "markdown",
   "id": "determined-wellington",
   "metadata": {},
   "source": [
    "<img src=\"https://1.bp.blogspot.com/-sKsxTO9l_4w/YQrIgOhx4UI/AAAAAAAAAxw/TyrPtojl-_E7koGQtKyY8cMiLEVns1KWACLcBGAsYHQ/s1026/4.JPG\" width=\"500\" style=\"float: center;\"> \n"
   ]
  },
  {
   "cell_type": "code",
   "execution_count": 10,
   "id": "broke-statement",
   "metadata": {},
   "outputs": [
    {
     "name": "stdout",
     "output_type": "stream",
     "text": [
      "29.342579981998853\n"
     ]
    }
   ],
   "source": [
    "a = st.stdev([3.2,6.9,8.1,-9.3,66])\n",
    "print(a)"
   ]
  },
  {
   "cell_type": "markdown",
   "id": "charming-brave",
   "metadata": {},
   "source": [
    "<h3 align=left>variance function"
   ]
  },
  {
   "cell_type": "markdown",
   "id": "direct-journalist",
   "metadata": {},
   "source": [
    "<img src=\"https://1.bp.blogspot.com/-6l14tsf174s/YQrI0_tKhlI/AAAAAAAAAx4/tmigeFRGwicV2DCVn5KZlb2bqBSmdXX3wCLcBGAsYHQ/s1160/5.JPG\" width=\"500\" style=\"float: center;\"> \n"
   ]
  },
  {
   "cell_type": "code",
   "execution_count": 11,
   "id": "together-hybrid",
   "metadata": {},
   "outputs": [
    {
     "name": "stdout",
     "output_type": "stream",
     "text": [
      "860.9869999999999\n"
     ]
    }
   ],
   "source": [
    "a = st.variance([3.2,6.9,8.1,-9.3,66])\n",
    "print(a)"
   ]
  }
 ],
 "metadata": {
  "kernelspec": {
   "display_name": "base",
   "language": "python",
   "name": "python3"
  },
  "language_info": {
   "codemirror_mode": {
    "name": "ipython",
    "version": 3
   },
   "file_extension": ".py",
   "mimetype": "text/x-python",
   "name": "python",
   "nbconvert_exporter": "python",
   "pygments_lexer": "ipython3",
   "version": "3.9.12"
  },
  "latex_envs": {
   "LaTeX_envs_menu_present": true,
   "autoclose": false,
   "autocomplete": true,
   "bibliofile": "biblio.bib",
   "cite_by": "apalike",
   "current_citInitial": 1,
   "eqLabelWithNumbers": true,
   "eqNumInitial": 1,
   "hotkeys": {
    "equation": "Ctrl-E",
    "itemize": "Ctrl-I"
   },
   "labels_anchors": false,
   "latex_user_defs": false,
   "report_style_numbering": false,
   "user_envs_cfg": false
  },
  "toc": {
   "base_numbering": 1,
   "nav_menu": {},
   "number_sections": true,
   "sideBar": false,
   "skip_h1_title": true,
   "title_cell": "Table of Contents",
   "title_sidebar": "Contents",
   "toc_cell": true,
   "toc_position": {
    "height": "317.6px",
    "left": "63px",
    "top": "193.562px",
    "width": "173px"
   },
   "toc_section_display": true,
   "toc_window_display": true
  },
  "vscode": {
   "interpreter": {
    "hash": "55f2fe7b1c560c2d324ed046faeb8a55513d29ab718ddf7bfc99dad8debd2a7a"
   }
  }
 },
 "nbformat": 4,
 "nbformat_minor": 5
}
