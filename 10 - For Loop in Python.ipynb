{
 "cells": [
  {
   "cell_type": "markdown",
   "id": "bizarre-performance",
   "metadata": {},
   "source": [
    "<h1 align=center>For Loops in Python"
   ]
  },
  {
   "cell_type": "markdown",
   "id": "editorial-application",
   "metadata": {
    "toc": true
   },
   "source": [
    "<h1>Table of Contents<span class=\"tocSkip\"></span></h1>\n",
    "<div class=\"toc\"><ul class=\"toc-item\"><li><span><a href=\"#For-Loop\" data-toc-modified-id=\"For-Loop-1\"><span class=\"toc-item-num\">1&nbsp;&nbsp;</span>For Loop</a></span><ul class=\"toc-item\"><li><span><a href=\"#simple-for-example-\" data-toc-modified-id=\"simple-for-example--1.1\"><span class=\"toc-item-num\">1.1&nbsp;&nbsp;</span>simple for example </a></span></li><li><span><a href=\"#for-in-tuple-form-\" data-toc-modified-id=\"for-in-tuple-form--1.2\"><span class=\"toc-item-num\">1.2&nbsp;&nbsp;</span>for in tuple form </a></span></li><li><span><a href=\"#loop-in-a-string-\" data-toc-modified-id=\"loop-in-a-string--1.3\"><span class=\"toc-item-num\">1.3&nbsp;&nbsp;</span>loop in a string </a></span></li><li><span><a href=\"#forward-loop-in-a-string-\" data-toc-modified-id=\"forward-loop-in-a-string--1.4\"><span class=\"toc-item-num\">1.4&nbsp;&nbsp;</span>forward loop in a string </a></span></li><li><span><a href=\"#reverse-loop-in-a-string-\" data-toc-modified-id=\"reverse-loop-in-a-string--1.5\"><span class=\"toc-item-num\">1.5&nbsp;&nbsp;</span>reverse loop in a string </a></span></li><li><span><a href=\"#continue-function-\" data-toc-modified-id=\"continue-function--1.6\"><span class=\"toc-item-num\">1.6&nbsp;&nbsp;</span>continue function </a></span></li><li><span><a href=\"#for-loop-in-a-list-\" data-toc-modified-id=\"for-loop-in-a-list--1.7\"><span class=\"toc-item-num\">1.7&nbsp;&nbsp;</span>for loop in a list </a></span></li><li><span><a href=\"#for-loop-in-a-dictionary\" data-toc-modified-id=\"for-loop-in-a-dictionary-1.8\"><span class=\"toc-item-num\">1.8&nbsp;&nbsp;</span>for loop in a dictionary</a></span><ul class=\"toc-item\"><li><span><a href=\"#using-keys-option-(1)\" data-toc-modified-id=\"using-keys-option-(1)-1.8.1\"><span class=\"toc-item-num\">1.8.1&nbsp;&nbsp;</span>using keys option (1)</a></span></li><li><span><a href=\"#using-keys-option-(2)\" data-toc-modified-id=\"using-keys-option-(2)-1.8.2\"><span class=\"toc-item-num\">1.8.2&nbsp;&nbsp;</span>using keys option (2)</a></span></li><li><span><a href=\"#using-values\" data-toc-modified-id=\"using-values-1.8.3\"><span class=\"toc-item-num\">1.8.3&nbsp;&nbsp;</span>using values</a></span></li><li><span><a href=\"#using-items-option-(1)\" data-toc-modified-id=\"using-items-option-(1)-1.8.4\"><span class=\"toc-item-num\">1.8.4&nbsp;&nbsp;</span>using items option (1)</a></span></li><li><span><a href=\"#using-items-option-(2)\" data-toc-modified-id=\"using-items-option-(2)-1.8.5\"><span class=\"toc-item-num\">1.8.5&nbsp;&nbsp;</span>using items option (2)</a></span></li></ul></li><li><span><a href=\"#enumerate-function\" data-toc-modified-id=\"enumerate-function-1.9\"><span class=\"toc-item-num\">1.9&nbsp;&nbsp;</span>enumerate function</a></span></li><li><span><a href=\"#zip-function\" data-toc-modified-id=\"zip-function-1.10\"><span class=\"toc-item-num\">1.10&nbsp;&nbsp;</span>zip function</a></span></li></ul></li><li><span><a href=\"#-Examples\" data-toc-modified-id=\"-Examples-2\"><span class=\"toc-item-num\">2&nbsp;&nbsp;</span> Examples</a></span><ul class=\"toc-item\"><li><span><a href=\"#-Example-(1)\" data-toc-modified-id=\"-Example-(1)-2.1\"><span class=\"toc-item-num\">2.1&nbsp;&nbsp;</span> Example (1)</a></span></li><li><span><a href=\"#-Example-(2)\" data-toc-modified-id=\"-Example-(2)-2.2\"><span class=\"toc-item-num\">2.2&nbsp;&nbsp;</span> Example (2)</a></span></li><li><span><a href=\"#-Example-(3)\" data-toc-modified-id=\"-Example-(3)-2.3\"><span class=\"toc-item-num\">2.3&nbsp;&nbsp;</span> Example (3)</a></span></li><li><span><a href=\"#-Example-(4)\" data-toc-modified-id=\"-Example-(4)-2.4\"><span class=\"toc-item-num\">2.4&nbsp;&nbsp;</span> Example (4)</a></span></li><li><span><a href=\"#-Example-(5)\" data-toc-modified-id=\"-Example-(5)-2.5\"><span class=\"toc-item-num\">2.5&nbsp;&nbsp;</span> Example (5)</a></span></li><li><span><a href=\"#-Example-(5)\" data-toc-modified-id=\"-Example-(5)-2.6\"><span class=\"toc-item-num\">2.6&nbsp;&nbsp;</span> Example (5)</a></span></li><li><span><a href=\"#-Example-(6)\" data-toc-modified-id=\"-Example-(6)-2.7\"><span class=\"toc-item-num\">2.7&nbsp;&nbsp;</span> Example (6)</a></span></li><li><span><a href=\"#-Example-(7):-for-with-else\" data-toc-modified-id=\"-Example-(7):-for-with-else-2.8\"><span class=\"toc-item-num\">2.8&nbsp;&nbsp;</span> Example (7): for with else</a></span></li><li><span><a href=\"#-Example-(8):-for-with-sum\" data-toc-modified-id=\"-Example-(8):-for-with-sum-2.9\"><span class=\"toc-item-num\">2.9&nbsp;&nbsp;</span> Example (8): for with sum</a></span></li></ul></li></ul></div>"
   ]
  },
  {
   "cell_type": "markdown",
   "id": "distinct-harassment",
   "metadata": {},
   "source": [
    "<h2 align=left>For Loop"
   ]
  },
  {
   "cell_type": "markdown",
   "id": "global-prerequisite",
   "metadata": {},
   "source": [
    "<h3 align=left>simple for example "
   ]
  },
  {
   "cell_type": "code",
   "execution_count": 1,
   "id": "sublime-serial",
   "metadata": {},
   "outputs": [
    {
     "name": "stdout",
     "output_type": "stream",
     "text": [
      "2\n",
      "5\n",
      "8\n",
      "11\n",
      "14\n",
      "17\n",
      "20\n"
     ]
    }
   ],
   "source": [
    "for n in range(2,21,3) :\n",
    "    print (n)"
   ]
  },
  {
   "cell_type": "markdown",
   "id": "fiscal-excess",
   "metadata": {},
   "source": [
    "<h3 align=left>for in tuple form "
   ]
  },
  {
   "cell_type": "code",
   "execution_count": 2,
   "id": "aerial-judges",
   "metadata": {},
   "outputs": [
    {
     "data": {
      "text/plain": [
       "[(1, 3), (1, 4), (2, 3), (2, 1), (2, 4), (3, 1), (3, 4)]"
      ]
     },
     "execution_count": 2,
     "metadata": {},
     "output_type": "execute_result"
    }
   ],
   "source": [
    "f = [(x, y) for x in [1, 2, 3] for y in [3, 1, 4] if x != y]\n",
    "f"
   ]
  },
  {
   "cell_type": "markdown",
   "id": "remarkable-float",
   "metadata": {},
   "source": [
    "<h3 align=left>loop in a string "
   ]
  },
  {
   "cell_type": "code",
   "execution_count": 3,
   "id": "virgin-ready",
   "metadata": {},
   "outputs": [
    {
     "name": "stdout",
     "output_type": "stream",
     "text": [
      "h\n",
      "o\n",
      "w\n",
      " \n",
      "a\n",
      "r\n",
      "e\n",
      " \n",
      "y\n",
      "o\n",
      "u\n",
      " \n",
      "d\n",
      "o\n",
      "i\n",
      "n\n",
      "g\n"
     ]
    }
   ],
   "source": [
    "YY = \"how are you doing\"\n",
    "for g in YY : \n",
    "    print (g)"
   ]
  },
  {
   "cell_type": "code",
   "execution_count": 4,
   "id": "vital-software",
   "metadata": {},
   "outputs": [
    {
     "name": "stdout",
     "output_type": "stream",
     "text": [
      "s\n",
      "u\n",
      "p\n",
      "e\n",
      "r\n"
     ]
    }
   ],
   "source": [
    "Y = 'super'\n",
    "for n in range(len(Y)) :\n",
    "    print (Y[n])"
   ]
  },
  {
   "cell_type": "markdown",
   "id": "embedded-principal",
   "metadata": {},
   "source": [
    "<h3 align=left>forward loop in a string "
   ]
  },
  {
   "cell_type": "code",
   "execution_count": 5,
   "id": "spatial-constitutional",
   "metadata": {},
   "outputs": [
    {
     "name": "stdout",
     "output_type": "stream",
     "text": [
      "M\n",
      "Ma\n",
      "Mar\n",
      "Marw\n",
      "Marwa\n",
      "Marwan\n"
     ]
    }
   ],
   "source": [
    "a = ''\n",
    "b = 'Marwan'\n",
    "for i in range(len(b)):\n",
    "    a = a + b[i]\n",
    "    print(a)\n"
   ]
  },
  {
   "cell_type": "markdown",
   "id": "fifty-subcommittee",
   "metadata": {},
   "source": [
    "<h3 align=left>reverse loop in a string "
   ]
  },
  {
   "cell_type": "code",
   "execution_count": 6,
   "id": "cardiovascular-musician",
   "metadata": {},
   "outputs": [
    {
     "name": "stdout",
     "output_type": "stream",
     "text": [
      "a\n",
      "n\n",
      "o\n",
      "M\n"
     ]
    }
   ],
   "source": [
    "x = ''\n",
    "y = 'Mona'\n",
    "for n in range(len(y)):\n",
    "    x = y[len(y)-n-1]\n",
    "    print(x)"
   ]
  },
  {
   "cell_type": "code",
   "execution_count": 7,
   "id": "sunrise-width",
   "metadata": {},
   "outputs": [
    {
     "name": "stdout",
     "output_type": "stream",
     "text": [
      " r\n",
      " re\n",
      " rep\n",
      " repu\n",
      " repus\n"
     ]
    }
   ],
   "source": [
    "S = ' '\n",
    "Y = 'super'\n",
    "for n in range(len(Y)) :\n",
    "    S = S + Y[(len(Y) - n-1)]\n",
    "    print(S)"
   ]
  },
  {
   "cell_type": "markdown",
   "id": "structured-yukon",
   "metadata": {},
   "source": [
    "<h3 align=left>continue function "
   ]
  },
  {
   "cell_type": "code",
   "execution_count": 8,
   "id": "specific-surge",
   "metadata": {},
   "outputs": [
    {
     "name": "stdout",
     "output_type": "stream",
     "text": [
      "s\n",
      "u\n",
      "p\n",
      "e\n",
      "r\n",
      "c\n",
      "a\n",
      "l\n",
      "f\n",
      "r\n",
      "a\n",
      "g\n",
      "l\n",
      "s\n",
      "t\n",
      "c\n",
      "e\n",
      "x\n",
      "p\n",
      "a\n",
      "l\n",
      "d\n",
      "o\n",
      "c\n",
      "o\n",
      "u\n",
      "s\n"
     ]
    }
   ],
   "source": [
    "# If we do not need to break the loop in a certain condition, just ignore it and continue then we use \"continue\"\n",
    "\n",
    "t = 'supercalifragilisticexpialidocious'\n",
    "\n",
    "for v in t :\n",
    "    if v == 'i' :  # pypass (i) letter and continue the loop\n",
    "        continue\n",
    "    print(v) "
   ]
  },
  {
   "cell_type": "code",
   "execution_count": 9,
   "id": "public-issue",
   "metadata": {
    "code_folding": []
   },
   "outputs": [
    {
     "name": "stdout",
     "output_type": "stream",
     "text": [
      "d\n",
      "v\n",
      "d\n",
      "e\n"
     ]
    }
   ],
   "source": [
    "t = \"divide\"\n",
    "for x in t : \n",
    "    if x == 'i' : \n",
    "        continue\n",
    "    print(x) "
   ]
  },
  {
   "cell_type": "code",
   "execution_count": 10,
   "id": "guided-reproduction",
   "metadata": {},
   "outputs": [
    {
     "name": "stdout",
     "output_type": "stream",
     "text": [
      "1\n",
      "2\n",
      "3\n",
      "4\n",
      "6\n",
      "7\n",
      "8\n",
      "9\n",
      "11\n",
      "12\n",
      "13\n",
      "14\n",
      "16\n",
      "17\n",
      "18\n",
      "19\n"
     ]
    }
   ],
   "source": [
    "for v in range(20) : \n",
    "    if v % 5 ==0 : \n",
    "        continue\n",
    "    print(v)"
   ]
  },
  {
   "cell_type": "code",
   "execution_count": 11,
   "id": "worse-brunswick",
   "metadata": {},
   "outputs": [
    {
     "name": "stdout",
     "output_type": "stream",
     "text": [
      "1\n",
      "2\n",
      "4\n",
      "7\n",
      "8\n",
      "11\n",
      "13\n",
      "14\n",
      "16\n",
      "17\n",
      "19\n"
     ]
    }
   ],
   "source": [
    "for v in range(20) : \n",
    "    if v % 5 == 0  or v % 3 == 0  : \n",
    "        continue\n",
    "    print(v)"
   ]
  },
  {
   "cell_type": "code",
   "execution_count": 12,
   "id": "cardiac-equality",
   "metadata": {},
   "outputs": [
    {
     "name": "stdout",
     "output_type": "stream",
     "text": [
      "divided over 5 is 0\n",
      "not divided over 5 is 1\n",
      "not divided over 5 is 2\n",
      "not divided over 5 is 3\n",
      "not divided over 5 is 4\n",
      "divided over 5 is 5\n",
      "not divided over 5 is 6\n",
      "not divided over 5 is 7\n",
      "not divided over 5 is 8\n",
      "not divided over 5 is 9\n",
      "divided over 5 is 10\n",
      "not divided over 5 is 11\n",
      "not divided over 5 is 12\n",
      "not divided over 5 is 13\n",
      "not divided over 5 is 14\n",
      "divided over 5 is 15\n",
      "not divided over 5 is 16\n",
      "not divided over 5 is 17\n",
      "not divided over 5 is 18\n",
      "not divided over 5 is 19\n"
     ]
    }
   ],
   "source": [
    "for x in range(20):\n",
    "    if x % 5 == 0:\n",
    "        print(\"divided over 5 is \" + str(x))\n",
    "        continue\n",
    "    print(\"not divided over 5 is \" + str(x))"
   ]
  },
  {
   "cell_type": "markdown",
   "id": "taken-cotton",
   "metadata": {},
   "source": [
    "<h3 align=left>for loop in a list "
   ]
  },
  {
   "cell_type": "code",
   "execution_count": 13,
   "id": "organizational-consistency",
   "metadata": {},
   "outputs": [
    {
     "name": "stdout",
     "output_type": "stream",
     "text": [
      "ahmed\n",
      "ramy\n",
      "heba\n"
     ]
    }
   ],
   "source": [
    "students  = [\"ahmed\",\"ramy\",\"heba\"]\n",
    "\n",
    "for a in students : \n",
    "    print(a)"
   ]
  },
  {
   "cell_type": "markdown",
   "id": "cardiovascular-democracy",
   "metadata": {},
   "source": [
    "<h3 align=left>for loop in a dictionary"
   ]
  },
  {
   "cell_type": "markdown",
   "id": "revised-aerospace",
   "metadata": {},
   "source": [
    "<h4 align=left>using keys option (1)"
   ]
  },
  {
   "cell_type": "code",
   "execution_count": 14,
   "id": "mediterranean-cheat",
   "metadata": {},
   "outputs": [
    {
     "name": "stdout",
     "output_type": "stream",
     "text": [
      "ahmed\n",
      "mona\n",
      "mena\n"
     ]
    }
   ],
   "source": [
    "grades  = {\"ahmed\":35 ,\"mona\":40 ,\"mena\":37 }\n",
    "\n",
    "for a in grades : \n",
    "    print(a)"
   ]
  },
  {
   "cell_type": "markdown",
   "id": "guilty-austin",
   "metadata": {},
   "source": [
    "<h4 align=left>using keys option (2)"
   ]
  },
  {
   "cell_type": "code",
   "execution_count": 15,
   "id": "flying-harvest",
   "metadata": {},
   "outputs": [
    {
     "name": "stdout",
     "output_type": "stream",
     "text": [
      "ahmed\n",
      "mona\n",
      "mena\n"
     ]
    }
   ],
   "source": [
    "for a in grades.keys():\n",
    "    print(a)"
   ]
  },
  {
   "cell_type": "markdown",
   "id": "junior-consumer",
   "metadata": {},
   "source": [
    "<h4 align=left>using values"
   ]
  },
  {
   "cell_type": "code",
   "execution_count": 16,
   "id": "neither-stack",
   "metadata": {},
   "outputs": [
    {
     "name": "stdout",
     "output_type": "stream",
     "text": [
      "35\n",
      "40\n",
      "37\n"
     ]
    }
   ],
   "source": [
    "for b in grades.values():\n",
    "    print(b)"
   ]
  },
  {
   "cell_type": "markdown",
   "id": "related-salon",
   "metadata": {},
   "source": [
    "<h4 align=left>using items option (1)"
   ]
  },
  {
   "cell_type": "code",
   "execution_count": 17,
   "id": "historic-reynolds",
   "metadata": {},
   "outputs": [
    {
     "name": "stdout",
     "output_type": "stream",
     "text": [
      "('ahmed', 35)\n",
      "('mona', 40)\n",
      "('mena', 37)\n"
     ]
    }
   ],
   "source": [
    "for c in grades.items():\n",
    "    print(c)"
   ]
  },
  {
   "cell_type": "markdown",
   "id": "biological-essence",
   "metadata": {},
   "source": [
    "<h4 align=left>using items option (2)"
   ]
  },
  {
   "cell_type": "code",
   "execution_count": 18,
   "id": "median-transformation",
   "metadata": {},
   "outputs": [
    {
     "name": "stdout",
     "output_type": "stream",
     "text": [
      "ahmed\n",
      "35\n",
      "mona\n",
      "40\n",
      "mena\n",
      "37\n"
     ]
    }
   ],
   "source": [
    "for a,b in grades.items() : \n",
    "    print(a)\n",
    "    print(b)"
   ]
  },
  {
   "cell_type": "markdown",
   "id": "brief-transsexual",
   "metadata": {},
   "source": [
    "<h3 align=left>enumerate function"
   ]
  },
  {
   "cell_type": "code",
   "execution_count": 19,
   "id": "accurate-cycling",
   "metadata": {},
   "outputs": [
    {
     "name": "stdout",
     "output_type": "stream",
     "text": [
      "1 ahmed\n",
      "2 ramy\n",
      "3 ramy\n",
      "4 mena\n"
     ]
    }
   ],
   "source": [
    "students =  [\"ahmed\",\"ramy\",\"ramy\",\"mena\"]\n",
    "\n",
    "for i,a in enumerate(students, 1) : # where 1 refere to the first number of counting \n",
    "    print(i,a)"
   ]
  },
  {
   "cell_type": "markdown",
   "id": "physical-tunisia",
   "metadata": {},
   "source": [
    "<h3 align=left>zip function"
   ]
  },
  {
   "cell_type": "code",
   "execution_count": 20,
   "id": "printable-organic",
   "metadata": {},
   "outputs": [
    {
     "name": "stdout",
     "output_type": "stream",
     "text": [
      "student ahmed got 25 degree\n",
      "student ramy got 33 degree\n",
      "student hager got 66 degree\n",
      "student mena got 95 degree\n"
     ]
    }
   ],
   "source": [
    "students = [\"ahmed\", \"ramy\", \"hager\", \"mena\"]\n",
    "grades = [25, 33, 66, 95]\n",
    "\n",
    "for i, a in zip(students, grades):\n",
    "    print(\"student \" + i + \" got \" + str(a) + \" degree\")"
   ]
  },
  {
   "cell_type": "markdown",
   "id": "roman-pioneer",
   "metadata": {},
   "source": [
    "<h2 align=left> Examples"
   ]
  },
  {
   "cell_type": "markdown",
   "id": "final-elevation",
   "metadata": {},
   "source": [
    "<h3 align=left> Example (1)"
   ]
  },
  {
   "cell_type": "code",
   "execution_count": 21,
   "id": "quantitative-marble",
   "metadata": {},
   "outputs": [
    {
     "name": "stdout",
     "output_type": "stream",
     "text": [
      "[0, 1, 2, 3, 4, 5, 6, 7, 8, 9, 10, 11, 12, 13, 14, 15, 16, 17, 18, 19]\n"
     ]
    }
   ],
   "source": [
    "# create a list using for loop\n",
    "\n",
    "a  = [i for i in range(20) ]\n",
    "print(a)  "
   ]
  },
  {
   "cell_type": "markdown",
   "id": "altered-management",
   "metadata": {},
   "source": [
    "<h3 align=left> Example (2)"
   ]
  },
  {
   "cell_type": "code",
   "execution_count": 22,
   "id": "democratic-cologne",
   "metadata": {},
   "outputs": [
    {
     "name": "stdout",
     "output_type": "stream",
     "text": [
      "[0, 3, 6, 9, 12, 15, 18]\n"
     ]
    }
   ],
   "source": [
    "# create a list using for loop and if condition\n",
    "\n",
    "a = [i for i in range(20) if i % 3 == 0]\n",
    "print(a)"
   ]
  },
  {
   "cell_type": "markdown",
   "id": "mature-average",
   "metadata": {},
   "source": [
    "<h3 align=left> Example (3)"
   ]
  },
  {
   "cell_type": "code",
   "execution_count": 23,
   "id": "introductory-waste",
   "metadata": {},
   "outputs": [
    {
     "name": "stdout",
     "output_type": "stream",
     "text": [
      "[0, 6, 12, 18]\n"
     ]
    }
   ],
   "source": [
    "a = [i for i in range(20) if i % 3 == 0 and i % 2 == 0]\n",
    "print(a)"
   ]
  },
  {
   "cell_type": "markdown",
   "id": "outstanding-invention",
   "metadata": {},
   "source": [
    "<h3 align=left> Example (4)"
   ]
  },
  {
   "cell_type": "code",
   "execution_count": 24,
   "id": "three-constraint",
   "metadata": {},
   "outputs": [
    {
     "name": "stdout",
     "output_type": "stream",
     "text": [
      "[0, 1, 4, 9, 16, 25, 36, 49, 64, 81]\n"
     ]
    }
   ],
   "source": [
    "a  = [ i**2  for i in range(10) ]\n",
    "print(a) "
   ]
  },
  {
   "cell_type": "markdown",
   "id": "patent-jacket",
   "metadata": {},
   "source": [
    "<h3 align=left> Example (5)"
   ]
  },
  {
   "cell_type": "code",
   "execution_count": 25,
   "id": "understood-violin",
   "metadata": {},
   "outputs": [
    {
     "name": "stdout",
     "output_type": "stream",
     "text": [
      "[0, 36, 144, 324]\n"
     ]
    }
   ],
   "source": [
    "a = [i**2 for i in range(20) if i % 3 == 0 and i % 2 == 0]\n",
    "print(a)"
   ]
  },
  {
   "cell_type": "markdown",
   "id": "legitimate-equivalent",
   "metadata": {},
   "source": [
    "<h3 align=left> Example (5)"
   ]
  },
  {
   "cell_type": "code",
   "execution_count": 26,
   "id": "hawaiian-fundamental",
   "metadata": {},
   "outputs": [
    {
     "name": "stdout",
     "output_type": "stream",
     "text": [
      "[(0, 0), (0, 1), (0, 2), (0, 3), (1, 0), (1, 1), (1, 2), (1, 3), (2, 0), (2, 1), (2, 2), (2, 3)]\n"
     ]
    }
   ],
   "source": [
    "a  = [(i,j) for i in range(3) for j in range(4)]\n",
    "print(a) "
   ]
  },
  {
   "cell_type": "markdown",
   "id": "reduced-public",
   "metadata": {},
   "source": [
    "<h3 align=left> Example (6)"
   ]
  },
  {
   "cell_type": "code",
   "execution_count": 27,
   "id": "hazardous-round",
   "metadata": {},
   "outputs": [
    {
     "name": "stdout",
     "output_type": "stream",
     "text": [
      "[(0, 3), (0, 4), (0, 5), (0, 6), (2, 3), (2, 4), (2, 5), (2, 6), (4, 3), (4, 4), (4, 5), (4, 6)]\n"
     ]
    }
   ],
   "source": [
    "a  = [(i*2,j+3) for i in range(3) for j in range(4)]\n",
    "print(a) "
   ]
  },
  {
   "cell_type": "markdown",
   "id": "southeast-enlargement",
   "metadata": {},
   "source": [
    "<h3 align=left> Example (7): for with else"
   ]
  },
  {
   "cell_type": "code",
   "execution_count": 28,
   "id": "broadband-purple",
   "metadata": {},
   "outputs": [
    {
     "name": "stdout",
     "output_type": "stream",
     "text": [
      "0\n",
      "1\n",
      "2\n",
      "3\n",
      "4\n",
      "5\n",
      "6\n",
      "7\n",
      "8\n",
      "9\n",
      "Done\n"
     ]
    }
   ],
   "source": [
    "for x in range(10) :\n",
    "    print(x)\n",
    "else :\n",
    "    print(\"Done\")"
   ]
  },
  {
   "cell_type": "markdown",
   "id": "binary-pencil",
   "metadata": {},
   "source": [
    "<h3 align=left> Example (8): for with sum"
   ]
  },
  {
   "cell_type": "code",
   "execution_count": 29,
   "id": "international-reviewer",
   "metadata": {},
   "outputs": [
    {
     "name": "stdout",
     "output_type": "stream",
     "text": [
      "190\n"
     ]
    }
   ],
   "source": [
    "print(sum([k for k in range(20)]))"
   ]
  },
  {
   "cell_type": "code",
   "execution_count": 30,
   "id": "sunset-history",
   "metadata": {},
   "outputs": [
    {
     "name": "stdout",
     "output_type": "stream",
     "text": [
      "2.9289682539682538\n"
     ]
    }
   ],
   "source": [
    "print(sum([1/k for k in range(1,11)]))"
   ]
  },
  {
   "cell_type": "code",
   "execution_count": 31,
   "id": "yellow-panic",
   "metadata": {},
   "outputs": [
    {
     "name": "stdout",
     "output_type": "stream",
     "text": [
      "3341325\n"
     ]
    }
   ],
   "source": [
    "print(sum([3*(k**2) for k in range(150)]))"
   ]
  },
  {
   "cell_type": "code",
   "execution_count": 32,
   "id": "visible-economy",
   "metadata": {},
   "outputs": [
    {
     "data": {
      "text/plain": [
       "[0, 3, 12, 27, 48, 75, 108, 147, 192, 243]"
      ]
     },
     "execution_count": 32,
     "metadata": {},
     "output_type": "execute_result"
    }
   ],
   "source": [
    "a = [3*x for x in [y**2 for y in range(10)]]\n",
    "a"
   ]
  },
  {
   "cell_type": "code",
   "execution_count": 33,
   "id": "interstate-shark",
   "metadata": {},
   "outputs": [
    {
     "data": {
      "text/plain": [
       "[0, 3, 12, 27, 48, 75, 108, 147, 192, 243]"
      ]
     },
     "execution_count": 33,
     "metadata": {},
     "output_type": "execute_result"
    }
   ],
   "source": [
    "a = [3*x for x in [y**2 for y in range(10)]]\n",
    "a"
   ]
  }
 ],
 "metadata": {
  "kernelspec": {
   "display_name": "Python 3.9.12 ('base')",
   "language": "python",
   "name": "python3"
  },
  "language_info": {
   "codemirror_mode": {
    "name": "ipython",
    "version": 3
   },
   "file_extension": ".py",
   "mimetype": "text/x-python",
   "name": "python",
   "nbconvert_exporter": "python",
   "pygments_lexer": "ipython3",
   "version": "3.9.12"
  },
  "latex_envs": {
   "LaTeX_envs_menu_present": true,
   "autoclose": false,
   "autocomplete": true,
   "bibliofile": "biblio.bib",
   "cite_by": "apalike",
   "current_citInitial": 1,
   "eqLabelWithNumbers": true,
   "eqNumInitial": 1,
   "hotkeys": {
    "equation": "Ctrl-E",
    "itemize": "Ctrl-I"
   },
   "labels_anchors": false,
   "latex_user_defs": false,
   "report_style_numbering": false,
   "user_envs_cfg": false
  },
  "toc": {
   "base_numbering": 1,
   "nav_menu": {},
   "number_sections": true,
   "sideBar": false,
   "skip_h1_title": true,
   "title_cell": "Table of Contents",
   "title_sidebar": "Contents",
   "toc_cell": true,
   "toc_position": {
    "height": "573.6px",
    "left": "41px",
    "top": "92.5625px",
    "width": "247.788px"
   },
   "toc_section_display": true,
   "toc_window_display": true
  },
  "vscode": {
   "interpreter": {
    "hash": "55f2fe7b1c560c2d324ed046faeb8a55513d29ab718ddf7bfc99dad8debd2a7a"
   }
  }
 },
 "nbformat": 4,
 "nbformat_minor": 5
}
