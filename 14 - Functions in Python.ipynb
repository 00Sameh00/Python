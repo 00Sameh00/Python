{
 "cells": [
  {
   "cell_type": "markdown",
   "id": "applicable-outside",
   "metadata": {},
   "source": [
    "<h1 align=center>Functions in Python"
   ]
  },
  {
   "cell_type": "markdown",
   "id": "governing-domestic",
   "metadata": {
    "toc": true
   },
   "source": [
    "<h1>Table of Contents<span class=\"tocSkip\"></span></h1>\n",
    "<div class=\"toc\"><ul class=\"toc-item\"><li><span><a href=\"#Functions\" data-toc-modified-id=\"Functions-1\"><span class=\"toc-item-num\">1&nbsp;&nbsp;</span>Functions</a></span><ul class=\"toc-item\"><li><span><a href=\"#simple-function\" data-toc-modified-id=\"simple-function-1.1\"><span class=\"toc-item-num\">1.1&nbsp;&nbsp;</span>simple function</a></span></li></ul></li><li><span><a href=\"#Types-of-Functions\" data-toc-modified-id=\"Types-of-Functions-2\"><span class=\"toc-item-num\">2&nbsp;&nbsp;</span>Types of Functions</a></span><ul class=\"toc-item\"><li><span><a href=\"#arguments-\" data-toc-modified-id=\"arguments--2.1\"><span class=\"toc-item-num\">2.1&nbsp;&nbsp;</span>arguments </a></span></li><li><span><a href=\"#List\" data-toc-modified-id=\"List-2.2\"><span class=\"toc-item-num\">2.2&nbsp;&nbsp;</span>List</a></span></li><li><span><a href=\"#Dictionary\" data-toc-modified-id=\"Dictionary-2.3\"><span class=\"toc-item-num\">2.3&nbsp;&nbsp;</span>Dictionary</a></span></li><li><span><a href=\"#Mix\" data-toc-modified-id=\"Mix-2.4\"><span class=\"toc-item-num\">2.4&nbsp;&nbsp;</span>Mix</a></span><ul class=\"toc-item\"><li><span><a href=\"#Examples-of-arguments-\" data-toc-modified-id=\"Examples-of-arguments--2.4.1\"><span class=\"toc-item-num\">2.4.1&nbsp;&nbsp;</span>Examples of arguments </a></span></li><li><span><a href=\"#Examples-of-errors\" data-toc-modified-id=\"Examples-of-errors-2.4.2\"><span class=\"toc-item-num\">2.4.2&nbsp;&nbsp;</span>Examples of errors</a></span></li></ul></li><li><span><a href=\"#Function-default-values\" data-toc-modified-id=\"Function-default-values-2.5\"><span class=\"toc-item-num\">2.5&nbsp;&nbsp;</span>Function default values</a></span></li><li><span><a href=\"#Detect-values-for-function-arguments\" data-toc-modified-id=\"Detect-values-for-function-arguments-2.6\"><span class=\"toc-item-num\">2.6&nbsp;&nbsp;</span>Detect values for function arguments</a></span></li><li><span><a href=\"#Return-Function\" data-toc-modified-id=\"Return-Function-2.7\"><span class=\"toc-item-num\">2.7&nbsp;&nbsp;</span>Return Function</a></span></li><li><span><a href=\"#Nested-Functions\" data-toc-modified-id=\"Nested-Functions-2.8\"><span class=\"toc-item-num\">2.8&nbsp;&nbsp;</span>Nested Functions</a></span></li><li><span><a href=\"#Global-Function\" data-toc-modified-id=\"Global-Function-2.9\"><span class=\"toc-item-num\">2.9&nbsp;&nbsp;</span>Global Function</a></span></li><li><span><a href=\"#Local-Function\" data-toc-modified-id=\"Local-Function-2.10\"><span class=\"toc-item-num\">2.10&nbsp;&nbsp;</span>Local Function</a></span></li><li><span><a href=\"#Lambda-Function\" data-toc-modified-id=\"Lambda-Function-2.11\"><span class=\"toc-item-num\">2.11&nbsp;&nbsp;</span>Lambda Function</a></span></li><li><span><a href=\"#Filter-Function\" data-toc-modified-id=\"Filter-Function-2.12\"><span class=\"toc-item-num\">2.12&nbsp;&nbsp;</span>Filter Function</a></span></li><li><span><a href=\"#Map-Function\" data-toc-modified-id=\"Map-Function-2.13\"><span class=\"toc-item-num\">2.13&nbsp;&nbsp;</span>Map Function</a></span></li><li><span><a href=\"#Yield-Function\" data-toc-modified-id=\"Yield-Function-2.14\"><span class=\"toc-item-num\">2.14&nbsp;&nbsp;</span>Yield Function</a></span></li><li><span><a href=\"#yield-with-next-function\" data-toc-modified-id=\"yield-with-next-function-2.15\"><span class=\"toc-item-num\">2.15&nbsp;&nbsp;</span>yield with next function</a></span><ul class=\"toc-item\"><li><span><a href=\"#Example-(1)\" data-toc-modified-id=\"Example-(1)-2.15.1\"><span class=\"toc-item-num\">2.15.1&nbsp;&nbsp;</span>Example (1)</a></span></li><li><span><a href=\"#Example-(2)\" data-toc-modified-id=\"Example-(2)-2.15.2\"><span class=\"toc-item-num\">2.15.2&nbsp;&nbsp;</span>Example (2)</a></span></li></ul></li><li><span><a href=\"#Recursive-Function\" data-toc-modified-id=\"Recursive-Function-2.16\"><span class=\"toc-item-num\">2.16&nbsp;&nbsp;</span>Recursive Function</a></span></li></ul></li></ul></div>"
   ]
  },
  {
   "cell_type": "markdown",
   "id": "headed-milwaukee",
   "metadata": {},
   "source": [
    "<h2 align=left>Functions"
   ]
  },
  {
   "cell_type": "markdown",
   "id": "boring-original",
   "metadata": {},
   "source": [
    "<h3 align=left>simple function"
   ]
  },
  {
   "cell_type": "code",
   "execution_count": 1,
   "id": "closed-young",
   "metadata": {},
   "outputs": [],
   "source": [
    "def star() : \n",
    "    for h in range(5) : \n",
    "        print ('**')"
   ]
  },
  {
   "cell_type": "code",
   "execution_count": 2,
   "id": "endless-appliance",
   "metadata": {},
   "outputs": [
    {
     "name": "stdout",
     "output_type": "stream",
     "text": [
      "**\n",
      "**\n",
      "**\n",
      "**\n",
      "**\n"
     ]
    }
   ],
   "source": [
    "star () "
   ]
  },
  {
   "cell_type": "markdown",
   "id": "mobile-washington",
   "metadata": {},
   "source": [
    "> it can be inside a variable"
   ]
  },
  {
   "cell_type": "code",
   "execution_count": 3,
   "id": "nuclear-requirement",
   "metadata": {},
   "outputs": [
    {
     "name": "stdout",
     "output_type": "stream",
     "text": [
      "**\n",
      "**\n",
      "**\n",
      "**\n",
      "**\n"
     ]
    }
   ],
   "source": [
    "s=star\n",
    "s()"
   ]
  },
  {
   "cell_type": "markdown",
   "id": "thorough-disposal",
   "metadata": {},
   "source": [
    "<h2 align=left>Types of Functions"
   ]
  },
  {
   "cell_type": "markdown",
   "id": "polished-protection",
   "metadata": {},
   "source": [
    "<h3 align=left>arguments "
   ]
  },
  {
   "cell_type": "code",
   "execution_count": 4,
   "id": "liberal-furniture",
   "metadata": {},
   "outputs": [],
   "source": [
    "# we need to feed the function with arguments in order to work correctly\n",
    "\n",
    "def find_avg(a,b):\n",
    "        average = (a+b)/2\n",
    "        print (\"The average is\",average)"
   ]
  },
  {
   "cell_type": "code",
   "execution_count": 5,
   "id": "known-reminder",
   "metadata": {},
   "outputs": [
    {
     "name": "stdout",
     "output_type": "stream",
     "text": [
      "The average is 2.5\n"
     ]
    }
   ],
   "source": [
    "find_avg(2,3)"
   ]
  },
  {
   "cell_type": "markdown",
   "id": "subsequent-eleven",
   "metadata": {},
   "source": [
    "<h3 align=left>List"
   ]
  },
  {
   "cell_type": "code",
   "execution_count": 6,
   "id": "dried-sympathy",
   "metadata": {},
   "outputs": [],
   "source": [
    "# we need to pass a list through the function and we use one star to represnt the list into the function\n",
    "\n",
    "def find_avg(*numbers):\n",
    "    sum = 0\n",
    "    for i in numbers :\n",
    "        sum += i\n",
    "    print (numbers)\n",
    "    print (\"the average is\", sum/(len(numbers)))"
   ]
  },
  {
   "cell_type": "code",
   "execution_count": 7,
   "id": "violent-stationery",
   "metadata": {},
   "outputs": [
    {
     "name": "stdout",
     "output_type": "stream",
     "text": [
      "(2, 3)\n",
      "the average is 2.5\n"
     ]
    }
   ],
   "source": [
    "find_avg(2,3)"
   ]
  },
  {
   "cell_type": "markdown",
   "id": "facial-compatibility",
   "metadata": {},
   "source": [
    "<space center>"
   ]
  },
  {
   "cell_type": "code",
   "execution_count": 8,
   "id": "previous-kelly",
   "metadata": {},
   "outputs": [
    {
     "name": "stdout",
     "output_type": "stream",
     "text": [
      "(2, 3, 4)\n",
      "the average is 3.0\n"
     ]
    }
   ],
   "source": [
    "find_avg(2,3,4)"
   ]
  },
  {
   "cell_type": "markdown",
   "id": "passive-running",
   "metadata": {},
   "source": [
    "<space center>"
   ]
  },
  {
   "cell_type": "code",
   "execution_count": 9,
   "id": "parental-strand",
   "metadata": {},
   "outputs": [
    {
     "name": "stdout",
     "output_type": "stream",
     "text": [
      "(1, 2, 3, 4, 5, 6, 7, 8, 9, 10)\n",
      "the average is 5.5\n"
     ]
    }
   ],
   "source": [
    "find_avg(1,2,3,4,5,6,7,8,9,10)"
   ]
  },
  {
   "cell_type": "markdown",
   "id": "protecting-nevada",
   "metadata": {},
   "source": [
    "<h3 align=left>Dictionary"
   ]
  },
  {
   "cell_type": "code",
   "execution_count": 10,
   "id": "natural-cooperation",
   "metadata": {},
   "outputs": [],
   "source": [
    "# here we need to pass a dictionary and we use two stars to represent it inside the function\n",
    "\n",
    "def print_values(**values):\n",
    "    print (values)"
   ]
  },
  {
   "cell_type": "code",
   "execution_count": 11,
   "id": "heavy-fairy",
   "metadata": {
    "scrolled": true
   },
   "outputs": [
    {
     "name": "stdout",
     "output_type": "stream",
     "text": [
      "{'one': 1, 'two': 2}\n"
     ]
    }
   ],
   "source": [
    "print_values(one = 1, two = 2)"
   ]
  },
  {
   "cell_type": "markdown",
   "id": "thorough-document",
   "metadata": {},
   "source": [
    "<space center>"
   ]
  },
  {
   "cell_type": "code",
   "execution_count": 12,
   "id": "received-gregory",
   "metadata": {},
   "outputs": [],
   "source": [
    "def print_values(**values):\n",
    "    for key, value in values.items():\n",
    "        print(\"{} = {}\".format(key,value))"
   ]
  },
  {
   "cell_type": "code",
   "execution_count": 13,
   "id": "cognitive-serbia",
   "metadata": {},
   "outputs": [
    {
     "name": "stdout",
     "output_type": "stream",
     "text": [
      "one = 1\n",
      "two = 2\n",
      "three = 3\n",
      "four = 4\n",
      "five = 5\n"
     ]
    }
   ],
   "source": [
    "print_values(one = 1,two = 2,three = 3,four = 4,five = 5)"
   ]
  },
  {
   "cell_type": "code",
   "execution_count": 15,
   "id": "decent-austin",
   "metadata": {},
   "outputs": [
    {
     "name": "stdout",
     "output_type": "stream",
     "text": [
      "name == Python\n"
     ]
    }
   ],
   "source": [
    "def greet_me(**kwargs):\n",
    "    if kwargs is not None:\n",
    "        for key, value in kwargs.items():\n",
    "            print (\"%s == %s\" %(key,value))\n",
    "\n",
    "\n",
    "greet_me(name=\"Python\")"
   ]
  },
  {
   "cell_type": "markdown",
   "id": "certain-proxy",
   "metadata": {},
   "source": [
    "<space center>"
   ]
  },
  {
   "cell_type": "markdown",
   "id": "inappropriate-vector",
   "metadata": {},
   "source": [
    "<h3 align=left>Mix"
   ]
  },
  {
   "cell_type": "code",
   "execution_count": 16,
   "id": "great-modem",
   "metadata": {},
   "outputs": [],
   "source": [
    "def avg_of_two(a,b):\n",
    "    print ((a+b)/2)\n",
    "\n",
    "def avg_of_three(a,b,c):\n",
    "    print ((a+b+c)/3)"
   ]
  },
  {
   "cell_type": "code",
   "execution_count": 17,
   "id": "chinese-british",
   "metadata": {},
   "outputs": [
    {
     "name": "stdout",
     "output_type": "stream",
     "text": [
      "1.5\n"
     ]
    }
   ],
   "source": [
    "var1 = (1,2)\n",
    "avg_of_two(*var1)"
   ]
  },
  {
   "cell_type": "code",
   "execution_count": 18,
   "id": "rural-german",
   "metadata": {},
   "outputs": [
    {
     "name": "stdout",
     "output_type": "stream",
     "text": [
      "2.0\n"
     ]
    }
   ],
   "source": [
    "var2 = (1,2,3)\n",
    "avg_of_three(*var2)"
   ]
  },
  {
   "cell_type": "markdown",
   "id": "constitutional-london",
   "metadata": {},
   "source": [
    "<space center>"
   ]
  },
  {
   "cell_type": "code",
   "execution_count": 19,
   "id": "developed-field",
   "metadata": {},
   "outputs": [],
   "source": [
    "def test_var_args(v_arg, *l_arg):\n",
    "    print (\"first variable arg:\", v_arg)\n",
    "    print (\"list *argv :\", *l_arg)"
   ]
  },
  {
   "cell_type": "code",
   "execution_count": 20,
   "id": "heard-bridge",
   "metadata": {},
   "outputs": [
    {
     "name": "stdout",
     "output_type": "stream",
     "text": [
      "first variable arg: ahmed\n",
      "list *argv : mohamed mona sameh\n"
     ]
    }
   ],
   "source": [
    "test_var_args('ahmed','mohamed','mona','sameh')"
   ]
  },
  {
   "cell_type": "code",
   "execution_count": 21,
   "id": "alien-playlist",
   "metadata": {},
   "outputs": [],
   "source": [
    "def test_var_args(v_arg, *l_arg):\n",
    "    print (\"first variable arg:\", v_arg)\n",
    "    for arg in l_arg :\n",
    "        print (\"list item :\", arg)"
   ]
  },
  {
   "cell_type": "code",
   "execution_count": 22,
   "id": "respiratory-fleece",
   "metadata": {},
   "outputs": [
    {
     "name": "stdout",
     "output_type": "stream",
     "text": [
      "first variable arg: ahmed\n",
      "list item : mohamed\n",
      "list item : mona\n",
      "list item : sameh\n"
     ]
    }
   ],
   "source": [
    "test_var_args('ahmed','mohamed','mona','sameh')"
   ]
  },
  {
   "cell_type": "markdown",
   "id": "demanding-breach",
   "metadata": {},
   "source": [
    "<space center>"
   ]
  },
  {
   "cell_type": "code",
   "execution_count": 23,
   "id": "requested-rouge",
   "metadata": {},
   "outputs": [
    {
     "name": "stdout",
     "output_type": "stream",
     "text": [
      "the avarage is 1.5\n",
      "the avarage is 2.0\n"
     ]
    }
   ],
   "source": [
    "def avg_of_two(a,b):\n",
    "    print ('the avarage is', (a+b)/2)\n",
    "\n",
    "def avg_of_three(a,b,c):\n",
    "    print ('the avarage is',(a+b+c)/3)\n",
    "\n",
    "    \n",
    "var1 = {'a':1,'b':2}\n",
    "avg_of_two(**var1)\n",
    "\n",
    "var2 = {'a':1,'b':2,'c':3}\n",
    "avg_of_three(**var2)"
   ]
  },
  {
   "cell_type": "markdown",
   "id": "hairy-gardening",
   "metadata": {},
   "source": [
    "<space center>"
   ]
  },
  {
   "cell_type": "code",
   "execution_count": 24,
   "id": "seeing-response",
   "metadata": {},
   "outputs": [
    {
     "name": "stdout",
     "output_type": "stream",
     "text": [
      "a is  1\n",
      "b is  2\n",
      "args are  (3, 4, 5, 6, 7, 8, 9)\n",
      "kwargs are  {}\n",
      "-----------------------------------\n",
      "a is  1\n",
      "b is  2\n",
      "args are  (3, 4, 5, 6)\n",
      "kwargs are  {'c': 7, 'd': 8, 'e': 9}\n"
     ]
    }
   ],
   "source": [
    "def show_details(a,b,*args,**kwargs):\n",
    "    print(\"a is \",a)\n",
    "    print(\"b is \",b)\n",
    "    print(\"args are \", args)\n",
    "    print(\"kwargs are \",kwargs)\n",
    "\n",
    "\n",
    "show_details(1,2,3,4,5,6,7,8,9)\n",
    "print(\"-----------------------------------\")\n",
    "show_details (1,2,3,4,5,6,c= 7,d = 8,e = 9)"
   ]
  },
  {
   "cell_type": "markdown",
   "id": "equal-syntax",
   "metadata": {},
   "source": [
    "<space center>"
   ]
  },
  {
   "cell_type": "code",
   "execution_count": 25,
   "id": "respiratory-polyester",
   "metadata": {},
   "outputs": [
    {
     "name": "stdout",
     "output_type": "stream",
     "text": [
      "arg1: two\n",
      "arg2: 3\n",
      "arg3: 5\n",
      "-----------------------------------\n",
      "arg1: 5\n",
      "arg2: two\n",
      "arg3: 3\n"
     ]
    }
   ],
   "source": [
    "def test_args_kwargs(arg1, arg2, arg3):\n",
    "    print (\"arg1:\", arg1)\n",
    "    print (\"arg2:\", arg2)\n",
    "    print (\"arg3:\", arg3)\n",
    "\n",
    "\n",
    "# first with *args\n",
    "args = (\"two\", 3, 5)\n",
    "test_args_kwargs(*args)\n",
    "print(\"-----------------------------------\")  \n",
    "# now with **kwargs:\n",
    "kwargs = {\"arg3\": 3, \"arg2\": \"two\",\"arg1\":5}\n",
    "test_args_kwargs(**kwargs)"
   ]
  },
  {
   "cell_type": "markdown",
   "id": "literary-elite",
   "metadata": {},
   "source": [
    "<space center>"
   ]
  },
  {
   "cell_type": "markdown",
   "id": "instrumental-health",
   "metadata": {},
   "source": [
    "<h4 align=left>Examples of arguments "
   ]
  },
  {
   "cell_type": "code",
   "execution_count": 26,
   "id": "wrong-essex",
   "metadata": {},
   "outputs": [
    {
     "name": "stdout",
     "output_type": "stream",
     "text": [
      "-- This parrot wouldn't voom\n",
      "if you put 1000 volts through it.\n",
      "-- Lovely plumage, the Norwegian Blue\n",
      "-- It's a stiff !\n"
     ]
    }
   ],
   "source": [
    "def parrot(voltage, state='a stiff', action='voom', type='Norwegian Blue') :\n",
    "    print ( \"-- This parrot wouldn't\", action)\n",
    "    print (\"if you put\", voltage, \"volts through it.\")\n",
    "    print (\"-- Lovely plumage, the\", type)\n",
    "    print (\"-- It's\", state, \"!\")\n",
    "\n",
    "parrot(1000) "
   ]
  },
  {
   "cell_type": "code",
   "execution_count": 27,
   "id": "supreme-disabled",
   "metadata": {},
   "outputs": [
    {
     "name": "stdout",
     "output_type": "stream",
     "text": [
      "-- This parrot wouldn't voom\n",
      "if you put 1000 volts through it.\n",
      "-- Lovely plumage, the Norwegian Blue\n",
      "-- It's a stiff !\n"
     ]
    }
   ],
   "source": [
    "parrot(voltage=1000) # 1 keyword argument"
   ]
  },
  {
   "cell_type": "code",
   "execution_count": 28,
   "id": "sublime-oliver",
   "metadata": {},
   "outputs": [
    {
     "name": "stdout",
     "output_type": "stream",
     "text": [
      "-- This parrot wouldn't VOOOOOM\n",
      "if you put 1000000 volts through it.\n",
      "-- Lovely plumage, the Norwegian Blue\n",
      "-- It's a stiff !\n"
     ]
    }
   ],
   "source": [
    "parrot(voltage=1000000, action='VOOOOOM') # 2 keyword arguments"
   ]
  },
  {
   "cell_type": "code",
   "execution_count": 29,
   "id": "democratic-comfort",
   "metadata": {},
   "outputs": [
    {
     "name": "stdout",
     "output_type": "stream",
     "text": [
      "-- This parrot wouldn't VOOOOOM\n",
      "if you put 1000000 volts through it.\n",
      "-- Lovely plumage, the Norwegian Blue\n",
      "-- It's a stiff !\n"
     ]
    }
   ],
   "source": [
    "parrot(action='VOOOOOM', voltage=1000000) # 2 keyword arguments"
   ]
  },
  {
   "cell_type": "code",
   "execution_count": 30,
   "id": "provincial-announcement",
   "metadata": {},
   "outputs": [
    {
     "name": "stdout",
     "output_type": "stream",
     "text": [
      "-- This parrot wouldn't jump\n",
      "if you put a million volts through it.\n",
      "-- Lovely plumage, the Norwegian Blue\n",
      "-- It's bereft of life !\n"
     ]
    }
   ],
   "source": [
    "parrot('a million', 'bereft of life', 'jump') # 3 positional arguments"
   ]
  },
  {
   "cell_type": "code",
   "execution_count": 31,
   "id": "buried-frederick",
   "metadata": {},
   "outputs": [
    {
     "name": "stdout",
     "output_type": "stream",
     "text": [
      "-- This parrot wouldn't voom\n",
      "if you put a thousand volts through it.\n",
      "-- Lovely plumage, the Norwegian Blue\n",
      "-- It's pushing up the daisies !\n"
     ]
    }
   ],
   "source": [
    "parrot('a thousand', state='pushing up the daisies') # 1 positional, 1 keyword"
   ]
  },
  {
   "cell_type": "code",
   "execution_count": 32,
   "id": "moderate-guidance",
   "metadata": {},
   "outputs": [
    {
     "name": "stdout",
     "output_type": "stream",
     "text": [
      "-- This parrot wouldn't VOOM\n",
      "if you put four million volts through it.\n",
      "-- Lovely plumage, the Norwegian Blue\n",
      "-- It's bleedin demised !\n"
     ]
    }
   ],
   "source": [
    "d = {\"voltage\": \"four million\", \"state\": \"bleedin demised\", \"action\": \"VOOM\"}\n",
    "parrot(**d)"
   ]
  },
  {
   "cell_type": "markdown",
   "id": "final-camera",
   "metadata": {},
   "source": [
    "<h4 align=left>Examples of errors"
   ]
  },
  {
   "cell_type": "code",
   "execution_count": 33,
   "id": "circular-smith",
   "metadata": {},
   "outputs": [
    {
     "ename": "TypeError",
     "evalue": "parrot() missing 1 required positional argument: 'voltage'",
     "output_type": "error",
     "traceback": [
      "\u001b[1;31m---------------------------------------------------------------------------\u001b[0m",
      "\u001b[1;31mTypeError\u001b[0m                                 Traceback (most recent call last)",
      "\u001b[1;32mc:\\Users\\sameh.ibrahim\\MySandbox\\My Projects\\Python\\14 - Functions in Python.ipynb Cell 53\u001b[0m in \u001b[0;36m<cell line: 7>\u001b[1;34m()\u001b[0m\n\u001b[0;32m      <a href='vscode-notebook-cell:/c%3A/Users/sameh.ibrahim/MySandbox/My%20Projects/Python/14%20-%20Functions%20in%20Python.ipynb#Y103sZmlsZQ%3D%3D?line=3'>4</a>\u001b[0m     \u001b[39mprint\u001b[39m (\u001b[39m\"\u001b[39m\u001b[39m-- Lovely plumage, the\u001b[39m\u001b[39m\"\u001b[39m, \u001b[39mtype\u001b[39m)\n\u001b[0;32m      <a href='vscode-notebook-cell:/c%3A/Users/sameh.ibrahim/MySandbox/My%20Projects/Python/14%20-%20Functions%20in%20Python.ipynb#Y103sZmlsZQ%3D%3D?line=4'>5</a>\u001b[0m     \u001b[39mprint\u001b[39m (\u001b[39m\"\u001b[39m\u001b[39m-- It\u001b[39m\u001b[39m'\u001b[39m\u001b[39ms\u001b[39m\u001b[39m\"\u001b[39m, state, \u001b[39m\"\u001b[39m\u001b[39m!\u001b[39m\u001b[39m\"\u001b[39m)\n\u001b[1;32m----> <a href='vscode-notebook-cell:/c%3A/Users/sameh.ibrahim/MySandbox/My%20Projects/Python/14%20-%20Functions%20in%20Python.ipynb#Y103sZmlsZQ%3D%3D?line=6'>7</a>\u001b[0m parrot()\n",
      "\u001b[1;31mTypeError\u001b[0m: parrot() missing 1 required positional argument: 'voltage'"
     ]
    }
   ],
   "source": [
    "def parrot(voltage, state='a stiff', action='voom', type='Norwegian Blue') :\n",
    "    print ( \"-- This parrot wouldn't\", action)\n",
    "    print (\"if you put\", voltage, \"volts through it.\")\n",
    "    print (\"-- Lovely plumage, the\", type)\n",
    "    print (\"-- It's\", state, \"!\")\n",
    "\n",
    "parrot() # required argument missing"
   ]
  },
  {
   "cell_type": "code",
   "execution_count": 34,
   "id": "systematic-standing",
   "metadata": {},
   "outputs": [
    {
     "ename": "SyntaxError",
     "evalue": "positional argument follows keyword argument (4216775936.py, line 1)",
     "output_type": "error",
     "traceback": [
      "\u001b[1;36m  Input \u001b[1;32mIn [34]\u001b[1;36m\u001b[0m\n\u001b[1;33m    parrot(voltage=5.0, 'dead') # non-keyword argument after a keyword argument\u001b[0m\n\u001b[1;37m                              ^\u001b[0m\n\u001b[1;31mSyntaxError\u001b[0m\u001b[1;31m:\u001b[0m positional argument follows keyword argument\n"
     ]
    }
   ],
   "source": [
    "parrot(voltage=5.0, 'dead') # non-keyword argument after a keyword argument"
   ]
  },
  {
   "cell_type": "code",
   "execution_count": 35,
   "id": "prepared-asian",
   "metadata": {},
   "outputs": [
    {
     "ename": "TypeError",
     "evalue": "parrot() got multiple values for argument 'voltage'",
     "output_type": "error",
     "traceback": [
      "\u001b[1;31m---------------------------------------------------------------------------\u001b[0m",
      "\u001b[1;31mTypeError\u001b[0m                                 Traceback (most recent call last)",
      "\u001b[1;32mc:\\Users\\sameh.ibrahim\\MySandbox\\My Projects\\Python\\14 - Functions in Python.ipynb Cell 55\u001b[0m in \u001b[0;36m<cell line: 1>\u001b[1;34m()\u001b[0m\n\u001b[1;32m----> <a href='vscode-notebook-cell:/c%3A/Users/sameh.ibrahim/MySandbox/My%20Projects/Python/14%20-%20Functions%20in%20Python.ipynb#Y105sZmlsZQ%3D%3D?line=0'>1</a>\u001b[0m parrot(\u001b[39m110\u001b[39;49m, voltage\u001b[39m=\u001b[39;49m\u001b[39m220\u001b[39;49m)\n",
      "\u001b[1;31mTypeError\u001b[0m: parrot() got multiple values for argument 'voltage'"
     ]
    }
   ],
   "source": [
    "parrot(110, voltage=220) # duplicate value for the same argument"
   ]
  },
  {
   "cell_type": "code",
   "execution_count": 36,
   "id": "extensive-improvement",
   "metadata": {},
   "outputs": [
    {
     "ename": "TypeError",
     "evalue": "parrot() got an unexpected keyword argument 'actor'",
     "output_type": "error",
     "traceback": [
      "\u001b[1;31m---------------------------------------------------------------------------\u001b[0m",
      "\u001b[1;31mTypeError\u001b[0m                                 Traceback (most recent call last)",
      "\u001b[1;32mc:\\Users\\sameh.ibrahim\\MySandbox\\My Projects\\Python\\14 - Functions in Python.ipynb Cell 56\u001b[0m in \u001b[0;36m<cell line: 1>\u001b[1;34m()\u001b[0m\n\u001b[1;32m----> <a href='vscode-notebook-cell:/c%3A/Users/sameh.ibrahim/MySandbox/My%20Projects/Python/14%20-%20Functions%20in%20Python.ipynb#Y106sZmlsZQ%3D%3D?line=0'>1</a>\u001b[0m parrot(actor\u001b[39m=\u001b[39;49m\u001b[39m'\u001b[39;49m\u001b[39mJohn Cleese\u001b[39;49m\u001b[39m'\u001b[39;49m)\n",
      "\u001b[1;31mTypeError\u001b[0m: parrot() got an unexpected keyword argument 'actor'"
     ]
    }
   ],
   "source": [
    "parrot(actor='John Cleese') # unknown keyword argument"
   ]
  },
  {
   "cell_type": "markdown",
   "id": "changing-dollar",
   "metadata": {},
   "source": [
    "<h3 align=left>Function default values"
   ]
  },
  {
   "cell_type": "code",
   "execution_count": 37,
   "id": "fewer-entrepreneur",
   "metadata": {},
   "outputs": [
    {
     "name": "stdout",
     "output_type": "stream",
     "text": [
      "9\n"
     ]
    }
   ],
   "source": [
    "# It is possible to give default values to the function, so that it is used if it is not specified\n",
    "\n",
    "\n",
    "def powers(m, n = 4 ) :   \n",
    "    print (m**(n))\n",
    "\n",
    "powers(3,2)"
   ]
  },
  {
   "cell_type": "code",
   "execution_count": 38,
   "id": "dramatic-vision",
   "metadata": {},
   "outputs": [
    {
     "name": "stdout",
     "output_type": "stream",
     "text": [
      "81\n"
     ]
    }
   ],
   "source": [
    "# If not specified, the default value is used\n",
    "\n",
    "def powers(m, n = 4 ) :  \n",
    "    print (m**(n))\n",
    "\n",
    "powers(3)"
   ]
  },
  {
   "cell_type": "markdown",
   "id": "instructional-venice",
   "metadata": {},
   "source": [
    "<h3 align=left>Detect values for function arguments"
   ]
  },
  {
   "cell_type": "code",
   "execution_count": 39,
   "id": "split-analyst",
   "metadata": {},
   "outputs": [
    {
     "name": "stdout",
     "output_type": "stream",
     "text": [
      "81\n"
     ]
    }
   ],
   "source": [
    "# It is possible during the function call to specify the given numbers\n",
    "\n",
    "def powers(m,n) :   \n",
    "    print (m**(n))\n",
    "\n",
    "powers(m=3 ,n= 4)"
   ]
  },
  {
   "cell_type": "code",
   "execution_count": 40,
   "id": "continent-christopher",
   "metadata": {},
   "outputs": [
    {
     "name": "stdout",
     "output_type": "stream",
     "text": [
      "64\n"
     ]
    }
   ],
   "source": [
    "# It is possible during the call that the symbols are written without order.\n",
    "\n",
    "def powers(m,n) : \n",
    "    print (m**(n))\n",
    "\n",
    "powers(n=3 ,m= 4)"
   ]
  },
  {
   "cell_type": "markdown",
   "id": "efficient-theta",
   "metadata": {},
   "source": [
    "<h3 align=left>Return Function"
   ]
  },
  {
   "cell_type": "code",
   "execution_count": 41,
   "id": "increasing-nerve",
   "metadata": {},
   "outputs": [
    {
     "name": "stdout",
     "output_type": "stream",
     "text": [
      "8\n"
     ]
    }
   ],
   "source": [
    "# you have to write print to get the output\n",
    "\n",
    "def power(y,c) : \n",
    "    x = y**c\n",
    "    return x         \n",
    "\n",
    "print(power(2,3)) "
   ]
  },
  {
   "cell_type": "markdown",
   "id": "announced-logging",
   "metadata": {},
   "source": [
    "<h3 align=left>Nested Functions"
   ]
  },
  {
   "cell_type": "code",
   "execution_count": 42,
   "id": "persistent-championship",
   "metadata": {},
   "outputs": [
    {
     "name": "stdout",
     "output_type": "stream",
     "text": [
      "the answer is 23\n"
     ]
    }
   ],
   "source": [
    "def power(y,c) :     \n",
    "    x = y**c\n",
    "    return x\n",
    "     \n",
    "def times4(xx) : \n",
    "    z = 4*xx\n",
    "    return z\n",
    "\n",
    "def add7(zz) : \n",
    "    w = zz+7\n",
    "    return w\n",
    "    \n",
    "d = int(input('first : '))\n",
    "dd = int(input('second : '))\n",
    "\n",
    "print ('the answer is', add7(times4(power(d,dd))))  "
   ]
  },
  {
   "cell_type": "markdown",
   "id": "generic-production",
   "metadata": {},
   "source": [
    "<h3 align=left>Global Function"
   ]
  },
  {
   "cell_type": "code",
   "execution_count": 43,
   "id": "agreed-nickel",
   "metadata": {},
   "outputs": [
    {
     "name": "stdout",
     "output_type": "stream",
     "text": [
      "5\n"
     ]
    }
   ],
   "source": [
    "xx = 5\n",
    "\n",
    "def gg() : \n",
    "    xx = 14\n",
    "   \n",
    "gg()\n",
    "print (xx)"
   ]
  },
  {
   "cell_type": "markdown",
   "id": "loaded-sandwich",
   "metadata": {},
   "source": [
    "<h3 align=left>Local Function"
   ]
  },
  {
   "cell_type": "code",
   "execution_count": 44,
   "id": "smaller-beginning",
   "metadata": {},
   "outputs": [
    {
     "name": "stdout",
     "output_type": "stream",
     "text": [
      "14\n"
     ]
    }
   ],
   "source": [
    "xx = 5\n",
    "\n",
    "def gg() : \n",
    "    global xx\n",
    "    xx = 14\n",
    "    \n",
    "gg()\n",
    "print (xx)"
   ]
  },
  {
   "cell_type": "markdown",
   "id": "julian-portable",
   "metadata": {},
   "source": [
    "<h3 align=left>Lambda Function"
   ]
  },
  {
   "cell_type": "code",
   "execution_count": 45,
   "id": "executed-monday",
   "metadata": {},
   "outputs": [
    {
     "name": "stdout",
     "output_type": "stream",
     "text": [
      "125\n"
     ]
    }
   ],
   "source": [
    "''' \n",
    "Lambda: is a short and clever use of functions, it creates a function quickly without writing too many lines of coding.\n",
    "'''\n",
    "\n",
    "powers = lambda x,y : x**y\n",
    "\n",
    "print (powers(5,3))"
   ]
  },
  {
   "cell_type": "code",
   "execution_count": 46,
   "id": "attempted-dietary",
   "metadata": {},
   "outputs": [
    {
     "name": "stdout",
     "output_type": "stream",
     "text": [
      "the first function value equal: 1\n",
      "the second function value equal: 5\n",
      "the third function value equal: 25\n",
      "the fourth function value equal: 125\n"
     ]
    }
   ],
   "source": [
    "# we can create also multi functions in on line of code as follows\n",
    "\n",
    "powers = [lambda x: 1, lambda x: x, lambda x: x**2, lambda x: x**3]\n",
    "\n",
    "print('the first function value equal:', powers[0](5))  \n",
    "print('the second function value equal:',powers[1](5))  \n",
    "print('the third function value equal:',powers[2](5))  \n",
    "print('the fourth function value equal:',powers[3](5))  "
   ]
  },
  {
   "cell_type": "code",
   "execution_count": 47,
   "id": "convinced-excitement",
   "metadata": {},
   "outputs": [
    {
     "name": "stdout",
     "output_type": "stream",
     "text": [
      "[1, 8, 27, 64, 125, 216]\n"
     ]
    }
   ],
   "source": [
    "# Alternatively, instead of writing the details in front of the lambda, use a predefined function\n",
    "\n",
    "\n",
    "list1 = (1,2,3,4,5,6)\n",
    " \n",
    "def cpower (x):\n",
    "    return x**3\n",
    "\n",
    "print (list(map(lambda x :cpower(x)  , list1)))"
   ]
  },
  {
   "cell_type": "markdown",
   "id": "handed-contribution",
   "metadata": {},
   "source": [
    "<h3 align=left>Filter Function"
   ]
  },
  {
   "cell_type": "code",
   "execution_count": 48,
   "id": "expired-actor",
   "metadata": {},
   "outputs": [
    {
     "name": "stdout",
     "output_type": "stream",
     "text": [
      "evennumber = [0, 2, 4, 6, 8]\n",
      "oddnumber = [1, 3, 5, 7, 9]\n"
     ]
    }
   ],
   "source": [
    "# Filter: is a way to select certain numbers, based on a specific condition, often the condition is using lambda function\n",
    "\n",
    "mylist = [0,1,2,3,4,5,6,7,8,9]\n",
    "\n",
    "evennumber = list(filter(lambda x: x % 2 == 0 , mylist   ))\n",
    "oddnumber = list(filter(lambda x: x % 2 == 1 , mylist   ))\n",
    "print ('evennumber =',evennumber)\n",
    "print ('oddnumber =', oddnumber)"
   ]
  },
  {
   "cell_type": "markdown",
   "id": "elder-bishop",
   "metadata": {},
   "source": [
    "<h3 align=left>Map Function"
   ]
  },
  {
   "cell_type": "code",
   "execution_count": 49,
   "id": "stunning-conditions",
   "metadata": {},
   "outputs": [
    {
     "name": "stdout",
     "output_type": "stream",
     "text": [
      "square list [0, 1, 4, 9, 16, 25, 36, 49, 64, 81]\n"
     ]
    }
   ],
   "source": [
    "print (\"square list\" , list(map(lambda x: x**2 , mylist)))"
   ]
  },
  {
   "cell_type": "markdown",
   "id": "interracial-province",
   "metadata": {},
   "source": [
    "<h3 align=left>Yield Function"
   ]
  },
  {
   "cell_type": "code",
   "execution_count": 47,
   "id": "decent-sound",
   "metadata": {},
   "outputs": [
    {
     "name": "stdout",
     "output_type": "stream",
     "text": [
      "0\n",
      "1\n",
      "2\n",
      "3\n",
      "4\n",
      "5\n"
     ]
    }
   ],
   "source": [
    "# Go back and complete from the last number you stopped at.\n",
    "\n",
    "def yie():                              \n",
    "    for i in range(6):\n",
    "        yield i\n",
    "        \n",
    "for g in yie():\n",
    "       print(g)                         "
   ]
  },
  {
   "cell_type": "markdown",
   "id": "emerging-state",
   "metadata": {},
   "source": [
    "<h3 align=left>yield with next function"
   ]
  },
  {
   "cell_type": "code",
   "execution_count": 48,
   "id": "relative-scanner",
   "metadata": {},
   "outputs": [
    {
     "name": "stdout",
     "output_type": "stream",
     "text": [
      "0\n",
      "1\n",
      "2\n",
      "3\n",
      "4\n"
     ]
    }
   ],
   "source": [
    "def yie():\n",
    "    for i in range(10):\n",
    "        yield i\n",
    "           \n",
    "f = yie()\n",
    "print (next(f))\n",
    "print (next(f))\n",
    "print (next(f))\n",
    "print (next(f))\n",
    "print (next(f))"
   ]
  },
  {
   "cell_type": "markdown",
   "id": "comparable-lawyer",
   "metadata": {},
   "source": [
    "<h4 align=left>Example (1)"
   ]
  },
  {
   "cell_type": "code",
   "execution_count": 49,
   "id": "fallen-portuguese",
   "metadata": {},
   "outputs": [],
   "source": [
    "# For example, it is a normal way to make a Fibonacci series.\n",
    "\n",
    "\n",
    "def fibon(n):   \n",
    "    a = b = 1\n",
    "    result = []\n",
    "    for i in range(n):\n",
    "        result.append(a)\n",
    "        a, b = b, a+b\n",
    "    return result"
   ]
  },
  {
   "cell_type": "code",
   "execution_count": 50,
   "id": "bbc72da7",
   "metadata": {},
   "outputs": [
    {
     "name": "stdout",
     "output_type": "stream",
     "text": [
      "[1, 1, 2, 3, 5, 8, 13, 21, 34, 55]\n"
     ]
    }
   ],
   "source": [
    "'''\n",
    "the results will be as below where the third element in the list (2)\n",
    "equal the first two sum then the next two sum will give the fourth element and so on\n",
    "'''\n",
    "\n",
    "print(fibon(10))"
   ]
  },
  {
   "cell_type": "markdown",
   "id": "cultural-plain",
   "metadata": {},
   "source": [
    "<h4 align=left>Example (2)"
   ]
  },
  {
   "cell_type": "code",
   "execution_count": 51,
   "id": "ceramic-participation",
   "metadata": {},
   "outputs": [
    {
     "name": "stdout",
     "output_type": "stream",
     "text": [
      "1\n",
      "1\n",
      "2\n",
      "3\n",
      "5\n",
      "8\n",
      "13\n",
      "21\n",
      "34\n",
      "55\n",
      "89\n",
      "144\n",
      "233\n",
      "377\n",
      "610\n",
      "987\n",
      "1597\n",
      "2584\n",
      "4181\n",
      "6765\n"
     ]
    }
   ],
   "source": [
    "# it can also be done using yield function\n",
    "\n",
    "def fibon(n):\n",
    "    a = b = 1\n",
    "     \n",
    "    for i in range(n):  \n",
    "        yield  a\n",
    "        a , b = b , a+b\n",
    "     \n",
    "for x in fibon(20):\n",
    "    print (x)"
   ]
  },
  {
   "cell_type": "markdown",
   "id": "foreign-movement",
   "metadata": {},
   "source": [
    "<h3 align=left>Recursive Function"
   ]
  },
  {
   "cell_type": "code",
   "execution_count": 52,
   "id": "naughty-handbook",
   "metadata": {
    "code_folding": []
   },
   "outputs": [
    {
     "name": "stdout",
     "output_type": "stream",
     "text": [
      "120\n"
     ]
    }
   ],
   "source": [
    "# recursive functions: functions able to call themselves \n",
    "\n",
    "\n",
    "def fac(n):\n",
    "    if n ==1 : \n",
    "        return 1\n",
    "    else : \n",
    "        return n * fac(n-1)\n",
    "\n",
    "print(fac(5))"
   ]
  }
 ],
 "metadata": {
  "kernelspec": {
   "display_name": "base",
   "language": "python",
   "name": "python3"
  },
  "language_info": {
   "codemirror_mode": {
    "name": "ipython",
    "version": 3
   },
   "file_extension": ".py",
   "mimetype": "text/x-python",
   "name": "python",
   "nbconvert_exporter": "python",
   "pygments_lexer": "ipython3",
   "version": "3.9.12"
  },
  "latex_envs": {
   "LaTeX_envs_menu_present": true,
   "autoclose": false,
   "autocomplete": true,
   "bibliofile": "biblio.bib",
   "cite_by": "apalike",
   "current_citInitial": 1,
   "eqLabelWithNumbers": true,
   "eqNumInitial": 1,
   "hotkeys": {
    "equation": "Ctrl-E",
    "itemize": "Ctrl-I"
   },
   "labels_anchors": false,
   "latex_user_defs": false,
   "report_style_numbering": false,
   "user_envs_cfg": false
  },
  "toc": {
   "base_numbering": 1,
   "nav_menu": {},
   "number_sections": true,
   "sideBar": false,
   "skip_h1_title": true,
   "title_cell": "Table of Contents",
   "title_sidebar": "Contents",
   "toc_cell": true,
   "toc_position": {
    "height": "513.6px",
    "left": "46px",
    "top": "186.762px",
    "width": "251.775px"
   },
   "toc_section_display": true,
   "toc_window_display": true
  },
  "vscode": {
   "interpreter": {
    "hash": "55f2fe7b1c560c2d324ed046faeb8a55513d29ab718ddf7bfc99dad8debd2a7a"
   }
  }
 },
 "nbformat": 4,
 "nbformat_minor": 5
}
