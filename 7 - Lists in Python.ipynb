{
 "cells": [
  {
   "cell_type": "markdown",
   "id": "critical-parking",
   "metadata": {},
   "source": [
    "<h1 align=center>Lists in Python"
   ]
  },
  {
   "cell_type": "markdown",
   "id": "silver-variance",
   "metadata": {
    "toc": true
   },
   "source": [
    "<h1>Table of Contents<span class=\"tocSkip\"></span></h1>\n",
    "<div class=\"toc\"><ul class=\"toc-item\"><li><span><a href=\"#Types-of-Lists\" data-toc-modified-id=\"Types-of-Lists-1\"><span class=\"toc-item-num\">1&nbsp;&nbsp;</span>Types of Lists</a></span><ul class=\"toc-item\"><li><span><a href=\"#-one-type-of-elements\" data-toc-modified-id=\"-one-type-of-elements-1.1\"><span class=\"toc-item-num\">1.1&nbsp;&nbsp;</span> one type of elements</a></span></li><li><span><a href=\"#multi-types-of-elements\" data-toc-modified-id=\"multi-types-of-elements-1.2\"><span class=\"toc-item-num\">1.2&nbsp;&nbsp;</span>multi types of elements</a></span></li><li><span><a href=\"#list-inside-list\" data-toc-modified-id=\"list-inside-list-1.3\"><span class=\"toc-item-num\">1.3&nbsp;&nbsp;</span>list inside list</a></span><ul class=\"toc-item\"><li><span><a href=\"#gather-lists-in-a-list\" data-toc-modified-id=\"gather-lists-in-a-list-1.3.1\"><span class=\"toc-item-num\">1.3.1&nbsp;&nbsp;</span>gather lists in a list</a></span></li><li><span><a href=\"#call-one-element-of-a-list-inside-a-list-\" data-toc-modified-id=\"call-one-element-of-a-list-inside-a-list--1.3.2\"><span class=\"toc-item-num\">1.3.2&nbsp;&nbsp;</span>call one element of a list inside a list </a></span></li><li><span><a href=\"#-merge-between-lists\" data-toc-modified-id=\"-merge-between-lists-1.3.3\"><span class=\"toc-item-num\">1.3.3&nbsp;&nbsp;</span> merge between lists</a></span><ul class=\"toc-item\"><li><span><a href=\"#option-(1)\" data-toc-modified-id=\"option-(1)-1.3.3.1\"><span class=\"toc-item-num\">1.3.3.1&nbsp;&nbsp;</span>option (1)</a></span></li><li><span><a href=\"#option-(2):-extend-function\" data-toc-modified-id=\"option-(2):-extend-function-1.3.3.2\"><span class=\"toc-item-num\">1.3.3.2&nbsp;&nbsp;</span>option (2): extend function</a></span></li><li><span><a href=\"#option-(3):-append-function\" data-toc-modified-id=\"option-(3):-append-function-1.3.3.3\"><span class=\"toc-item-num\">1.3.3.3&nbsp;&nbsp;</span>option (3): append function</a></span></li><li><span><a href=\"#option-(4):-insert-function\" data-toc-modified-id=\"option-(4):-insert-function-1.3.3.4\"><span class=\"toc-item-num\">1.3.3.4&nbsp;&nbsp;</span>option (4): insert function</a></span></li></ul></li></ul></li></ul></li><li><span><a href=\"#zip-function\" data-toc-modified-id=\"zip-function-2\"><span class=\"toc-item-num\">2&nbsp;&nbsp;</span>zip function</a></span><ul class=\"toc-item\"><li><span><a href=\"#tuple-list\" data-toc-modified-id=\"tuple-list-2.1\"><span class=\"toc-item-num\">2.1&nbsp;&nbsp;</span>tuple list</a></span></li></ul></li><li><span><a href=\"#Pick-one-of-the-elements\" data-toc-modified-id=\"Pick-one-of-the-elements-3\"><span class=\"toc-item-num\">3&nbsp;&nbsp;</span>Pick one of the elements</a></span></li><li><span><a href=\"#save-the-elements-in-variables\" data-toc-modified-id=\"save-the-elements-in-variables-4\"><span class=\"toc-item-num\">4&nbsp;&nbsp;</span>save the elements in variables</a></span></li><li><span><a href=\"#change-a-value-of-one-element-inside-a-list\" data-toc-modified-id=\"change-a-value-of-one-element-inside-a-list-5\"><span class=\"toc-item-num\">5&nbsp;&nbsp;</span>change a value of one element inside a list</a></span></li><li><span><a href=\"#Erase-function\" data-toc-modified-id=\"Erase-function-6\"><span class=\"toc-item-num\">6&nbsp;&nbsp;</span>Erase function</a></span><ul class=\"toc-item\"><li><span><a href=\"#option-(1)\" data-toc-modified-id=\"option-(1)-6.1\"><span class=\"toc-item-num\">6.1&nbsp;&nbsp;</span>option (1)</a></span></li><li><span><a href=\"#option-(2)\" data-toc-modified-id=\"option-(2)-6.2\"><span class=\"toc-item-num\">6.2&nbsp;&nbsp;</span>option (2)</a></span></li><li><span><a href=\"#option-(3)\" data-toc-modified-id=\"option-(3)-6.3\"><span class=\"toc-item-num\">6.3&nbsp;&nbsp;</span>option (3)</a></span></li><li><span><a href=\"#option-(4)\" data-toc-modified-id=\"option-(4)-6.4\"><span class=\"toc-item-num\">6.4&nbsp;&nbsp;</span>option (4)</a></span></li><li><span><a href=\"#option-(5):-remove-function\" data-toc-modified-id=\"option-(5):-remove-function-6.5\"><span class=\"toc-item-num\">6.5&nbsp;&nbsp;</span>option (5): remove function</a></span></li><li><span><a href=\"#option-(6):-pop-function\" data-toc-modified-id=\"option-(6):-pop-function-6.6\"><span class=\"toc-item-num\">6.6&nbsp;&nbsp;</span>option (6): pop function</a></span></li></ul></li><li><span><a href=\"#multiply--list-with-a-number\" data-toc-modified-id=\"multiply--list-with-a-number-7\"><span class=\"toc-item-num\">7&nbsp;&nbsp;</span>multiply  list with a number</a></span></li><li><span><a href=\"#create-a-matrix\" data-toc-modified-id=\"create-a-matrix-8\"><span class=\"toc-item-num\">8&nbsp;&nbsp;</span>create a matrix</a></span></li><li><span><a href=\"#list-length\" data-toc-modified-id=\"list-length-9\"><span class=\"toc-item-num\">9&nbsp;&nbsp;</span>list length</a></span></li><li><span><a href=\"#list-sum\" data-toc-modified-id=\"list-sum-10\"><span class=\"toc-item-num\">10&nbsp;&nbsp;</span>list sum</a></span></li><li><span><a href=\"#max.-value-i-a-list\" data-toc-modified-id=\"max.-value-i-a-list-11\"><span class=\"toc-item-num\">11&nbsp;&nbsp;</span>max. value i a list</a></span></li><li><span><a href=\"#min.-value-i-a-list\" data-toc-modified-id=\"min.-value-i-a-list-12\"><span class=\"toc-item-num\">12&nbsp;&nbsp;</span>min. value i a list</a></span></li><li><span><a href=\"#list-sort\" data-toc-modified-id=\"list-sort-13\"><span class=\"toc-item-num\">13&nbsp;&nbsp;</span>list sort</a></span><ul class=\"toc-item\"><li><span><a href=\"#ascending-sort-\" data-toc-modified-id=\"ascending-sort--13.1\"><span class=\"toc-item-num\">13.1&nbsp;&nbsp;</span>ascending sort </a></span><ul class=\"toc-item\"><li><span><a href=\"#option-(1)\" data-toc-modified-id=\"option-(1)-13.1.1\"><span class=\"toc-item-num\">13.1.1&nbsp;&nbsp;</span>option (1)</a></span></li><li><span><a href=\"#option-(2)\" data-toc-modified-id=\"option-(2)-13.1.2\"><span class=\"toc-item-num\">13.1.2&nbsp;&nbsp;</span>option (2)</a></span></li></ul></li><li><span><a href=\"#descending-sort\" data-toc-modified-id=\"descending-sort-13.2\"><span class=\"toc-item-num\">13.2&nbsp;&nbsp;</span>descending sort</a></span></li><li><span><a href=\"#sort-tuple-lists-in-a-list--\" data-toc-modified-id=\"sort-tuple-lists-in-a-list---13.3\"><span class=\"toc-item-num\">13.3&nbsp;&nbsp;</span>sort tuple lists in a list  </a></span><ul class=\"toc-item\"><li><span><a href=\"#ascending-sort\" data-toc-modified-id=\"ascending-sort-13.3.1\"><span class=\"toc-item-num\">13.3.1&nbsp;&nbsp;</span>ascending sort</a></span></li><li><span><a href=\"#descending-sort\" data-toc-modified-id=\"descending-sort-13.3.2\"><span class=\"toc-item-num\">13.3.2&nbsp;&nbsp;</span>descending sort</a></span></li><li><span><a href=\"#itemgetter-sort\" data-toc-modified-id=\"itemgetter-sort-13.3.3\"><span class=\"toc-item-num\">13.3.3&nbsp;&nbsp;</span>itemgetter sort</a></span><ul class=\"toc-item\"><li><span><a href=\"#opyion-(1)\" data-toc-modified-id=\"opyion-(1)-13.3.3.1\"><span class=\"toc-item-num\">13.3.3.1&nbsp;&nbsp;</span>opyion (1)</a></span></li><li><span><a href=\"#opyion-(2)\" data-toc-modified-id=\"opyion-(2)-13.3.3.2\"><span class=\"toc-item-num\">13.3.3.2&nbsp;&nbsp;</span>opyion (2)</a></span></li></ul></li></ul></li><li><span><a href=\"#sort-a-list-based-on-number-of-a-certain-letter-\" data-toc-modified-id=\"sort-a-list-based-on-number-of-a-certain-letter--13.4\"><span class=\"toc-item-num\">13.4&nbsp;&nbsp;</span>sort a list based on number of a certain letter </a></span></li></ul></li><li><span><a href=\"#split-function\" data-toc-modified-id=\"split-function-14\"><span class=\"toc-item-num\">14&nbsp;&nbsp;</span>split function</a></span><ul class=\"toc-item\"><li><span><a href=\"#option-(1)\" data-toc-modified-id=\"option-(1)-14.1\"><span class=\"toc-item-num\">14.1&nbsp;&nbsp;</span>option (1)</a></span></li><li><span><a href=\"#option-(2)\" data-toc-modified-id=\"option-(2)-14.2\"><span class=\"toc-item-num\">14.2&nbsp;&nbsp;</span>option (2)</a></span></li></ul></li><li><span><a href=\"#check-element-exist-in-the-list\" data-toc-modified-id=\"check-element-exist-in-the-list-15\"><span class=\"toc-item-num\">15&nbsp;&nbsp;</span>check element exist in the list</a></span></li><li><span><a href=\"#count-function\" data-toc-modified-id=\"count-function-16\"><span class=\"toc-item-num\">16&nbsp;&nbsp;</span>count function</a></span></li><li><span><a href=\"#index-function\" data-toc-modified-id=\"index-function-17\"><span class=\"toc-item-num\">17&nbsp;&nbsp;</span>index function</a></span></li><li><span><a href=\"#reverse-function\" data-toc-modified-id=\"reverse-function-18\"><span class=\"toc-item-num\">18&nbsp;&nbsp;</span>reverse function</a></span></li><li><span><a href=\"#range-function\" data-toc-modified-id=\"range-function-19\"><span class=\"toc-item-num\">19&nbsp;&nbsp;</span>range function</a></span><ul class=\"toc-item\"><li><span><a href=\"#option-(1)\" data-toc-modified-id=\"option-(1)-19.1\"><span class=\"toc-item-num\">19.1&nbsp;&nbsp;</span>option (1)</a></span></li><li><span><a href=\"#option-(2)\" data-toc-modified-id=\"option-(2)-19.2\"><span class=\"toc-item-num\">19.2&nbsp;&nbsp;</span>option (2)</a></span></li><li><span><a href=\"#option-(3)\" data-toc-modified-id=\"option-(3)-19.3\"><span class=\"toc-item-num\">19.3&nbsp;&nbsp;</span>option (3)</a></span></li></ul></li><li><span><a href=\"#Iterations\" data-toc-modified-id=\"Iterations-20\"><span class=\"toc-item-num\">20&nbsp;&nbsp;</span>Iterations</a></span><ul class=\"toc-item\"><li><span><a href=\"#option-(1)\" data-toc-modified-id=\"option-(1)-20.1\"><span class=\"toc-item-num\">20.1&nbsp;&nbsp;</span>option (1)</a></span></li><li><span><a href=\"#option-(2)\" data-toc-modified-id=\"option-(2)-20.2\"><span class=\"toc-item-num\">20.2&nbsp;&nbsp;</span>option (2)</a></span></li><li><span><a href=\"#option-(3)\" data-toc-modified-id=\"option-(3)-20.3\"><span class=\"toc-item-num\">20.3&nbsp;&nbsp;</span>option (3)</a></span></li><li><span><a href=\"#option-(4)\" data-toc-modified-id=\"option-(4)-20.4\"><span class=\"toc-item-num\">20.4&nbsp;&nbsp;</span>option (4)</a></span></li><li><span><a href=\"#option-(5)\" data-toc-modified-id=\"option-(5)-20.5\"><span class=\"toc-item-num\">20.5&nbsp;&nbsp;</span>option (5)</a></span></li><li><span><a href=\"#option-(6)\" data-toc-modified-id=\"option-(6)-20.6\"><span class=\"toc-item-num\">20.6&nbsp;&nbsp;</span>option (6)</a></span></li><li><span><a href=\"#option-(7)\" data-toc-modified-id=\"option-(7)-20.7\"><span class=\"toc-item-num\">20.7&nbsp;&nbsp;</span>option (7)</a></span></li></ul></li><li><span><a href=\"#next-function\" data-toc-modified-id=\"next-function-21\"><span class=\"toc-item-num\">21&nbsp;&nbsp;</span>next function</a></span></li><li><span><a href=\"#copy-lists\" data-toc-modified-id=\"copy-lists-22\"><span class=\"toc-item-num\">22&nbsp;&nbsp;</span>copy lists</a></span><ul class=\"toc-item\"><li><span><a href=\"#option-(1)\" data-toc-modified-id=\"option-(1)-22.1\"><span class=\"toc-item-num\">22.1&nbsp;&nbsp;</span>option (1)</a></span></li><li><span><a href=\"#option-(2)\" data-toc-modified-id=\"option-(2)-22.2\"><span class=\"toc-item-num\">22.2&nbsp;&nbsp;</span>option (2)</a></span></li></ul></li><li><span><a href=\"#enumerate-function\" data-toc-modified-id=\"enumerate-function-23\"><span class=\"toc-item-num\">23&nbsp;&nbsp;</span>enumerate function</a></span></li></ul></div>"
   ]
  },
  {
   "cell_type": "markdown",
   "id": "subsequent-dinner",
   "metadata": {},
   "source": [
    "<h2 align=left>Types of Lists"
   ]
  },
  {
   "cell_type": "markdown",
   "id": "concerned-editor",
   "metadata": {},
   "source": [
    "<h3 align=left> one type of elements"
   ]
  },
  {
   "cell_type": "code",
   "execution_count": 2,
   "id": "secondary-virgin",
   "metadata": {},
   "outputs": [
    {
     "data": {
      "text/plain": [
       "[1, 2, 3, 6, 9, 8, 7]"
      ]
     },
     "execution_count": 2,
     "metadata": {},
     "output_type": "execute_result"
    }
   ],
   "source": [
    "s = [1,2,3,6,9,8,7]\n",
    "s"
   ]
  },
  {
   "cell_type": "markdown",
   "id": "posted-voltage",
   "metadata": {},
   "source": [
    "<h3 align=left>multi types of elements"
   ]
  },
  {
   "cell_type": "code",
   "execution_count": 3,
   "id": "interim-destination",
   "metadata": {},
   "outputs": [
    {
     "data": {
      "text/plain": [
       "['sam', 5, 3.2, (5+2j)]"
      ]
     },
     "execution_count": 3,
     "metadata": {},
     "output_type": "execute_result"
    }
   ],
   "source": [
    "# the list can contain different kinds of elements as int, string and or float as an example.\n",
    "\n",
    "s = [ 'sam' , 5 , 3.2 , 5+2j ]  \n",
    "s\n"
   ]
  },
  {
   "cell_type": "markdown",
   "id": "certain-tonight",
   "metadata": {},
   "source": [
    "<h3 align=left>list inside list"
   ]
  },
  {
   "cell_type": "code",
   "execution_count": 4,
   "id": "proud-expression",
   "metadata": {},
   "outputs": [
    {
     "name": "stdout",
     "output_type": "stream",
     "text": [
      "[2, 3, [4, 5]]\n"
     ]
    }
   ],
   "source": [
    "s = [ 2 , 3, [ 4 , 5 ] ]   \n",
    "print(s)"
   ]
  },
  {
   "cell_type": "markdown",
   "id": "funny-interpretation",
   "metadata": {},
   "source": [
    "<h4 align=left>gather lists in a list"
   ]
  },
  {
   "cell_type": "code",
   "execution_count": 5,
   "id": "every-outside",
   "metadata": {},
   "outputs": [
    {
     "data": {
      "text/plain": [
       "[['a', 'b', 'c'], [1, 2, 3]]"
      ]
     },
     "execution_count": 5,
     "metadata": {},
     "output_type": "execute_result"
    }
   ],
   "source": [
    "a = ['a', 'b', 'c']\n",
    "n = [1, 2, 3]\n",
    "x = [a, n]\n",
    "x"
   ]
  },
  {
   "cell_type": "code",
   "execution_count": 6,
   "id": "controlling-collective",
   "metadata": {},
   "outputs": [
    {
     "data": {
      "text/plain": [
       "['a', 'b', 'c']"
      ]
     },
     "execution_count": 6,
     "metadata": {},
     "output_type": "execute_result"
    }
   ],
   "source": [
    "a = ['a', 'b', 'c']\n",
    "n = [1, 2, 3]\n",
    "x = [a, n]\n",
    "x= [['a', 'b', 'c'], [1, 2, 3]]\n",
    "x[0]"
   ]
  },
  {
   "cell_type": "code",
   "execution_count": 7,
   "id": "alleged-actress",
   "metadata": {},
   "outputs": [
    {
     "data": {
      "text/plain": [
       "[1, 2, 3]"
      ]
     },
     "execution_count": 7,
     "metadata": {},
     "output_type": "execute_result"
    }
   ],
   "source": [
    "x[1]"
   ]
  },
  {
   "cell_type": "markdown",
   "id": "painted-particular",
   "metadata": {},
   "source": [
    "<h4 align=left>call one element of a list inside a list "
   ]
  },
  {
   "cell_type": "code",
   "execution_count": 8,
   "id": "retired-saying",
   "metadata": {},
   "outputs": [
    {
     "data": {
      "text/plain": [
       "'b'"
      ]
     },
     "execution_count": 8,
     "metadata": {},
     "output_type": "execute_result"
    }
   ],
   "source": [
    "x[0][1]    "
   ]
  },
  {
   "cell_type": "code",
   "execution_count": 9,
   "id": "unexpected-variation",
   "metadata": {},
   "outputs": [
    {
     "data": {
      "text/plain": [
       "'a'"
      ]
     },
     "execution_count": 9,
     "metadata": {},
     "output_type": "execute_result"
    }
   ],
   "source": [
    "x[0][0]"
   ]
  },
  {
   "cell_type": "markdown",
   "id": "ordinary-rubber",
   "metadata": {},
   "source": [
    "<h4 align=left> merge between lists"
   ]
  },
  {
   "cell_type": "markdown",
   "id": "black-comment",
   "metadata": {},
   "source": [
    "<h5 align=left>option (1)"
   ]
  },
  {
   "cell_type": "code",
   "execution_count": 10,
   "id": "later-password",
   "metadata": {},
   "outputs": [
    {
     "data": {
      "text/plain": [
       "[3, 4, 5, 6, 2, 8, 1.2, 'ahmed', 'haossam', 'zaki', 10.5, True, 3]"
      ]
     },
     "execution_count": 10,
     "metadata": {},
     "output_type": "execute_result"
    }
   ],
   "source": [
    "y = [3,4,5,6,2,8,1.2]\n",
    "t = ['ahmed', 'haossam', 'zaki', 10.5, True, 3]\n",
    "ss= y + t\n",
    "ss"
   ]
  },
  {
   "cell_type": "markdown",
   "id": "statewide-transaction",
   "metadata": {},
   "source": [
    "<h5 align=left>option (2): extend function"
   ]
  },
  {
   "cell_type": "code",
   "execution_count": 11,
   "id": "convinced-bacteria",
   "metadata": {},
   "outputs": [
    {
     "data": {
      "text/plain": [
       "[3, 4, 5, 6, 2, 8, 1.2, 'd', 3, 4, 's']"
      ]
     },
     "execution_count": 11,
     "metadata": {},
     "output_type": "execute_result"
    }
   ],
   "source": [
    "x = ['d', 3, 4, 's' ] \n",
    "y.extend(x)\n",
    "y"
   ]
  },
  {
   "cell_type": "markdown",
   "id": "acoustic-attribute",
   "metadata": {},
   "source": [
    "<h5 align=left>option (3): append function"
   ]
  },
  {
   "cell_type": "code",
   "execution_count": 12,
   "id": "foster-general",
   "metadata": {},
   "outputs": [
    {
     "data": {
      "text/plain": [
       "[3, 4, 5, 6, 2, 8, 1.2, 'd', 3, 4, 's', 555]"
      ]
     },
     "execution_count": 12,
     "metadata": {},
     "output_type": "execute_result"
    }
   ],
   "source": [
    "# adding an element to the end of the list\n",
    "\n",
    "y.append (555)  \n",
    "y"
   ]
  },
  {
   "cell_type": "markdown",
   "id": "thirty-practice",
   "metadata": {},
   "source": [
    "<h5 align=left>option (4): insert function"
   ]
  },
  {
   "cell_type": "code",
   "execution_count": 13,
   "id": "occupied-electronics",
   "metadata": {},
   "outputs": [
    {
     "data": {
      "text/plain": [
       "[3, 4, 5, 6, 2, 999999, 8, 1.2, 'd', 3, 4, 's', 555]"
      ]
     },
     "execution_count": 13,
     "metadata": {},
     "output_type": "execute_result"
    }
   ],
   "source": [
    "# لو عايز اضيف عنصر في مكان معين في الليست ( مش في الاخر ) يبقي انسرت , اكتب الاول رقم الانديكس المطلوب , وبعدها اكتب القيمة\n",
    "y.insert(5,999999)\n",
    "y"
   ]
  },
  {
   "cell_type": "markdown",
   "id": "handled-introduction",
   "metadata": {},
   "source": [
    "<h2 align=left>zip function"
   ]
  },
  {
   "cell_type": "code",
   "execution_count": 14,
   "id": "standard-stack",
   "metadata": {},
   "outputs": [
    {
     "name": "stdout",
     "output_type": "stream",
     "text": [
      "a1 b1\n",
      "a2 b2\n",
      "a3 b3\n"
     ]
    }
   ],
   "source": [
    "alist = ['a1', 'a2', 'a3']\n",
    "blist = ['b1', 'b2', 'b3']\n",
    "\n",
    "# It is gathering the elements of the two lists with eachothers \n",
    "for a, b in zip(alist, blist):    \n",
    "    print (a, b)\n"
   ]
  },
  {
   "cell_type": "markdown",
   "id": "boolean-boundary",
   "metadata": {},
   "source": [
    "<h3 align=left>tuple list"
   ]
  },
  {
   "cell_type": "code",
   "execution_count": 15,
   "id": "unlike-expression",
   "metadata": {},
   "outputs": [
    {
     "data": {
      "text/plain": [
       "['l', 'o', 'v', 'e', ' ', 'a', 'p', 'p', 'l', 'e']"
      ]
     },
     "execution_count": 15,
     "metadata": {},
     "output_type": "execute_result"
    }
   ],
   "source": [
    "# when i list a text, each letter of the text will be an element in the list.\n",
    "\n",
    "x = list(\"love apple\") \n",
    "x"
   ]
  },
  {
   "cell_type": "markdown",
   "id": "contrary-oklahoma",
   "metadata": {},
   "source": [
    "<h2 align=left>Pick one of the elements"
   ]
  },
  {
   "cell_type": "code",
   "execution_count": 16,
   "id": "imported-sixth",
   "metadata": {},
   "outputs": [
    {
     "data": {
      "text/plain": [
       "[4, 5]"
      ]
     },
     "execution_count": 16,
     "metadata": {},
     "output_type": "execute_result"
    }
   ],
   "source": [
    "s[2]  # pick an element from the list"
   ]
  },
  {
   "cell_type": "markdown",
   "id": "familiar-milwaukee",
   "metadata": {},
   "source": [
    "<h2 align=left>save the elements in a variable"
   ]
  },
  {
   "cell_type": "code",
   "execution_count": 17,
   "id": "sustainable-bristol",
   "metadata": {},
   "outputs": [],
   "source": [
    "a,b,c,d,e,f,g,l,m,n = x # All the elements in the list can be saved in a  variable "
   ]
  },
  {
   "cell_type": "code",
   "execution_count": 18,
   "id": "valid-enzyme",
   "metadata": {},
   "outputs": [
    {
     "data": {
      "text/plain": [
       "['a', 'p', 'p', 'l', 'e']"
      ]
     },
     "execution_count": 18,
     "metadata": {},
     "output_type": "execute_result"
    }
   ],
   "source": [
    "# pick a certain elements from the list (Slice the list)\n",
    "\n",
    "y = x[5:10] \n",
    "y"
   ]
  },
  {
   "cell_type": "code",
   "execution_count": 19,
   "id": "social-absolute",
   "metadata": {},
   "outputs": [
    {
     "data": {
      "text/plain": [
       "['l', 'o', 'v', 'e', ' ', 'a', 'p']"
      ]
     },
     "execution_count": 19,
     "metadata": {},
     "output_type": "execute_result"
    }
   ],
   "source": [
    "y = x[:7]\n",
    "y"
   ]
  },
  {
   "cell_type": "code",
   "execution_count": 20,
   "id": "wireless-bidding",
   "metadata": {},
   "outputs": [
    {
     "data": {
      "text/plain": [
       "['l', 'o', 'v', 'e', ' ', 'a', 'p']"
      ]
     },
     "execution_count": 20,
     "metadata": {},
     "output_type": "execute_result"
    }
   ],
   "source": [
    "# leave the last 3 elements\n",
    "\n",
    "y = x[:-3] \n",
    "y"
   ]
  },
  {
   "cell_type": "markdown",
   "id": "moved-vienna",
   "metadata": {},
   "source": [
    "<h2 align=left>change a value of one element inside a list"
   ]
  },
  {
   "cell_type": "code",
   "execution_count": 21,
   "id": "related-teach",
   "metadata": {},
   "outputs": [
    {
     "data": {
      "text/plain": [
       "['l', 'o', 'v', 'e', ' ', 'a', 'p', 5, 'l', 'e']"
      ]
     },
     "execution_count": 21,
     "metadata": {},
     "output_type": "execute_result"
    }
   ],
   "source": [
    "# to update an element in the list\n",
    "\n",
    "x[7] = 5 \n",
    "x         "
   ]
  },
  {
   "cell_type": "markdown",
   "id": "allied-equity",
   "metadata": {},
   "source": [
    "<h2 align=left>Erase function"
   ]
  },
  {
   "cell_type": "markdown",
   "id": "illegal-serial",
   "metadata": {},
   "source": [
    "<h3 align=left>option (1)"
   ]
  },
  {
   "cell_type": "code",
   "execution_count": 22,
   "id": "attractive-deviation",
   "metadata": {},
   "outputs": [
    {
     "data": {
      "text/plain": [
       "['l', 'o', 'a', 'p', 5, 'l', 'e']"
      ]
     },
     "execution_count": 22,
     "metadata": {},
     "output_type": "execute_result"
    }
   ],
   "source": [
    "# Ereasing from element 3 to element 5\n",
    "\n",
    "x[2:5]=[]   \n",
    "x"
   ]
  },
  {
   "cell_type": "markdown",
   "id": "abstract-rochester",
   "metadata": {},
   "source": [
    "<h3 align=left>option (2)"
   ]
  },
  {
   "cell_type": "code",
   "execution_count": 23,
   "id": "consolidated-gathering",
   "metadata": {},
   "outputs": [
    {
     "data": {
      "text/plain": [
       "[]"
      ]
     },
     "execution_count": 23,
     "metadata": {},
     "output_type": "execute_result"
    }
   ],
   "source": [
    "# Erasing all the list \n",
    "\n",
    "x[:] = []  \n",
    "x"
   ]
  },
  {
   "cell_type": "markdown",
   "id": "transparent-addition",
   "metadata": {},
   "source": [
    "<h3 align=left>option (3)"
   ]
  },
  {
   "cell_type": "code",
   "execution_count": 24,
   "id": "extreme-final",
   "metadata": {},
   "outputs": [
    {
     "data": {
      "text/plain": [
       "['l', 'v', 'e', ' ', 'a', 'p']"
      ]
     },
     "execution_count": 24,
     "metadata": {},
     "output_type": "execute_result"
    }
   ],
   "source": [
    "# erase one element from the list\n",
    "del y[1]     \n",
    "y"
   ]
  },
  {
   "cell_type": "markdown",
   "id": "electrical-indian",
   "metadata": {},
   "source": [
    "<h3 align=left>option (4)"
   ]
  },
  {
   "cell_type": "code",
   "execution_count": 25,
   "id": "seventh-peace",
   "metadata": {},
   "outputs": [],
   "source": [
    "# If i need to delete all the list\n",
    "\n",
    "del x   "
   ]
  },
  {
   "cell_type": "code",
   "execution_count": 26,
   "id": "democratic-indication",
   "metadata": {},
   "outputs": [
    {
     "ename": "NameError",
     "evalue": "name 'x' is not defined",
     "output_type": "error",
     "traceback": [
      "\u001b[1;31m---------------------------------------------------------------------------\u001b[0m",
      "\u001b[1;31mNameError\u001b[0m                                 Traceback (most recent call last)",
      "\u001b[1;32mc:\\Users\\sameh.ibrahim\\MySandbox\\My Projects\\Python\\7 - Lists in Python.ipynb Cell 48\u001b[0m in \u001b[0;36m<cell line: 1>\u001b[1;34m()\u001b[0m\n\u001b[1;32m----> <a href='vscode-notebook-cell:/c%3A/Users/sameh.ibrahim/MySandbox/My%20Projects/Python/7%20-%20Lists%20in%20Python.ipynb#X65sZmlsZQ%3D%3D?line=0'>1</a>\u001b[0m x\n",
      "\u001b[1;31mNameError\u001b[0m: name 'x' is not defined"
     ]
    }
   ],
   "source": [
    "x  # there is no x list anymore"
   ]
  },
  {
   "cell_type": "markdown",
   "id": "welcome-allocation",
   "metadata": {},
   "source": [
    "<h3 align=left>option (5): remove function"
   ]
  },
  {
   "cell_type": "code",
   "execution_count": 27,
   "id": "structural-witness",
   "metadata": {},
   "outputs": [
    {
     "data": {
      "text/plain": [
       "['a', 'c', 'd', 'e', 'b']"
      ]
     },
     "execution_count": 27,
     "metadata": {},
     "output_type": "execute_result"
    }
   ],
   "source": [
    "y = ['a', 'b', 'c', 'd', 'e', 'b']\n",
    "y.remove('b')   \n",
    "y"
   ]
  },
  {
   "cell_type": "markdown",
   "id": "political-squad",
   "metadata": {},
   "source": [
    "<h3 align=left>option (6): pop function"
   ]
  },
  {
   "cell_type": "code",
   "execution_count": 28,
   "id": "novel-above",
   "metadata": {},
   "outputs": [
    {
     "data": {
      "text/plain": [
       "['a', 'c', 'd', 'e']"
      ]
     },
     "execution_count": 28,
     "metadata": {},
     "output_type": "execute_result"
    }
   ],
   "source": [
    "# delete the list element in the list\n",
    "\n",
    "y.pop()   \n",
    "y"
   ]
  },
  {
   "cell_type": "code",
   "execution_count": 29,
   "id": "indian-rabbit",
   "metadata": {},
   "outputs": [
    {
     "data": {
      "text/plain": [
       "['a', 'c', 'e']"
      ]
     },
     "execution_count": 29,
     "metadata": {},
     "output_type": "execute_result"
    }
   ],
   "source": [
    "# delete a certain element from the list\n",
    "\n",
    "y.pop(2)   \n",
    "y"
   ]
  },
  {
   "cell_type": "markdown",
   "id": "pleased-motion",
   "metadata": {},
   "source": [
    "<h2 align=left>multiply  list with a number"
   ]
  },
  {
   "cell_type": "code",
   "execution_count": 30,
   "id": "polar-manual",
   "metadata": {},
   "outputs": [
    {
     "name": "stdout",
     "output_type": "stream",
     "text": [
      "[3, 4, 5, 6, 2, 8, 1.2, 3, 4, 5, 6, 2, 8, 1.2, 3, 4, 5, 6, 2, 8, 1.2, 3, 4, 5, 6, 2, 8, 1.2, 3, 4, 5, 6, 2, 8, 1.2]\n"
     ]
    }
   ],
   "source": [
    "y = [3,4,5,6,2,8,1.2]\n",
    "z = y * 5 # repeating all the list elements 5 times\n",
    "print(z)"
   ]
  },
  {
   "cell_type": "code",
   "execution_count": 31,
   "id": "august-carroll",
   "metadata": {},
   "outputs": [
    {
     "name": "stdout",
     "output_type": "stream",
     "text": [
      "[0, 0, 0, 0, 0, 0, 0, 0, 0, 0, 0, 0, 0, 0, 0, 0, 0, 0, 0, 0, 0, 0, 0, 0, 0, 0, 0, 0, 0, 0, 0, 0, 0, 0, 0, 0, 0, 0, 0, 0, 0, 0, 0, 0, 0, 0, 0, 0, 0, 0, 0, 0, 0, 0, 0, 0, 0, 0, 0, 0, 0, 0, 0, 0, 0, 0, 0, 0, 0, 0, 0, 0, 0, 0, 0, 0, 0, 0, 0, 0, 0, 0, 0, 0, 0, 0, 0, 0, 0, 0, 0, 0, 0, 0, 0, 0, 0, 0, 0, 0]\n"
     ]
    }
   ],
   "source": [
    "x = [0] * 100 # create a list with a hundred of zero values\n",
    "print(x)"
   ]
  },
  {
   "cell_type": "code",
   "execution_count": 32,
   "id": "legal-sound",
   "metadata": {},
   "outputs": [
    {
     "name": "stdout",
     "output_type": "stream",
     "text": [
      "[0.0, 0.0, 0.0, 0.0, 0.0, 0.0, 0.0, 0.0, 0.0, 0.0, 0.0, 0.0, 0.0, 0.0, 0.0, 0.0, 0.0, 0.0, 0.0, 0.0, 0.0, 0.0, 0.0, 0.0, 0.0, 0.0, 0.0, 0.0, 0.0, 0.0, 0.0, 0.0, 0.0, 0.0, 0.0, 0.0, 0.0, 0.0, 0.0, 0.0, 0.0, 0.0, 0.0, 0.0, 0.0, 0.0, 0.0, 0.0, 0.0, 0.0, 0.0, 0.0, 0.0, 0.0, 0.0, 0.0, 0.0, 0.0, 0.0, 0.0, 0.0, 0.0, 0.0, 0.0, 0.0, 0.0, 0.0, 0.0, 0.0, 0.0, 0.0, 0.0, 0.0, 0.0, 0.0, 0.0, 0.0, 0.0, 0.0, 0.0, 0.0, 0.0, 0.0, 0.0, 0.0, 0.0, 0.0, 0.0, 0.0, 0.0, 0.0, 0.0, 0.0, 0.0, 0.0, 0.0, 0.0, 0.0, 0.0, 0.0]\n"
     ]
    }
   ],
   "source": [
    "x = [0.0] * 100\n",
    "print(x)"
   ]
  },
  {
   "cell_type": "code",
   "execution_count": 33,
   "id": "instant-vulnerability",
   "metadata": {},
   "outputs": [
    {
     "name": "stdout",
     "output_type": "stream",
     "text": [
      "['s', 's', 's', 's', 's', 's', 's', 's', 's', 's', 's', 's', 's', 's', 's', 's', 's', 's', 's', 's', 's', 's', 's', 's', 's', 's', 's', 's', 's', 's', 's', 's', 's', 's', 's', 's', 's', 's', 's', 's', 's', 's', 's', 's', 's', 's', 's', 's', 's', 's', 's', 's', 's', 's', 's', 's', 's', 's', 's', 's', 's', 's', 's', 's', 's', 's', 's', 's', 's', 's', 's', 's', 's', 's', 's', 's', 's', 's', 's', 's', 's', 's', 's', 's', 's', 's', 's', 's', 's', 's', 's', 's', 's', 's', 's', 's', 's', 's', 's', 's']\n"
     ]
    }
   ],
   "source": [
    "x = ['s'] * 100\n",
    "print(x)"
   ]
  },
  {
   "cell_type": "markdown",
   "id": "planned-romania",
   "metadata": {},
   "source": [
    "<h2 align=left>create a matrix"
   ]
  },
  {
   "cell_type": "code",
   "execution_count": 34,
   "id": "polished-decade",
   "metadata": {},
   "outputs": [
    {
     "data": {
      "text/plain": [
       "[[0, 0, 0, 0, 0, 0, 0, 0],\n",
       " [0, 0, 0, 0, 0, 0, 0, 0],\n",
       " [0, 0, 0, 0, 0, 0, 0, 0],\n",
       " [0, 0, 0, 0, 0, 0, 0, 0],\n",
       " [0, 0, 0, 0, 0, 0, 0, 0],\n",
       " [0, 0, 0, 0, 0, 0, 0, 0],\n",
       " [0, 0, 0, 0, 0, 0, 0, 0],\n",
       " [0, 0, 0, 0, 0, 0, 0, 0],\n",
       " [0, 0, 0, 0, 0, 0, 0, 0],\n",
       " [0, 0, 0, 0, 0, 0, 0, 0]]"
      ]
     },
     "execution_count": 34,
     "metadata": {},
     "output_type": "execute_result"
    }
   ],
   "source": [
    "x = [[0]*8] *10    # create a matrix with 10 raws and 8 columns\n",
    "x"
   ]
  },
  {
   "cell_type": "markdown",
   "id": "covered-summit",
   "metadata": {},
   "source": [
    "<h2 align=left>list length"
   ]
  },
  {
   "cell_type": "code",
   "execution_count": 35,
   "id": "commercial-childhood",
   "metadata": {},
   "outputs": [
    {
     "data": {
      "text/plain": [
       "7"
      ]
     },
     "execution_count": 35,
     "metadata": {},
     "output_type": "execute_result"
    }
   ],
   "source": [
    "#  to get a list length \n",
    "\n",
    "len (y)   "
   ]
  },
  {
   "cell_type": "markdown",
   "id": "metallic-blogger",
   "metadata": {},
   "source": [
    "<h2 align=left>list sum"
   ]
  },
  {
   "cell_type": "code",
   "execution_count": 36,
   "id": "vietnamese-float",
   "metadata": {},
   "outputs": [
    {
     "data": {
      "text/plain": [
       "29.2"
      ]
     },
     "execution_count": 36,
     "metadata": {},
     "output_type": "execute_result"
    }
   ],
   "source": [
    "sum(y) # the sum of list if it is digital numbers, if it has string or bolian values then it will not work"
   ]
  },
  {
   "cell_type": "markdown",
   "id": "cellular-alabama",
   "metadata": {},
   "source": [
    "<h2 align=left>max. value i a list"
   ]
  },
  {
   "cell_type": "code",
   "execution_count": 37,
   "id": "contained-leave",
   "metadata": {},
   "outputs": [
    {
     "data": {
      "text/plain": [
       "8"
      ]
     },
     "execution_count": 37,
     "metadata": {},
     "output_type": "execute_result"
    }
   ],
   "source": [
    "max(y)  # maximum value"
   ]
  },
  {
   "cell_type": "markdown",
   "id": "divine-equity",
   "metadata": {},
   "source": [
    "> can be also applied on a string list"
   ]
  },
  {
   "cell_type": "code",
   "execution_count": 38,
   "id": "executive-details",
   "metadata": {},
   "outputs": [
    {
     "data": {
      "text/plain": [
       "'z'"
      ]
     },
     "execution_count": 38,
     "metadata": {},
     "output_type": "execute_result"
    }
   ],
   "source": [
    "g = ['a', 'b', 'd', 'o', 'n', 'z']\n",
    "max (g)"
   ]
  },
  {
   "cell_type": "markdown",
   "id": "peripheral-insert",
   "metadata": {},
   "source": [
    "<h2 align=left>min. value in a list"
   ]
  },
  {
   "cell_type": "code",
   "execution_count": 39,
   "id": "egyptian-pacific",
   "metadata": {},
   "outputs": [
    {
     "data": {
      "text/plain": [
       "1.2"
      ]
     },
     "execution_count": 39,
     "metadata": {},
     "output_type": "execute_result"
    }
   ],
   "source": [
    "min(y) # min value"
   ]
  },
  {
   "cell_type": "code",
   "execution_count": 40,
   "id": "buried-failing",
   "metadata": {},
   "outputs": [
    {
     "data": {
      "text/plain": [
       "'a'"
      ]
     },
     "execution_count": 40,
     "metadata": {},
     "output_type": "execute_result"
    }
   ],
   "source": [
    "min (g)"
   ]
  },
  {
   "cell_type": "markdown",
   "id": "prompt-letter",
   "metadata": {},
   "source": [
    "<h2 align=left>list sort"
   ]
  },
  {
   "cell_type": "markdown",
   "id": "static-crawford",
   "metadata": {},
   "source": [
    "<h3 align=left>ascending sort "
   ]
  },
  {
   "cell_type": "markdown",
   "id": "polyphonic-progress",
   "metadata": {},
   "source": [
    "<h4 align=left>option (1)"
   ]
  },
  {
   "cell_type": "code",
   "execution_count": 41,
   "id": "mental-continent",
   "metadata": {},
   "outputs": [
    {
     "name": "stdout",
     "output_type": "stream",
     "text": [
      "[3, 4, 5, 6, 2, 8, 1.2]\n"
     ]
    },
    {
     "data": {
      "text/plain": [
       "[1.2, 2, 3, 4, 5, 6, 8]"
      ]
     },
     "execution_count": 41,
     "metadata": {},
     "output_type": "execute_result"
    }
   ],
   "source": [
    "print(y)  \n",
    "sorted(y)    # sort the list from min to max whatever it is numbers or letters"
   ]
  },
  {
   "cell_type": "markdown",
   "id": "convinced-vector",
   "metadata": {},
   "source": [
    "<h4 align=left>option (2)"
   ]
  },
  {
   "cell_type": "code",
   "execution_count": 42,
   "id": "working-forum",
   "metadata": {},
   "outputs": [
    {
     "data": {
      "text/plain": [
       "[1.2, 2, 3, 4, 5, 6, 8]"
      ]
     },
     "execution_count": 42,
     "metadata": {},
     "output_type": "execute_result"
    }
   ],
   "source": [
    "y.sort()   # with this order it will sort the list itself\n",
    "y"
   ]
  },
  {
   "cell_type": "markdown",
   "id": "meaning-season",
   "metadata": {},
   "source": [
    "<h3 align=left>descending sort"
   ]
  },
  {
   "cell_type": "code",
   "execution_count": 43,
   "id": "tough-diagram",
   "metadata": {},
   "outputs": [
    {
     "data": {
      "text/plain": [
       "[8, 6, 5, 4, 3, 2, 1.2]"
      ]
     },
     "execution_count": 43,
     "metadata": {},
     "output_type": "execute_result"
    }
   ],
   "source": [
    "sorted(y, reverse = True)    # to sort from the maximum to the minimum"
   ]
  },
  {
   "cell_type": "markdown",
   "id": "graduate-burst",
   "metadata": {},
   "source": [
    "<h3 align=left>sort tuple lists in a list  "
   ]
  },
  {
   "cell_type": "markdown",
   "id": "linear-potato",
   "metadata": {},
   "source": [
    "<h4 align=left>ascending sort"
   ]
  },
  {
   "cell_type": "code",
   "execution_count": 48,
   "id": "entertaining-video",
   "metadata": {},
   "outputs": [
    {
     "data": {
      "text/plain": [
       "[('F', 9), ('Cl', 17), ('Br', 35), ('I', 53), ('At', 85)]"
      ]
     },
     "execution_count": 48,
     "metadata": {},
     "output_type": "execute_result"
    }
   ],
   "source": [
    "# To sort based on the the second element of the tuple list.\n",
    "\n",
    "y = [('At', 85), ('Br', 35), ('Cl', 17), ('F', 9), ('I', 53)]  \n",
    "sorted(y, key = lambda n: n[1], reverse = False)"
   ]
  },
  {
   "cell_type": "markdown",
   "id": "broadband-smile",
   "metadata": {},
   "source": [
    "<h4 align=left>descending sort"
   ]
  },
  {
   "cell_type": "code",
   "execution_count": 49,
   "id": "imposed-elevation",
   "metadata": {},
   "outputs": [
    {
     "data": {
      "text/plain": [
       "[('enes', 'netherlands', 27, 9),\n",
       " ('salem', 'italy', 30, 8),\n",
       " ('ahmed', 'egypt', 21, 7),\n",
       " ('tamer', 'morroco', 25, 5.5)]"
      ]
     },
     "execution_count": 49,
     "metadata": {},
     "output_type": "execute_result"
    }
   ],
   "source": [
    "# desending sort based on the fourth element of the list\n",
    "\n",
    "y = [('ahmed', 'egypt',21, 7), ('tamer', 'morroco',25, 5.5),('salem', 'italy',30, 8),('enes', 'netherlands',27, 9)]\n",
    "sorted(y, key = lambda e: e[3], reverse = True) "
   ]
  },
  {
   "cell_type": "markdown",
   "id": "cardiac-replication",
   "metadata": {},
   "source": [
    "<h4 align=left>itemgetter sort"
   ]
  },
  {
   "cell_type": "markdown",
   "id": "driving-helmet",
   "metadata": {},
   "source": [
    "<h5 align=left>opyion (1): ascending"
   ]
  },
  {
   "cell_type": "code",
   "execution_count": 50,
   "id": "acknowledged-bunny",
   "metadata": {},
   "outputs": [
    {
     "name": "stdout",
     "output_type": "stream",
     "text": [
      "[('dave', 'B', 10), ('jane', 'B', 12), ('john', 'A', 15)]\n"
     ]
    }
   ],
   "source": [
    "from operator import itemgetter\n",
    "\n",
    "student_tuples = [('john', 'A', 15),('jane', 'B', 12),('dave', 'B', 10)]\n",
    "print(sorted(student_tuples, key=itemgetter(2)))"
   ]
  },
  {
   "cell_type": "markdown",
   "id": "humanitarian-flooring",
   "metadata": {},
   "source": [
    "<h5 align=left>opyion (2): multi sorting"
   ]
  },
  {
   "cell_type": "code",
   "execution_count": 51,
   "id": "automated-courtesy",
   "metadata": {},
   "outputs": [
    {
     "name": "stdout",
     "output_type": "stream",
     "text": [
      "[('john', 'A', 15), ('dave', 'B', 10), ('jane', 'B', 12)]\n"
     ]
    }
   ],
   "source": [
    "# in this order, we sort based on a certain element, and if somehow it has the same value, then it sorts based on second element.\n",
    "\n",
    "print(sorted(student_tuples, key=itemgetter(1,2)))"
   ]
  },
  {
   "cell_type": "markdown",
   "id": "cross-billion",
   "metadata": {},
   "source": [
    "<h3 align=left>sort a list based on number of a certain letter "
   ]
  },
  {
   "cell_type": "code",
   "execution_count": 52,
   "id": "formed-burlington",
   "metadata": {},
   "outputs": [
    {
     "name": "stdout",
     "output_type": "stream",
     "text": [
      "['hurry!', 'critical!!!', 'bla bla', 'alabama']\n"
     ]
    }
   ],
   "source": [
    "from operator import methodcaller\n",
    "# ascending sort basd on the number of a certain letter\n",
    "\n",
    "messages = ['critical!!!', 'hurry!', 'bla bla', 'alabama']\n",
    "print(sorted(messages, key = methodcaller ('count', 'a')))  \n"
   ]
  },
  {
   "cell_type": "markdown",
   "id": "proprietary-capture",
   "metadata": {},
   "source": [
    "<h2 align=left>split function"
   ]
  },
  {
   "cell_type": "markdown",
   "id": "considerable-trailer",
   "metadata": {},
   "source": [
    "<h3 align=left>option (1)"
   ]
  },
  {
   "cell_type": "code",
   "execution_count": 55,
   "id": "extreme-accessory",
   "metadata": {},
   "outputs": [
    {
     "data": {
      "text/plain": [
       "['I', 'love', 'Python']"
      ]
     },
     "execution_count": 55,
     "metadata": {},
     "output_type": "execute_result"
    }
   ],
   "source": [
    "s = 'I love Python' \n",
    "# split based on the space between the words\n",
    "\n",
    "s.split()    "
   ]
  },
  {
   "cell_type": "markdown",
   "id": "endangered-conservative",
   "metadata": {},
   "source": [
    "<h3 align=left>option (2)"
   ]
  },
  {
   "cell_type": "code",
   "execution_count": 57,
   "id": "positive-shore",
   "metadata": {},
   "outputs": [
    {
     "data": {
      "text/plain": [
       "['I', ' love, Python']"
      ]
     },
     "execution_count": 57,
     "metadata": {},
     "output_type": "execute_result"
    }
   ],
   "source": [
    "s = 'I, love, Python' \n",
    "s.split(sep=',', maxsplit = 1)    "
   ]
  },
  {
   "cell_type": "markdown",
   "id": "traditional-sandwich",
   "metadata": {},
   "source": [
    "> maxsplit: is the max. required number to split in a sentense. "
   ]
  },
  {
   "cell_type": "code",
   "execution_count": 58,
   "id": "going-nickel",
   "metadata": {},
   "outputs": [
    {
     "data": {
      "text/plain": [
       "['I', ' love', ' Python']"
      ]
     },
     "execution_count": 58,
     "metadata": {},
     "output_type": "execute_result"
    }
   ],
   "source": [
    "s = 'I, love, Python' \n",
    "s.split(sep=',', maxsplit= 2)"
   ]
  },
  {
   "cell_type": "markdown",
   "id": "systematic-pearl",
   "metadata": {},
   "source": [
    "<h2 align=left>check element exist in the list"
   ]
  },
  {
   "cell_type": "code",
   "execution_count": 59,
   "id": "ethical-silicon",
   "metadata": {},
   "outputs": [
    {
     "data": {
      "text/plain": [
       "False"
      ]
     },
     "execution_count": 59,
     "metadata": {},
     "output_type": "execute_result"
    }
   ],
   "source": [
    "y = [3,4,6,5,6,2,8,1.2]\n",
    "7 in y      "
   ]
  },
  {
   "cell_type": "code",
   "execution_count": 60,
   "id": "sharp-owner",
   "metadata": {},
   "outputs": [
    {
     "data": {
      "text/plain": [
       "True"
      ]
     },
     "execution_count": 60,
     "metadata": {},
     "output_type": "execute_result"
    }
   ],
   "source": [
    "3 in y"
   ]
  },
  {
   "cell_type": "markdown",
   "id": "formal-ministry",
   "metadata": {},
   "source": [
    "<h2 align=left>count function"
   ]
  },
  {
   "cell_type": "code",
   "execution_count": 61,
   "id": "focal-narrative",
   "metadata": {},
   "outputs": [
    {
     "data": {
      "text/plain": [
       "2"
      ]
     },
     "execution_count": 61,
     "metadata": {},
     "output_type": "execute_result"
    }
   ],
   "source": [
    "# to count how many time does a certain elment repeat in a list\n",
    "\n",
    "y.count (6)   "
   ]
  },
  {
   "cell_type": "markdown",
   "id": "above-davis",
   "metadata": {},
   "source": [
    "<h2 align=left>Index function"
   ]
  },
  {
   "cell_type": "code",
   "execution_count": 62,
   "id": "prostate-reminder",
   "metadata": {},
   "outputs": [
    {
     "data": {
      "text/plain": [
       "2"
      ]
     },
     "execution_count": 62,
     "metadata": {},
     "output_type": "execute_result"
    }
   ],
   "source": [
    "# to check where exactly this element is in the list.\n",
    "\n",
    "y.index (6)   "
   ]
  },
  {
   "cell_type": "markdown",
   "id": "latter-charge",
   "metadata": {},
   "source": [
    "<h2 align=left>Reverse function"
   ]
  },
  {
   "cell_type": "code",
   "execution_count": 63,
   "id": "mature-asbestos",
   "metadata": {},
   "outputs": [
    {
     "data": {
      "text/plain": [
       "[3, 4, 6, 5, 6, 2, 8, 1.2]"
      ]
     },
     "execution_count": 63,
     "metadata": {},
     "output_type": "execute_result"
    }
   ],
   "source": [
    "y"
   ]
  },
  {
   "cell_type": "code",
   "execution_count": 65,
   "id": "challenging-tractor",
   "metadata": {},
   "outputs": [
    {
     "name": "stdout",
     "output_type": "stream",
     "text": [
      "[3, 4, 6, 5, 6, 2, 8, 1.2]\n"
     ]
    }
   ],
   "source": [
    "y.reverse()   \n",
    "print(y)"
   ]
  },
  {
   "cell_type": "markdown",
   "id": "bottom-buffer",
   "metadata": {},
   "source": [
    "<h2 align=left>Range function"
   ]
  },
  {
   "cell_type": "markdown",
   "id": "thrown-wallet",
   "metadata": {},
   "source": [
    "<h3 align=left>option (1)"
   ]
  },
  {
   "cell_type": "code",
   "execution_count": 66,
   "id": "coordinated-audit",
   "metadata": {},
   "outputs": [
    {
     "data": {
      "text/plain": [
       "[0, 1, 2, 3, 4, 5, 6, 7, 8, 9, 10, 11, 12, 13, 14, 15, 16, 17, 18, 19]"
      ]
     },
     "execution_count": 66,
     "metadata": {},
     "output_type": "execute_result"
    }
   ],
   "source": [
    "# to build a list a list within a range\n",
    "\n",
    "N = list(range(20))\n",
    "N "
   ]
  },
  {
   "cell_type": "markdown",
   "id": "domestic-adult",
   "metadata": {},
   "source": [
    "<h3 align=left>option (2)"
   ]
  },
  {
   "cell_type": "code",
   "execution_count": 67,
   "id": "removable-bearing",
   "metadata": {},
   "outputs": [
    {
     "data": {
      "text/plain": [
       "[5, 6, 7, 8, 9, 10, 11, 12, 13, 14, 15, 16, 17, 18, 19]"
      ]
     },
     "execution_count": 67,
     "metadata": {},
     "output_type": "execute_result"
    }
   ],
   "source": [
    "N = list(range(5,20))  \n",
    "N"
   ]
  },
  {
   "cell_type": "markdown",
   "id": "catholic-disco",
   "metadata": {},
   "source": [
    "<h3 align=left>option (3)"
   ]
  },
  {
   "cell_type": "code",
   "execution_count": 68,
   "id": "plain-criminal",
   "metadata": {},
   "outputs": [
    {
     "data": {
      "text/plain": [
       "[2, 5, 8, 11, 14, 17]"
      ]
     },
     "execution_count": 68,
     "metadata": {},
     "output_type": "execute_result"
    }
   ],
   "source": [
    "# To add a step to the range function, we specify the step\n",
    "\n",
    "N = list(range(2,20,3)) \n",
    "N"
   ]
  },
  {
   "cell_type": "markdown",
   "id": "written-personality",
   "metadata": {},
   "source": [
    "<h2 align=left>Iterations"
   ]
  },
  {
   "cell_type": "markdown",
   "id": "distributed-pharmacology",
   "metadata": {},
   "source": [
    "<h3 align=left>option (1)"
   ]
  },
  {
   "cell_type": "code",
   "execution_count": 69,
   "id": "brief-honor",
   "metadata": {},
   "outputs": [
    {
     "data": {
      "text/plain": [
       "[0, 1, 4, 9, 16, 25, 36, 49, 64, 81, 100]"
      ]
     },
     "execution_count": 69,
     "metadata": {},
     "output_type": "execute_result"
    }
   ],
   "source": [
    "# math operation in a list\n",
    "\n",
    "y = [ x**2 for x in range(11)]  \n",
    "y"
   ]
  },
  {
   "cell_type": "markdown",
   "id": "silent-positive",
   "metadata": {},
   "source": [
    "<h3 align=left>option (2)"
   ]
  },
  {
   "cell_type": "code",
   "execution_count": 71,
   "id": "executive-celebrity",
   "metadata": {},
   "outputs": [
    {
     "data": {
      "text/plain": [
       "[0, 1, 4, 9, 16, 25, 36, 49, 64, 81, 100]"
      ]
     },
     "execution_count": 71,
     "metadata": {},
     "output_type": "execute_result"
    }
   ],
   "source": [
    "y = list(map(lambda x: x**2, range(11)))\n",
    "y"
   ]
  },
  {
   "cell_type": "markdown",
   "id": "spiritual-norfolk",
   "metadata": {},
   "source": [
    "<h3 align=left>option (3)"
   ]
  },
  {
   "cell_type": "code",
   "execution_count": 72,
   "id": "included-austria",
   "metadata": {},
   "outputs": [
    {
     "name": "stdout",
     "output_type": "stream",
     "text": [
      "[-5.0, -4.5, -4.0, -3.5, -3.0, -2.5, -2.0, -1.5, -1.0, -0.5, 0.0, 0.5, 1.0, 1.5, 2.0, 2.5, 3.0, 3.5, 4.0, 4.5]\n"
     ]
    }
   ],
   "source": [
    "ss = [-5 + i*0.5 for i in range(20)]\n",
    "print(ss)"
   ]
  },
  {
   "cell_type": "markdown",
   "id": "ruled-digest",
   "metadata": {},
   "source": [
    "<h3 align=left>option (4)"
   ]
  },
  {
   "cell_type": "code",
   "execution_count": 74,
   "id": "threatened-tuesday",
   "metadata": {},
   "outputs": [
    {
     "data": {
      "text/plain": [
       "[(1, 3), (1, 1), (1, 4), (2, 3), (2, 1), (2, 4), (3, 3), (3, 1), (3, 4)]"
      ]
     },
     "execution_count": 74,
     "metadata": {},
     "output_type": "execute_result"
    }
   ],
   "source": [
    "f = [ (x, y) for x in [1,2,3] for y in [3,1,4] ]   \n",
    "f"
   ]
  },
  {
   "cell_type": "markdown",
   "id": "coastal-archive",
   "metadata": {},
   "source": [
    "<h3 align=left>option (5)"
   ]
  },
  {
   "cell_type": "code",
   "execution_count": 75,
   "id": "measured-universe",
   "metadata": {},
   "outputs": [
    {
     "data": {
      "text/plain": [
       "[(1, 3), (1, 4), (2, 3), (2, 1), (2, 4), (3, 1), (3, 4)]"
      ]
     },
     "execution_count": 75,
     "metadata": {},
     "output_type": "execute_result"
    }
   ],
   "source": [
    "# x != y means does not equal eachothers\n",
    "\n",
    "f = [(x, y) for x in [1,2,3] for y in [3,1,4] if x != y]      \n",
    "f"
   ]
  },
  {
   "cell_type": "markdown",
   "id": "medium-density",
   "metadata": {},
   "source": [
    "<h3 align=left>option (6)"
   ]
  },
  {
   "cell_type": "code",
   "execution_count": 77,
   "id": "flexible-execution",
   "metadata": {},
   "outputs": [
    {
     "data": {
      "text/plain": [
       "[[0, 0, 0, 0, 0],\n",
       " [0, 0, 0, 0, 0],\n",
       " [0, 0, 0, 0, 0],\n",
       " [0, 0, 0, 0, 0],\n",
       " [0, 0, 0, 0, 0],\n",
       " [0, 0, 0, 0, 0],\n",
       " [0, 0, 0, 0, 0]]"
      ]
     },
     "execution_count": 77,
     "metadata": {},
     "output_type": "execute_result"
    }
   ],
   "source": [
    "# create a matrix of two dimensions using range option\n",
    "\n",
    "L = [[0 for i in range(5)] for j in range(7)] \n",
    "L"
   ]
  },
  {
   "cell_type": "markdown",
   "id": "composed-taste",
   "metadata": {},
   "source": [
    "<h3 align=left>option (7)"
   ]
  },
  {
   "cell_type": "code",
   "execution_count": 79,
   "id": "recognized-defeat",
   "metadata": {},
   "outputs": [
    {
     "data": {
      "text/plain": [
       "[0, 1, 2, 3, 4, 5, 6, 7, 8, 9, 10, 11, 12, 13, 14, 15, 16, 17, 18, 19]"
      ]
     },
     "execution_count": 79,
     "metadata": {},
     "output_type": "execute_result"
    }
   ],
   "source": [
    "I = list(iter(range(20)))\n",
    "I"
   ]
  },
  {
   "cell_type": "markdown",
   "id": "measured-scope",
   "metadata": {},
   "source": [
    "<h2 align=left>next function"
   ]
  },
  {
   "cell_type": "code",
   "execution_count": 80,
   "id": "outstanding-noise",
   "metadata": {},
   "outputs": [
    {
     "name": "stdout",
     "output_type": "stream",
     "text": [
      "2\n",
      "4\n",
      "6\n",
      "8\n"
     ]
    }
   ],
   "source": [
    "I = iter([2, 4, 6, 8, 10])\n",
    "print(next(I))\n",
    "print(next(I))\n",
    "print(next(I))\n",
    "print(next(I))"
   ]
  },
  {
   "cell_type": "markdown",
   "id": "breeding-medline",
   "metadata": {},
   "source": [
    "<h2 align=left>copy lists"
   ]
  },
  {
   "cell_type": "markdown",
   "id": "constitutional-inquiry",
   "metadata": {},
   "source": [
    "<h3 align=left>option (1)"
   ]
  },
  {
   "cell_type": "code",
   "execution_count": 81,
   "id": "junior-official",
   "metadata": {},
   "outputs": [
    {
     "name": "stdout",
     "output_type": "stream",
     "text": [
      "[1, 2]\n",
      "[1, 2]\n"
     ]
    }
   ],
   "source": [
    "x = [1,2]\n",
    "print(x)\n",
    "y = x\n",
    "print(y)"
   ]
  },
  {
   "cell_type": "code",
   "execution_count": 82,
   "id": "studied-criticism",
   "metadata": {},
   "outputs": [
    {
     "name": "stdout",
     "output_type": "stream",
     "text": [
      "[5, 15]\n",
      "[5, 15]\n"
     ]
    }
   ],
   "source": [
    "x[0] = 5\n",
    "x[1] = 15\n",
    "print(x)\n",
    "print(y)  # y can see all the updates on x list "
   ]
  },
  {
   "cell_type": "markdown",
   "id": "disturbed-better",
   "metadata": {},
   "source": [
    "<h3 align=left>option (2)"
   ]
  },
  {
   "cell_type": "code",
   "execution_count": 83,
   "id": "breathing-clearing",
   "metadata": {},
   "outputs": [
    {
     "name": "stdout",
     "output_type": "stream",
     "text": [
      "[1, 2]\n",
      "[1, 2]\n"
     ]
    }
   ],
   "source": [
    "x = [1,2]\n",
    "y = x.copy()\n",
    "print(x)\n",
    "print(y)"
   ]
  },
  {
   "cell_type": "code",
   "execution_count": 84,
   "id": "actual-statistics",
   "metadata": {},
   "outputs": [
    {
     "name": "stdout",
     "output_type": "stream",
     "text": [
      "[6, 9]\n",
      "[1, 2]\n"
     ]
    }
   ],
   "source": [
    "x = [6,9]\n",
    "print(x)\n",
    "print(y)    # y is just a copy and can not see any operation on x after copy"
   ]
  },
  {
   "cell_type": "markdown",
   "id": "graphic-criterion",
   "metadata": {},
   "source": [
    "<h2 align=left>enumerate function"
   ]
  },
  {
   "cell_type": "code",
   "execution_count": 88,
   "id": "surprising-hacker",
   "metadata": {},
   "outputs": [
    {
     "name": "stdout",
     "output_type": "stream",
     "text": [
      "1 apple\n",
      "2 banana\n",
      "3 grapes\n",
      "4 pear\n"
     ]
    }
   ],
   "source": [
    "my_list= ['apple', 'banana', 'grapes', 'pear']\n",
    "\n",
    "for c, value in enumerate(my_list, 1):   # this function just indexing the elements in the list\n",
    "    print(c, value)                      "
   ]
  }
 ],
 "metadata": {
  "kernelspec": {
   "display_name": "Python 3.9.12 ('base')",
   "language": "python",
   "name": "python3"
  },
  "language_info": {
   "codemirror_mode": {
    "name": "ipython",
    "version": 3
   },
   "file_extension": ".py",
   "mimetype": "text/x-python",
   "name": "python",
   "nbconvert_exporter": "python",
   "pygments_lexer": "ipython3",
   "version": "3.9.12"
  },
  "latex_envs": {
   "LaTeX_envs_menu_present": true,
   "autoclose": false,
   "autocomplete": true,
   "bibliofile": "biblio.bib",
   "cite_by": "apalike",
   "current_citInitial": 1,
   "eqLabelWithNumbers": true,
   "eqNumInitial": 1,
   "hotkeys": {
    "equation": "Ctrl-E",
    "itemize": "Ctrl-I"
   },
   "labels_anchors": false,
   "latex_user_defs": false,
   "report_style_numbering": false,
   "user_envs_cfg": false
  },
  "toc": {
   "base_numbering": 1,
   "nav_menu": {},
   "number_sections": true,
   "sideBar": true,
   "skip_h1_title": true,
   "title_cell": "Table of Contents",
   "title_sidebar": "Contents",
   "toc_cell": true,
   "toc_position": {
    "height": "calc(100% - 180px)",
    "left": "10px",
    "top": "150px",
    "width": "206.797px"
   },
   "toc_section_display": true,
   "toc_window_display": true
  },
  "vscode": {
   "interpreter": {
    "hash": "55f2fe7b1c560c2d324ed046faeb8a55513d29ab718ddf7bfc99dad8debd2a7a"
   }
  }
 },
 "nbformat": 4,
 "nbformat_minor": 5
}
