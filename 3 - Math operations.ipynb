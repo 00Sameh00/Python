{
 "cells": [
  {
   "cell_type": "markdown",
   "id": "legendary-circulation",
   "metadata": {},
   "source": [
    "<h1 align=center>Math operations in Python"
   ]
  },
  {
   "cell_type": "markdown",
   "id": "middle-underground",
   "metadata": {
    "toc": true
   },
   "source": [
    "<h1>Table of Contents<span class=\"tocSkip\"></span></h1>\n",
    "<div class=\"toc\"><ul class=\"toc-item\"><li><span><a href=\"#Math-operations\" data-toc-modified-id=\"Math-operations-1\"><span class=\"toc-item-num\">1&nbsp;&nbsp;</span>Math operations</a></span></li><li><span><a href=\"#Exercises\" data-toc-modified-id=\"Exercises-2\"><span class=\"toc-item-num\">2&nbsp;&nbsp;</span>Exercises</a></span></li></ul></div>"
   ]
  },
  {
   "cell_type": "markdown",
   "id": "numerical-representation",
   "metadata": {},
   "source": [
    "<h2 align=left>Math operations"
   ]
  },
  {
   "cell_type": "raw",
   "id": "piano-theorem",
   "metadata": {},
   "source": [
    "x + y       # Plural\n",
    "x - y       # Subtract\n",
    "x * y       # Multiplication "
   ]
  },
  {
   "cell_type": "raw",
   "id": "sealed-drain",
   "metadata": {},
   "source": [
    "x / y       # division\n",
    "x // y      # Division with whole numbers\n",
    "x % y       # remainder of the division\n",
    "divmod(x,y) # Two numbers ( The division output, and the remainder )"
   ]
  },
  {
   "cell_type": "raw",
   "id": "intimate-looking",
   "metadata": {},
   "source": [
    "x ** y      # exponent\n",
    "pow(x,y)    # exponent"
   ]
  },
  {
   "cell_type": "raw",
   "id": "arabic-inspection",
   "metadata": {},
   "source": [
    "x == y      # Does it equal to each others\n",
    "x > y       # bigger than \n",
    "x >= y      # greater than or equal to\n",
    "x < y       # Smaller than\n",
    "x <= y      # Smaller than or equal to\n",
    "15 < a < 30 # هل قيمة Is a greater than 15 and smaller than 30"
   ]
  },
  {
   "cell_type": "raw",
   "id": "regulation-scale",
   "metadata": {},
   "source": [
    "abs(x)      # absolute value\n",
    "int(x)      # integer value"
   ]
  },
  {
   "cell_type": "raw",
   "id": "proved-velvet",
   "metadata": {},
   "source": [
    "complex(5,4) # complex number "
   ]
  },
  {
   "cell_type": "markdown",
   "id": "damaged-brisbane",
   "metadata": {},
   "source": [
    "<h2 align=left>Exercises"
   ]
  },
  {
   "cell_type": "code",
   "execution_count": 1,
   "id": "sealed-legislature",
   "metadata": {},
   "outputs": [],
   "source": [
    "a= 5\n",
    "b = 10"
   ]
  },
  {
   "cell_type": "code",
   "execution_count": 2,
   "id": "undefined-cartridge",
   "metadata": {},
   "outputs": [
    {
     "data": {
      "text/plain": [
       "15"
      ]
     },
     "execution_count": 2,
     "metadata": {},
     "output_type": "execute_result"
    }
   ],
   "source": [
    "c = a + b\n",
    "c"
   ]
  },
  {
   "cell_type": "code",
   "execution_count": 3,
   "id": "correct-length",
   "metadata": {},
   "outputs": [
    {
     "data": {
      "text/plain": [
       "5"
      ]
     },
     "execution_count": 3,
     "metadata": {},
     "output_type": "execute_result"
    }
   ],
   "source": [
    "c = b-a\n",
    "c"
   ]
  },
  {
   "cell_type": "code",
   "execution_count": 4,
   "id": "explicit-literacy",
   "metadata": {},
   "outputs": [
    {
     "data": {
      "text/plain": [
       "50"
      ]
     },
     "execution_count": 4,
     "metadata": {},
     "output_type": "execute_result"
    }
   ],
   "source": [
    "c = b * a\n",
    "c"
   ]
  },
  {
   "cell_type": "code",
   "execution_count": 5,
   "id": "vocal-transmission",
   "metadata": {},
   "outputs": [
    {
     "data": {
      "text/plain": [
       "2.0"
      ]
     },
     "execution_count": 5,
     "metadata": {},
     "output_type": "execute_result"
    }
   ],
   "source": [
    "c = b / a\n",
    "c"
   ]
  },
  {
   "cell_type": "code",
   "execution_count": 6,
   "id": "sophisticated-catalyst",
   "metadata": {},
   "outputs": [
    {
     "data": {
      "text/plain": [
       "2.8"
      ]
     },
     "execution_count": 6,
     "metadata": {},
     "output_type": "execute_result"
    }
   ],
   "source": [
    "d = 14\n",
    "c= d / a\n",
    "c"
   ]
  },
  {
   "cell_type": "code",
   "execution_count": 7,
   "id": "successful-cassette",
   "metadata": {},
   "outputs": [
    {
     "data": {
      "text/plain": [
       "2"
      ]
     },
     "execution_count": 7,
     "metadata": {},
     "output_type": "execute_result"
    }
   ],
   "source": [
    "c = d // a\n",
    "c"
   ]
  },
  {
   "cell_type": "code",
   "execution_count": 8,
   "id": "every-process",
   "metadata": {},
   "outputs": [
    {
     "data": {
      "text/plain": [
       "4"
      ]
     },
     "execution_count": 8,
     "metadata": {},
     "output_type": "execute_result"
    }
   ],
   "source": [
    "c = d % a\n",
    "c"
   ]
  },
  {
   "cell_type": "code",
   "execution_count": 9,
   "id": "isolated-springer",
   "metadata": {},
   "outputs": [
    {
     "data": {
      "text/plain": [
       "(2, 4)"
      ]
     },
     "execution_count": 9,
     "metadata": {},
     "output_type": "execute_result"
    }
   ],
   "source": [
    "divmod(d,a)"
   ]
  },
  {
   "cell_type": "code",
   "execution_count": 10,
   "id": "median-merchandise",
   "metadata": {},
   "outputs": [
    {
     "data": {
      "text/plain": [
       "9765625"
      ]
     },
     "execution_count": 10,
     "metadata": {},
     "output_type": "execute_result"
    }
   ],
   "source": [
    "c = a ** b\n",
    "c"
   ]
  },
  {
   "cell_type": "code",
   "execution_count": 11,
   "id": "palestinian-madison",
   "metadata": {},
   "outputs": [
    {
     "data": {
      "text/plain": [
       "9765625"
      ]
     },
     "execution_count": 11,
     "metadata": {},
     "output_type": "execute_result"
    }
   ],
   "source": [
    "pow(a,b)"
   ]
  },
  {
   "cell_type": "code",
   "execution_count": 12,
   "id": "voluntary-astronomy",
   "metadata": {},
   "outputs": [
    {
     "data": {
      "text/plain": [
       "False"
      ]
     },
     "execution_count": 12,
     "metadata": {},
     "output_type": "execute_result"
    }
   ],
   "source": [
    "a == b"
   ]
  },
  {
   "cell_type": "code",
   "execution_count": 13,
   "id": "selective-technical",
   "metadata": {},
   "outputs": [
    {
     "data": {
      "text/plain": [
       "True"
      ]
     },
     "execution_count": 13,
     "metadata": {},
     "output_type": "execute_result"
    }
   ],
   "source": [
    "b > a"
   ]
  },
  {
   "cell_type": "code",
   "execution_count": 14,
   "id": "exceptional-sequence",
   "metadata": {},
   "outputs": [
    {
     "data": {
      "text/plain": [
       "True"
      ]
     },
     "execution_count": 14,
     "metadata": {},
     "output_type": "execute_result"
    }
   ],
   "source": [
    "b >= a"
   ]
  },
  {
   "cell_type": "code",
   "execution_count": 15,
   "id": "gross-monroe",
   "metadata": {},
   "outputs": [
    {
     "data": {
      "text/plain": [
       "False"
      ]
     },
     "execution_count": 15,
     "metadata": {},
     "output_type": "execute_result"
    }
   ],
   "source": [
    "b < a"
   ]
  },
  {
   "cell_type": "code",
   "execution_count": 16,
   "id": "eight-profession",
   "metadata": {},
   "outputs": [
    {
     "data": {
      "text/plain": [
       "False"
      ]
     },
     "execution_count": 16,
     "metadata": {},
     "output_type": "execute_result"
    }
   ],
   "source": [
    "b <= a"
   ]
  },
  {
   "cell_type": "code",
   "execution_count": 17,
   "id": "approximate-pilot",
   "metadata": {},
   "outputs": [
    {
     "data": {
      "text/plain": [
       "True"
      ]
     },
     "execution_count": 17,
     "metadata": {},
     "output_type": "execute_result"
    }
   ],
   "source": [
    "3 < a < 15"
   ]
  },
  {
   "cell_type": "code",
   "execution_count": 18,
   "id": "painful-coffee",
   "metadata": {},
   "outputs": [],
   "source": [
    "x = -30.2 "
   ]
  },
  {
   "cell_type": "code",
   "execution_count": 19,
   "id": "reliable-official",
   "metadata": {},
   "outputs": [
    {
     "data": {
      "text/plain": [
       "30.2"
      ]
     },
     "execution_count": 19,
     "metadata": {},
     "output_type": "execute_result"
    }
   ],
   "source": [
    "abs(x)"
   ]
  },
  {
   "cell_type": "code",
   "execution_count": 20,
   "id": "powerful-initial",
   "metadata": {},
   "outputs": [
    {
     "data": {
      "text/plain": [
       "-30"
      ]
     },
     "execution_count": 20,
     "metadata": {},
     "output_type": "execute_result"
    }
   ],
   "source": [
    "int(x)"
   ]
  },
  {
   "cell_type": "code",
   "execution_count": 22,
   "id": "substantial-support",
   "metadata": {},
   "outputs": [],
   "source": [
    "z = complex(a,b)"
   ]
  },
  {
   "cell_type": "code",
   "execution_count": 23,
   "id": "executive-round",
   "metadata": {},
   "outputs": [
    {
     "data": {
      "text/plain": [
       "5.0"
      ]
     },
     "execution_count": 23,
     "metadata": {},
     "output_type": "execute_result"
    }
   ],
   "source": [
    "z.real"
   ]
  },
  {
   "cell_type": "code",
   "execution_count": 24,
   "id": "academic-intensity",
   "metadata": {},
   "outputs": [
    {
     "data": {
      "text/plain": [
       "10.0"
      ]
     },
     "execution_count": 24,
     "metadata": {},
     "output_type": "execute_result"
    }
   ],
   "source": [
    "z.imag"
   ]
  }
 ],
 "metadata": {
  "kernelspec": {
   "display_name": "Python 3.9.12 ('base')",
   "language": "python",
   "name": "python3"
  },
  "language_info": {
   "codemirror_mode": {
    "name": "ipython",
    "version": 3
   },
   "file_extension": ".py",
   "mimetype": "text/x-python",
   "name": "python",
   "nbconvert_exporter": "python",
   "pygments_lexer": "ipython3",
   "version": "3.9.12"
  },
  "latex_envs": {
   "LaTeX_envs_menu_present": true,
   "autoclose": false,
   "autocomplete": true,
   "bibliofile": "biblio.bib",
   "cite_by": "apalike",
   "current_citInitial": 1,
   "eqLabelWithNumbers": true,
   "eqNumInitial": 1,
   "hotkeys": {
    "equation": "Ctrl-E",
    "itemize": "Ctrl-I"
   },
   "labels_anchors": false,
   "latex_user_defs": false,
   "report_style_numbering": false,
   "user_envs_cfg": false
  },
  "toc": {
   "base_numbering": 1,
   "nav_menu": {},
   "number_sections": true,
   "sideBar": true,
   "skip_h1_title": true,
   "title_cell": "Table of Contents",
   "title_sidebar": "Contents",
   "toc_cell": true,
   "toc_position": {
    "height": "calc(100% - 180px)",
    "left": "10px",
    "top": "150px",
    "width": "165px"
   },
   "toc_section_display": true,
   "toc_window_display": true
  },
  "vscode": {
   "interpreter": {
    "hash": "55f2fe7b1c560c2d324ed046faeb8a55513d29ab718ddf7bfc99dad8debd2a7a"
   }
  }
 },
 "nbformat": 4,
 "nbformat_minor": 5
}
