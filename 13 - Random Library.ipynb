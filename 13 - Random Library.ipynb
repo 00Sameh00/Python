{
 "cells": [
  {
   "cell_type": "markdown",
   "id": "trained-thread",
   "metadata": {},
   "source": [
    "<h1 align=center>Random Library"
   ]
  },
  {
   "cell_type": "markdown",
   "id": "functional-salvation",
   "metadata": {
    "toc": true
   },
   "source": [
    "<h1>Table of Contents<span class=\"tocSkip\"></span></h1>\n",
    "<div class=\"toc\"><ul class=\"toc-item\"><li><span><a href=\"#Import-Library-module\" data-toc-modified-id=\"Import-Library-module-1\"><span class=\"toc-item-num\">1&nbsp;&nbsp;</span>Import Library module</a></span></li><li><span><a href=\"#-important-Randam-functions\" data-toc-modified-id=\"-important-Randam-functions-2\"><span class=\"toc-item-num\">2&nbsp;&nbsp;</span> important Randam functions</a></span><ul class=\"toc-item\"><li><span><a href=\"#Random-function\" data-toc-modified-id=\"Random-function-2.1\"><span class=\"toc-item-num\">2.1&nbsp;&nbsp;</span>Random function</a></span></li><li><span><a href=\"#randint-function\" data-toc-modified-id=\"randint-function-2.2\"><span class=\"toc-item-num\">2.2&nbsp;&nbsp;</span>randint function</a></span></li><li><span><a href=\"#uniform-function\" data-toc-modified-id=\"uniform-function-2.3\"><span class=\"toc-item-num\">2.3&nbsp;&nbsp;</span>uniform function</a></span></li><li><span><a href=\"#randrange-function\" data-toc-modified-id=\"randrange-function-2.4\"><span class=\"toc-item-num\">2.4&nbsp;&nbsp;</span>randrange function</a></span></li><li><span><a href=\"#choice-function\" data-toc-modified-id=\"choice-function-2.5\"><span class=\"toc-item-num\">2.5&nbsp;&nbsp;</span>choice function</a></span></li><li><span><a href=\"#sample-function\" data-toc-modified-id=\"sample-function-2.6\"><span class=\"toc-item-num\">2.6&nbsp;&nbsp;</span>sample function</a></span></li><li><span><a href=\"#shuffle-function\" data-toc-modified-id=\"shuffle-function-2.7\"><span class=\"toc-item-num\">2.7&nbsp;&nbsp;</span>shuffle function</a></span></li></ul></li></ul></div>"
   ]
  },
  {
   "cell_type": "markdown",
   "id": "suitable-italy",
   "metadata": {},
   "source": [
    "<h2 align=left>Import Library module"
   ]
  },
  {
   "cell_type": "code",
   "execution_count": 1,
   "id": "familiar-breeding",
   "metadata": {},
   "outputs": [],
   "source": [
    "import random as rn"
   ]
  },
  {
   "cell_type": "markdown",
   "id": "clinical-watch",
   "metadata": {},
   "source": [
    "<h2 align=left> important Randam functions"
   ]
  },
  {
   "cell_type": "markdown",
   "id": "aggressive-explorer",
   "metadata": {},
   "source": [
    "<h3 align=left>Random function"
   ]
  },
  {
   "cell_type": "code",
   "execution_count": 2,
   "id": "convinced-completion",
   "metadata": {},
   "outputs": [
    {
     "name": "stdout",
     "output_type": "stream",
     "text": [
      "0.1556733191074139\n"
     ]
    }
   ],
   "source": [
    "# used when we are in need for a fractional number between zero and one (0 & 1)\n",
    "\n",
    "a = rn.random()   \n",
    "print(a)"
   ]
  },
  {
   "cell_type": "markdown",
   "id": "manual-occurrence",
   "metadata": {},
   "source": [
    "<h3 align=left>randint function"
   ]
  },
  {
   "cell_type": "code",
   "execution_count": 3,
   "id": "basic-acceptance",
   "metadata": {},
   "outputs": [
    {
     "name": "stdout",
     "output_type": "stream",
     "text": [
      "5\n"
     ]
    }
   ],
   "source": [
    "# used when i do need a correct number within a certain range  \n",
    "\n",
    "a = rn.randint(1,20)   \n",
    "print(a)"
   ]
  },
  {
   "cell_type": "markdown",
   "id": "historic-fundamental",
   "metadata": {},
   "source": [
    "<h3 align=left>uniform function"
   ]
  },
  {
   "cell_type": "code",
   "execution_count": 4,
   "id": "strange-protein",
   "metadata": {},
   "outputs": [
    {
     "name": "stdout",
     "output_type": "stream",
     "text": [
      "19.21120533024206\n"
     ]
    }
   ],
   "source": [
    "# to get a fractional number within a range of numbers.\n",
    "\n",
    "a = rn.uniform(1,20)  \n",
    "print(a)"
   ]
  },
  {
   "cell_type": "markdown",
   "id": "fallen-wells",
   "metadata": {},
   "source": [
    "<h3 align=left>randrange function"
   ]
  },
  {
   "cell_type": "code",
   "execution_count": 5,
   "id": "second-scott",
   "metadata": {},
   "outputs": [
    {
     "name": "stdout",
     "output_type": "stream",
     "text": [
      "76\n"
     ]
    }
   ],
   "source": [
    "# to get a correct number within a certain range started from zero(0) \n",
    "\n",
    "a = rn.randrange(150) \n",
    "print(a)"
   ]
  },
  {
   "cell_type": "code",
   "execution_count": 6,
   "id": "valid-angel",
   "metadata": {},
   "outputs": [
    {
     "name": "stdout",
     "output_type": "stream",
     "text": [
      "2\n"
     ]
    }
   ],
   "source": [
    "# to get acorrect number within a certain number with a chosen step\n",
    "\n",
    "a =rn.randrange(0,20,2)   \n",
    "print(a)"
   ]
  },
  {
   "cell_type": "markdown",
   "id": "focal-enlargement",
   "metadata": {},
   "source": [
    "<h3 align=left>choice function"
   ]
  },
  {
   "cell_type": "code",
   "execution_count": 7,
   "id": "empirical-journey",
   "metadata": {},
   "outputs": [
    {
     "name": "stdout",
     "output_type": "stream",
     "text": [
      "b\n"
     ]
    }
   ],
   "source": [
    "# randomly choose an element from a given list \n",
    "\n",
    "a =rn.choice(['a','b','c'])  \n",
    "print(a)"
   ]
  },
  {
   "cell_type": "code",
   "execution_count": 8,
   "id": "precise-monaco",
   "metadata": {},
   "outputs": [
    {
     "name": "stdout",
     "output_type": "stream",
     "text": [
      "m\n"
     ]
    }
   ],
   "source": [
    "# rndomly choose a letter from a given string \n",
    "\n",
    "a =rn.choice('sweet home alabama')  \n",
    "print(a)"
   ]
  },
  {
   "cell_type": "markdown",
   "id": "brown-netscape",
   "metadata": {},
   "source": [
    "<h3 align=left>sample function"
   ]
  },
  {
   "cell_type": "code",
   "execution_count": 9,
   "id": "sonic-mainstream",
   "metadata": {
    "code_folding": []
   },
   "outputs": [
    {
     "name": "stdout",
     "output_type": "stream",
     "text": [
      "[37, 17, 9, 30, 38, 164, 25, 138, 186, 92]\n"
     ]
    }
   ],
   "source": [
    "# to get multible random elements within a range\n",
    "\n",
    "a = rn.sample(range(200) ,10) # where it gives me 10 random elements within range (0, 200)\n",
    "print(a)"
   ]
  },
  {
   "cell_type": "markdown",
   "id": "dietary-gospel",
   "metadata": {},
   "source": [
    "<h3 align=left>shuffle function"
   ]
  },
  {
   "cell_type": "code",
   "execution_count": 10,
   "id": "impressive-husband",
   "metadata": {
    "scrolled": true
   },
   "outputs": [
    {
     "name": "stdout",
     "output_type": "stream",
     "text": [
      "[6, 5, 2, 3, 1, 4]\n"
     ]
    }
   ],
   "source": [
    "# to shuffle a given list\n",
    "items = [1,2,3,4,5,6]\n",
    "\n",
    "rn.shuffle(items)    \n",
    "print (items)"
   ]
  }
 ],
 "metadata": {
  "kernelspec": {
   "display_name": "base",
   "language": "python",
   "name": "python3"
  },
  "language_info": {
   "codemirror_mode": {
    "name": "ipython",
    "version": 3
   },
   "file_extension": ".py",
   "mimetype": "text/x-python",
   "name": "python",
   "nbconvert_exporter": "python",
   "pygments_lexer": "ipython3",
   "version": "3.9.12"
  },
  "latex_envs": {
   "LaTeX_envs_menu_present": true,
   "autoclose": false,
   "autocomplete": true,
   "bibliofile": "biblio.bib",
   "cite_by": "apalike",
   "current_citInitial": 1,
   "eqLabelWithNumbers": true,
   "eqNumInitial": 1,
   "hotkeys": {
    "equation": "Ctrl-E",
    "itemize": "Ctrl-I"
   },
   "labels_anchors": false,
   "latex_user_defs": false,
   "report_style_numbering": false,
   "user_envs_cfg": false
  },
  "toc": {
   "base_numbering": 1,
   "nav_menu": {},
   "number_sections": true,
   "sideBar": false,
   "skip_h1_title": true,
   "title_cell": "Table of Contents",
   "title_sidebar": "Contents",
   "toc_cell": true,
   "toc_position": {
    "height": "262.6px",
    "left": "25px",
    "top": "229.125px",
    "width": "225px"
   },
   "toc_section_display": true,
   "toc_window_display": true
  },
  "vscode": {
   "interpreter": {
    "hash": "55f2fe7b1c560c2d324ed046faeb8a55513d29ab718ddf7bfc99dad8debd2a7a"
   }
  }
 },
 "nbformat": 4,
 "nbformat_minor": 5
}
