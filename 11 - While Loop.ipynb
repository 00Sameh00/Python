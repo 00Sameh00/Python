{
 "cells": [
  {
   "cell_type": "markdown",
   "id": "eligible-conditioning",
   "metadata": {},
   "source": [
    "<h1 align=center>While Loop in Python"
   ]
  },
  {
   "cell_type": "markdown",
   "id": "quarterly-continuity",
   "metadata": {
    "toc": true
   },
   "source": [
    "<h1>Table of Contents<span class=\"tocSkip\"></span></h1>\n",
    "<div class=\"toc\"><ul class=\"toc-item\"><li><span><a href=\"#While-loop\" data-toc-modified-id=\"While-loop-1\"><span class=\"toc-item-num\">1&nbsp;&nbsp;</span>While loop</a></span><ul class=\"toc-item\"><li><span><a href=\"#simple-loop\" data-toc-modified-id=\"simple-loop-1.1\"><span class=\"toc-item-num\">1.1&nbsp;&nbsp;</span>simple loop</a></span></li><li><span><a href=\"#while-with-break\" data-toc-modified-id=\"while-with-break-1.2\"><span class=\"toc-item-num\">1.2&nbsp;&nbsp;</span>while with break</a></span></li><li><span><a href=\"#while-with-condition-loop\" data-toc-modified-id=\"while-with-condition-loop-1.3\"><span class=\"toc-item-num\">1.3&nbsp;&nbsp;</span>while with condition loop</a></span></li><li><span><a href=\"#while-loop-with-zero-break\" data-toc-modified-id=\"while-loop-with-zero-break-1.4\"><span class=\"toc-item-num\">1.4&nbsp;&nbsp;</span>while loop with zero break</a></span></li><li><span><a href=\"#-Example\" data-toc-modified-id=\"-Example-1.5\"><span class=\"toc-item-num\">1.5&nbsp;&nbsp;</span> Example</a></span></li></ul></li></ul></div>"
   ]
  },
  {
   "cell_type": "markdown",
   "id": "invalid-removal",
   "metadata": {},
   "source": [
    "<h2 align=left>While loop"
   ]
  },
  {
   "cell_type": "markdown",
   "id": "brief-medication",
   "metadata": {},
   "source": [
    "<h3 align=left>simple loop"
   ]
  },
  {
   "cell_type": "code",
   "execution_count": 1,
   "id": "smart-complexity",
   "metadata": {},
   "outputs": [
    {
     "name": "stdout",
     "output_type": "stream",
     "text": [
      "5\n",
      "6\n",
      "7\n",
      "8\n",
      "9\n",
      "10\n",
      "Done\n"
     ]
    }
   ],
   "source": [
    "n = int(input(\"input number : \"))\n",
    "\n",
    "while n <= 10 :\n",
    "    print(n)\n",
    "    n = n +1\n",
    "print(\"Done\")"
   ]
  },
  {
   "cell_type": "markdown",
   "id": "german-grammar",
   "metadata": {},
   "source": [
    "<h3 align=left>while with break"
   ]
  },
  {
   "cell_type": "code",
   "execution_count": 2,
   "id": "pleasant-shower",
   "metadata": {},
   "outputs": [
    {
     "name": "stdout",
     "output_type": "stream",
     "text": [
      "No\n",
      "No\n",
      "yes\n",
      "end\n"
     ]
    }
   ],
   "source": [
    "while True : \n",
    "    a = int(input(\"Number ?\"))\n",
    "    if a > 15 : \n",
    "        print(\"yes\")\n",
    "        break\n",
    "    else :\n",
    "        print(\"No\")\n",
    "\n",
    "print(\"end\")"
   ]
  },
  {
   "cell_type": "markdown",
   "id": "prescription-phenomenon",
   "metadata": {},
   "source": [
    "<h3 align=left>while with condition loop"
   ]
  },
  {
   "cell_type": "code",
   "execution_count": 3,
   "id": "spread-physics",
   "metadata": {},
   "outputs": [
    {
     "name": "stdout",
     "output_type": "stream",
     "text": [
      "50\n",
      "70\n",
      "90\n",
      "100\n",
      "Done\n"
     ]
    }
   ],
   "source": [
    "n = int(input(\"input number ?\"))\n",
    "while n<=100:\n",
    "    print(n)\n",
    "    n = int(input(\"input number ?\"))\n",
    "print(\"Done\")"
   ]
  },
  {
   "cell_type": "markdown",
   "id": "intermediate-dimension",
   "metadata": {},
   "source": [
    "<h3 align=left>while loop with zero break"
   ]
  },
  {
   "cell_type": "code",
   "execution_count": 4,
   "id": "interracial-moral",
   "metadata": {},
   "outputs": [
    {
     "name": "stdout",
     "output_type": "stream",
     "text": [
      "6\n",
      "5\n",
      "4\n",
      "3\n",
      "2\n",
      "1\n"
     ]
    }
   ],
   "source": [
    "a = 6\n",
    "\n",
    "while a :      \n",
    "    print(a)\n",
    "    a = a-1"
   ]
  },
  {
   "cell_type": "markdown",
   "id": "beginning-defendant",
   "metadata": {},
   "source": [
    "<h3 align=left> Example"
   ]
  },
  {
   "cell_type": "code",
   "execution_count": 5,
   "id": "spread-above",
   "metadata": {},
   "outputs": [
    {
     "name": "stdout",
     "output_type": "stream",
     "text": [
      "more\n",
      "more\n",
      "more\n",
      "more\n",
      "more\n",
      "more\n",
      "enough\n"
     ]
    }
   ],
   "source": [
    "a = 0\n",
    "while a < 6:\n",
    "    a += 1\n",
    "    print(\"more\")\n",
    "else:\n",
    "    print(\"enough\")"
   ]
  }
 ],
 "metadata": {
  "kernelspec": {
   "display_name": "base",
   "language": "python",
   "name": "python3"
  },
  "language_info": {
   "codemirror_mode": {
    "name": "ipython",
    "version": 3
   },
   "file_extension": ".py",
   "mimetype": "text/x-python",
   "name": "python",
   "nbconvert_exporter": "python",
   "pygments_lexer": "ipython3",
   "version": "3.9.12"
  },
  "latex_envs": {
   "LaTeX_envs_menu_present": true,
   "autoclose": false,
   "autocomplete": true,
   "bibliofile": "biblio.bib",
   "cite_by": "apalike",
   "current_citInitial": 1,
   "eqLabelWithNumbers": true,
   "eqNumInitial": 1,
   "hotkeys": {
    "equation": "Ctrl-E",
    "itemize": "Ctrl-I"
   },
   "labels_anchors": false,
   "latex_user_defs": false,
   "report_style_numbering": false,
   "user_envs_cfg": false
  },
  "toc": {
   "base_numbering": 1,
   "nav_menu": {},
   "number_sections": true,
   "sideBar": false,
   "skip_h1_title": true,
   "title_cell": "Table of Contents",
   "title_sidebar": "Contents",
   "toc_cell": true,
   "toc_position": {
    "height": "204.6px",
    "left": "67px",
    "top": "111.125px",
    "width": "165px"
   },
   "toc_section_display": true,
   "toc_window_display": true
  },
  "vscode": {
   "interpreter": {
    "hash": "55f2fe7b1c560c2d324ed046faeb8a55513d29ab718ddf7bfc99dad8debd2a7a"
   }
  }
 },
 "nbformat": 4,
 "nbformat_minor": 5
}
