{
 "cells": [
  {
   "cell_type": "markdown",
   "id": "medium-exhibit",
   "metadata": {},
   "source": [
    "<h1 align= center>Classes in Python"
   ]
  },
  {
   "cell_type": "markdown",
   "id": "middle-palace",
   "metadata": {
    "toc": true
   },
   "source": [
    "<h1>Table of Contents<span class=\"tocSkip\"></span></h1>\n",
    "<div class=\"toc\"><ul class=\"toc-item\"><li><span><a href=\"#Class\" data-toc-modified-id=\"Class-1\"><span class=\"toc-item-num\">1&nbsp;&nbsp;</span>Class</a></span><ul class=\"toc-item\"><li><span><a href=\"#simple-class\" data-toc-modified-id=\"simple-class-1.1\"><span class=\"toc-item-num\">1.1&nbsp;&nbsp;</span>simple class</a></span></li><li><span><a href=\"#Class-Variable\" data-toc-modified-id=\"Class-Variable-1.2\"><span class=\"toc-item-num\">1.2&nbsp;&nbsp;</span>Class Variable</a></span></li><li><span><a href=\"#instance-variable\" data-toc-modified-id=\"instance-variable-1.3\"><span class=\"toc-item-num\">1.3&nbsp;&nbsp;</span>instance variable</a></span></li><li><span><a href=\"#Examples\" data-toc-modified-id=\"Examples-1.4\"><span class=\"toc-item-num\">1.4&nbsp;&nbsp;</span>Examples</a></span><ul class=\"toc-item\"><li><span><a href=\"#Example-(1)\" data-toc-modified-id=\"Example-(1)-1.4.1\"><span class=\"toc-item-num\">1.4.1&nbsp;&nbsp;</span>Example (1)</a></span></li><li><span><a href=\"#Example-(2)\" data-toc-modified-id=\"Example-(2)-1.4.2\"><span class=\"toc-item-num\">1.4.2&nbsp;&nbsp;</span>Example (2)</a></span></li></ul></li></ul></li></ul></div>"
   ]
  },
  {
   "cell_type": "markdown",
   "id": "about-offering",
   "metadata": {},
   "source": [
    "<h2 align=left>Class"
   ]
  },
  {
   "cell_type": "markdown",
   "id": "fabulous-country",
   "metadata": {},
   "source": [
    "<h3 align=left>simple class"
   ]
  },
  {
   "cell_type": "code",
   "execution_count": 1,
   "id": "opening-adelaide",
   "metadata": {},
   "outputs": [],
   "source": [
    "class car : \n",
    "    length = 15\n",
    "    width = 8\n",
    "    height = 6\n",
    "    color = 'white'\n",
    "    volume = length * width * height"
   ]
  },
  {
   "cell_type": "code",
   "execution_count": 2,
   "id": "352e950d",
   "metadata": {},
   "outputs": [
    {
     "name": "stdout",
     "output_type": "stream",
     "text": [
      "white\n"
     ]
    }
   ],
   "source": [
    "print(car.color)"
   ]
  },
  {
   "cell_type": "code",
   "execution_count": 3,
   "id": "joint-haven",
   "metadata": {},
   "outputs": [
    {
     "name": "stdout",
     "output_type": "stream",
     "text": [
      "6\n"
     ]
    }
   ],
   "source": [
    "volvo = car\n",
    "print(volvo.height)"
   ]
  },
  {
   "cell_type": "markdown",
   "id": "downtown-estate",
   "metadata": {},
   "source": [
    "<h3 align=left>Class Variable"
   ]
  },
  {
   "cell_type": "code",
   "execution_count": 4,
   "id": "quiet-pakistan",
   "metadata": {},
   "outputs": [
    {
     "name": "stdout",
     "output_type": "stream",
     "text": [
      "green\n",
      "green\n"
     ]
    }
   ],
   "source": [
    "class car() : \n",
    "    color = 'blue'\n",
    "    \n",
    "volvo = car\n",
    "nissan = car\n",
    "\n",
    "volvo.color = 'white'\n",
    "nissan.color = 'green'\n",
    "\n",
    "print(volvo.color)\n",
    "print(nissan.color)"
   ]
  },
  {
   "cell_type": "markdown",
   "id": "automotive-denmark",
   "metadata": {},
   "source": [
    "<h3 align=left>instance variable"
   ]
  },
  {
   "cell_type": "code",
   "execution_count": 5,
   "id": "pursuant-balloon",
   "metadata": {},
   "outputs": [
    {
     "name": "stdout",
     "output_type": "stream",
     "text": [
      "white\n",
      "green\n"
     ]
    }
   ],
   "source": [
    "class car() :\n",
    "    def __init__(self, color):\n",
    "        self.color = color\n",
    "\n",
    "volvo = car('white')\n",
    "nissan =car ('green')\n",
    "\n",
    "print(volvo.color)\n",
    "print(nissan.color)"
   ]
  },
  {
   "cell_type": "markdown",
   "id": "three-joseph",
   "metadata": {},
   "source": [
    "<space center>"
   ]
  },
  {
   "cell_type": "code",
   "execution_count": 6,
   "id": "pressing-footage",
   "metadata": {},
   "outputs": [
    {
     "name": "stdout",
     "output_type": "stream",
     "text": [
      "1600\n",
      "125000\n"
     ]
    }
   ],
   "source": [
    "class calc():\n",
    "    def __init__(self,p2,p3):\n",
    "        self.power2 = p2**2\n",
    "        self.power3 = p3**3\n",
    "\n",
    "a = calc(40,50)\n",
    "print(a.power2)\n",
    "print(a.power3)"
   ]
  },
  {
   "cell_type": "code",
   "execution_count": 7,
   "id": "serious-retirement",
   "metadata": {},
   "outputs": [
    {
     "name": "stdout",
     "output_type": "stream",
     "text": [
      "100\n",
      "8000\n"
     ]
    }
   ],
   "source": [
    "# And we can make default values for the parameters  \n",
    "\n",
    "class d :\n",
    "    def __init__(self, p2=10, p3 =20):\n",
    "        self.power2 = p2**2\n",
    "        self.power3 = p3**3\n",
    "    \n",
    "a = d()\n",
    "print(a.power2)\n",
    "print(a.power3)"
   ]
  },
  {
   "cell_type": "code",
   "execution_count": 8,
   "id": "photographic-travel",
   "metadata": {},
   "outputs": [
    {
     "name": "stdout",
     "output_type": "stream",
     "text": [
      "25\n",
      "27\n"
     ]
    }
   ],
   "source": [
    "# And we can set it or cancel the default values  \n",
    "     \n",
    "a = d(5,3)\n",
    "print(a.power2)\n",
    "print(a.power3)"
   ]
  },
  {
   "cell_type": "code",
   "execution_count": 9,
   "id": "directed-reader",
   "metadata": {},
   "outputs": [
    {
     "name": "stdout",
     "output_type": "stream",
     "text": [
      "25\n",
      "27\n"
     ]
    }
   ],
   "source": [
    "a = d(p2=5,p3=3)\n",
    "print(a.power2)\n",
    "print(a.power3)"
   ]
  },
  {
   "cell_type": "code",
   "execution_count": 10,
   "id": "pregnant-bleeding",
   "metadata": {
    "code_folding": []
   },
   "outputs": [
    {
     "name": "stdout",
     "output_type": "stream",
     "text": [
      "50.0\n"
     ]
    }
   ],
   "source": [
    "class d:\n",
    "    def __init__(self, nn, p2 = 10 ,p3 = 10):\n",
    "        self.power2 = p2**2\n",
    "        self.power3 = p3**3\n",
    "        self.roots = nn\n",
    "        \n",
    "    def root(self):\n",
    "        print(self.roots**0.5)\n",
    "        \n",
    "        \n",
    "a = d(2500)\n",
    "a.root()"
   ]
  },
  {
   "cell_type": "code",
   "execution_count": 11,
   "id": "whole-barcelona",
   "metadata": {},
   "outputs": [
    {
     "name": "stdout",
     "output_type": "stream",
     "text": [
      "9\n",
      "55\n"
     ]
    }
   ],
   "source": [
    "# We can also deal with the class functions  directly without passing through __init__\n",
    "\n",
    "\n",
    "class d :\n",
    "    def square(n) :\n",
    "        print (n**2)\n",
    "    \n",
    "    def summ(a,b,c,d,e,f) :\n",
    "        return ((a+b-c+e)*(d+f))\n",
    "  \n",
    "\n",
    "a = d    \n",
    "a.square(3)\n",
    "print(a.summ(1,2,3,4,5,7))"
   ]
  },
  {
   "cell_type": "markdown",
   "id": "furnished-china",
   "metadata": {},
   "source": [
    "<h3 align=left>Examples"
   ]
  },
  {
   "cell_type": "markdown",
   "id": "first-tackle",
   "metadata": {},
   "source": [
    "<h4 align=left>Example (1)"
   ]
  },
  {
   "cell_type": "code",
   "execution_count": 12,
   "id": "touched-pizza",
   "metadata": {},
   "outputs": [],
   "source": [
    "class Account:\n",
    "    def __init__(self, name, account_number, initial_amount):\n",
    "        self.name = name\n",
    "        self.no = account_number\n",
    "        self.balance = initial_amount\n",
    "    \n",
    "    def deposit(self, amount):\n",
    "        self.balance += amount\n",
    "        \n",
    "    def withdraw(self, amount):\n",
    "        self.balance -= amount\n",
    "\n",
    "    def show(self):\n",
    "        s = '%s, %s, balance: %s' % (self.name, self.no, self.balance)\n",
    "        print (s)"
   ]
  },
  {
   "cell_type": "code",
   "execution_count": 13,
   "id": "b9875fd8",
   "metadata": {},
   "outputs": [
    {
     "name": "stdout",
     "output_type": "stream",
     "text": [
      "a1 balance :   20000\n",
      "a2 no      :   19371564761\n"
     ]
    }
   ],
   "source": [
    "a1 = Account('John Olsson', '19371554951', 20000)\n",
    "a2 = Account('Liz Olsson', '19371564761', 50000)\n",
    "print(\"a1 balance :  \" , a1.balance )\n",
    "print(\"a2 no      :  \" ,   a2.no)"
   ]
  },
  {
   "cell_type": "code",
   "execution_count": 14,
   "id": "213474ce",
   "metadata": {},
   "outputs": [
    {
     "name": "stdout",
     "output_type": "stream",
     "text": [
      "a1's balance: 13500\n",
      "a2's balance: 39500\n"
     ]
    }
   ],
   "source": [
    "a1.deposit(1000)\n",
    "a1.withdraw(4000)\n",
    "a2.withdraw(10500)\n",
    "a1.withdraw(3500)\n",
    "\n",
    "print (\"a1's balance:\", a1.balance)\n",
    "print (\"a2's balance:\", a2.balance)"
   ]
  },
  {
   "cell_type": "code",
   "execution_count": 15,
   "id": "b44a09e8",
   "metadata": {},
   "outputs": [
    {
     "name": "stdout",
     "output_type": "stream",
     "text": [
      "John Olsson, 19371554951, balance: 13500\n",
      "Liz Olsson, 19371564761, balance: 39500\n"
     ]
    }
   ],
   "source": [
    "a1.show()\n",
    "a2.show()"
   ]
  },
  {
   "cell_type": "markdown",
   "id": "compatible-coordinator",
   "metadata": {},
   "source": [
    "<h4 align=left>Example (2)"
   ]
  },
  {
   "cell_type": "code",
   "execution_count": 16,
   "id": "mobile-berkeley",
   "metadata": {},
   "outputs": [],
   "source": [
    "class Person:\n",
    "    def __init__(self, name, mobile_phone = None, office_phone = None, private_phone = None, email = None):\n",
    "        self.name = name\n",
    "        self.mobile = mobile_phone\n",
    "        self.office = office_phone\n",
    "        self.private = private_phone\n",
    "        self.email = email\n",
    "\n",
    "    def add_mobile_phone(self, number):\n",
    "        self.mobile = number\n",
    "\n",
    "    def add_office_phone(self, number):\n",
    "        self.office = number\n",
    "\n",
    "    def add_private_phone(self, number):\n",
    "        self.private = number\n",
    "\n",
    "    def add_email(self, address):\n",
    "        self.email = address\n",
    "\n",
    "    def dump(self):\n",
    "        s = self.name + '\\n'\n",
    "        if self.mobile is not None:\n",
    "            s += 'mobile phone: %s\\n' % self.mobile\n",
    "        if self.office is not None:\n",
    "            s += 'office phone: %s\\n' % self.office\n",
    "        if self.private is not None:\n",
    "            s += 'private phone: %s\\n' % self.private\n",
    "        if self.email is not None:\n",
    "            s += 'email address: %s\\n' % self.email\n",
    "        print (s)"
   ]
  },
  {
   "cell_type": "code",
   "execution_count": 17,
   "id": "061acb45",
   "metadata": {},
   "outputs": [
    {
     "name": "stdout",
     "output_type": "stream",
     "text": [
      "Hans Hanson\n",
      "office phone: 767828283\n",
      "email address: h@hanshanson.com\n",
      "\n",
      "Ole Olsen\n",
      "office phone: 767828292\n",
      "email address: olsen@somemail.net\n",
      "\n"
     ]
    }
   ],
   "source": [
    "p1 = Person('Hans Hanson',office_phone='767828283', email='h@hanshanson.com')\n",
    "p2 = Person('Ole Olsen', office_phone='767828292')\n",
    "p2.add_email('olsen@somemail.net')\n",
    "phone_book = [p1, p2]\n",
    "\n",
    "for person in phone_book:\n",
    "    person.dump()"
   ]
  }
 ],
 "metadata": {
  "kernelspec": {
   "display_name": "base",
   "language": "python",
   "name": "python3"
  },
  "language_info": {
   "codemirror_mode": {
    "name": "ipython",
    "version": 3
   },
   "file_extension": ".py",
   "mimetype": "text/x-python",
   "name": "python",
   "nbconvert_exporter": "python",
   "pygments_lexer": "ipython3",
   "version": "3.9.12"
  },
  "latex_envs": {
   "LaTeX_envs_menu_present": true,
   "autoclose": false,
   "autocomplete": true,
   "bibliofile": "biblio.bib",
   "cite_by": "apalike",
   "current_citInitial": 1,
   "eqLabelWithNumbers": true,
   "eqNumInitial": 1,
   "hotkeys": {
    "equation": "Ctrl-E",
    "itemize": "Ctrl-I"
   },
   "labels_anchors": false,
   "latex_user_defs": false,
   "report_style_numbering": false,
   "user_envs_cfg": false
  },
  "toc": {
   "base_numbering": 1,
   "nav_menu": {},
   "number_sections": true,
   "sideBar": false,
   "skip_h1_title": true,
   "title_cell": "Table of Contents",
   "title_sidebar": "Contents",
   "toc_cell": true,
   "toc_position": {
    "height": "262.6px",
    "left": "71px",
    "top": "180.125px",
    "width": "191px"
   },
   "toc_section_display": true,
   "toc_window_display": true
  },
  "vscode": {
   "interpreter": {
    "hash": "55f2fe7b1c560c2d324ed046faeb8a55513d29ab718ddf7bfc99dad8debd2a7a"
   }
  }
 },
 "nbformat": 4,
 "nbformat_minor": 5
}
