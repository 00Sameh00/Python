{
 "cells": [
  {
   "cell_type": "markdown",
   "id": "complete-redhead",
   "metadata": {},
   "source": [
    "<h1 align=center> Tuples, Sets and dictionaries in Python"
   ]
  },
  {
   "cell_type": "markdown",
   "id": "fifteen-attempt",
   "metadata": {
    "toc": true
   },
   "source": [
    "<h1>Table of Contents<span class=\"tocSkip\"></span></h1>\n",
    "<div class=\"toc\"><ul class=\"toc-item\"><li><span><a href=\"#Tuple-form\" data-toc-modified-id=\"Tuple-form-1\"><span class=\"toc-item-num\">1&nbsp;&nbsp;</span>Tuple form</a></span></li><li><span><a href=\"#Set-form\" data-toc-modified-id=\"Set-form-2\"><span class=\"toc-item-num\">2&nbsp;&nbsp;</span>Set form</a></span><ul class=\"toc-item\"><li><span><a href=\"#range-function\" data-toc-modified-id=\"range-function-2.1\"><span class=\"toc-item-num\">2.1&nbsp;&nbsp;</span>range function</a></span></li><li><span><a href=\"#or-function\" data-toc-modified-id=\"or-function-2.2\"><span class=\"toc-item-num\">2.2&nbsp;&nbsp;</span>or function</a></span></li><li><span><a href=\"#and-function\" data-toc-modified-id=\"and-function-2.3\"><span class=\"toc-item-num\">2.3&nbsp;&nbsp;</span>and function</a></span></li><li><span><a href=\"#union-function\" data-toc-modified-id=\"union-function-2.4\"><span class=\"toc-item-num\">2.4&nbsp;&nbsp;</span>union function</a></span></li><li><span><a href=\"#intersection-function-(&amp;)\" data-toc-modified-id=\"intersection-function-(&amp;)-2.5\"><span class=\"toc-item-num\">2.5&nbsp;&nbsp;</span>intersection function (&amp;)</a></span></li><li><span><a href=\"#symmetric_difference-function-(^)\" data-toc-modified-id=\"symmetric_difference-function-(^)-2.6\"><span class=\"toc-item-num\">2.6&nbsp;&nbsp;</span>symmetric_difference function (^)</a></span></li><li><span><a href=\"#difference-function-(-)\" data-toc-modified-id=\"difference-function-(-)-2.7\"><span class=\"toc-item-num\">2.7&nbsp;&nbsp;</span>difference function (-)</a></span></li></ul></li><li><span><a href=\"#Dictionary-form\" data-toc-modified-id=\"Dictionary-form-3\"><span class=\"toc-item-num\">3&nbsp;&nbsp;</span>Dictionary form</a></span><ul class=\"toc-item\"><li><span><a href=\"#option-(1)\" data-toc-modified-id=\"option-(1)-3.1\"><span class=\"toc-item-num\">3.1&nbsp;&nbsp;</span>option (1)</a></span></li><li><span><a href=\"#option-(2)\" data-toc-modified-id=\"option-(2)-3.2\"><span class=\"toc-item-num\">3.2&nbsp;&nbsp;</span>option (2)</a></span></li><li><span><a href=\"#change-value\" data-toc-modified-id=\"change-value-3.3\"><span class=\"toc-item-num\">3.3&nbsp;&nbsp;</span>change value</a></span></li><li><span><a href=\"#add-new-key-\" data-toc-modified-id=\"add-new-key--3.4\"><span class=\"toc-item-num\">3.4&nbsp;&nbsp;</span>add new key </a></span></li><li><span><a href=\"#check-key-existance\" data-toc-modified-id=\"check-key-existance-3.5\"><span class=\"toc-item-num\">3.5&nbsp;&nbsp;</span>check key existance</a></span></li><li><span><a href=\"#check-a-key-value-existance\" data-toc-modified-id=\"check-a-key-value-existance-3.6\"><span class=\"toc-item-num\">3.6&nbsp;&nbsp;</span>check a key value existance</a></span></li><li><span><a href=\"#get-a-key-value-\" data-toc-modified-id=\"get-a-key-value--3.7\"><span class=\"toc-item-num\">3.7&nbsp;&nbsp;</span>get a key value </a></span></li><li><span><a href=\"#delete-a-key-\" data-toc-modified-id=\"delete-a-key--3.8\"><span class=\"toc-item-num\">3.8&nbsp;&nbsp;</span>delete a key </a></span></li><li><span><a href=\"#empty-the-dictionary\" data-toc-modified-id=\"empty-the-dictionary-3.9\"><span class=\"toc-item-num\">3.9&nbsp;&nbsp;</span>empty the dictionary</a></span></li><li><span><a href=\"#Erase-the-dictionary\" data-toc-modified-id=\"Erase-the-dictionary-3.10\"><span class=\"toc-item-num\">3.10&nbsp;&nbsp;</span>Erase the dictionary</a></span></li><li><span><a href=\"#the-length-the-dictionary\" data-toc-modified-id=\"the-length-the-dictionary-3.11\"><span class=\"toc-item-num\">3.11&nbsp;&nbsp;</span>the length the dictionary</a></span></li><li><span><a href=\"#copy-the-dictionary\" data-toc-modified-id=\"copy-the-dictionary-3.12\"><span class=\"toc-item-num\">3.12&nbsp;&nbsp;</span>copy the dictionary</a></span></li><li><span><a href=\"#divert-a-list-to-dictionary\" data-toc-modified-id=\"divert-a-list-to-dictionary-3.13\"><span class=\"toc-item-num\">3.13&nbsp;&nbsp;</span>divert a list to dictionary</a></span></li><li><span><a href=\"#divert-a-dictionary-to-a-list-\" data-toc-modified-id=\"divert-a-dictionary-to-a-list--3.14\"><span class=\"toc-item-num\">3.14&nbsp;&nbsp;</span>divert a dictionary to a list </a></span><ul class=\"toc-item\"><li><span><a href=\"#option-(1)\" data-toc-modified-id=\"option-(1)-3.14.1\"><span class=\"toc-item-num\">3.14.1&nbsp;&nbsp;</span>option (1)</a></span></li><li><span><a href=\"#option-(2)\" data-toc-modified-id=\"option-(2)-3.14.2\"><span class=\"toc-item-num\">3.14.2&nbsp;&nbsp;</span>option (2)</a></span></li><li><span><a href=\"#option-(3)\" data-toc-modified-id=\"option-(3)-3.14.3\"><span class=\"toc-item-num\">3.14.3&nbsp;&nbsp;</span>option (3)</a></span></li></ul></li><li><span><a href=\"#multi-values-for-one-a-key\" data-toc-modified-id=\"multi-values-for-one-a-key-3.15\"><span class=\"toc-item-num\">3.15&nbsp;&nbsp;</span>multi values for one a key</a></span></li><li><span><a href=\"#pick-one-value\" data-toc-modified-id=\"pick-one-value-3.16\"><span class=\"toc-item-num\">3.16&nbsp;&nbsp;</span>pick one value</a></span></li><li><span><a href=\"#sort-function\" data-toc-modified-id=\"sort-function-3.17\"><span class=\"toc-item-num\">3.17&nbsp;&nbsp;</span>sort function</a></span></li></ul></li></ul></div>"
   ]
  },
  {
   "cell_type": "markdown",
   "id": "29cc7b61",
   "metadata": {},
   "source": [
    "<h2 align=left>Tuple form"
   ]
  },
  {
   "cell_type": "markdown",
   "id": "ead7f1e2",
   "metadata": {},
   "source": [
    ">Tuples do not allow any add or delete operations on it"
   ]
  },
  {
   "cell_type": "code",
   "execution_count": 1,
   "id": "7a1f67f1",
   "metadata": {},
   "outputs": [
    {
     "data": {
      "text/plain": [
       "(2, 5, 6, 3, 2)"
      ]
     },
     "execution_count": 1,
     "metadata": {},
     "output_type": "execute_result"
    }
   ],
   "source": [
    "L =(2,5,6,3,2)  \n",
    "L"
   ]
  },
  {
   "cell_type": "markdown",
   "id": "saving-theorem",
   "metadata": {},
   "source": [
    "> All the functions of the list can be applied on the tuple except adding or removing values "
   ]
  },
  {
   "cell_type": "markdown",
   "id": "common-projection",
   "metadata": {},
   "source": [
    "<h2 align=left>Set form"
   ]
  },
  {
   "cell_type": "markdown",
   "id": "0db10a57",
   "metadata": {},
   "source": [
    ">Sets do not allow any repeat for it's elements"
   ]
  },
  {
   "cell_type": "code",
   "execution_count": 2,
   "id": "ea26fcd9",
   "metadata": {},
   "outputs": [
    {
     "data": {
      "text/plain": [
       "{1, 2, 3, 4, 6, 8}"
      ]
     },
     "execution_count": 2,
     "metadata": {},
     "output_type": "execute_result"
    }
   ],
   "source": [
    "D = {1,1,2,2,6,8,4,6,3} \n",
    "D"
   ]
  },
  {
   "cell_type": "markdown",
   "id": "cooperative-ballet",
   "metadata": {},
   "source": [
    "<h3 align=left>Range function"
   ]
  },
  {
   "cell_type": "code",
   "execution_count": 3,
   "id": "annoying-margin",
   "metadata": {},
   "outputs": [
    {
     "data": {
      "text/plain": [
       "{0, 1, 4, 9, 16, 25, 36, 49, 64, 81, 100, 121}"
      ]
     },
     "execution_count": 3,
     "metadata": {},
     "output_type": "execute_result"
    }
   ],
   "source": [
    "a = { n**2 for n in range(12)}\n",
    "a"
   ]
  },
  {
   "cell_type": "code",
   "execution_count": 4,
   "id": "wired-brief",
   "metadata": {},
   "outputs": [],
   "source": [
    "a = {1, 2, 4, 5, 6, 7}\n",
    "b = {3, 6, 9}"
   ]
  },
  {
   "cell_type": "markdown",
   "id": "pharmaceutical-calvin",
   "metadata": {},
   "source": [
    "<h3 align=left>or function"
   ]
  },
  {
   "cell_type": "code",
   "execution_count": 5,
   "id": "packed-copper",
   "metadata": {},
   "outputs": [
    {
     "data": {
      "text/plain": [
       "{1, 2, 4, 5, 6, 7}"
      ]
     },
     "execution_count": 5,
     "metadata": {},
     "output_type": "execute_result"
    }
   ],
   "source": [
    "a or b  "
   ]
  },
  {
   "cell_type": "code",
   "execution_count": 6,
   "id": "bronze-approval",
   "metadata": {},
   "outputs": [
    {
     "data": {
      "text/plain": [
       "{3, 6, 9}"
      ]
     },
     "execution_count": 6,
     "metadata": {},
     "output_type": "execute_result"
    }
   ],
   "source": [
    "b or a "
   ]
  },
  {
   "cell_type": "markdown",
   "id": "hungarian-collector",
   "metadata": {},
   "source": [
    "<h3 align=left>and function"
   ]
  },
  {
   "cell_type": "code",
   "execution_count": 7,
   "id": "lovely-makeup",
   "metadata": {},
   "outputs": [
    {
     "data": {
      "text/plain": [
       "{3, 6, 9}"
      ]
     },
     "execution_count": 7,
     "metadata": {},
     "output_type": "execute_result"
    }
   ],
   "source": [
    "a and b \n"
   ]
  },
  {
   "cell_type": "code",
   "execution_count": 8,
   "id": "optional-deposit",
   "metadata": {},
   "outputs": [
    {
     "data": {
      "text/plain": [
       "{1, 2, 4, 5, 6, 7}"
      ]
     },
     "execution_count": 8,
     "metadata": {},
     "output_type": "execute_result"
    }
   ],
   "source": [
    "b and a"
   ]
  },
  {
   "cell_type": "markdown",
   "id": "altered-turkish",
   "metadata": {},
   "source": [
    "<h3 align=left>Union function"
   ]
  },
  {
   "cell_type": "code",
   "execution_count": 9,
   "id": "regulation-reset",
   "metadata": {},
   "outputs": [
    {
     "data": {
      "text/plain": [
       "{1, 2, 3, 4, 5, 6, 7, 9}"
      ]
     },
     "execution_count": 9,
     "metadata": {},
     "output_type": "execute_result"
    }
   ],
   "source": [
    "a | b # means a and b together."
   ]
  },
  {
   "cell_type": "code",
   "execution_count": 10,
   "id": "capable-turning",
   "metadata": {},
   "outputs": [
    {
     "data": {
      "text/plain": [
       "{1, 2, 3, 4, 5, 6, 7, 9}"
      ]
     },
     "execution_count": 10,
     "metadata": {},
     "output_type": "execute_result"
    }
   ],
   "source": [
    "a.union(b)"
   ]
  },
  {
   "cell_type": "code",
   "execution_count": 11,
   "id": "ready-melissa",
   "metadata": {},
   "outputs": [
    {
     "data": {
      "text/plain": [
       "{1, 2, 3, 4, 5, 6, 7, 9}"
      ]
     },
     "execution_count": 11,
     "metadata": {},
     "output_type": "execute_result"
    }
   ],
   "source": [
    "b.union(a)"
   ]
  },
  {
   "cell_type": "markdown",
   "id": "standard-developer",
   "metadata": {},
   "source": [
    "<h3 align=left>intersection function (&)"
   ]
  },
  {
   "cell_type": "code",
   "execution_count": 12,
   "id": "interstate-uruguay",
   "metadata": {},
   "outputs": [
    {
     "data": {
      "text/plain": [
       "{6}"
      ]
     },
     "execution_count": 12,
     "metadata": {},
     "output_type": "execute_result"
    }
   ],
   "source": [
    "a & b  # Common items only between the two sets"
   ]
  },
  {
   "cell_type": "code",
   "execution_count": 13,
   "id": "victorian-surrey",
   "metadata": {},
   "outputs": [
    {
     "data": {
      "text/plain": [
       "{6}"
      ]
     },
     "execution_count": 13,
     "metadata": {},
     "output_type": "execute_result"
    }
   ],
   "source": [
    "a.intersection(b)"
   ]
  },
  {
   "cell_type": "code",
   "execution_count": 14,
   "id": "romance-processing",
   "metadata": {},
   "outputs": [
    {
     "data": {
      "text/plain": [
       "{6}"
      ]
     },
     "execution_count": 14,
     "metadata": {},
     "output_type": "execute_result"
    }
   ],
   "source": [
    "b.intersection(a)"
   ]
  },
  {
   "cell_type": "markdown",
   "id": "interracial-experiment",
   "metadata": {},
   "source": [
    "<h3 align=left>Symmetric_Difference Function (^)"
   ]
  },
  {
   "cell_type": "code",
   "execution_count": 15,
   "id": "concerned-landscape",
   "metadata": {},
   "outputs": [
    {
     "data": {
      "text/plain": [
       "{1, 2, 3, 4, 5, 7, 9}"
      ]
     },
     "execution_count": 15,
     "metadata": {},
     "output_type": "execute_result"
    }
   ],
   "source": [
    "a ^ b  # All items except common between the two sets"
   ]
  },
  {
   "cell_type": "code",
   "execution_count": 16,
   "id": "south-member",
   "metadata": {},
   "outputs": [
    {
     "data": {
      "text/plain": [
       "{1, 2, 3, 4, 5, 7, 9}"
      ]
     },
     "execution_count": 16,
     "metadata": {},
     "output_type": "execute_result"
    }
   ],
   "source": [
    "a.symmetric_difference(b)"
   ]
  },
  {
   "cell_type": "code",
   "execution_count": 17,
   "id": "portuguese-syndication",
   "metadata": {},
   "outputs": [
    {
     "data": {
      "text/plain": [
       "{1, 2, 3, 4, 5, 7, 9}"
      ]
     },
     "execution_count": 17,
     "metadata": {},
     "output_type": "execute_result"
    }
   ],
   "source": [
    "b.symmetric_difference(a)"
   ]
  },
  {
   "cell_type": "markdown",
   "id": "talented-mobility",
   "metadata": {},
   "source": [
    "<h3 align=left>difference function (-)"
   ]
  },
  {
   "cell_type": "code",
   "execution_count": 18,
   "id": "commercial-scoop",
   "metadata": {},
   "outputs": [
    {
     "data": {
      "text/plain": [
       "{1, 2, 4, 5, 7}"
      ]
     },
     "execution_count": 18,
     "metadata": {},
     "output_type": "execute_result"
    }
   ],
   "source": [
    "a - b # all the elements in set a except the repeated ones in set b"
   ]
  },
  {
   "cell_type": "code",
   "execution_count": 19,
   "id": "exact-tokyo",
   "metadata": {},
   "outputs": [
    {
     "data": {
      "text/plain": [
       "{1, 2, 4, 5, 7}"
      ]
     },
     "execution_count": 19,
     "metadata": {},
     "output_type": "execute_result"
    }
   ],
   "source": [
    "a.difference(b)"
   ]
  },
  {
   "cell_type": "markdown",
   "id": "overhead-upper",
   "metadata": {},
   "source": [
    "<h2 align=left>Dictionary form"
   ]
  },
  {
   "cell_type": "markdown",
   "id": "organic-tomorrow",
   "metadata": {},
   "source": [
    "<h3 align=left>option (1)"
   ]
  },
  {
   "cell_type": "code",
   "execution_count": 20,
   "id": "martial-protest",
   "metadata": {},
   "outputs": [
    {
     "data": {
      "text/plain": [
       "{'egypt': '0020', 'america': '001', 'ksa': '00966'}"
      ]
     },
     "execution_count": 20,
     "metadata": {},
     "output_type": "execute_result"
    }
   ],
   "source": [
    "allkeys = {'egypt':'0020' , 'america':'001' , 'ksa':'00966'}\n",
    "allkeys"
   ]
  },
  {
   "cell_type": "markdown",
   "id": "sharp-timing",
   "metadata": {},
   "source": [
    "<h3 align=left>option (2)"
   ]
  },
  {
   "cell_type": "code",
   "execution_count": 25,
   "id": "better-legislation",
   "metadata": {},
   "outputs": [
    {
     "data": {
      "text/plain": [
       "{0: 0, 1: 1, 2: 4, 3: 9, 4: 16, 5: 25}"
      ]
     },
     "execution_count": 25,
     "metadata": {},
     "output_type": "execute_result"
    }
   ],
   "source": [
    "D = {n:n**2 for n in range(6)}\n",
    "D"
   ]
  },
  {
   "cell_type": "markdown",
   "id": "stupid-underwear",
   "metadata": {},
   "source": [
    "<h3 align=left>change value"
   ]
  },
  {
   "cell_type": "code",
   "execution_count": 27,
   "id": "headed-dining",
   "metadata": {},
   "outputs": [
    {
     "data": {
      "text/plain": [
       "{'egypt': '0030', 'america': '001', 'ksa': '00966'}"
      ]
     },
     "execution_count": 27,
     "metadata": {},
     "output_type": "execute_result"
    }
   ],
   "source": [
    "allkeys['egypt'] = '0030'  \n",
    "allkeys"
   ]
  },
  {
   "cell_type": "markdown",
   "id": "earned-string",
   "metadata": {},
   "source": [
    "<h3 align=left>add new key "
   ]
  },
  {
   "cell_type": "code",
   "execution_count": 28,
   "id": "french-defeat",
   "metadata": {},
   "outputs": [
    {
     "data": {
      "text/plain": [
       "{'egypt': '0030', 'america': '001', 'ksa': '00966', 'Germany': '0046'}"
      ]
     },
     "execution_count": 28,
     "metadata": {},
     "output_type": "execute_result"
    }
   ],
   "source": [
    "allkeys['Germany'] = '0046' # same way when you change a value of a key, and add it when it is not exist\n",
    "allkeys"
   ]
  },
  {
   "cell_type": "markdown",
   "id": "oriental-victory",
   "metadata": {},
   "source": [
    "<h3 align=left>check key existance"
   ]
  },
  {
   "cell_type": "code",
   "execution_count": 29,
   "id": "bored-marina",
   "metadata": {},
   "outputs": [
    {
     "name": "stdout",
     "output_type": "stream",
     "text": [
      "True\n"
     ]
    }
   ],
   "source": [
    "print ('egypt' in allkeys)  "
   ]
  },
  {
   "cell_type": "markdown",
   "id": "conservative-vulnerability",
   "metadata": {},
   "source": [
    "<h3 align=left>check a key value existance"
   ]
  },
  {
   "cell_type": "code",
   "execution_count": 30,
   "id": "civil-kansas",
   "metadata": {},
   "outputs": [
    {
     "name": "stdout",
     "output_type": "stream",
     "text": [
      "False\n"
     ]
    }
   ],
   "source": [
    "print ('0030' in allkeys) # for the value this is not the right way, because this is the way to search through the keys."
   ]
  },
  {
   "cell_type": "code",
   "execution_count": 31,
   "id": "sized-morgan",
   "metadata": {},
   "outputs": [
    {
     "name": "stdout",
     "output_type": "stream",
     "text": [
      "True\n"
     ]
    }
   ],
   "source": [
    "print ('0030' in allkeys.values()) # now it is right"
   ]
  },
  {
   "cell_type": "markdown",
   "id": "compliant-database",
   "metadata": {},
   "source": [
    "<h3 align=left>get a key value "
   ]
  },
  {
   "cell_type": "code",
   "execution_count": 32,
   "id": "satisfied-thing",
   "metadata": {},
   "outputs": [
    {
     "name": "stdout",
     "output_type": "stream",
     "text": [
      "0030\n"
     ]
    }
   ],
   "source": [
    "print (allkeys.get('egypt'))  "
   ]
  },
  {
   "cell_type": "code",
   "execution_count": 33,
   "id": "characteristic-permit",
   "metadata": {},
   "outputs": [
    {
     "name": "stdout",
     "output_type": "stream",
     "text": [
      "0030\n"
     ]
    }
   ],
   "source": [
    "print (allkeys.get('egypt','0400')) # if he did not find the key value, it will give me (0400), the value i gave"
   ]
  },
  {
   "cell_type": "code",
   "execution_count": 34,
   "id": "magnetic-brighton",
   "metadata": {},
   "outputs": [
    {
     "name": "stdout",
     "output_type": "stream",
     "text": [
      "044\n"
     ]
    }
   ],
   "source": [
    "print (allkeys.get('France','044'))  # because France is not there, it will give me the added value"
   ]
  },
  {
   "cell_type": "markdown",
   "id": "underlying-bankruptcy",
   "metadata": {},
   "source": [
    "<h3 align=left>delete a key "
   ]
  },
  {
   "cell_type": "code",
   "execution_count": 35,
   "id": "favorite-child",
   "metadata": {},
   "outputs": [
    {
     "data": {
      "text/plain": [
       "{'america': '001', 'ksa': '00966', 'Germany': '0046'}"
      ]
     },
     "execution_count": 35,
     "metadata": {},
     "output_type": "execute_result"
    }
   ],
   "source": [
    "del(allkeys['egypt'] )\n",
    "allkeys"
   ]
  },
  {
   "cell_type": "markdown",
   "id": "swedish-tourism",
   "metadata": {},
   "source": [
    "<h3 align=left>empty the dictionary"
   ]
  },
  {
   "cell_type": "code",
   "execution_count": 36,
   "id": "collectible-assistant",
   "metadata": {},
   "outputs": [],
   "source": [
    "allkeys.clear()   "
   ]
  },
  {
   "cell_type": "code",
   "execution_count": 37,
   "id": "golden-leather",
   "metadata": {},
   "outputs": [
    {
     "data": {
      "text/plain": [
       "{}"
      ]
     },
     "execution_count": 37,
     "metadata": {},
     "output_type": "execute_result"
    }
   ],
   "source": [
    "allkeys"
   ]
  },
  {
   "cell_type": "markdown",
   "id": "failing-explosion",
   "metadata": {},
   "source": [
    "<h3 align=left>Erase the dictionary"
   ]
  },
  {
   "cell_type": "code",
   "execution_count": 38,
   "id": "constant-disease",
   "metadata": {},
   "outputs": [],
   "source": [
    "del(allkeys) # to erase the dictionary itself"
   ]
  },
  {
   "cell_type": "code",
   "execution_count": 39,
   "id": "preliminary-isolation",
   "metadata": {},
   "outputs": [
    {
     "ename": "NameError",
     "evalue": "name 'allkeys' is not defined",
     "output_type": "error",
     "traceback": [
      "\u001b[1;31m---------------------------------------------------------------------------\u001b[0m",
      "\u001b[1;31mNameError\u001b[0m                                 Traceback (most recent call last)",
      "\u001b[1;32mc:\\Users\\sameh.ibrahim\\MySandbox\\My Projects\\Python\\8 - Tuples, sets and dictionaries.ipynb Cell 59\u001b[0m in \u001b[0;36m<cell line: 1>\u001b[1;34m()\u001b[0m\n\u001b[1;32m----> <a href='vscode-notebook-cell:/c%3A/Users/sameh.ibrahim/MySandbox/My%20Projects/Python/8%20-%20Tuples%2C%20sets%20and%20dictionaries.ipynb#Y112sZmlsZQ%3D%3D?line=0'>1</a>\u001b[0m allkeys\n",
      "\u001b[1;31mNameError\u001b[0m: name 'allkeys' is not defined"
     ]
    }
   ],
   "source": [
    "allkeys # the dic. is not there anymore"
   ]
  },
  {
   "cell_type": "markdown",
   "id": "absolute-denmark",
   "metadata": {},
   "source": [
    "<h3 align=left>the length the dictionary"
   ]
  },
  {
   "cell_type": "code",
   "execution_count": 40,
   "id": "rough-japan",
   "metadata": {},
   "outputs": [],
   "source": [
    "allkeys = {'egypt':'0020' , 'america':'001' , 'ksa':'00966'}"
   ]
  },
  {
   "cell_type": "code",
   "execution_count": 41,
   "id": "activated-jones",
   "metadata": {},
   "outputs": [
    {
     "data": {
      "text/plain": [
       "3"
      ]
     },
     "execution_count": 41,
     "metadata": {},
     "output_type": "execute_result"
    }
   ],
   "source": [
    "len(allkeys)  "
   ]
  },
  {
   "cell_type": "markdown",
   "id": "composed-shade",
   "metadata": {},
   "source": [
    "<h3 align=left>copy the dictionary"
   ]
  },
  {
   "cell_type": "code",
   "execution_count": 42,
   "id": "disturbed-cabin",
   "metadata": {},
   "outputs": [],
   "source": [
    "dic = allkeys.copy()"
   ]
  },
  {
   "cell_type": "code",
   "execution_count": 43,
   "id": "rotary-bahamas",
   "metadata": {},
   "outputs": [
    {
     "name": "stdout",
     "output_type": "stream",
     "text": [
      "{'egypt': '0020', 'america': '001', 'ksa': '00966'}\n"
     ]
    }
   ],
   "source": [
    "print(dic)"
   ]
  },
  {
   "cell_type": "markdown",
   "id": "suspended-september",
   "metadata": {},
   "source": [
    "<h3 align=left>divert a list to a dictionary"
   ]
  },
  {
   "cell_type": "code",
   "execution_count": 44,
   "id": "environmental-annotation",
   "metadata": {},
   "outputs": [
    {
     "name": "stdout",
     "output_type": "stream",
     "text": [
      "{'a': None, 'b': None, 'd': None, 'c': None}\n"
     ]
    }
   ],
   "source": [
    "list1 = {\"a\",\"b\",\"c\",\"d\"}\n",
    "dic2 = dict.fromkeys(list1)\n",
    "print(dic2)"
   ]
  },
  {
   "cell_type": "code",
   "execution_count": 45,
   "id": "working-arena",
   "metadata": {},
   "outputs": [],
   "source": [
    "# fill the empty dictionary\n",
    "\n",
    "dic2['a'] = 43\n",
    "dic2['b'] = 65\n",
    "dic2['c'] = 88\n",
    "dic2['d'] = 37"
   ]
  },
  {
   "cell_type": "code",
   "execution_count": 46,
   "id": "infectious-humidity",
   "metadata": {},
   "outputs": [
    {
     "data": {
      "text/plain": [
       "{'a': 43, 'b': 65, 'd': 37, 'c': 88}"
      ]
     },
     "execution_count": 46,
     "metadata": {},
     "output_type": "execute_result"
    }
   ],
   "source": [
    "dic2"
   ]
  },
  {
   "cell_type": "markdown",
   "id": "imposed-retro",
   "metadata": {},
   "source": [
    "<h3 align=left>divert a dictionary to a list "
   ]
  },
  {
   "cell_type": "markdown",
   "id": "synthetic-guard",
   "metadata": {},
   "source": [
    "<h4 align=left>option (1)"
   ]
  },
  {
   "cell_type": "code",
   "execution_count": 47,
   "id": "nasty-creator",
   "metadata": {},
   "outputs": [
    {
     "data": {
      "text/plain": [
       "['a', 'b', 'd', 'c']"
      ]
     },
     "execution_count": 47,
     "metadata": {},
     "output_type": "execute_result"
    }
   ],
   "source": [
    "# just a list of dictionary keys \n",
    "\n",
    "a = list (dic2.keys())    \n",
    "a"
   ]
  },
  {
   "cell_type": "markdown",
   "id": "passive-china",
   "metadata": {},
   "source": [
    "<h4 align=left>option (2)"
   ]
  },
  {
   "cell_type": "code",
   "execution_count": 49,
   "id": "rubber-thumbnail",
   "metadata": {},
   "outputs": [
    {
     "data": {
      "text/plain": [
       "[43, 65, 37, 88]"
      ]
     },
     "execution_count": 49,
     "metadata": {},
     "output_type": "execute_result"
    }
   ],
   "source": [
    "# Just a list of dictionary values\n",
    "\n",
    "a = list (dic2.values())  \n",
    "a "
   ]
  },
  {
   "cell_type": "markdown",
   "id": "independent-county",
   "metadata": {},
   "source": [
    "<h4 align=left>option (3)"
   ]
  },
  {
   "cell_type": "code",
   "execution_count": 50,
   "id": "piano-wrist",
   "metadata": {},
   "outputs": [
    {
     "data": {
      "text/plain": [
       "[('a', 43), ('b', 65), ('d', 37), ('c', 88)]"
      ]
     },
     "execution_count": 50,
     "metadata": {},
     "output_type": "execute_result"
    }
   ],
   "source": [
    "# To create a complete list of all the data inside the dictionary\n",
    "\n",
    "a = list (dic2.items())  \n",
    "a"
   ]
  },
  {
   "cell_type": "markdown",
   "id": "solid-contractor",
   "metadata": {},
   "source": [
    "<h3 align=left>Multi Values For One Key"
   ]
  },
  {
   "cell_type": "code",
   "execution_count": 51,
   "id": "alpine-chain",
   "metadata": {},
   "outputs": [
    {
     "name": "stdout",
     "output_type": "stream",
     "text": [
      "{'names': ('a', 'b', 'c'), 'address': ('x', 'y', 'z')}\n"
     ]
    }
   ],
   "source": [
    "allkeys={'names':('a','b','c'),'address':('x','y','z')} \n",
    "print ( allkeys )"
   ]
  },
  {
   "cell_type": "code",
   "execution_count": 52,
   "id": "guided-norway",
   "metadata": {},
   "outputs": [
    {
     "name": "stdout",
     "output_type": "stream",
     "text": [
      "('a', 'b', 'c')\n"
     ]
    }
   ],
   "source": [
    "print ( allkeys['names'] )  "
   ]
  },
  {
   "cell_type": "markdown",
   "id": "knowing-planner",
   "metadata": {},
   "source": [
    "<h3 align=left>Pick One Value"
   ]
  },
  {
   "cell_type": "code",
   "execution_count": 53,
   "id": "decent-destruction",
   "metadata": {},
   "outputs": [
    {
     "name": "stdout",
     "output_type": "stream",
     "text": [
      "c\n"
     ]
    }
   ],
   "source": [
    "# pick one value from the key values\n",
    "\n",
    "print(allkeys['names'][2])  "
   ]
  },
  {
   "cell_type": "markdown",
   "id": "different-jones",
   "metadata": {},
   "source": [
    "<h3 align=left>sort function"
   ]
  },
  {
   "cell_type": "code",
   "execution_count": 54,
   "id": "antique-honey",
   "metadata": {},
   "outputs": [
    {
     "name": "stdout",
     "output_type": "stream",
     "text": [
      "['jane', 'dave', 'john']\n"
     ]
    }
   ],
   "source": [
    "students = ['dave', 'john', 'jane'] # list\n",
    "grades = {'john': 'F', 'jane':'A', 'dave': 'C'} # dictionary\n",
    "print(sorted(students , key=grades.__getitem__)) "
   ]
  }
 ],
 "metadata": {
  "kernelspec": {
   "display_name": "Python 3.9.12 ('base')",
   "language": "python",
   "name": "python3"
  },
  "language_info": {
   "codemirror_mode": {
    "name": "ipython",
    "version": 3
   },
   "file_extension": ".py",
   "mimetype": "text/x-python",
   "name": "python",
   "nbconvert_exporter": "python",
   "pygments_lexer": "ipython3",
   "version": "3.9.12"
  },
  "latex_envs": {
   "LaTeX_envs_menu_present": true,
   "autoclose": false,
   "autocomplete": true,
   "bibliofile": "biblio.bib",
   "cite_by": "apalike",
   "current_citInitial": 1,
   "eqLabelWithNumbers": true,
   "eqNumInitial": 1,
   "hotkeys": {
    "equation": "Ctrl-E",
    "itemize": "Ctrl-I"
   },
   "labels_anchors": false,
   "latex_user_defs": false,
   "report_style_numbering": false,
   "user_envs_cfg": false
  },
  "toc": {
   "base_numbering": 1,
   "nav_menu": {},
   "number_sections": true,
   "sideBar": true,
   "skip_h1_title": true,
   "title_cell": "Table of Contents",
   "title_sidebar": "Contents",
   "toc_cell": true,
   "toc_position": {
    "height": "calc(100% - 180px)",
    "left": "10px",
    "top": "150px",
    "width": "165px"
   },
   "toc_section_display": true,
   "toc_window_display": true
  },
  "vscode": {
   "interpreter": {
    "hash": "55f2fe7b1c560c2d324ed046faeb8a55513d29ab718ddf7bfc99dad8debd2a7a"
   }
  }
 },
 "nbformat": 4,
 "nbformat_minor": 5
}
