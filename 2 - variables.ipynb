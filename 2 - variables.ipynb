{
 "cells": [
  {
   "cell_type": "markdown",
   "id": "consolidated-preliminary",
   "metadata": {},
   "source": [
    "<h1 align=center>Variables in Python"
   ]
  },
  {
   "cell_type": "markdown",
   "id": "innocent-venezuela",
   "metadata": {
    "toc": true
   },
   "source": [
    "<h1>Table of Contents<span class=\"tocSkip\"></span></h1>\n",
    "<div class=\"toc\"><ul class=\"toc-item\"><li><span><a href=\"#Variables-types\" data-toc-modified-id=\"Variables-types-1\"><span class=\"toc-item-num\">1&nbsp;&nbsp;</span>Variables types</a></span></li><li><span><a href=\"#Divert-between-the-types\" data-toc-modified-id=\"Divert-between-the-types-2\"><span class=\"toc-item-num\">2&nbsp;&nbsp;</span>Divert between the types</a></span></li><li><span><a href=\"#Complex-number\" data-toc-modified-id=\"Complex-number-3\"><span class=\"toc-item-num\">3&nbsp;&nbsp;</span>Complex number</a></span></li><li><span><a href=\"#Binary-variable\" data-toc-modified-id=\"Binary-variable-4\"><span class=\"toc-item-num\">4&nbsp;&nbsp;</span>Binary variable</a></span></li><li><span><a href=\"#Notes\" data-toc-modified-id=\"Notes-5\"><span class=\"toc-item-num\">5&nbsp;&nbsp;</span>Notes</a></span></li></ul></div>"
   ]
  },
  {
   "cell_type": "markdown",
   "id": "removed-logging",
   "metadata": {},
   "source": [
    "<h2 align=left>Variables types"
   ]
  },
  {
   "cell_type": "markdown",
   "id": "9f06fada",
   "metadata": {},
   "source": [
    ">Function type gives you the type of the variable what you are dealing with "
   ]
  },
  {
   "cell_type": "code",
   "execution_count": 1,
   "id": "creative-commander",
   "metadata": {},
   "outputs": [],
   "source": [
    "a,s,f,g,u = 4,5.6,8j,4,5"
   ]
  },
  {
   "cell_type": "code",
   "execution_count": 2,
   "id": "editorial-kitchen",
   "metadata": {},
   "outputs": [
    {
     "data": {
      "text/plain": [
       "int"
      ]
     },
     "execution_count": 2,
     "metadata": {},
     "output_type": "execute_result"
    }
   ],
   "source": [
    "type(a)"
   ]
  },
  {
   "cell_type": "code",
   "execution_count": 3,
   "id": "satisfied-multiple",
   "metadata": {},
   "outputs": [],
   "source": [
    "yourname, yourcountry = 'ahmed', 'Algeria'"
   ]
  },
  {
   "cell_type": "code",
   "execution_count": 4,
   "id": "seeing-duplicate",
   "metadata": {},
   "outputs": [
    {
     "data": {
      "text/plain": [
       "str"
      ]
     },
     "execution_count": 4,
     "metadata": {},
     "output_type": "execute_result"
    }
   ],
   "source": [
    "type(yourname)"
   ]
  },
  {
   "cell_type": "code",
   "execution_count": 5,
   "id": "olive-amount",
   "metadata": {},
   "outputs": [],
   "source": [
    "thiscase  = True"
   ]
  },
  {
   "cell_type": "code",
   "execution_count": 6,
   "id": "advisory-bloom",
   "metadata": {},
   "outputs": [
    {
     "data": {
      "text/plain": [
       "bool"
      ]
     },
     "execution_count": 6,
     "metadata": {},
     "output_type": "execute_result"
    }
   ],
   "source": [
    "type(thiscase)"
   ]
  },
  {
   "cell_type": "markdown",
   "id": "taken-protocol",
   "metadata": {},
   "source": [
    "<h2 align=left>Divert between the types"
   ]
  },
  {
   "cell_type": "markdown",
   "id": "measured-graham",
   "metadata": {},
   "source": [
    "**(2) you can change fromtype to type specialy between ( str  , int , float )**"
   ]
  },
  {
   "cell_type": "code",
   "execution_count": 7,
   "id": "qualified-natural",
   "metadata": {},
   "outputs": [],
   "source": [
    "a = '5'"
   ]
  },
  {
   "cell_type": "code",
   "execution_count": 8,
   "id": "superior-service",
   "metadata": {},
   "outputs": [
    {
     "data": {
      "text/plain": [
       "str"
      ]
     },
     "execution_count": 8,
     "metadata": {},
     "output_type": "execute_result"
    }
   ],
   "source": [
    "type(a)"
   ]
  },
  {
   "cell_type": "code",
   "execution_count": 9,
   "id": "insured-replica",
   "metadata": {},
   "outputs": [],
   "source": [
    "b = int(a)"
   ]
  },
  {
   "cell_type": "code",
   "execution_count": 10,
   "id": "liberal-perspective",
   "metadata": {},
   "outputs": [
    {
     "data": {
      "text/plain": [
       "int"
      ]
     },
     "execution_count": 10,
     "metadata": {},
     "output_type": "execute_result"
    }
   ],
   "source": [
    "type(b)"
   ]
  },
  {
   "cell_type": "code",
   "execution_count": 11,
   "id": "funded-earthquake",
   "metadata": {},
   "outputs": [],
   "source": [
    "c = float(a)"
   ]
  },
  {
   "cell_type": "code",
   "execution_count": 12,
   "id": "vertical-sandwich",
   "metadata": {},
   "outputs": [
    {
     "data": {
      "text/plain": [
       "float"
      ]
     },
     "execution_count": 12,
     "metadata": {},
     "output_type": "execute_result"
    }
   ],
   "source": [
    "type(c)"
   ]
  },
  {
   "cell_type": "code",
   "execution_count": 13,
   "id": "rolled-greenhouse",
   "metadata": {},
   "outputs": [],
   "source": [
    "d = 7\n",
    "e = str(d)"
   ]
  },
  {
   "cell_type": "code",
   "execution_count": 14,
   "id": "approved-belly",
   "metadata": {},
   "outputs": [
    {
     "data": {
      "text/plain": [
       "str"
      ]
     },
     "execution_count": 14,
     "metadata": {},
     "output_type": "execute_result"
    }
   ],
   "source": [
    "type(e)"
   ]
  },
  {
   "cell_type": "markdown",
   "id": "afraid-ecology",
   "metadata": {},
   "source": [
    "<h2 align=left>Complex number"
   ]
  },
  {
   "cell_type": "code",
   "execution_count": 22,
   "id": "familiar-median",
   "metadata": {},
   "outputs": [],
   "source": [
    "f = complex(b,d)"
   ]
  },
  {
   "cell_type": "markdown",
   "id": "closed-sunday",
   "metadata": {},
   "source": [
    ">you can call the real part or the imaginary part as following:"
   ]
  },
  {
   "cell_type": "code",
   "execution_count": 25,
   "id": "religious-crossing",
   "metadata": {},
   "outputs": [
    {
     "data": {
      "text/plain": [
       "5.0"
      ]
     },
     "execution_count": 25,
     "metadata": {},
     "output_type": "execute_result"
    }
   ],
   "source": [
    "f.real"
   ]
  },
  {
   "cell_type": "code",
   "execution_count": 15,
   "id": "ca48e0c6",
   "metadata": {},
   "outputs": [
    {
     "name": "stdout",
     "output_type": "stream",
     "text": [
      "<class 'float'>\n"
     ]
    }
   ],
   "source": [
    "print(type(f.real))"
   ]
  },
  {
   "cell_type": "code",
   "execution_count": 16,
   "id": "cleared-tablet",
   "metadata": {},
   "outputs": [
    {
     "data": {
      "text/plain": [
       "8.0"
      ]
     },
     "execution_count": 16,
     "metadata": {},
     "output_type": "execute_result"
    }
   ],
   "source": [
    "f.imag"
   ]
  },
  {
   "cell_type": "code",
   "execution_count": 17,
   "id": "345d8938",
   "metadata": {},
   "outputs": [
    {
     "name": "stdout",
     "output_type": "stream",
     "text": [
      "<class 'float'>\n"
     ]
    }
   ],
   "source": [
    "print(type(f.imag))"
   ]
  },
  {
   "cell_type": "code",
   "execution_count": 27,
   "id": "3afaa855",
   "metadata": {},
   "outputs": [
    {
     "name": "stdout",
     "output_type": "stream",
     "text": [
      "<class 'bool'>\n"
     ]
    }
   ],
   "source": [
    "thiscase  = True\n",
    "print(type(thiscase))"
   ]
  },
  {
   "cell_type": "code",
   "execution_count": 28,
   "id": "dae67961",
   "metadata": {},
   "outputs": [
    {
     "name": "stdout",
     "output_type": "stream",
     "text": [
      "True\n"
     ]
    }
   ],
   "source": [
    "print(thiscase)"
   ]
  },
  {
   "cell_type": "code",
   "execution_count": 29,
   "id": "a7bc4233",
   "metadata": {},
   "outputs": [
    {
     "name": "stdout",
     "output_type": "stream",
     "text": [
      "thiscase\n"
     ]
    }
   ],
   "source": [
    "print(\"thiscase\")"
   ]
  },
  {
   "cell_type": "markdown",
   "id": "therapeutic-safety",
   "metadata": {},
   "source": [
    "<h2 align=left>Binary variable"
   ]
  },
  {
   "cell_type": "code",
   "execution_count": 18,
   "id": "instant-combat",
   "metadata": {},
   "outputs": [],
   "source": [
    "z = bin(50)"
   ]
  },
  {
   "cell_type": "code",
   "execution_count": 19,
   "id": "underlying-museum",
   "metadata": {},
   "outputs": [
    {
     "data": {
      "text/plain": [
       "str"
      ]
     },
     "execution_count": 19,
     "metadata": {},
     "output_type": "execute_result"
    }
   ],
   "source": [
    "type(z)"
   ]
  },
  {
   "cell_type": "code",
   "execution_count": 21,
   "id": "everyday-membership",
   "metadata": {},
   "outputs": [
    {
     "data": {
      "text/plain": [
       "'0b110010'"
      ]
     },
     "execution_count": 21,
     "metadata": {},
     "output_type": "execute_result"
    }
   ],
   "source": [
    "z"
   ]
  },
  {
   "cell_type": "markdown",
   "id": "living-coverage",
   "metadata": {},
   "source": [
    "<h2 align=left>Notes"
   ]
  },
  {
   "cell_type": "markdown",
   "id": "welsh-hands",
   "metadata": {},
   "source": [
    "> **bool can read be as int, or str.**"
   ]
  },
  {
   "cell_type": "code",
   "execution_count": 22,
   "id": "meaning-matrix",
   "metadata": {},
   "outputs": [
    {
     "data": {
      "text/plain": [
       "True"
      ]
     },
     "execution_count": 22,
     "metadata": {},
     "output_type": "execute_result"
    }
   ],
   "source": [
    "c=bool(5.3)\n",
    "c"
   ]
  },
  {
   "cell_type": "code",
   "execution_count": 23,
   "id": "israeli-harmony",
   "metadata": {},
   "outputs": [
    {
     "data": {
      "text/plain": [
       "True"
      ]
     },
     "execution_count": 23,
     "metadata": {},
     "output_type": "execute_result"
    }
   ],
   "source": [
    "d=bool('ahmed')\n",
    "d"
   ]
  },
  {
   "cell_type": "markdown",
   "id": "incorporated-auction",
   "metadata": {},
   "source": [
    ">**If it empty or zero gives False.**"
   ]
  },
  {
   "cell_type": "code",
   "execution_count": 24,
   "id": "close-avatar",
   "metadata": {},
   "outputs": [
    {
     "data": {
      "text/plain": [
       "False"
      ]
     },
     "execution_count": 24,
     "metadata": {},
     "output_type": "execute_result"
    }
   ],
   "source": [
    "e=bool(0)\n",
    "e"
   ]
  },
  {
   "cell_type": "code",
   "execution_count": 25,
   "id": "facial-interpretation",
   "metadata": {},
   "outputs": [
    {
     "data": {
      "text/plain": [
       "False"
      ]
     },
     "execution_count": 25,
     "metadata": {},
     "output_type": "execute_result"
    }
   ],
   "source": [
    "e=bool('')\n",
    "e"
   ]
  }
 ],
 "metadata": {
  "kernelspec": {
   "display_name": "Python 3.9.12 ('base')",
   "language": "python",
   "name": "python3"
  },
  "language_info": {
   "codemirror_mode": {
    "name": "ipython",
    "version": 3
   },
   "file_extension": ".py",
   "mimetype": "text/x-python",
   "name": "python",
   "nbconvert_exporter": "python",
   "pygments_lexer": "ipython3",
   "version": "3.9.12"
  },
  "latex_envs": {
   "LaTeX_envs_menu_present": true,
   "autoclose": false,
   "autocomplete": true,
   "bibliofile": "biblio.bib",
   "cite_by": "apalike",
   "current_citInitial": 1,
   "eqLabelWithNumbers": true,
   "eqNumInitial": 1,
   "hotkeys": {
    "equation": "Ctrl-E",
    "itemize": "Ctrl-I"
   },
   "labels_anchors": false,
   "latex_user_defs": false,
   "report_style_numbering": false,
   "user_envs_cfg": false
  },
  "toc": {
   "base_numbering": 1,
   "nav_menu": {},
   "number_sections": true,
   "sideBar": true,
   "skip_h1_title": true,
   "title_cell": "Table of Contents",
   "title_sidebar": "Contents",
   "toc_cell": true,
   "toc_position": {
    "height": "calc(100% - 180px)",
    "left": "10px",
    "top": "150px",
    "width": "211.797px"
   },
   "toc_section_display": true,
   "toc_window_display": true
  },
  "vscode": {
   "interpreter": {
    "hash": "55f2fe7b1c560c2d324ed046faeb8a55513d29ab718ddf7bfc99dad8debd2a7a"
   }
  }
 },
 "nbformat": 4,
 "nbformat_minor": 5
}
