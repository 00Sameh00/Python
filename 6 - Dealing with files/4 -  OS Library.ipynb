{
 "cells": [
  {
   "cell_type": "markdown",
   "id": "sophisticated-winner",
   "metadata": {},
   "source": [
    "<h1 align=center>Handling files in Python"
   ]
  },
  {
   "cell_type": "markdown",
   "id": "positive-swimming",
   "metadata": {
    "toc": true
   },
   "source": [
    "<h1>Table of Contents<span class=\"tocSkip\"></span></h1>\n",
    "<div class=\"toc\"><ul class=\"toc-item\"><li><span><a href=\"#OS-library\" data-toc-modified-id=\"OS-library-1\"><span class=\"toc-item-num\">1&nbsp;&nbsp;</span>OS library</a></span><ul class=\"toc-item\"><li><span><a href=\"#Create-a-folder\" data-toc-modified-id=\"Create-a-folder-1.1\"><span class=\"toc-item-num\">1.1&nbsp;&nbsp;</span>Create a folder</a></span></li><li><span><a href=\"#check-the-folder-existance\" data-toc-modified-id=\"check-the-folder-existance-1.2\"><span class=\"toc-item-num\">1.2&nbsp;&nbsp;</span>check the folder existance</a></span></li><li><span><a href=\"#check-the-file-existance\" data-toc-modified-id=\"check-the-file-existance-1.3\"><span class=\"toc-item-num\">1.3&nbsp;&nbsp;</span>check the file existance</a></span></li></ul></li></ul></div>"
   ]
  },
  {
   "cell_type": "markdown",
   "id": "sporting-reputation",
   "metadata": {},
   "source": [
    "<h2 align=left>OS library"
   ]
  },
  {
   "cell_type": "code",
   "execution_count": 1,
   "id": "perceived-hungarian",
   "metadata": {},
   "outputs": [
    {
     "name": "stdout",
     "output_type": "stream",
     "text": [
      "c:\\Users\\sameh.ibrahim\\MySandbox\\My Projects\\Python\\6 - Dealing with files\n"
     ]
    }
   ],
   "source": [
    "import os\n",
    "\n",
    "# this will give you the difult directory in your local machine\n",
    "a=os.getcwd()   \n",
    "print(a)"
   ]
  },
  {
   "cell_type": "markdown",
   "id": "light-blogger",
   "metadata": {},
   "source": [
    "<h3 align=left>Create a folder"
   ]
  },
  {
   "cell_type": "code",
   "execution_count": 2,
   "id": "viral-adventure",
   "metadata": {},
   "outputs": [],
   "source": [
    "# Creat a folder in my working directory.\n",
    "\n",
    "os.makedirs('C:\\\\Users\\\\sameh.ibrahim\\\\MySandbox\\\\My Projects\\\\Python\\\\6 - Dealing with files\\\\00' , exist_ok = True)"
   ]
  },
  {
   "cell_type": "markdown",
   "id": "headed-force",
   "metadata": {},
   "source": [
    "<h3 align=left>check the folder existance"
   ]
  },
  {
   "cell_type": "code",
   "execution_count": 3,
   "id": "comfortable-jesus",
   "metadata": {},
   "outputs": [
    {
     "data": {
      "text/plain": [
       "True"
      ]
     },
     "execution_count": 3,
     "metadata": {},
     "output_type": "execute_result"
    }
   ],
   "source": [
    "a = os.path.exists('C:\\\\Users\\\\sameh.ibrahim\\\\MySandbox\\\\My Projects\\\\Python\\\\6 - Dealing with files\\\\00')  \n",
    "a"
   ]
  },
  {
   "cell_type": "markdown",
   "id": "furnished-thailand",
   "metadata": {},
   "source": [
    "<h3 align=left>check the file existance"
   ]
  },
  {
   "cell_type": "code",
   "execution_count": 5,
   "id": "opponent-paper",
   "metadata": {},
   "outputs": [
    {
     "data": {
      "text/plain": [
       "True"
      ]
     },
     "execution_count": 5,
     "metadata": {},
     "output_type": "execute_result"
    }
   ],
   "source": [
    "a = os.path.exists('C:\\\\Users\\\\sameh.ibrahim\\\\MySandbox\\\\My Projects\\\\Python\\\\6 - Dealing with files\\\\00')\n",
    "a"
   ]
  }
 ],
 "metadata": {
  "kernelspec": {
   "display_name": "Python 3.9.12 ('base')",
   "language": "python",
   "name": "python3"
  },
  "language_info": {
   "codemirror_mode": {
    "name": "ipython",
    "version": 3
   },
   "file_extension": ".py",
   "mimetype": "text/x-python",
   "name": "python",
   "nbconvert_exporter": "python",
   "pygments_lexer": "ipython3",
   "version": "3.9.12"
  },
  "latex_envs": {
   "LaTeX_envs_menu_present": true,
   "autoclose": false,
   "autocomplete": true,
   "bibliofile": "biblio.bib",
   "cite_by": "apalike",
   "current_citInitial": 1,
   "eqLabelWithNumbers": true,
   "eqNumInitial": 1,
   "hotkeys": {
    "equation": "Ctrl-E",
    "itemize": "Ctrl-I"
   },
   "labels_anchors": false,
   "latex_user_defs": false,
   "report_style_numbering": false,
   "user_envs_cfg": false
  },
  "toc": {
   "base_numbering": 1,
   "nav_menu": {},
   "number_sections": true,
   "sideBar": true,
   "skip_h1_title": true,
   "title_cell": "Table of Contents",
   "title_sidebar": "Contents",
   "toc_cell": true,
   "toc_position": {
    "height": "calc(100% - 180px)",
    "left": "10px",
    "top": "150px",
    "width": "188.797px"
   },
   "toc_section_display": true,
   "toc_window_display": true
  },
  "vscode": {
   "interpreter": {
    "hash": "55f2fe7b1c560c2d324ed046faeb8a55513d29ab718ddf7bfc99dad8debd2a7a"
   }
  }
 },
 "nbformat": 4,
 "nbformat_minor": 5
}
