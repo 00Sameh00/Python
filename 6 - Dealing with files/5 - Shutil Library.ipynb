{
 "cells": [
  {
   "cell_type": "markdown",
   "id": "sophisticated-winner",
   "metadata": {},
   "source": [
    "<h1 align=center>Handling files in Python"
   ]
  },
  {
   "cell_type": "markdown",
   "id": "positive-swimming",
   "metadata": {
    "toc": true
   },
   "source": [
    "<h1>Table of Contents<span class=\"tocSkip\"></span></h1>\n",
    "<div class=\"toc\"><ul class=\"toc-item\"><li><span><a href=\"#Shutil-Library\" data-toc-modified-id=\"Shutil-Library-1\"><span class=\"toc-item-num\">1&nbsp;&nbsp;</span>Shutil Library</a></span><ul class=\"toc-item\"><li><span><a href=\"#copy-file\" data-toc-modified-id=\"copy-file-1.1\"><span class=\"toc-item-num\">1.1&nbsp;&nbsp;</span>copy file</a></span></li><li><span><a href=\"#copy-folder\" data-toc-modified-id=\"copy-folder-1.2\"><span class=\"toc-item-num\">1.2&nbsp;&nbsp;</span>copy folder</a></span></li><li><span><a href=\"#move-folder\" data-toc-modified-id=\"move-folder-1.3\"><span class=\"toc-item-num\">1.3&nbsp;&nbsp;</span>move folder</a></span></li></ul></li></ul></div>"
   ]
  },
  {
   "cell_type": "markdown",
   "id": "synthetic-canvas",
   "metadata": {},
   "source": [
    "<h2 align=left>Shutil Library"
   ]
  },
  {
   "cell_type": "code",
   "execution_count": 1,
   "id": "polish-sensitivity",
   "metadata": {},
   "outputs": [],
   "source": [
    "# shutil library is used to copy and move the files.\n",
    "import shutil as sh   "
   ]
  },
  {
   "cell_type": "markdown",
   "id": "curious-coach",
   "metadata": {},
   "source": [
    "<h3 align=left>copy file"
   ]
  },
  {
   "cell_type": "code",
   "execution_count": 2,
   "id": "illegal-norwegian",
   "metadata": {},
   "outputs": [
    {
     "data": {
      "text/plain": [
       "'C:\\\\Users\\\\sameh.ibrahim\\\\MySandbox\\\\My Projects\\\\Python\\\\6 - Dealing with files\\\\00\\\\1.xls'"
      ]
     },
     "execution_count": 2,
     "metadata": {},
     "output_type": "execute_result"
    }
   ],
   "source": [
    "# to copy a file, first you right the existing path of the file then the new path pasting the file.\n",
    " \n",
    "sh.copyfile( 'C:\\\\Users\\\\sameh.ibrahim\\\\MySandbox\\\\My Projects\\\\Python\\\\6 - Dealing with files\\\\1.xls', \n",
    "'C:\\\\Users\\\\sameh.ibrahim\\\\MySandbox\\\\My Projects\\\\Python\\\\6 - Dealing with files\\\\00\\\\1.xls') "
   ]
  },
  {
   "cell_type": "markdown",
   "id": "italic-render",
   "metadata": {},
   "source": [
    "<h3 align=left>copy folder"
   ]
  },
  {
   "cell_type": "code",
   "execution_count": 3,
   "id": "genetic-foster",
   "metadata": {},
   "outputs": [
    {
     "data": {
      "text/plain": [
       "'C:\\\\Users\\\\sameh.ibrahim\\\\MySandbox\\\\My Projects\\\\Python\\\\6 - Dealing with files\\\\01'"
      ]
     },
     "execution_count": 3,
     "metadata": {},
     "output_type": "execute_result"
    }
   ],
   "source": [
    "sh.copytree('C:\\\\Users\\\\sameh.ibrahim\\\\MySandbox\\\\My Projects\\\\Python\\\\6 - Dealing with files\\\\00' , \n",
    "'C:\\\\Users\\\\sameh.ibrahim\\\\MySandbox\\\\My Projects\\\\Python\\\\6 - Dealing with files\\\\01') "
   ]
  },
  {
   "cell_type": "markdown",
   "id": "diverse-protection",
   "metadata": {},
   "source": [
    "<h3 align=left>move file"
   ]
  },
  {
   "cell_type": "code",
   "execution_count": 4,
   "id": "identified-baltimore",
   "metadata": {},
   "outputs": [
    {
     "data": {
      "text/plain": [
       "'C:\\\\Users\\\\sameh.ibrahim\\\\MySandbox\\\\My Projects\\\\Python\\\\6 - Dealing with files\\\\01\\\\1.xls'"
      ]
     },
     "execution_count": 4,
     "metadata": {},
     "output_type": "execute_result"
    }
   ],
   "source": [
    "sh.move('C:\\\\Users\\\\sameh.ibrahim\\\\MySandbox\\\\My Projects\\\\Python\\\\6 - Dealing with files\\\\1.txt' \n",
    ", 'C:\\\\Users\\\\sameh.ibrahim\\\\MySandbox\\\\My Projects\\\\Python\\\\6 - Dealing with files\\\\01\\\\1.xls') "
   ]
  },
  {
   "cell_type": "code",
   "execution_count": 5,
   "id": "d8b374a8",
   "metadata": {},
   "outputs": [
    {
     "data": {
      "text/plain": [
       "'C:\\\\Users\\\\sameh.ibrahim\\\\MySandbox\\\\My Projects\\\\Python\\\\6 - Dealing with files\\\\01\\\\1.csv'"
      ]
     },
     "execution_count": 5,
     "metadata": {},
     "output_type": "execute_result"
    }
   ],
   "source": [
    "sh.move('C:\\\\Users\\\\sameh.ibrahim\\\\MySandbox\\\\My Projects\\\\Python\\\\6 - Dealing with files\\\\1.csv' \n",
    ", 'C:\\\\Users\\\\sameh.ibrahim\\\\MySandbox\\\\My Projects\\\\Python\\\\6 - Dealing with files\\\\01\\\\1.csv') "
   ]
  },
  {
   "cell_type": "code",
   "execution_count": 6,
   "id": "419f838f",
   "metadata": {},
   "outputs": [
    {
     "data": {
      "text/plain": [
       "'C:\\\\Users\\\\sameh.ibrahim\\\\MySandbox\\\\My Projects\\\\Python\\\\6 - Dealing with files\\\\01\\\\1.xls'"
      ]
     },
     "execution_count": 6,
     "metadata": {},
     "output_type": "execute_result"
    }
   ],
   "source": [
    "sh.move('C:\\\\Users\\\\sameh.ibrahim\\\\MySandbox\\\\My Projects\\\\Python\\\\6 - Dealing with files\\\\1.xls' \n",
    ", 'C:\\\\Users\\\\sameh.ibrahim\\\\MySandbox\\\\My Projects\\\\Python\\\\6 - Dealing with files\\\\01\\\\1.xls') "
   ]
  }
 ],
 "metadata": {
  "kernelspec": {
   "display_name": "Python 3.9.12 ('base')",
   "language": "python",
   "name": "python3"
  },
  "language_info": {
   "codemirror_mode": {
    "name": "ipython",
    "version": 3
   },
   "file_extension": ".py",
   "mimetype": "text/x-python",
   "name": "python",
   "nbconvert_exporter": "python",
   "pygments_lexer": "ipython3",
   "version": "3.9.12"
  },
  "latex_envs": {
   "LaTeX_envs_menu_present": true,
   "autoclose": false,
   "autocomplete": true,
   "bibliofile": "biblio.bib",
   "cite_by": "apalike",
   "current_citInitial": 1,
   "eqLabelWithNumbers": true,
   "eqNumInitial": 1,
   "hotkeys": {
    "equation": "Ctrl-E",
    "itemize": "Ctrl-I"
   },
   "labels_anchors": false,
   "latex_user_defs": false,
   "report_style_numbering": false,
   "user_envs_cfg": false
  },
  "toc": {
   "base_numbering": 1,
   "nav_menu": {},
   "number_sections": true,
   "sideBar": true,
   "skip_h1_title": true,
   "title_cell": "Table of Contents",
   "title_sidebar": "Contents",
   "toc_cell": true,
   "toc_position": {
    "height": "calc(100% - 180px)",
    "left": "10px",
    "top": "150px",
    "width": "188.797px"
   },
   "toc_section_display": true,
   "toc_window_display": true
  },
  "vscode": {
   "interpreter": {
    "hash": "55f2fe7b1c560c2d324ed046faeb8a55513d29ab718ddf7bfc99dad8debd2a7a"
   }
  }
 },
 "nbformat": 4,
 "nbformat_minor": 5
}
