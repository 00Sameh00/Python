{
 "cells": [
  {
   "cell_type": "markdown",
   "id": "sophisticated-winner",
   "metadata": {},
   "source": [
    "<h1 align=center>Handling files in Python"
   ]
  },
  {
   "cell_type": "markdown",
   "id": "positive-swimming",
   "metadata": {
    "toc": true
   },
   "source": [
    "<h1>Table of Contents<span class=\"tocSkip\"></span></h1>\n",
    "<div class=\"toc\"><ul class=\"toc-item\"><li><span><a href=\"#Dealing-with-txt-Files\" data-toc-modified-id=\"Dealing-with-txt-Files-1\"><span class=\"toc-item-num\">1&nbsp;&nbsp;</span>Dealing with txt Files</a></span><ul class=\"toc-item\"><li><span><a href=\"#Create-a-file\" data-toc-modified-id=\"Create-a-file-1.1\"><span class=\"toc-item-num\">1.1&nbsp;&nbsp;</span>Create a file</a></span></li><li><span><a href=\"#Write-inside-the-file\" data-toc-modified-id=\"Write-inside-the-file-1.2\"><span class=\"toc-item-num\">1.2&nbsp;&nbsp;</span>Write inside the file</a></span></li><li><span><a href=\"#close-the-file\" data-toc-modified-id=\"close-the-file-1.3\"><span class=\"toc-item-num\">1.3&nbsp;&nbsp;</span>close the file</a></span></li><li><span><a href=\"#-Add-text-inside-the-file\" data-toc-modified-id=\"-Add-text-inside-the-file-1.4\"><span class=\"toc-item-num\">1.4&nbsp;&nbsp;</span> Add text inside the file</a></span></li><li><span><a href=\"#open-&amp;-read-the-file\" data-toc-modified-id=\"open-&amp;-read-the-file-1.5\"><span class=\"toc-item-num\">1.5&nbsp;&nbsp;</span>open &amp; read the file</a></span></li></ul></li></ul></div>"
   ]
  },
  {
   "cell_type": "markdown",
   "id": "direct-wisconsin",
   "metadata": {},
   "source": [
    "<h2 align=left>Dealing with txt Files"
   ]
  },
  {
   "cell_type": "markdown",
   "id": "adapted-documentary",
   "metadata": {},
   "source": [
    "<h3 align=left>Create a file"
   ]
  },
  {
   "cell_type": "code",
   "execution_count": 2,
   "id": "floating-foundation",
   "metadata": {},
   "outputs": [],
   "source": [
    "f = open('D:\\\\Project\\\\1.txt','w')  # أمر open يقوم بفتح الملف و حفظه في مكان معين"
   ]
  },
  {
   "cell_type": "markdown",
   "id": "patient-forest",
   "metadata": {},
   "source": [
    "<h3 align=left>Write inside the file"
   ]
  },
  {
   "cell_type": "code",
   "execution_count": 3,
   "id": "greek-panama",
   "metadata": {},
   "outputs": [
    {
     "data": {
      "text/plain": [
       "25"
      ]
     },
     "execution_count": 3,
     "metadata": {},
     "output_type": "execute_result"
    }
   ],
   "source": [
    "f.write('Hello')               # كتابة سطر معين\n",
    "f.write('\\nI am learning Python')\n",
    "f.write('\\nCome and join me')\n",
    "f.write('\\nWe can enjoy it together')"
   ]
  },
  {
   "cell_type": "markdown",
   "id": "serious-healing",
   "metadata": {},
   "source": [
    "<h3 align=left>close the file"
   ]
  },
  {
   "cell_type": "code",
   "execution_count": 4,
   "id": "serial-bangkok",
   "metadata": {},
   "outputs": [],
   "source": [
    "f.close()   # اغلاق الملف"
   ]
  },
  {
   "cell_type": "markdown",
   "id": "electrical-annotation",
   "metadata": {},
   "source": [
    "<h3 align=left> Add text inside the file"
   ]
  },
  {
   "cell_type": "code",
   "execution_count": 6,
   "id": "german-stamp",
   "metadata": {},
   "outputs": [],
   "source": [
    "f= open('D:\\\\Project\\\\1.txt','a')   # فتح ملف للإضافة و ليس لمسح القديم \n",
    "f.write('\\nYou are always welcome')\n",
    "f.close()"
   ]
  },
  {
   "cell_type": "markdown",
   "id": "confirmed-likelihood",
   "metadata": {},
   "source": [
    "<h3 align=left>open & read the file"
   ]
  },
  {
   "cell_type": "code",
   "execution_count": 10,
   "id": "western-director",
   "metadata": {},
   "outputs": [],
   "source": [
    "f= open('D:\\\\Project\\\\1.txt','r')   # لفتح ملف و قراءته"
   ]
  },
  {
   "cell_type": "code",
   "execution_count": 11,
   "id": "mobile-pittsburgh",
   "metadata": {},
   "outputs": [
    {
     "name": "stdout",
     "output_type": "stream",
     "text": [
      "Hello\n",
      "\n",
      "I am learning Python\n",
      "\n",
      "Come and join me\n",
      "\n",
      "We can enjoy it together\n",
      "\n",
      "You are always welcome\n"
     ]
    }
   ],
   "source": [
    "for a in f:             # لقراءة السطور و اظهارها\n",
    "    print(a)"
   ]
  },
  {
   "cell_type": "code",
   "execution_count": 12,
   "id": "japanese-organ",
   "metadata": {},
   "outputs": [],
   "source": [
    "f.close()"
   ]
  }
 ],
 "metadata": {
  "kernelspec": {
   "display_name": "Python 3 (ipykernel)",
   "language": "python",
   "name": "python3"
  },
  "language_info": {
   "codemirror_mode": {
    "name": "ipython",
    "version": 3
   },
   "file_extension": ".py",
   "mimetype": "text/x-python",
   "name": "python",
   "nbconvert_exporter": "python",
   "pygments_lexer": "ipython3",
   "version": "3.9.12"
  },
  "latex_envs": {
   "LaTeX_envs_menu_present": true,
   "autoclose": false,
   "autocomplete": true,
   "bibliofile": "biblio.bib",
   "cite_by": "apalike",
   "current_citInitial": 1,
   "eqLabelWithNumbers": true,
   "eqNumInitial": 1,
   "hotkeys": {
    "equation": "Ctrl-E",
    "itemize": "Ctrl-I"
   },
   "labels_anchors": false,
   "latex_user_defs": false,
   "report_style_numbering": false,
   "user_envs_cfg": false
  },
  "toc": {
   "base_numbering": 1,
   "nav_menu": {},
   "number_sections": true,
   "sideBar": true,
   "skip_h1_title": true,
   "title_cell": "Table of Contents",
   "title_sidebar": "Contents",
   "toc_cell": true,
   "toc_position": {
    "height": "calc(100% - 180px)",
    "left": "10px",
    "top": "150px",
    "width": "188.797px"
   },
   "toc_section_display": true,
   "toc_window_display": true
  }
 },
 "nbformat": 4,
 "nbformat_minor": 5
}
