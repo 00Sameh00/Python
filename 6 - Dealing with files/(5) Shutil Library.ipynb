{
 "cells": [
  {
   "cell_type": "markdown",
   "id": "sophisticated-winner",
   "metadata": {},
   "source": [
    "<h1 align=center>Handling files in Python"
   ]
  },
  {
   "cell_type": "markdown",
   "id": "positive-swimming",
   "metadata": {
    "toc": true
   },
   "source": [
    "<h1>Table of Contents<span class=\"tocSkip\"></span></h1>\n",
    "<div class=\"toc\"><ul class=\"toc-item\"><li><span><a href=\"#Shutil-Library\" data-toc-modified-id=\"Shutil-Library-1\"><span class=\"toc-item-num\">1&nbsp;&nbsp;</span>Shutil Library</a></span><ul class=\"toc-item\"><li><span><a href=\"#copy-file\" data-toc-modified-id=\"copy-file-1.1\"><span class=\"toc-item-num\">1.1&nbsp;&nbsp;</span>copy file</a></span></li><li><span><a href=\"#copy-folder\" data-toc-modified-id=\"copy-folder-1.2\"><span class=\"toc-item-num\">1.2&nbsp;&nbsp;</span>copy folder</a></span></li><li><span><a href=\"#move-folder\" data-toc-modified-id=\"move-folder-1.3\"><span class=\"toc-item-num\">1.3&nbsp;&nbsp;</span>move folder</a></span></li></ul></li></ul></div>"
   ]
  },
  {
   "cell_type": "markdown",
   "id": "synthetic-canvas",
   "metadata": {},
   "source": [
    "<h2 align=left>Shutil Library"
   ]
  },
  {
   "cell_type": "code",
   "execution_count": 36,
   "id": "polish-sensitivity",
   "metadata": {},
   "outputs": [],
   "source": [
    "import shutil as sh   # مكتبة شاتل , لنسخ و نقل الملفات"
   ]
  },
  {
   "cell_type": "markdown",
   "id": "curious-coach",
   "metadata": {},
   "source": [
    "<h3 align=left>copy file"
   ]
  },
  {
   "cell_type": "code",
   "execution_count": 37,
   "id": "illegal-norwegian",
   "metadata": {},
   "outputs": [
    {
     "data": {
      "text/plain": [
       "'D:\\\\Project\\\\00\\\\1.txt'"
      ]
     },
     "execution_count": 37,
     "metadata": {},
     "output_type": "execute_result"
    }
   ],
   "source": [
    "sh.copyfile( 'D:\\\\Project\\\\1.txt', 'D:\\\\Project\\\\00\\\\1.txt') # نسخ ملف من مكان لمكان , ويجب ان يكون الفولدر موجود"
   ]
  },
  {
   "cell_type": "markdown",
   "id": "italic-render",
   "metadata": {},
   "source": [
    "<h3 align=left>copy folder"
   ]
  },
  {
   "cell_type": "code",
   "execution_count": 38,
   "id": "genetic-foster",
   "metadata": {},
   "outputs": [
    {
     "data": {
      "text/plain": [
       "'D:\\\\Project\\\\sameh\\\\00'"
      ]
     },
     "execution_count": 38,
     "metadata": {},
     "output_type": "execute_result"
    }
   ],
   "source": [
    "sh.copytree('D:\\\\Project\\\\00' , 'D:\\\\Project\\\\sameh\\\\00') "
   ]
  },
  {
   "cell_type": "markdown",
   "id": "diverse-protection",
   "metadata": {},
   "source": [
    "<h3 align=left>move folder"
   ]
  },
  {
   "cell_type": "code",
   "execution_count": 43,
   "id": "identified-baltimore",
   "metadata": {},
   "outputs": [
    {
     "data": {
      "text/plain": [
       "'D:\\\\project\\\\sameh\\\\00\\\\1.xls'"
      ]
     },
     "execution_count": 43,
     "metadata": {},
     "output_type": "execute_result"
    }
   ],
   "source": [
    "sh.move('D:\\\\Project\\\\sameh\\\\1.txt' , 'D:\\\\project\\\\sameh\\\\00\\\\1.xls') # نقل ملف او فولدر"
   ]
  }
 ],
 "metadata": {
  "kernelspec": {
   "display_name": "Python 3",
   "language": "python",
   "name": "python3"
  },
  "language_info": {
   "codemirror_mode": {
    "name": "ipython",
    "version": 3
   },
   "file_extension": ".py",
   "mimetype": "text/x-python",
   "name": "python",
   "nbconvert_exporter": "python",
   "pygments_lexer": "ipython3",
   "version": "3.8.5"
  },
  "latex_envs": {
   "LaTeX_envs_menu_present": true,
   "autoclose": false,
   "autocomplete": true,
   "bibliofile": "biblio.bib",
   "cite_by": "apalike",
   "current_citInitial": 1,
   "eqLabelWithNumbers": true,
   "eqNumInitial": 1,
   "hotkeys": {
    "equation": "Ctrl-E",
    "itemize": "Ctrl-I"
   },
   "labels_anchors": false,
   "latex_user_defs": false,
   "report_style_numbering": false,
   "user_envs_cfg": false
  },
  "toc": {
   "base_numbering": 1,
   "nav_menu": {},
   "number_sections": true,
   "sideBar": true,
   "skip_h1_title": true,
   "title_cell": "Table of Contents",
   "title_sidebar": "Contents",
   "toc_cell": true,
   "toc_position": {
    "height": "calc(100% - 180px)",
    "left": "10px",
    "top": "150px",
    "width": "188.797px"
   },
   "toc_section_display": true,
   "toc_window_display": true
  }
 },
 "nbformat": 4,
 "nbformat_minor": 5
}
