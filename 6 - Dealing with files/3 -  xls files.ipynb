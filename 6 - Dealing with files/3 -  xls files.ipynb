{
 "cells": [
  {
   "cell_type": "markdown",
   "id": "sophisticated-winner",
   "metadata": {},
   "source": [
    "<h1 align=center>Handling files in Python"
   ]
  },
  {
   "cell_type": "markdown",
   "id": "positive-swimming",
   "metadata": {
    "toc": true
   },
   "source": [
    "<h1>Table of Contents<span class=\"tocSkip\"></span></h1>\n",
    "<div class=\"toc\"><ul class=\"toc-item\"><li><span><a href=\"#-Dealing-with-xls-file\" data-toc-modified-id=\"-Dealing-with-xls-file-1\"><span class=\"toc-item-num\">1&nbsp;&nbsp;</span> Dealing with xls file</a></span><ul class=\"toc-item\"><li><span><a href=\"#Create-a-file\" data-toc-modified-id=\"Create-a-file-1.1\"><span class=\"toc-item-num\">1.1&nbsp;&nbsp;</span>Create a file</a></span></li><li><span><a href=\"#Write-inside-the-file\" data-toc-modified-id=\"Write-inside-the-file-1.2\"><span class=\"toc-item-num\">1.2&nbsp;&nbsp;</span>Write inside the file</a></span></li><li><span><a href=\"#close-the-file\" data-toc-modified-id=\"close-the-file-1.3\"><span class=\"toc-item-num\">1.3&nbsp;&nbsp;</span>close the file</a></span></li><li><span><a href=\"#open-&amp;-read-the-file\" data-toc-modified-id=\"open-&amp;-read-the-file-1.4\"><span class=\"toc-item-num\">1.4&nbsp;&nbsp;</span>open &amp; read the file</a></span></li></ul></li></ul></div>"
   ]
  },
  {
   "cell_type": "markdown",
   "id": "allied-investing",
   "metadata": {},
   "source": [
    "<h2 align=left> Dealing with xls file"
   ]
  },
  {
   "cell_type": "markdown",
   "id": "worldwide-conversion",
   "metadata": {},
   "source": [
    "<h3 align=left>Create a file"
   ]
  },
  {
   "cell_type": "code",
   "execution_count": 1,
   "id": "noted-photography",
   "metadata": {},
   "outputs": [],
   "source": [
    "# To open or creat a xls file in a certain directory \n",
    "# 'w' to creat or write on a file after eraseing the existing text.\n",
    "\n",
    "outfile = open('C:\\\\Users\\\\sameh.ibrahim\\\\MySandbox\\\\My Projects\\\\Python\\\\6 - Dealing with files\\\\1.xls', 'w')   "
   ]
  },
  {
   "cell_type": "markdown",
   "id": "auburn-messenger",
   "metadata": {},
   "source": [
    "<h3 align=left>Write inside the file"
   ]
  },
  {
   "cell_type": "code",
   "execution_count": 2,
   "id": "prostate-abraham",
   "metadata": {},
   "outputs": [
    {
     "data": {
      "text/plain": [
       "11"
      ]
     },
     "execution_count": 2,
     "metadata": {},
     "output_type": "execute_result"
    }
   ],
   "source": [
    "outfile.write('I am still learning')\n",
    "outfile.write('\\nI am tired')"
   ]
  },
  {
   "cell_type": "markdown",
   "id": "convinced-external",
   "metadata": {},
   "source": [
    "<h3 align=left>close the file"
   ]
  },
  {
   "cell_type": "code",
   "execution_count": 3,
   "id": "atlantic-windsor",
   "metadata": {},
   "outputs": [],
   "source": [
    "outfile.close()"
   ]
  },
  {
   "cell_type": "markdown",
   "id": "primary-infection",
   "metadata": {},
   "source": [
    "<h3 align=left>open & read the file"
   ]
  },
  {
   "cell_type": "code",
   "execution_count": 4,
   "id": "musical-terrace",
   "metadata": {},
   "outputs": [],
   "source": [
    "# using 'r' function to read the data from txt file.\n",
    "\n",
    "outfile = open('C:\\\\Users\\\\sameh.ibrahim\\\\MySandbox\\\\My Projects\\\\Python\\\\6 - Dealing with files\\\\1.xls', 'r')"
   ]
  },
  {
   "cell_type": "code",
   "execution_count": 5,
   "id": "blank-cotton",
   "metadata": {},
   "outputs": [
    {
     "name": "stdout",
     "output_type": "stream",
     "text": [
      "I am still learning\n",
      "\n",
      "I am tired\n"
     ]
    }
   ],
   "source": [
    "# Creat a loop to read all the data inside the file.\n",
    "\n",
    "for g in outfile:    \n",
    "    print(g)"
   ]
  },
  {
   "cell_type": "code",
   "execution_count": 6,
   "id": "quick-thickness",
   "metadata": {},
   "outputs": [],
   "source": [
    "outfile.close()"
   ]
  }
 ],
 "metadata": {
  "kernelspec": {
   "display_name": "Python 3.9.12 ('base')",
   "language": "python",
   "name": "python3"
  },
  "language_info": {
   "codemirror_mode": {
    "name": "ipython",
    "version": 3
   },
   "file_extension": ".py",
   "mimetype": "text/x-python",
   "name": "python",
   "nbconvert_exporter": "python",
   "pygments_lexer": "ipython3",
   "version": "3.9.12"
  },
  "latex_envs": {
   "LaTeX_envs_menu_present": true,
   "autoclose": false,
   "autocomplete": true,
   "bibliofile": "biblio.bib",
   "cite_by": "apalike",
   "current_citInitial": 1,
   "eqLabelWithNumbers": true,
   "eqNumInitial": 1,
   "hotkeys": {
    "equation": "Ctrl-E",
    "itemize": "Ctrl-I"
   },
   "labels_anchors": false,
   "latex_user_defs": false,
   "report_style_numbering": false,
   "user_envs_cfg": false
  },
  "toc": {
   "base_numbering": 1,
   "nav_menu": {},
   "number_sections": true,
   "sideBar": true,
   "skip_h1_title": true,
   "title_cell": "Table of Contents",
   "title_sidebar": "Contents",
   "toc_cell": true,
   "toc_position": {
    "height": "calc(100% - 180px)",
    "left": "10px",
    "top": "150px",
    "width": "188.797px"
   },
   "toc_section_display": true,
   "toc_window_display": true
  },
  "vscode": {
   "interpreter": {
    "hash": "55f2fe7b1c560c2d324ed046faeb8a55513d29ab718ddf7bfc99dad8debd2a7a"
   }
  }
 },
 "nbformat": 4,
 "nbformat_minor": 5
}
