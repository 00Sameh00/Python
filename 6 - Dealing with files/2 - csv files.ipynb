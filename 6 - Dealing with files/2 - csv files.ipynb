{
 "cells": [
  {
   "cell_type": "markdown",
   "id": "sophisticated-winner",
   "metadata": {},
   "source": [
    "<h1 align=center>Handling files in Python"
   ]
  },
  {
   "cell_type": "markdown",
   "id": "positive-swimming",
   "metadata": {
    "toc": true
   },
   "source": [
    "<h1>Table of Contents<span class=\"tocSkip\"></span></h1>\n",
    "<div class=\"toc\"><ul class=\"toc-item\"><li><span><a href=\"#-Dealing-with-a-csv-file\" data-toc-modified-id=\"-Dealing-with-a-csv-file-1\"><span class=\"toc-item-num\">1&nbsp;&nbsp;</span> Dealing with a csv file</a></span><ul class=\"toc-item\"><li><span><a href=\"#Create-a-file\" data-toc-modified-id=\"Create-a-file-1.1\"><span class=\"toc-item-num\">1.1&nbsp;&nbsp;</span>Create a file</a></span></li><li><span><a href=\"#Write-inside-the-file\" data-toc-modified-id=\"Write-inside-the-file-1.2\"><span class=\"toc-item-num\">1.2&nbsp;&nbsp;</span>Write inside the file</a></span></li><li><span><a href=\"#close-the-file\" data-toc-modified-id=\"close-the-file-1.3\"><span class=\"toc-item-num\">1.3&nbsp;&nbsp;</span>close the file</a></span></li></ul></li></ul></div>"
   ]
  },
  {
   "cell_type": "markdown",
   "id": "hawaiian-tourist",
   "metadata": {},
   "source": [
    "<h2 align=left> Dealing with a csv file"
   ]
  },
  {
   "cell_type": "markdown",
   "id": "aging-economy",
   "metadata": {},
   "source": [
    "<h3 align=left>Create a file"
   ]
  },
  {
   "cell_type": "code",
   "execution_count": 4,
   "id": "limited-medicare",
   "metadata": {},
   "outputs": [],
   "source": [
    "# To open or creat a csv file in a certain directory \n",
    "# 'w' to creat or write on a file after eraseing the existing text.\n",
    "\n",
    "file = open('C:\\\\Users\\\\sameh.ibrahim\\\\MySandbox\\\\My Projects\\\\Python\\\\6 - Dealing with files\\\\1.csv', 'w') "
   ]
  },
  {
   "cell_type": "markdown",
   "id": "artistic-director",
   "metadata": {},
   "source": [
    "<h3 align=left>Write inside the file"
   ]
  },
  {
   "cell_type": "code",
   "execution_count": 5,
   "id": "compound-station",
   "metadata": {},
   "outputs": [
    {
     "data": {
      "text/plain": [
       "12"
      ]
     },
     "execution_count": 5,
     "metadata": {},
     "output_type": "execute_result"
    }
   ],
   "source": [
    "# write all you want inside the csv file\n",
    "\n",
    "file.write('I love Excel')"
   ]
  },
  {
   "cell_type": "markdown",
   "id": "appropriate-integer",
   "metadata": {},
   "source": [
    "<h3 align=left>close the file"
   ]
  },
  {
   "cell_type": "code",
   "execution_count": 6,
   "id": "together-continent",
   "metadata": {},
   "outputs": [],
   "source": [
    "file.close()"
   ]
  }
 ],
 "metadata": {
  "kernelspec": {
   "display_name": "Python 3.9.12 ('base')",
   "language": "python",
   "name": "python3"
  },
  "language_info": {
   "codemirror_mode": {
    "name": "ipython",
    "version": 3
   },
   "file_extension": ".py",
   "mimetype": "text/x-python",
   "name": "python",
   "nbconvert_exporter": "python",
   "pygments_lexer": "ipython3",
   "version": "3.9.12"
  },
  "latex_envs": {
   "LaTeX_envs_menu_present": true,
   "autoclose": false,
   "autocomplete": true,
   "bibliofile": "biblio.bib",
   "cite_by": "apalike",
   "current_citInitial": 1,
   "eqLabelWithNumbers": true,
   "eqNumInitial": 1,
   "hotkeys": {
    "equation": "Ctrl-E",
    "itemize": "Ctrl-I"
   },
   "labels_anchors": false,
   "latex_user_defs": false,
   "report_style_numbering": false,
   "user_envs_cfg": false
  },
  "toc": {
   "base_numbering": 1,
   "nav_menu": {},
   "number_sections": true,
   "sideBar": true,
   "skip_h1_title": true,
   "title_cell": "Table of Contents",
   "title_sidebar": "Contents",
   "toc_cell": true,
   "toc_position": {
    "height": "calc(100% - 180px)",
    "left": "10px",
    "top": "150px",
    "width": "188.797px"
   },
   "toc_section_display": true,
   "toc_window_display": true
  },
  "vscode": {
   "interpreter": {
    "hash": "55f2fe7b1c560c2d324ed046faeb8a55513d29ab718ddf7bfc99dad8debd2a7a"
   }
  }
 },
 "nbformat": 4,
 "nbformat_minor": 5
}
