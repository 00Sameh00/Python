{
 "cells": [
  {
   "cell_type": "markdown",
   "id": "understanding-substitute",
   "metadata": {},
   "source": [
    "<h1 align=center> Strings in Python"
   ]
  },
  {
   "cell_type": "markdown",
   "id": "fifty-desperate",
   "metadata": {
    "toc": true
   },
   "source": [
    "<h1>Table of Contents<span class=\"tocSkip\"></span></h1>\n",
    "<div class=\"toc\"><ul class=\"toc-item\"><li><span><a href=\"#Deal-with-strings\" data-toc-modified-id=\"Deal-with-strings-1\"><span class=\"toc-item-num\">1&nbsp;&nbsp;</span>Deal with strings</a></span><ul class=\"toc-item\"><li><span><a href=\"#unpack-a-certain-letter-from-the-string\" data-toc-modified-id=\"unpack-a-certain-letter-from-the-string-1.1\"><span class=\"toc-item-num\">1.1&nbsp;&nbsp;</span>unpack a certain letter from the string</a></span></li><li><span><a href=\"#unpack-from-the-end-of-the-string\" data-toc-modified-id=\"unpack-from-the-end-of-the-string-1.2\"><span class=\"toc-item-num\">1.2&nbsp;&nbsp;</span>unpack from the end of the string</a></span></li><li><span><a href=\"#repeat-the-letter-\" data-toc-modified-id=\"repeat-the-letter--1.3\"><span class=\"toc-item-num\">1.3&nbsp;&nbsp;</span>repeat the letter </a></span></li><li><span><a href=\"#unpack-part-of-the-string\" data-toc-modified-id=\"unpack-part-of-the-string-1.4\"><span class=\"toc-item-num\">1.4&nbsp;&nbsp;</span>unpack part of the string</a></span></li><li><span><a href=\"#unpack-with-certain-step\" data-toc-modified-id=\"unpack-with-certain-step-1.5\"><span class=\"toc-item-num\">1.5&nbsp;&nbsp;</span>unpack with certain step</a></span></li><li><span><a href=\"#List-function\" data-toc-modified-id=\"List-function-1.6\"><span class=\"toc-item-num\">1.6&nbsp;&nbsp;</span>List function</a></span></li><li><span><a href=\"#set-function\" data-toc-modified-id=\"set-function-1.7\"><span class=\"toc-item-num\">1.7&nbsp;&nbsp;</span>set function</a></span></li><li><span><a href=\"#split-function\" data-toc-modified-id=\"split-function-1.8\"><span class=\"toc-item-num\">1.8&nbsp;&nbsp;</span>split function</a></span></li><li><span><a href=\"#partition-function\" data-toc-modified-id=\"partition-function-1.9\"><span class=\"toc-item-num\">1.9&nbsp;&nbsp;</span>partition function</a></span></li><li><span><a href=\"#find-function\" data-toc-modified-id=\"find-function-1.10\"><span class=\"toc-item-num\">1.10&nbsp;&nbsp;</span>find function</a></span></li><li><span><a href=\"#index-function\" data-toc-modified-id=\"index-function-1.11\"><span class=\"toc-item-num\">1.11&nbsp;&nbsp;</span>index function</a></span><ul class=\"toc-item\"><li><span><a href=\"#diff.-between-&quot;find&quot;-and-&quot;index&quot;\" data-toc-modified-id=\"diff.-between-&quot;find&quot;-and-&quot;index&quot;-1.11.1\"><span class=\"toc-item-num\">1.11.1&nbsp;&nbsp;</span>diff. between \"find\" and \"index\"</a></span></li></ul></li><li><span><a href=\"#replace-function\" data-toc-modified-id=\"replace-function-1.12\"><span class=\"toc-item-num\">1.12&nbsp;&nbsp;</span>replace function</a></span></li><li><span><a href=\"#count-function\" data-toc-modified-id=\"count-function-1.13\"><span class=\"toc-item-num\">1.13&nbsp;&nbsp;</span>count function</a></span></li><li><span><a href=\"#capitalize-function\" data-toc-modified-id=\"capitalize-function-1.14\"><span class=\"toc-item-num\">1.14&nbsp;&nbsp;</span>capitalize function</a></span></li><li><span><a href=\"#title-function\" data-toc-modified-id=\"title-function-1.15\"><span class=\"toc-item-num\">1.15&nbsp;&nbsp;</span>title function</a></span></li><li><span><a href=\"#upper-function\" data-toc-modified-id=\"upper-function-1.16\"><span class=\"toc-item-num\">1.16&nbsp;&nbsp;</span>upper function</a></span></li><li><span><a href=\"#swapcase-function\" data-toc-modified-id=\"swapcase-function-1.17\"><span class=\"toc-item-num\">1.17&nbsp;&nbsp;</span>swapcase function</a></span></li><li><span><a href=\"#center-function\" data-toc-modified-id=\"center-function-1.18\"><span class=\"toc-item-num\">1.18&nbsp;&nbsp;</span>center function</a></span></li><li><span><a href=\"#just-function\" data-toc-modified-id=\"just-function-1.19\"><span class=\"toc-item-num\">1.19&nbsp;&nbsp;</span>just function</a></span></li><li><span><a href=\"#zfill-function\" data-toc-modified-id=\"zfill-function-1.20\"><span class=\"toc-item-num\">1.20&nbsp;&nbsp;</span>zfill function</a></span></li><li><span><a href=\"#-alphabet-function\" data-toc-modified-id=\"-alphabet-function-1.21\"><span class=\"toc-item-num\">1.21&nbsp;&nbsp;</span> alphabet function</a></span></li><li><span><a href=\"#strip-function\" data-toc-modified-id=\"strip-function-1.22\"><span class=\"toc-item-num\">1.22&nbsp;&nbsp;</span>strip function</a></span></li><li><span><a href=\"#backslash-function\" data-toc-modified-id=\"backslash-function-1.23\"><span class=\"toc-item-num\">1.23&nbsp;&nbsp;</span>backslash function</a></span></li><li><span><a href=\"#tab-function\" data-toc-modified-id=\"tab-function-1.24\"><span class=\"toc-item-num\">1.24&nbsp;&nbsp;</span>tab function</a></span></li><li><span><a href=\"#quotation-function\" data-toc-modified-id=\"quotation-function-1.25\"><span class=\"toc-item-num\">1.25&nbsp;&nbsp;</span>quotation function</a></span></li><li><span><a href=\"#end-function\" data-toc-modified-id=\"end-function-1.26\"><span class=\"toc-item-num\">1.26&nbsp;&nbsp;</span>end function</a></span></li><li><span><a href=\"#%-function\" data-toc-modified-id=\"%-function-1.27\"><span class=\"toc-item-num\">1.27&nbsp;&nbsp;</span>% function</a></span></li><li><span><a href=\"#tricks-to-keep-the-quotation-in-the-string--\" data-toc-modified-id=\"tricks-to-keep-the-quotation-in-the-string---1.28\"><span class=\"toc-item-num\">1.28&nbsp;&nbsp;</span>tricks to keep the quotation in the string  </a></span></li><li><span><a href=\"#isdigit-function\" data-toc-modified-id=\"isdigit-function-1.29\"><span class=\"toc-item-num\">1.29&nbsp;&nbsp;</span>isdigit function</a></span></li><li><span><a href=\"#isupper-function\" data-toc-modified-id=\"isupper-function-1.30\"><span class=\"toc-item-num\">1.30&nbsp;&nbsp;</span>isupper function</a></span></li><li><span><a href=\"#islower-function\" data-toc-modified-id=\"islower-function-1.31\"><span class=\"toc-item-num\">1.31&nbsp;&nbsp;</span>islower function</a></span></li><li><span><a href=\"#istitle-function\" data-toc-modified-id=\"istitle-function-1.32\"><span class=\"toc-item-num\">1.32&nbsp;&nbsp;</span>istitle function</a></span></li><li><span><a href=\"#startswith-function\" data-toc-modified-id=\"startswith-function-1.33\"><span class=\"toc-item-num\">1.33&nbsp;&nbsp;</span>startswith function</a></span></li><li><span><a href=\"#join-function\" data-toc-modified-id=\"join-function-1.34\"><span class=\"toc-item-num\">1.34&nbsp;&nbsp;</span>join function</a></span></li><li><span><a href=\"#format-function\" data-toc-modified-id=\"format-function-1.35\"><span class=\"toc-item-num\">1.35&nbsp;&nbsp;</span>format function</a></span></li></ul></li></ul></div>"
   ]
  },
  {
   "cell_type": "markdown",
   "id": "martial-myrtle",
   "metadata": {},
   "source": [
    "<h2 align=left>Deal with strings"
   ]
  },
  {
   "cell_type": "code",
   "execution_count": 3,
   "id": "covered-treasure",
   "metadata": {},
   "outputs": [
    {
     "name": "stdout",
     "output_type": "stream",
     "text": [
      "sweet home alabama\n"
     ]
    }
   ],
   "source": [
    "a = 'sweet home alabama'\n",
    "print(a)"
   ]
  },
  {
   "cell_type": "markdown",
   "id": "raising-identifier",
   "metadata": {},
   "source": [
    "<h3 align=left>unpack a certain letter from the string"
   ]
  },
  {
   "cell_type": "code",
   "execution_count": 5,
   "id": "isolated-hypothetical",
   "metadata": {},
   "outputs": [
    {
     "data": {
      "text/plain": [
       "('s', 'e', 'o')"
      ]
     },
     "execution_count": 5,
     "metadata": {},
     "output_type": "execute_result"
    }
   ],
   "source": [
    "a[0] , a[3] , a[7]  "
   ]
  },
  {
   "cell_type": "markdown",
   "id": "suffering-wichita",
   "metadata": {},
   "source": [
    "<h3 align=left>unpack from the end of the string"
   ]
  },
  {
   "cell_type": "code",
   "execution_count": 6,
   "id": "polished-relevance",
   "metadata": {},
   "outputs": [
    {
     "data": {
      "text/plain": [
       "('a', 'b', 'e')"
      ]
     },
     "execution_count": 6,
     "metadata": {},
     "output_type": "execute_result"
    }
   ],
   "source": [
    "a[-1] , a[-4] , a[-9] "
   ]
  },
  {
   "cell_type": "markdown",
   "id": "veterinary-progressive",
   "metadata": {},
   "source": [
    "<h3 align=left>repeat the letter "
   ]
  },
  {
   "cell_type": "code",
   "execution_count": 7,
   "id": "steady-length",
   "metadata": {},
   "outputs": [
    {
     "data": {
      "text/plain": [
       "'sss'"
      ]
     },
     "execution_count": 7,
     "metadata": {},
     "output_type": "execute_result"
    }
   ],
   "source": [
    "a[0]*3   # muliply with a certain number "
   ]
  },
  {
   "cell_type": "markdown",
   "id": "concerned-german",
   "metadata": {},
   "source": [
    "<h3 align=left>unpack part of the string"
   ]
  },
  {
   "cell_type": "code",
   "execution_count": 8,
   "id": "paperback-stand",
   "metadata": {},
   "outputs": [
    {
     "data": {
      "text/plain": [
       "'t home a'"
      ]
     },
     "execution_count": 8,
     "metadata": {},
     "output_type": "execute_result"
    }
   ],
   "source": [
    "a[4:12]     "
   ]
  },
  {
   "cell_type": "code",
   "execution_count": 9,
   "id": "boolean-mixture",
   "metadata": {},
   "outputs": [
    {
     "data": {
      "text/plain": [
       "'sweet home'"
      ]
     },
     "execution_count": 9,
     "metadata": {},
     "output_type": "execute_result"
    }
   ],
   "source": [
    "a[:10]       "
   ]
  },
  {
   "cell_type": "code",
   "execution_count": 10,
   "id": "worthy-program",
   "metadata": {},
   "outputs": [
    {
     "data": {
      "text/plain": [
       "'home alabama'"
      ]
     },
     "execution_count": 10,
     "metadata": {},
     "output_type": "execute_result"
    }
   ],
   "source": [
    "a[6:]       "
   ]
  },
  {
   "cell_type": "code",
   "execution_count": 11,
   "id": "fossil-diving",
   "metadata": {},
   "outputs": [
    {
     "data": {
      "text/plain": [
       "'sweet home alabama'"
      ]
     },
     "execution_count": 11,
     "metadata": {},
     "output_type": "execute_result"
    }
   ],
   "source": [
    "a[:]        "
   ]
  },
  {
   "cell_type": "markdown",
   "id": "thick-slope",
   "metadata": {},
   "source": [
    "<h3 align=left>unpack with certain step"
   ]
  },
  {
   "cell_type": "code",
   "execution_count": 12,
   "id": "valid-privilege",
   "metadata": {},
   "outputs": [
    {
     "data": {
      "text/plain": [
       "'thm '"
      ]
     },
     "execution_count": 12,
     "metadata": {},
     "output_type": "execute_result"
    }
   ],
   "source": [
    "a[4:12:2]  "
   ]
  },
  {
   "cell_type": "code",
   "execution_count": 13,
   "id": "heated-contract",
   "metadata": {},
   "outputs": [
    {
     "data": {
      "text/plain": [
       "'seh'"
      ]
     },
     "execution_count": 13,
     "metadata": {},
     "output_type": "execute_result"
    }
   ],
   "source": [
    "a[:7:3]     "
   ]
  },
  {
   "cell_type": "code",
   "execution_count": 14,
   "id": "acquired-assault",
   "metadata": {},
   "outputs": [
    {
     "data": {
      "text/plain": [
       "'mlm'"
      ]
     },
     "execution_count": 14,
     "metadata": {},
     "output_type": "execute_result"
    }
   ],
   "source": [
    "a[8::4]      "
   ]
  },
  {
   "cell_type": "code",
   "execution_count": 15,
   "id": "sharp-moisture",
   "metadata": {},
   "outputs": [
    {
     "data": {
      "text/plain": [
       "'sethm lbm'"
      ]
     },
     "execution_count": 15,
     "metadata": {},
     "output_type": "execute_result"
    }
   ],
   "source": [
    "a[::2]      "
   ]
  },
  {
   "cell_type": "code",
   "execution_count": 16,
   "id": "revolutionary-navigator",
   "metadata": {},
   "outputs": [
    {
     "data": {
      "text/plain": [
       "'amabala emoh '"
      ]
     },
     "execution_count": 16,
     "metadata": {},
     "output_type": "execute_result"
    }
   ],
   "source": [
    "a[-1:4:-1]   "
   ]
  },
  {
   "cell_type": "code",
   "execution_count": 18,
   "id": "intelligent-pitch",
   "metadata": {},
   "outputs": [
    {
     "data": {
      "text/plain": [
       "'amabala emoh teews'"
      ]
     },
     "execution_count": 18,
     "metadata": {},
     "output_type": "execute_result"
    }
   ],
   "source": [
    "a[::-1]      "
   ]
  },
  {
   "cell_type": "markdown",
   "id": "close-smell",
   "metadata": {},
   "source": [
    "<h3 align=left>List function"
   ]
  },
  {
   "cell_type": "code",
   "execution_count": 19,
   "id": "classical-venture",
   "metadata": {},
   "outputs": [
    {
     "name": "stdout",
     "output_type": "stream",
     "text": [
      "['s', 'w', 'e', 'e', 't', ' ', 'h', 'o', 'm', 'e', ' ', 'a', 'l', 'a', 'b', 'a', 'm', 'a']\n"
     ]
    }
   ],
   "source": [
    "print(list(a)) # it will list all the letters individually as an element"
   ]
  },
  {
   "cell_type": "code",
   "execution_count": 20,
   "id": "mobile-hacker",
   "metadata": {},
   "outputs": [
    {
     "name": "stdout",
     "output_type": "stream",
     "text": [
      "[' ', ' ', 'a', 'a', 'a', 'a', 'b', 'e', 'e', 'e', 'h', 'l', 'm', 'm', 'o', 's', 't', 'w']\n"
     ]
    }
   ],
   "source": [
    "print(sorted(list(a)))     # ascending the list "
   ]
  },
  {
   "cell_type": "markdown",
   "id": "legal-intermediate",
   "metadata": {},
   "source": [
    "<h3 align=left>set function"
   ]
  },
  {
   "cell_type": "code",
   "execution_count": 21,
   "id": "impaired-manor",
   "metadata": {},
   "outputs": [
    {
     "data": {
      "text/plain": [
       "{' ', 'a', 'b', 'e', 'h', 'l', 'm', 'o', 's', 't', 'w'}"
      ]
     },
     "execution_count": 21,
     "metadata": {},
     "output_type": "execute_result"
    }
   ],
   "source": [
    "set(a)  # all the used letters without repeat"
   ]
  },
  {
   "cell_type": "markdown",
   "id": "authentic-walnut",
   "metadata": {},
   "source": [
    "<h3 align=left>split function"
   ]
  },
  {
   "cell_type": "code",
   "execution_count": 22,
   "id": "figured-protein",
   "metadata": {},
   "outputs": [
    {
     "data": {
      "text/plain": [
       "['sweet', 'home', 'alabama']"
      ]
     },
     "execution_count": 22,
     "metadata": {},
     "output_type": "execute_result"
    }
   ],
   "source": [
    "a.split()    #split the words as elements in a list"
   ]
  },
  {
   "cell_type": "code",
   "execution_count": 23,
   "id": "registered-wholesale",
   "metadata": {},
   "outputs": [
    {
     "data": {
      "text/plain": [
       "['sweet home alabama']"
      ]
     },
     "execution_count": 23,
     "metadata": {},
     "output_type": "execute_result"
    }
   ],
   "source": [
    "a.split(\",\") # because there is no comma in the sentense so we have it as one sentence."
   ]
  },
  {
   "cell_type": "code",
   "execution_count": 24,
   "id": "unauthorized-music",
   "metadata": {},
   "outputs": [
    {
     "data": {
      "text/plain": [
       "['sw', '', 't hom', ' alabama']"
      ]
     },
     "execution_count": 24,
     "metadata": {},
     "output_type": "execute_result"
    }
   ],
   "source": [
    "a.split(\"e\") # using letter as a split item."
   ]
  },
  {
   "cell_type": "code",
   "execution_count": 25,
   "id": "silver-chaos",
   "metadata": {},
   "outputs": [
    {
     "data": {
      "text/plain": [
       "['123', '478', '6698', '4412', '0366', '']"
      ]
     },
     "execution_count": 25,
     "metadata": {},
     "output_type": "execute_result"
    }
   ],
   "source": [
    "x = \"12354785669854412503665\"\n",
    "\n",
    "x.split(\"5\") "
   ]
  },
  {
   "cell_type": "code",
   "execution_count": 26,
   "id": "african-visitor",
   "metadata": {},
   "outputs": [
    {
     "data": {
      "text/plain": [
       "['sweet home alabama']"
      ]
     },
     "execution_count": 26,
     "metadata": {},
     "output_type": "execute_result"
    }
   ],
   "source": [
    "a.splitlines() # split the text into lines "
   ]
  },
  {
   "cell_type": "markdown",
   "id": "comparable-final",
   "metadata": {},
   "source": [
    "<h3 align=left>partition function"
   ]
  },
  {
   "cell_type": "code",
   "execution_count": 28,
   "id": "chubby-harris",
   "metadata": {},
   "outputs": [
    {
     "data": {
      "text/plain": [
       "(' are you home today ', 'and', ' what are you doing?')"
      ]
     },
     "execution_count": 28,
     "metadata": {},
     "output_type": "execute_result"
    }
   ],
   "source": [
    "a = \" are you home today and what are you doing?\"\n",
    "a.partition('and') "
   ]
  },
  {
   "cell_type": "code",
   "execution_count": 29,
   "id": "presidential-recycling",
   "metadata": {},
   "outputs": [
    {
     "data": {
      "text/plain": [
       "(' are you home today and what are ', 'you', ' doing?')"
      ]
     },
     "execution_count": 29,
     "metadata": {},
     "output_type": "execute_result"
    }
   ],
   "source": [
    "a.rpartition('you') "
   ]
  },
  {
   "cell_type": "markdown",
   "id": "abroad-breakdown",
   "metadata": {},
   "source": [
    "<h3 align=left>find function"
   ]
  },
  {
   "cell_type": "code",
   "execution_count": 32,
   "id": "liable-cigarette",
   "metadata": {},
   "outputs": [
    {
     "data": {
      "text/plain": [
       "3"
      ]
     },
     "execution_count": 32,
     "metadata": {},
     "output_type": "execute_result"
    }
   ],
   "source": [
    "a = 'he is a good man but he is liar'\n",
    "a.find('is')     "
   ]
  },
  {
   "cell_type": "code",
   "execution_count": 33,
   "id": "impressive-swedish",
   "metadata": {},
   "outputs": [
    {
     "data": {
      "text/plain": [
       "21"
      ]
     },
     "execution_count": 33,
     "metadata": {},
     "output_type": "execute_result"
    }
   ],
   "source": [
    "a.rfind('he')     "
   ]
  },
  {
   "cell_type": "markdown",
   "id": "mounted-grant",
   "metadata": {},
   "source": [
    "<h3 align=left>index function"
   ]
  },
  {
   "cell_type": "code",
   "execution_count": 34,
   "id": "sensitive-probe",
   "metadata": {},
   "outputs": [
    {
     "data": {
      "text/plain": [
       "1"
      ]
     },
     "execution_count": 34,
     "metadata": {},
     "output_type": "execute_result"
    }
   ],
   "source": [
    "# get the first element index even if it is repeated more than one time\n",
    "a.index('e')    "
   ]
  },
  {
   "cell_type": "markdown",
   "id": "horizontal-daniel",
   "metadata": {},
   "source": [
    "<h4 align=left>diff. between \"find\" and \"index\""
   ]
  },
  {
   "cell_type": "markdown",
   "id": "afraid-final",
   "metadata": {},
   "source": [
    "If the letter is not in the word or not exist then<br>\n",
    ">**find:** output is (-1)<br>\n",
    ">**index** output is error (substring not found)"
   ]
  },
  {
   "cell_type": "markdown",
   "id": "theoretical-vienna",
   "metadata": {},
   "source": [
    "<h3 align=left>replace function"
   ]
  },
  {
   "cell_type": "code",
   "execution_count": 35,
   "id": "consistent-saturn",
   "metadata": {},
   "outputs": [
    {
     "data": {
      "text/plain": [
       "'he is a giid man but he is liar'"
      ]
     },
     "execution_count": 35,
     "metadata": {},
     "output_type": "execute_result"
    }
   ],
   "source": [
    "# to replace a certain letter in the string \n",
    "a.replace ('o','i')     "
   ]
  },
  {
   "cell_type": "code",
   "execution_count": 41,
   "id": "golden-processor",
   "metadata": {},
   "outputs": [
    {
     "data": {
      "text/plain": [
       "'he is an ugly man but he is liar'"
      ]
     },
     "execution_count": 41,
     "metadata": {},
     "output_type": "execute_result"
    }
   ],
   "source": [
    "# you can also replace a word with other one\n",
    "a.replace ('a good','an ugly')  "
   ]
  },
  {
   "cell_type": "markdown",
   "id": "intermediate-cotton",
   "metadata": {},
   "source": [
    "<h3 align=left>count function"
   ]
  },
  {
   "cell_type": "code",
   "execution_count": 43,
   "id": "intermediate-smell",
   "metadata": {},
   "outputs": [
    {
     "data": {
      "text/plain": [
       "3"
      ]
     },
     "execution_count": 43,
     "metadata": {},
     "output_type": "execute_result"
    }
   ],
   "source": [
    "#  to count how many this letter is repeated in the string\n",
    "a.count('a')  "
   ]
  },
  {
   "cell_type": "markdown",
   "id": "collaborative-meter",
   "metadata": {},
   "source": [
    "<h3 align=left>capitalize function"
   ]
  },
  {
   "cell_type": "code",
   "execution_count": 31,
   "id": "significant-hardwood",
   "metadata": {},
   "outputs": [
    {
     "data": {
      "text/plain": [
       "'He is a good man but he is liar'"
      ]
     },
     "execution_count": 31,
     "metadata": {},
     "output_type": "execute_result"
    }
   ],
   "source": [
    "# to capitalize the first letter of the string\n",
    "a.capitalize()    "
   ]
  },
  {
   "cell_type": "markdown",
   "id": "square-ancient",
   "metadata": {},
   "source": [
    "<h3 align=left>title function"
   ]
  },
  {
   "cell_type": "code",
   "execution_count": 32,
   "id": "injured-reunion",
   "metadata": {},
   "outputs": [
    {
     "data": {
      "text/plain": [
       "'He Is A Good Man But He Is Liar'"
      ]
     },
     "execution_count": 32,
     "metadata": {},
     "output_type": "execute_result"
    }
   ],
   "source": [
    "# Capitalize the first letter of each word in the string\n",
    "a.title()         "
   ]
  },
  {
   "cell_type": "markdown",
   "id": "painted-myanmar",
   "metadata": {},
   "source": [
    "<h3 align=left>upper function"
   ]
  },
  {
   "cell_type": "code",
   "execution_count": 33,
   "id": "guided-farming",
   "metadata": {},
   "outputs": [
    {
     "data": {
      "text/plain": [
       "'HE IS A GOOD MAN BUT HE IS LIAR'"
      ]
     },
     "execution_count": 33,
     "metadata": {},
     "output_type": "execute_result"
    }
   ],
   "source": [
    "# it convert all the string into a capital letters\n",
    "a.upper()      "
   ]
  },
  {
   "cell_type": "markdown",
   "id": "thrown-forestry",
   "metadata": {},
   "source": [
    "<h3 align=left>swapcase function"
   ]
  },
  {
   "cell_type": "code",
   "execution_count": 44,
   "id": "interracial-kennedy",
   "metadata": {},
   "outputs": [
    {
     "data": {
      "text/plain": [
       "'He Is A good Man'"
      ]
     },
     "execution_count": 44,
     "metadata": {},
     "output_type": "execute_result"
    }
   ],
   "source": [
    "# Swap the letters case in the string {if it is capital, it become small, and vis versa}\n",
    "a = 'hE iS a GOOD mAN'\n",
    "a.swapcase()  "
   ]
  },
  {
   "cell_type": "markdown",
   "id": "certified-electron",
   "metadata": {},
   "source": [
    "<h3 align=left>center function"
   ]
  },
  {
   "cell_type": "code",
   "execution_count": 47,
   "id": "transparent-metabolism",
   "metadata": {},
   "outputs": [
    {
     "data": {
      "text/plain": [
       "'       hE iS a GOOD mAN       '"
      ]
     },
     "execution_count": 47,
     "metadata": {},
     "output_type": "execute_result"
    }
   ],
   "source": [
    "# it center the string\n",
    "a.center(30)   "
   ]
  },
  {
   "cell_type": "markdown",
   "id": "false-faculty",
   "metadata": {},
   "source": [
    "<h3 align=left>just function"
   ]
  },
  {
   "cell_type": "code",
   "execution_count": 48,
   "id": "activated-yukon",
   "metadata": {},
   "outputs": [
    {
     "data": {
      "text/plain": [
       "'hE iS a GOOD mAN              '"
      ]
     },
     "execution_count": 48,
     "metadata": {},
     "output_type": "execute_result"
    }
   ],
   "source": [
    "# it adjust the string in the left side while keeping space in the right side.\n",
    "a.ljust(30)   "
   ]
  },
  {
   "cell_type": "code",
   "execution_count": 49,
   "id": "developing-wedding",
   "metadata": {},
   "outputs": [
    {
     "data": {
      "text/plain": [
       "'              hE iS a GOOD mAN'"
      ]
     },
     "execution_count": 49,
     "metadata": {},
     "output_type": "execute_result"
    }
   ],
   "source": [
    "# it adjust the string in the right side while keeping space in the left side.\n",
    "a.rjust(30)    "
   ]
  },
  {
   "cell_type": "code",
   "execution_count": 50,
   "id": "mobile-thompson",
   "metadata": {},
   "outputs": [
    {
     "data": {
      "text/plain": [
       "'**************hE iS a GOOD mAN'"
      ]
     },
     "execution_count": 50,
     "metadata": {},
     "output_type": "execute_result"
    }
   ],
   "source": [
    "# fill the space \n",
    "a.rjust(30 ,'*')  "
   ]
  },
  {
   "cell_type": "markdown",
   "id": "constitutional-graham",
   "metadata": {},
   "source": [
    "<h3 align=left>zfill function"
   ]
  },
  {
   "cell_type": "code",
   "execution_count": 51,
   "id": "proof-bargain",
   "metadata": {},
   "outputs": [
    {
     "data": {
      "text/plain": [
       "'0000000435'"
      ]
     },
     "execution_count": 51,
     "metadata": {},
     "output_type": "execute_result"
    }
   ],
   "source": [
    "# fill the numbers with zeros\n",
    "'435'.zfill(10)  "
   ]
  },
  {
   "cell_type": "markdown",
   "id": "hazardous-muslim",
   "metadata": {},
   "source": [
    "<h3 align=left> alphabet function"
   ]
  },
  {
   "cell_type": "code",
   "execution_count": 52,
   "id": "imposed-sydney",
   "metadata": {},
   "outputs": [
    {
     "data": {
      "text/plain": [
       "True"
      ]
     },
     "execution_count": 52,
     "metadata": {},
     "output_type": "execute_result"
    }
   ],
   "source": [
    "# check the text if all is alphabet or not\n",
    "\n",
    "a= 'heisagoodman'\n",
    "a.isalpha() "
   ]
  },
  {
   "cell_type": "code",
   "execution_count": 53,
   "id": "decreased-indian",
   "metadata": {},
   "outputs": [
    {
     "data": {
      "text/plain": [
       "False"
      ]
     },
     "execution_count": 53,
     "metadata": {},
     "output_type": "execute_result"
    }
   ],
   "source": [
    "a= 'he is a good man'\n",
    "a.isalpha() # note: the space is not count as an alphabet"
   ]
  },
  {
   "cell_type": "markdown",
   "id": "frequent-jones",
   "metadata": {},
   "source": [
    "<h3 align=left>strip function"
   ]
  },
  {
   "cell_type": "code",
   "execution_count": 54,
   "id": "advance-marijuana",
   "metadata": {},
   "outputs": [
    {
     "data": {
      "text/plain": [
       "'he is a good man'"
      ]
     },
     "execution_count": 54,
     "metadata": {},
     "output_type": "execute_result"
    }
   ],
   "source": [
    "# to strip all the extra space in the string \n",
    "\n",
    "a = '                he is a good man              '\n",
    "a.strip()  "
   ]
  },
  {
   "cell_type": "code",
   "execution_count": 55,
   "id": "motivated-disclosure",
   "metadata": {},
   "outputs": [
    {
     "data": {
      "text/plain": [
       "'                he is a good man'"
      ]
     },
     "execution_count": 55,
     "metadata": {},
     "output_type": "execute_result"
    }
   ],
   "source": [
    "# strip the space from the right side\n",
    "\n",
    "a.rstrip()     "
   ]
  },
  {
   "cell_type": "code",
   "execution_count": 56,
   "id": "logical-moses",
   "metadata": {},
   "outputs": [
    {
     "data": {
      "text/plain": [
       "'he is a good man              '"
      ]
     },
     "execution_count": 56,
     "metadata": {},
     "output_type": "execute_result"
    }
   ],
   "source": [
    "# strip the space from the left side\n",
    "\n",
    "a.lstrip()    # حذف اي مسافة من الشمال بس "
   ]
  },
  {
   "cell_type": "code",
   "execution_count": 57,
   "id": "adjacent-attack",
   "metadata": {},
   "outputs": [
    {
     "name": "stdout",
     "output_type": "stream",
     "text": [
      "abc\n"
     ]
    }
   ],
   "source": [
    "# strip a certain element from the string\n",
    "\n",
    "x = \"**abc**\"\n",
    "print(x.strip('*'))   "
   ]
  },
  {
   "cell_type": "markdown",
   "id": "humanitarian-frost",
   "metadata": {},
   "source": [
    "<h3 align=left>backslash function"
   ]
  },
  {
   "cell_type": "code",
   "execution_count": 58,
   "id": "employed-farming",
   "metadata": {},
   "outputs": [
    {
     "name": "stdout",
     "output_type": "stream",
     "text": [
      "sweet \n",
      "home alabama\n"
     ]
    }
   ],
   "source": [
    "#  the backslash plus n '\\n' moves you to a new line\n",
    "\n",
    "a = 'sweet \\nhome alabama'\n",
    "print(a)"
   ]
  },
  {
   "cell_type": "code",
   "execution_count": 59,
   "id": "acute-tunisia",
   "metadata": {},
   "outputs": [
    {
     "data": {
      "text/plain": [
       "'C:\\\\some\\\\name'"
      ]
     },
     "execution_count": 59,
     "metadata": {},
     "output_type": "execute_result"
    }
   ],
   "source": [
    "# to cancel backslash effect add r before string\n",
    "\n",
    "a = r'C:\\some\\name'\n",
    "a"
   ]
  },
  {
   "cell_type": "markdown",
   "id": "swiss-oriental",
   "metadata": {},
   "source": [
    "<h3 align=left>tab function"
   ]
  },
  {
   "cell_type": "code",
   "execution_count": 61,
   "id": "cooked-graham",
   "metadata": {},
   "outputs": [
    {
     "name": "stdout",
     "output_type": "stream",
     "text": [
      "sweet \t home alabama\n"
     ]
    }
   ],
   "source": [
    "#  to add a space inside the string\n",
    "\n",
    "a = \"sweet \\t home alabama\"\n",
    "print(a)  "
   ]
  },
  {
   "cell_type": "code",
   "execution_count": 62,
   "id": "decreased-compensation",
   "metadata": {},
   "outputs": [
    {
     "name": "stdout",
     "output_type": "stream",
     "text": [
      "sweet \t\t home alabama\n"
     ]
    }
   ],
   "source": [
    "# adding extra t will add extra space\n",
    "\n",
    "a = \"sweet \\t\\t home alabama\"\n",
    "print(a)  "
   ]
  },
  {
   "cell_type": "markdown",
   "id": "inner-houston",
   "metadata": {},
   "source": [
    "<h3 align=left>quotation function"
   ]
  },
  {
   "cell_type": "code",
   "execution_count": 65,
   "id": "grateful-pioneer",
   "metadata": {},
   "outputs": [
    {
     "data": {
      "text/plain": [
       "' sweet home alabama '"
      ]
     },
     "execution_count": 65,
     "metadata": {},
     "output_type": "execute_result"
    }
   ],
   "source": [
    "# you can write all what you want in lines between the tree quotations\n",
    "\n",
    "a = \"\"\" sweet home alabama \"\"\"  \n",
    "a"
   ]
  },
  {
   "cell_type": "markdown",
   "id": "global-infection",
   "metadata": {},
   "source": [
    "<h3 align=left>end function"
   ]
  },
  {
   "cell_type": "code",
   "execution_count": 66,
   "id": "informal-keyboard",
   "metadata": {},
   "outputs": [
    {
     "name": "stdout",
     "output_type": "stream",
     "text": [
      "aaaa bbbbb\n"
     ]
    }
   ],
   "source": [
    "# to print the variables next to each others\n",
    "\n",
    "a , b = 'aaaa' , 'bbbbb'\n",
    "print(a, end =\" \") \n",
    "print(b)"
   ]
  },
  {
   "cell_type": "markdown",
   "id": "gothic-patrick",
   "metadata": {},
   "source": [
    "<h3 align=left>% function"
   ]
  },
  {
   "cell_type": "code",
   "execution_count": 67,
   "id": "sustained-administrator",
   "metadata": {},
   "outputs": [
    {
     "data": {
      "text/plain": [
       "'sweet home alabama'"
      ]
     },
     "execution_count": 67,
     "metadata": {},
     "output_type": "execute_result"
    }
   ],
   "source": [
    "b = 'alabama'\n",
    "a = \"sweet home %s\" %b  # to add letters or words to the string, we use (%s)\n",
    "a"
   ]
  },
  {
   "cell_type": "code",
   "execution_count": 68,
   "id": "governing-edwards",
   "metadata": {},
   "outputs": [
    {
     "data": {
      "text/plain": [
       "\"I'm 40 years old\""
      ]
     },
     "execution_count": 68,
     "metadata": {},
     "output_type": "execute_result"
    }
   ],
   "source": [
    "b = 40\n",
    "a = \"I'm %d years old\" %b         # to add numbers or dicemal, we use(%d)\n",
    "a"
   ]
  },
  {
   "cell_type": "code",
   "execution_count": 69,
   "id": "random-personality",
   "metadata": {},
   "outputs": [
    {
     "data": {
      "text/plain": [
       "'my favourite number is 10'"
      ]
     },
     "execution_count": 69,
     "metadata": {},
     "output_type": "execute_result"
    }
   ],
   "source": [
    "c = 'number'\n",
    "d = 10\n",
    "a = \"my favourite %s is %d\" %( c , d)\n",
    "a"
   ]
  },
  {
   "cell_type": "code",
   "execution_count": 74,
   "id": "unsigned-memory",
   "metadata": {},
   "outputs": [
    {
     "data": {
      "text/plain": [
       "'number     7'"
      ]
     },
     "execution_count": 74,
     "metadata": {},
     "output_type": "execute_result"
    }
   ],
   "source": [
    "a = 'number %5d' %7  # no.(5) gives 5 spaces before the dicemal \n",
    "a"
   ]
  },
  {
   "cell_type": "code",
   "execution_count": 75,
   "id": "stable-milan",
   "metadata": {},
   "outputs": [
    {
     "data": {
      "text/plain": [
       "'numbers 00007'"
      ]
     },
     "execution_count": 75,
     "metadata": {},
     "output_type": "execute_result"
    }
   ],
   "source": [
    "a = 'numbers %05d' %7  # this time no.(0) addes zeros instead of clear spaces\n",
    "a"
   ]
  },
  {
   "cell_type": "code",
   "execution_count": 76,
   "id": "above-belly",
   "metadata": {},
   "outputs": [
    {
     "data": {
      "text/plain": [
       "'Python has 002 qoute types.'"
      ]
     },
     "execution_count": 76,
     "metadata": {},
     "output_type": "execute_result"
    }
   ],
   "source": [
    "a=\"%s has %03d qoute types.\" %(\"Python\", 2)\n",
    "a"
   ]
  },
  {
   "cell_type": "markdown",
   "id": "cooked-stranger",
   "metadata": {},
   "source": [
    "<h3 align=left>tricks to keep the quotation in the string  "
   ]
  },
  {
   "cell_type": "code",
   "execution_count": 78,
   "id": "premier-monthly",
   "metadata": {},
   "outputs": [
    {
     "data": {
      "text/plain": [
       "\"doesn't\""
      ]
     },
     "execution_count": 78,
     "metadata": {},
     "output_type": "execute_result"
    }
   ],
   "source": [
    "a = 'doesn\\'t'\n",
    "a"
   ]
  },
  {
   "cell_type": "code",
   "execution_count": 79,
   "id": "loving-spokesman",
   "metadata": {},
   "outputs": [
    {
     "name": "stdout",
     "output_type": "stream",
     "text": [
      "doesn't\n"
     ]
    }
   ],
   "source": [
    "a = \"doesn't\"\n",
    "print(a)"
   ]
  },
  {
   "cell_type": "code",
   "execution_count": 80,
   "id": "rental-labor",
   "metadata": {},
   "outputs": [
    {
     "name": "stdout",
     "output_type": "stream",
     "text": [
      " \"Yes,\" he said.\n"
     ]
    }
   ],
   "source": [
    "a = ' \"Yes,\" he said.'\n",
    "print(a)"
   ]
  },
  {
   "cell_type": "code",
   "execution_count": 81,
   "id": "random-margin",
   "metadata": {},
   "outputs": [
    {
     "name": "stdout",
     "output_type": "stream",
     "text": [
      "\"Yes,\" he said.\n"
     ]
    }
   ],
   "source": [
    "a = \"\\\"Yes,\\\" he said.\"\n",
    "print(a)"
   ]
  },
  {
   "cell_type": "code",
   "execution_count": 82,
   "id": "interracial-orbit",
   "metadata": {},
   "outputs": [
    {
     "name": "stdout",
     "output_type": "stream",
     "text": [
      "\"Isn't,\" she said.\n"
     ]
    }
   ],
   "source": [
    "a ='\"Isn\\'t,\" she said.'\n",
    "print(a)"
   ]
  },
  {
   "cell_type": "markdown",
   "id": "diagnostic-passing",
   "metadata": {},
   "source": [
    "<h3 align=left>isdigit function"
   ]
  },
  {
   "cell_type": "code",
   "execution_count": 83,
   "id": "otherwise-parameter",
   "metadata": {},
   "outputs": [
    {
     "data": {
      "text/plain": [
       "True"
      ]
     },
     "execution_count": 83,
     "metadata": {},
     "output_type": "execute_result"
    }
   ],
   "source": [
    "a = \"2348674653\"\n",
    "a.isdigit()"
   ]
  },
  {
   "cell_type": "markdown",
   "id": "mysterious-member",
   "metadata": {},
   "source": [
    " <h3 align=left>isupper function"
   ]
  },
  {
   "cell_type": "code",
   "execution_count": 84,
   "id": "great-mouse",
   "metadata": {},
   "outputs": [
    {
     "data": {
      "text/plain": [
       "True"
      ]
     },
     "execution_count": 84,
     "metadata": {},
     "output_type": "execute_result"
    }
   ],
   "source": [
    "a = 'SWEET HOME ALABAMAA'\n",
    "a.isupper()   # is all the string capital"
   ]
  },
  {
   "cell_type": "markdown",
   "id": "minus-permission",
   "metadata": {},
   "source": [
    " <h3 align=left>islower function"
   ]
  },
  {
   "cell_type": "code",
   "execution_count": 85,
   "id": "handed-maple",
   "metadata": {},
   "outputs": [
    {
     "data": {
      "text/plain": [
       "True"
      ]
     },
     "execution_count": 85,
     "metadata": {},
     "output_type": "execute_result"
    }
   ],
   "source": [
    "a = ' sweet home alabama'\n",
    "a.islower() # is all the string small"
   ]
  },
  {
   "cell_type": "markdown",
   "id": "destroyed-volume",
   "metadata": {},
   "source": [
    "<h3 align=left>istitle function"
   ]
  },
  {
   "cell_type": "code",
   "execution_count": 86,
   "id": "vanilla-nursing",
   "metadata": {},
   "outputs": [
    {
     "data": {
      "text/plain": [
       "True"
      ]
     },
     "execution_count": 86,
     "metadata": {},
     "output_type": "execute_result"
    }
   ],
   "source": [
    "a = 'Sweet Home Alabama'\n",
    "a.istitle()  # is the first letter of each word capital "
   ]
  },
  {
   "cell_type": "markdown",
   "id": "irish-translator",
   "metadata": {},
   "source": [
    "<h3 align=left>startswith function"
   ]
  },
  {
   "cell_type": "code",
   "execution_count": 87,
   "id": "passive-luther",
   "metadata": {},
   "outputs": [
    {
     "data": {
      "text/plain": [
       "True"
      ]
     },
     "execution_count": 87,
     "metadata": {},
     "output_type": "execute_result"
    }
   ],
   "source": [
    "a.startswith('Sweet')  \n",
    "a.endswith('Alabama')  #   (true or false)"
   ]
  },
  {
   "cell_type": "markdown",
   "id": "impossible-insured",
   "metadata": {},
   "source": [
    "<h3 align=left>join function"
   ]
  },
  {
   "cell_type": "code",
   "execution_count": 88,
   "id": "maritime-brooklyn",
   "metadata": {},
   "outputs": [
    {
     "data": {
      "text/plain": [
       "'one,two,three'"
      ]
     },
     "execution_count": 88,
     "metadata": {},
     "output_type": "execute_result"
    }
   ],
   "source": [
    "#  join function uses what is before it as a filler to be add between what is after  \n",
    "\n",
    "a = ','.join( ('one', 'two', 'three') )   \n",
    "a"
   ]
  },
  {
   "cell_type": "code",
   "execution_count": 89,
   "id": "common-floating",
   "metadata": {},
   "outputs": [
    {
     "data": {
      "text/plain": [
       "'one   two   three'"
      ]
     },
     "execution_count": 89,
     "metadata": {},
     "output_type": "execute_result"
    }
   ],
   "source": [
    "# join space between the words \n",
    "\n",
    "a = '   '.join( ('one', 'two', 'three') )\n",
    "a"
   ]
  },
  {
   "cell_type": "code",
   "execution_count": 90,
   "id": "further-anger",
   "metadata": {},
   "outputs": [
    {
     "data": {
      "text/plain": [
       "'h  e  l  l  o'"
      ]
     },
     "execution_count": 90,
     "metadata": {},
     "output_type": "execute_result"
    }
   ],
   "source": [
    "#  create space between the word letters\n",
    "\n",
    "'  '.join('hello')  "
   ]
  },
  {
   "cell_type": "code",
   "execution_count": 91,
   "id": "dedicated-minutes",
   "metadata": {},
   "outputs": [
    {
     "data": {
      "text/plain": [
       "'1,2,3,2,1,2,0,5,2,4,3,8,1,0,5,4,1,0,0,6,1,7,3,3,5,2,0,3,8,3,7,0,2,6,4,4,6,0,3,7,1,1,2,4,1,3,7,3,5,0,2,2,0,0,1,9,3,2,2,5,7,8,8,1,9,6,2,2,3,7,6,0,8,7,7,5,0,2,1,2,6,5,1,3,9,5,0,4,3,5,2,5,5,0,2,9,0,3,3,6'"
      ]
     },
     "execution_count": 91,
     "metadata": {},
     "output_type": "execute_result"
    }
   ],
   "source": [
    "import numpy as np\n",
    "\n",
    "a = ','.join([str(i) for i in np.random.randint(10, size=100)])\n",
    "a   "
   ]
  },
  {
   "cell_type": "markdown",
   "id": "technical-border",
   "metadata": {},
   "source": [
    "<h3 align=left>format function"
   ]
  },
  {
   "cell_type": "code",
   "execution_count": 95,
   "id": "biblical-raise",
   "metadata": {},
   "outputs": [
    {
     "name": "stdout",
     "output_type": "stream",
     "text": [
      "The value of pi is 3.141592653589793\n"
     ]
    }
   ],
   "source": [
    "# It replaces the brackets in the string with the value of format \n",
    "\n",
    "a = \"The value of pi is {}\".format(np.pi) \n",
    "print(a)"
   ]
  },
  {
   "cell_type": "code",
   "execution_count": 93,
   "id": "upset-revelation",
   "metadata": {},
   "outputs": [
    {
     "name": "stdout",
     "output_type": "stream",
     "text": [
      "pi = 3.142\n"
     ]
    }
   ],
   "source": [
    " # you can play with the dicemal n0.(3) to the number of fraction you want\n",
    "\n",
    "a = \"pi = {0:.3f}\".format(np.pi) \n",
    "print(a) "
   ]
  },
  {
   "cell_type": "code",
   "execution_count": 96,
   "id": "efficient-treasurer",
   "metadata": {},
   "outputs": [
    {
     "name": "stdout",
     "output_type": "stream",
     "text": [
      "red and blue\n"
     ]
    }
   ],
   "source": [
    "# replace the two values whatever it is string or digital number \n",
    "\n",
    "a = '{0} and {1}'.format('red', 'blue') \n",
    "print(a)"
   ]
  },
  {
   "cell_type": "code",
   "execution_count": 97,
   "id": "identified-charity",
   "metadata": {},
   "outputs": [
    {
     "name": "stdout",
     "output_type": "stream",
     "text": [
      "blue and red\n"
     ]
    }
   ],
   "source": [
    "a ='{1} and {0}'.format('red', 'blue')  \n",
    "print(a)"
   ]
  },
  {
   "cell_type": "code",
   "execution_count": 98,
   "id": "junior-dover",
   "metadata": {},
   "outputs": [
    {
     "name": "stdout",
     "output_type": "stream",
     "text": [
      "the first letter is: A. the Last letter is: Z.\n"
     ]
    }
   ],
   "source": [
    "a = \"the first letter is: {first}. the Last letter is: {last}.\".format(last='Z', first='A')\n",
    "print(a)"
   ]
  },
  {
   "cell_type": "code",
   "execution_count": 99,
   "id": "occupied-layout",
   "metadata": {},
   "outputs": [
    {
     "name": "stdout",
     "output_type": "stream",
     "text": [
      "I am 20 years old\n"
     ]
    }
   ],
   "source": [
    "# :s for str., :d for numbers\n",
    "\n",
    "a = '{:s} {:d} years old'.format('I am',20) \n",
    "print(a)"
   ]
  },
  {
   "cell_type": "code",
   "execution_count": 100,
   "id": "boolean-remedy",
   "metadata": {},
   "outputs": [
    {
     "name": "stdout",
     "output_type": "stream",
     "text": [
      "|                           Hello                            |\n"
     ]
    }
   ],
   "source": [
    "a = '|' + '{:^60}'.format('Hello') + '|' \n",
    "print(a)                  "
   ]
  },
  {
   "cell_type": "code",
   "execution_count": 104,
   "id": "separated-search",
   "metadata": {},
   "outputs": [
    {
     "name": "stdout",
     "output_type": "stream",
     "text": [
      "name       ==>      56322\n"
     ]
    }
   ],
   "source": [
    "a = '{0:10} ==> {1:10d}'.format('name', 56322)\n",
    "print(a)"
   ]
  }
 ],
 "metadata": {
  "kernelspec": {
   "display_name": "Python 3 (ipykernel)",
   "language": "python",
   "name": "python3"
  },
  "language_info": {
   "codemirror_mode": {
    "name": "ipython",
    "version": 3
   },
   "file_extension": ".py",
   "mimetype": "text/x-python",
   "name": "python",
   "nbconvert_exporter": "python",
   "pygments_lexer": "ipython3",
   "version": "3.9.12"
  },
  "latex_envs": {
   "LaTeX_envs_menu_present": true,
   "autoclose": false,
   "autocomplete": true,
   "bibliofile": "biblio.bib",
   "cite_by": "key",
   "current_citInitial": 1,
   "eqLabelWithNumbers": false,
   "eqNumInitial": 1,
   "hotkeys": {
    "equation": "Ctrl-E",
    "itemize": "Ctrl-I"
   },
   "labels_anchors": true,
   "latex_user_defs": false,
   "report_style_numbering": false,
   "user_envs_cfg": false
  },
  "toc": {
   "base_numbering": 1,
   "nav_menu": {},
   "number_sections": true,
   "sideBar": false,
   "skip_h1_title": true,
   "title_cell": "Table of Contents",
   "title_sidebar": "Contents",
   "toc_cell": true,
   "toc_position": {
    "height": "573.6px",
    "left": "39px",
    "top": "111.125px",
    "width": "218px"
   },
   "toc_section_display": true,
   "toc_window_display": true
  }
 },
 "nbformat": 4,
 "nbformat_minor": 5
}
