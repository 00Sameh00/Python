{
 "cells": [
  {
   "cell_type": "markdown",
   "id": "partial-programming",
   "metadata": {},
   "source": [
    "<h1 align=center> Math Library"
   ]
  },
  {
   "cell_type": "markdown",
   "id": "ideal-disclosure",
   "metadata": {
    "toc": true
   },
   "source": [
    "<h1>Table of Contents<span class=\"tocSkip\"></span></h1>\n",
    "<div class=\"toc\"><ul class=\"toc-item\"><li><span><a href=\"#Import-Math-module\" data-toc-modified-id=\"Import-Math-module-1\"><span class=\"toc-item-num\">1&nbsp;&nbsp;</span>Import Math module</a></span></li><li><span><a href=\"#Math-Library-functions\" data-toc-modified-id=\"Math-Library-functions-2\"><span class=\"toc-item-num\">2&nbsp;&nbsp;</span>Math Library functions</a></span><ul class=\"toc-item\"><li><span><a href=\"#factorial\" data-toc-modified-id=\"factorial-2.1\"><span class=\"toc-item-num\">2.1&nbsp;&nbsp;</span>factorial</a></span></li><li><span><a href=\"#exponential\" data-toc-modified-id=\"exponential-2.2\"><span class=\"toc-item-num\">2.2&nbsp;&nbsp;</span>exponential</a></span></li><li><span><a href=\"#Log\" data-toc-modified-id=\"Log-2.3\"><span class=\"toc-item-num\">2.3&nbsp;&nbsp;</span>Log</a></span></li><li><span><a href=\"#square-root\" data-toc-modified-id=\"square-root-2.4\"><span class=\"toc-item-num\">2.4&nbsp;&nbsp;</span>square root</a></span></li><li><span><a href=\"#math-angles\" data-toc-modified-id=\"math-angles-2.5\"><span class=\"toc-item-num\">2.5&nbsp;&nbsp;</span>math angles</a></span></li></ul></li><li><span><a href=\"#useful-functions\" data-toc-modified-id=\"useful-functions-3\"><span class=\"toc-item-num\">3&nbsp;&nbsp;</span>useful functions</a></span></li></ul></div>"
   ]
  },
  {
   "cell_type": "markdown",
   "id": "governmental-judges",
   "metadata": {},
   "source": [
    "<h2 align=left>Import Math module"
   ]
  },
  {
   "cell_type": "code",
   "execution_count": 1,
   "id": "remarkable-spice",
   "metadata": {},
   "outputs": [],
   "source": [
    "import math as m"
   ]
  },
  {
   "cell_type": "markdown",
   "id": "peaceful-incentive",
   "metadata": {},
   "source": [
    "<h2 align=left>Math Library functions"
   ]
  },
  {
   "cell_type": "markdown",
   "id": "personalized-glory",
   "metadata": {},
   "source": [
    "<h3 align=left>factorial"
   ]
  },
  {
   "cell_type": "code",
   "execution_count": 2,
   "id": "standing-label",
   "metadata": {},
   "outputs": [
    {
     "data": {
      "text/plain": [
       "720"
      ]
     },
     "execution_count": 2,
     "metadata": {},
     "output_type": "execute_result"
    }
   ],
   "source": [
    "x = 6\n",
    "a = m.factorial(x)  # = 6*5*4*3*2*1\n",
    "a"
   ]
  },
  {
   "cell_type": "markdown",
   "id": "arbitrary-literacy",
   "metadata": {},
   "source": [
    "<h3 align=left>exponential"
   ]
  },
  {
   "cell_type": "code",
   "execution_count": 3,
   "id": "capable-hartford",
   "metadata": {},
   "outputs": [
    {
     "data": {
      "text/plain": [
       "403.4287934927351"
      ]
     },
     "execution_count": 3,
     "metadata": {},
     "output_type": "execute_result"
    }
   ],
   "source": [
    "b = m.exp(x)\n",
    "b"
   ]
  },
  {
   "cell_type": "markdown",
   "id": "mathematical-placement",
   "metadata": {},
   "source": [
    "<h3 align=left>Log"
   ]
  },
  {
   "cell_type": "code",
   "execution_count": 4,
   "id": "perfect-cleanup",
   "metadata": {},
   "outputs": [
    {
     "data": {
      "text/plain": [
       "1.791759469228055"
      ]
     },
     "execution_count": 4,
     "metadata": {},
     "output_type": "execute_result"
    }
   ],
   "source": [
    "b = m.log(x)   # ln function\n",
    "b"
   ]
  },
  {
   "cell_type": "code",
   "execution_count": 7,
   "id": "victorian-morris",
   "metadata": {},
   "outputs": [
    {
     "data": {
      "text/plain": [
       "2.630929753571457"
      ]
     },
     "execution_count": 7,
     "metadata": {},
     "output_type": "execute_result"
    }
   ],
   "source": [
    "x = 18\n",
    "y = 3\n",
    "c = m.log(x,y)    # لوج لأساس معین\n",
    "c"
   ]
  },
  {
   "cell_type": "code",
   "execution_count": 8,
   "id": "ideal-system",
   "metadata": {},
   "outputs": [
    {
     "data": {
      "text/plain": [
       "1.255272505103306"
      ]
     },
     "execution_count": 8,
     "metadata": {},
     "output_type": "execute_result"
    }
   ],
   "source": [
    "d = m.log10(x)    # لوج للأساس 10 \n",
    "d"
   ]
  },
  {
   "cell_type": "markdown",
   "id": "dense-brick",
   "metadata": {},
   "source": [
    "<h3 align=left>square root"
   ]
  },
  {
   "cell_type": "code",
   "execution_count": 9,
   "id": "hungry-worthy",
   "metadata": {},
   "outputs": [
    {
     "data": {
      "text/plain": [
       "4.242640687119285"
      ]
     },
     "execution_count": 9,
     "metadata": {},
     "output_type": "execute_result"
    }
   ],
   "source": [
    "e = m.sqrt(x)   # الجذر التربیعي\n",
    "e"
   ]
  },
  {
   "cell_type": "markdown",
   "id": "seeing-teacher",
   "metadata": {},
   "source": [
    "<h3 align=left>math angles"
   ]
  },
  {
   "cell_type": "code",
   "execution_count": 10,
   "id": "younger-island",
   "metadata": {},
   "outputs": [
    {
     "data": {
      "text/plain": [
       "1031.324031235482"
      ]
     },
     "execution_count": 10,
     "metadata": {},
     "output_type": "execute_result"
    }
   ],
   "source": [
    "L = m.degrees(x)     # التحویل من degrees لـ radians\n",
    "L"
   ]
  },
  {
   "cell_type": "code",
   "execution_count": 11,
   "id": "democratic-carry",
   "metadata": {},
   "outputs": [
    {
     "data": {
      "text/plain": [
       "0.5235987755982988"
      ]
     },
     "execution_count": 11,
     "metadata": {},
     "output_type": "execute_result"
    }
   ],
   "source": [
    "x = 30\n",
    "p = m.radians(x)    # التحویل من radians لـ   degrees\n",
    "p"
   ]
  },
  {
   "cell_type": "raw",
   "id": "interracial-windows",
   "metadata": {},
   "source": [
    "m.sin(x)     m.cos(x)      m.tan(x)               # الدوال المثلثیة\n",
    "m.asin(x)      m.acos(x)      m.atan(x)           # الدوال المثلثیة العكسیة\n",
    "m.sinh(x)      m.cosh(x)      m.tanh(x)           # الدوال المثلثیة للقطع الزائد\n",
    "m.asinh(x)      m.acosh(x)      m.atanh(x)        # الدوال المثلثیة العكسیة للقطع الزائد"
   ]
  },
  {
   "cell_type": "markdown",
   "id": "advised-moderator",
   "metadata": {},
   "source": [
    "<h2 align=left>useful functions"
   ]
  },
  {
   "cell_type": "code",
   "execution_count": 12,
   "id": "structured-baseball",
   "metadata": {},
   "outputs": [
    {
     "data": {
      "text/plain": [
       "3.141592653589793"
      ]
     },
     "execution_count": 12,
     "metadata": {},
     "output_type": "execute_result"
    }
   ],
   "source": [
    "q = m.pi\n",
    "q"
   ]
  },
  {
   "cell_type": "code",
   "execution_count": 13,
   "id": "unique-neighborhood",
   "metadata": {},
   "outputs": [
    {
     "data": {
      "text/plain": [
       "2.718281828459045"
      ]
     },
     "execution_count": 13,
     "metadata": {},
     "output_type": "execute_result"
    }
   ],
   "source": [
    "s= m.e    # exponential factor    \n",
    "s    "
   ]
  },
  {
   "cell_type": "code",
   "execution_count": 14,
   "id": "suffering-feature",
   "metadata": {},
   "outputs": [
    {
     "data": {
      "text/plain": [
       "6.283185307179586"
      ]
     },
     "execution_count": 14,
     "metadata": {},
     "output_type": "execute_result"
    }
   ],
   "source": [
    "k = m.tau \n",
    "k"
   ]
  },
  {
   "cell_type": "code",
   "execution_count": 15,
   "id": "steady-egyptian",
   "metadata": {},
   "outputs": [
    {
     "data": {
      "text/plain": [
       "inf"
      ]
     },
     "execution_count": 15,
     "metadata": {},
     "output_type": "execute_result"
    }
   ],
   "source": [
    "r = m.inf\n",
    "r"
   ]
  },
  {
   "cell_type": "code",
   "execution_count": 16,
   "id": "humanitarian-avatar",
   "metadata": {},
   "outputs": [
    {
     "data": {
      "text/plain": [
       "720.0"
      ]
     },
     "execution_count": 16,
     "metadata": {},
     "output_type": "execute_result"
    }
   ],
   "source": [
    "g = m.copysign(a,b)   # نسخ الاشارة\n",
    "g                     # copy the sign from b to a "
   ]
  },
  {
   "cell_type": "code",
   "execution_count": 17,
   "id": "intellectual-ordinance",
   "metadata": {},
   "outputs": [
    {
     "data": {
      "text/plain": [
       "8"
      ]
     },
     "execution_count": 17,
     "metadata": {},
     "output_type": "execute_result"
    }
   ],
   "source": [
    "j = 7.2\n",
    "h = m.ceil(j)    # التقریب للأعلي\n",
    "h"
   ]
  },
  {
   "cell_type": "code",
   "execution_count": 18,
   "id": "adverse-catch",
   "metadata": {},
   "outputs": [
    {
     "data": {
      "text/plain": [
       "7"
      ]
     },
     "execution_count": 18,
     "metadata": {},
     "output_type": "execute_result"
    }
   ],
   "source": [
    "v = m.floor(j)    # التقریب للأقل \n",
    "v"
   ]
  },
  {
   "cell_type": "code",
   "execution_count": 19,
   "id": "express-neighborhood",
   "metadata": {},
   "outputs": [
    {
     "data": {
      "text/plain": [
       "1.0"
      ]
     },
     "execution_count": 19,
     "metadata": {},
     "output_type": "execute_result"
    }
   ],
   "source": [
    "i = m.erf(j)      # دالة قیمة الخطأ\n",
    "i"
   ]
  },
  {
   "cell_type": "code",
   "execution_count": 20,
   "id": "latter-scenario",
   "metadata": {},
   "outputs": [
    {
     "data": {
      "text/plain": [
       "1050.317816662683"
      ]
     },
     "execution_count": 20,
     "metadata": {},
     "output_type": "execute_result"
    }
   ],
   "source": [
    "t = m.gamma(j)    # دالة الجاما\n",
    "t"
   ]
  }
 ],
 "metadata": {
  "kernelspec": {
   "display_name": "Python 3.9.12 ('base')",
   "language": "python",
   "name": "python3"
  },
  "language_info": {
   "codemirror_mode": {
    "name": "ipython",
    "version": 3
   },
   "file_extension": ".py",
   "mimetype": "text/x-python",
   "name": "python",
   "nbconvert_exporter": "python",
   "pygments_lexer": "ipython3",
   "version": "3.9.12"
  },
  "latex_envs": {
   "LaTeX_envs_menu_present": true,
   "autoclose": false,
   "autocomplete": true,
   "bibliofile": "biblio.bib",
   "cite_by": "apalike",
   "current_citInitial": 1,
   "eqLabelWithNumbers": true,
   "eqNumInitial": 1,
   "hotkeys": {
    "equation": "Ctrl-E",
    "itemize": "Ctrl-I"
   },
   "labels_anchors": false,
   "latex_user_defs": false,
   "report_style_numbering": false,
   "user_envs_cfg": false
  },
  "toc": {
   "base_numbering": 1,
   "nav_menu": {},
   "number_sections": true,
   "sideBar": true,
   "skip_h1_title": true,
   "title_cell": "Table of Contents",
   "title_sidebar": "Contents",
   "toc_cell": true,
   "toc_position": {
    "height": "calc(100% - 180px)",
    "left": "10px",
    "top": "150px",
    "width": "165px"
   },
   "toc_section_display": true,
   "toc_window_display": true
  },
  "vscode": {
   "interpreter": {
    "hash": "55f2fe7b1c560c2d324ed046faeb8a55513d29ab718ddf7bfc99dad8debd2a7a"
   }
  }
 },
 "nbformat": 4,
 "nbformat_minor": 5
}
