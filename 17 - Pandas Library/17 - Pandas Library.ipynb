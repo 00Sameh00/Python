{
 "cells": [
  {
   "cell_type": "markdown",
   "id": "equivalent-affiliation",
   "metadata": {},
   "source": [
    "<h1 align=center>Panel Data Analysis Library <br> pandas Library"
   ]
  },
  {
   "cell_type": "markdown",
   "id": "purple-longitude",
   "metadata": {
    "toc": true
   },
   "source": [
    "<h1>Table of Contents<span class=\"tocSkip\"></span></h1>\n",
    "<div class=\"toc\"><ul class=\"toc-item\"><li><span><a href=\"#Import-the-required-Libraries-\" data-toc-modified-id=\"Import-the-required-Libraries--1\"><span class=\"toc-item-num\">1&nbsp;&nbsp;</span>Import the required Libraries </a></span></li><li><span><a href=\"#Basic-operations\" data-toc-modified-id=\"Basic-operations-2\"><span class=\"toc-item-num\">2&nbsp;&nbsp;</span>Basic operations</a></span><ul class=\"toc-item\"><li><span><a href=\"#Read-data\" data-toc-modified-id=\"Read-data-2.1\"><span class=\"toc-item-num\">2.1&nbsp;&nbsp;</span>Read data</a></span></li></ul></li><li><span><a href=\"#Graphics\" data-toc-modified-id=\"Graphics-3\"><span class=\"toc-item-num\">3&nbsp;&nbsp;</span>Graphics</a></span><ul class=\"toc-item\"><li><span><a href=\"#line-\" data-toc-modified-id=\"line--3.1\"><span class=\"toc-item-num\">3.1&nbsp;&nbsp;</span>line </a></span></li><li><span><a href=\"#pie-\" data-toc-modified-id=\"pie--3.2\"><span class=\"toc-item-num\">3.2&nbsp;&nbsp;</span>pie </a></span></li><li><span><a href=\"#bar-\" data-toc-modified-id=\"bar--3.3\"><span class=\"toc-item-num\">3.3&nbsp;&nbsp;</span>bar </a></span></li><li><span><a href=\"#histogram\" data-toc-modified-id=\"histogram-3.4\"><span class=\"toc-item-num\">3.4&nbsp;&nbsp;</span>histogram</a></span></li><li><span><a href=\"#box\" data-toc-modified-id=\"box-3.5\"><span class=\"toc-item-num\">3.5&nbsp;&nbsp;</span>box</a></span></li><li><span><a href=\"#Density-or-kde\" data-toc-modified-id=\"Density-or-kde-3.6\"><span class=\"toc-item-num\">3.6&nbsp;&nbsp;</span>Density or kde</a></span></li><li><span><a href=\"#area\" data-toc-modified-id=\"area-3.7\"><span class=\"toc-item-num\">3.7&nbsp;&nbsp;</span>area</a></span></li></ul></li><li><span><a href=\"#Data-Frame\" data-toc-modified-id=\"Data-Frame-4\"><span class=\"toc-item-num\">4&nbsp;&nbsp;</span>Data Frame</a></span><ul class=\"toc-item\"><li><span><a href=\"#Using-array-method-&quot;from-numpy&quot;\" data-toc-modified-id=\"Using-array-method-&quot;from-numpy&quot;-4.1\"><span class=\"toc-item-num\">4.1&nbsp;&nbsp;</span>Using array method \"from numpy\"</a></span></li><li><span><a href=\"#Using-Dictionay-method\" data-toc-modified-id=\"Using-Dictionay-method-4.2\"><span class=\"toc-item-num\">4.2&nbsp;&nbsp;</span>Using Dictionay method</a></span></li><li><span><a href=\"#Show-a-specific-column\" data-toc-modified-id=\"Show-a-specific-column-4.3\"><span class=\"toc-item-num\">4.3&nbsp;&nbsp;</span>Show a specific column</a></span></li><li><span><a href=\"#Matrix-Transpose\" data-toc-modified-id=\"Matrix-Transpose-4.4\"><span class=\"toc-item-num\">4.4&nbsp;&nbsp;</span>Matrix Transpose</a></span></li><li><span><a href=\"#Show-values-and-keys\" data-toc-modified-id=\"Show-values-and-keys-4.5\"><span class=\"toc-item-num\">4.5&nbsp;&nbsp;</span>Show values and keys</a></span></li><li><span><a href=\"#Find-out-whether-such-a-value-exists-or-not\" data-toc-modified-id=\"Find-out-whether-such-a-value-exists-or-not-4.6\"><span class=\"toc-item-num\">4.6&nbsp;&nbsp;</span>Find out whether such a value exists or not</a></span></li><li><span><a href=\"#Stack-the-values\" data-toc-modified-id=\"Stack-the-values-4.7\"><span class=\"toc-item-num\">4.7&nbsp;&nbsp;</span>Stack the values</a></span></li><li><span><a href=\"#iloc-command\" data-toc-modified-id=\"iloc-command-4.8\"><span class=\"toc-item-num\">4.8&nbsp;&nbsp;</span>iloc command</a></span></li><li><span><a href=\"#loc-command\" data-toc-modified-id=\"loc-command-4.9\"><span class=\"toc-item-num\">4.9&nbsp;&nbsp;</span>loc command</a></span></li><li><span><a href=\"#Show-values-by-condition\" data-toc-modified-id=\"Show-values-by-condition-4.10\"><span class=\"toc-item-num\">4.10&nbsp;&nbsp;</span>Show values by condition</a></span></li><li><span><a href=\"#Show-columns-with-a-specific-condition\" data-toc-modified-id=\"Show-columns-with-a-specific-condition-4.11\"><span class=\"toc-item-num\">4.11&nbsp;&nbsp;</span>Show columns with a specific condition</a></span></li><li><span><a href=\"#show-columns\" data-toc-modified-id=\"show-columns-4.12\"><span class=\"toc-item-num\">4.12&nbsp;&nbsp;</span>show columns</a></span></li><li><span><a href=\"#show-rows-(Index)\" data-toc-modified-id=\"show-rows-(Index)-4.13\"><span class=\"toc-item-num\">4.13&nbsp;&nbsp;</span>show rows (Index)</a></span></li><li><span><a href=\"#show-a-certain-column\" data-toc-modified-id=\"show-a-certain-column-4.14\"><span class=\"toc-item-num\">4.14&nbsp;&nbsp;</span>show a certain column</a></span></li><li><span><a href=\"#Rank-order\" data-toc-modified-id=\"Rank-order-4.15\"><span class=\"toc-item-num\">4.15&nbsp;&nbsp;</span>Rank order</a></span><ul class=\"toc-item\"><li><span><a href=\"#Descending\" data-toc-modified-id=\"Descending-4.15.1\"><span class=\"toc-item-num\">4.15.1&nbsp;&nbsp;</span>Descending</a></span></li><li><span><a href=\"#Ascending\" data-toc-modified-id=\"Ascending-4.15.2\"><span class=\"toc-item-num\">4.15.2&nbsp;&nbsp;</span>Ascending</a></span></li></ul></li><li><span><a href=\"#Show-statistical-values\" data-toc-modified-id=\"Show-statistical-values-4.16\"><span class=\"toc-item-num\">4.16&nbsp;&nbsp;</span>Show statistical values</a></span><ul class=\"toc-item\"><li><span><a href=\"#Show-statistical-values-for-one-column\" data-toc-modified-id=\"Show-statistical-values-for-one-column-4.16.1\"><span class=\"toc-item-num\">4.16.1&nbsp;&nbsp;</span>Show statistical values for one column</a></span><ul class=\"toc-item\"><li><span><a href=\"#Example(1):\" data-toc-modified-id=\"Example(1):-4.16.1.1\"><span class=\"toc-item-num\">4.16.1.1&nbsp;&nbsp;</span>Example(1):</a></span></li><li><span><a href=\"#Example(2):\" data-toc-modified-id=\"Example(2):-4.16.1.2\"><span class=\"toc-item-num\">4.16.1.2&nbsp;&nbsp;</span>Example(2):</a></span></li></ul></li><li><span><a href=\"#statistical-columns-data\" data-toc-modified-id=\"statistical-columns-data-4.16.2\"><span class=\"toc-item-num\">4.16.2&nbsp;&nbsp;</span>statistical columns data</a></span></li><li><span><a href=\"#statistical-rows-data-\" data-toc-modified-id=\"statistical-rows-data--4.16.3\"><span class=\"toc-item-num\">4.16.3&nbsp;&nbsp;</span>statistical rows data </a></span></li></ul></li><li><span><a href=\"#correlation-coefficient\" data-toc-modified-id=\"correlation-coefficient-4.17\"><span class=\"toc-item-num\">4.17&nbsp;&nbsp;</span>correlation coefficient</a></span></li><li><span><a href=\"#skew-value\" data-toc-modified-id=\"skew-value-4.18\"><span class=\"toc-item-num\">4.18&nbsp;&nbsp;</span>skew value</a></span></li><li><span><a href=\"#Create-a-table-using-a-quadratic-function\" data-toc-modified-id=\"Create-a-table-using-a-quadratic-function-4.19\"><span class=\"toc-item-num\">4.19&nbsp;&nbsp;</span>Create a table using a quadratic function</a></span></li><li><span><a href=\"#Create-a-table\" data-toc-modified-id=\"Create-a-table-4.20\"><span class=\"toc-item-num\">4.20&nbsp;&nbsp;</span>Create a table</a></span></li><li><span><a href=\"#Create-a-table-using-multi-functions\" data-toc-modified-id=\"Create-a-table-using-multi-functions-4.21\"><span class=\"toc-item-num\">4.21&nbsp;&nbsp;</span>Create a table using multi functions</a></span></li><li><span><a href=\"#Create-a-table-using-a-function\" data-toc-modified-id=\"Create-a-table-using-a-function-4.22\"><span class=\"toc-item-num\">4.22&nbsp;&nbsp;</span>Create a table using a function</a></span></li><li><span><a href=\"#Merge-dictionaries\" data-toc-modified-id=\"Merge-dictionaries-4.23\"><span class=\"toc-item-num\">4.23&nbsp;&nbsp;</span>Merge dictionaries</a></span><ul class=\"toc-item\"><li><span><a href=\"#condition-(A):\" data-toc-modified-id=\"condition-(A):-4.23.1\"><span class=\"toc-item-num\">4.23.1&nbsp;&nbsp;</span>condition (A):</a></span></li><li><span><a href=\"#condition-(B):\" data-toc-modified-id=\"condition-(B):-4.23.2\"><span class=\"toc-item-num\">4.23.2&nbsp;&nbsp;</span>condition (B):</a></span></li></ul></li><li><span><a href=\"#Add-column\" data-toc-modified-id=\"Add-column-4.24\"><span class=\"toc-item-num\">4.24&nbsp;&nbsp;</span>Add column</a></span></li><li><span><a href=\"#Math-operations\" data-toc-modified-id=\"Math-operations-4.25\"><span class=\"toc-item-num\">4.25&nbsp;&nbsp;</span>Math operations</a></span><ul class=\"toc-item\"><li><span><a href=\"#Option-(1):\" data-toc-modified-id=\"Option-(1):-4.25.1\"><span class=\"toc-item-num\">4.25.1&nbsp;&nbsp;</span>Option (1):</a></span></li><li><span><a href=\"#option-(2):-eval-command\" data-toc-modified-id=\"option-(2):-eval-command-4.25.2\"><span class=\"toc-item-num\">4.25.2&nbsp;&nbsp;</span>option (2): eval command</a></span></li><li><span><a href=\"#query-command\" data-toc-modified-id=\"query-command-4.25.3\"><span class=\"toc-item-num\">4.25.3&nbsp;&nbsp;</span>query command</a></span><ul class=\"toc-item\"><li><span><a href=\"#Option(1):\" data-toc-modified-id=\"Option(1):-4.25.3.1\"><span class=\"toc-item-num\">4.25.3.1&nbsp;&nbsp;</span>Option(1):</a></span></li><li><span><a href=\"#Option(2):\" data-toc-modified-id=\"Option(2):-4.25.3.2\"><span class=\"toc-item-num\">4.25.3.2&nbsp;&nbsp;</span>Option(2):</a></span></li><li><span><a href=\"#Option(3):\" data-toc-modified-id=\"Option(3):-4.25.3.3\"><span class=\"toc-item-num\">4.25.3.3&nbsp;&nbsp;</span>Option(3):</a></span></li><li><span><a href=\"#Option(4):\" data-toc-modified-id=\"Option(4):-4.25.3.4\"><span class=\"toc-item-num\">4.25.3.4&nbsp;&nbsp;</span>Option(4):</a></span></li></ul></li></ul></li><li><span><a href=\"#Merging-tabels\" data-toc-modified-id=\"Merging-tabels-4.26\"><span class=\"toc-item-num\">4.26&nbsp;&nbsp;</span>Merging tabels</a></span><ul class=\"toc-item\"><li><span><a href=\"#choose-the-left-&amp;-the-right-sides-of-the-columns-table\" data-toc-modified-id=\"choose-the-left-&amp;-the-right-sides-of-the-columns-table-4.26.1\"><span class=\"toc-item-num\">4.26.1&nbsp;&nbsp;</span>choose the left &amp; the right sides of the columns table</a></span></li><li><span><a href=\"#Drop-repeated-column\" data-toc-modified-id=\"Drop-repeated-column-4.26.2\"><span class=\"toc-item-num\">4.26.2&nbsp;&nbsp;</span>Drop repeated column</a></span></li></ul></li><li><span><a href=\"#Set-index-command\" data-toc-modified-id=\"Set-index-command-4.27\"><span class=\"toc-item-num\">4.27&nbsp;&nbsp;</span>Set index command</a></span></li><li><span><a href=\"#Data-intersection\" data-toc-modified-id=\"Data-intersection-4.28\"><span class=\"toc-item-num\">4.28&nbsp;&nbsp;</span>Data intersection</a></span><ul class=\"toc-item\"><li><span><a href=\"#Default-merge-intersection\" data-toc-modified-id=\"Default-merge-intersection-4.28.1\"><span class=\"toc-item-num\">4.28.1&nbsp;&nbsp;</span>Default merge intersection</a></span></li><li><span><a href=\"#inner-method\" data-toc-modified-id=\"inner-method-4.28.2\"><span class=\"toc-item-num\">4.28.2&nbsp;&nbsp;</span>inner method</a></span></li><li><span><a href=\"#outer-method\" data-toc-modified-id=\"outer-method-4.28.3\"><span class=\"toc-item-num\">4.28.3&nbsp;&nbsp;</span>outer method</a></span></li><li><span><a href=\"#right-method\" data-toc-modified-id=\"right-method-4.28.4\"><span class=\"toc-item-num\">4.28.4&nbsp;&nbsp;</span>right method</a></span></li><li><span><a href=\"#left-method\" data-toc-modified-id=\"left-method-4.28.5\"><span class=\"toc-item-num\">4.28.5&nbsp;&nbsp;</span>left method</a></span></li><li><span><a href=\"#Statistical-data\" data-toc-modified-id=\"Statistical-data-4.28.6\"><span class=\"toc-item-num\">4.28.6&nbsp;&nbsp;</span>Statistical data</a></span></li><li><span><a href=\"#groupby-function\" data-toc-modified-id=\"groupby-function-4.28.7\"><span class=\"toc-item-num\">4.28.7&nbsp;&nbsp;</span>groupby function</a></span></li><li><span><a href=\"#filter-function\" data-toc-modified-id=\"filter-function-4.28.8\"><span class=\"toc-item-num\">4.28.8&nbsp;&nbsp;</span>filter function</a></span></li><li><span><a href=\"#lambda-function\" data-toc-modified-id=\"lambda-function-4.28.9\"><span class=\"toc-item-num\">4.28.9&nbsp;&nbsp;</span>lambda function</a></span></li></ul></li></ul></li><li><span><a href=\"#MultiIndex-tool\" data-toc-modified-id=\"MultiIndex-tool-5\"><span class=\"toc-item-num\">5&nbsp;&nbsp;</span>MultiIndex tool</a></span><ul class=\"toc-item\"><li><span><a href=\"#Option(1):-from_tuples-command\" data-toc-modified-id=\"Option(1):-from_tuples-command-5.1\"><span class=\"toc-item-num\">5.1&nbsp;&nbsp;</span>Option(1): from_tuples command</a></span></li><li><span><a href=\"#specific-year\" data-toc-modified-id=\"specific-year-5.2\"><span class=\"toc-item-num\">5.2&nbsp;&nbsp;</span>specific year</a></span></li><li><span><a href=\"#unstack-command\" data-toc-modified-id=\"unstack-command-5.3\"><span class=\"toc-item-num\">5.3&nbsp;&nbsp;</span>unstack command</a></span></li><li><span><a href=\"#Add-Column\" data-toc-modified-id=\"Add-Column-5.4\"><span class=\"toc-item-num\">5.4&nbsp;&nbsp;</span>Add Column</a></span></li><li><span><a href=\"#Option(2):-Two-lists-in-index\" data-toc-modified-id=\"Option(2):-Two-lists-in-index-5.5\"><span class=\"toc-item-num\">5.5&nbsp;&nbsp;</span>Option(2): Two lists in index</a></span></li><li><span><a href=\"#Option(3):-DataFrame\" data-toc-modified-id=\"Option(3):-DataFrame-5.6\"><span class=\"toc-item-num\">5.6&nbsp;&nbsp;</span>Option(3): DataFrame</a></span></li><li><span><a href=\"#Optiion(4):-pandas-Series\" data-toc-modified-id=\"Optiion(4):-pandas-Series-5.7\"><span class=\"toc-item-num\">5.7&nbsp;&nbsp;</span>Optiion(4): pandas Series</a></span></li><li><span><a href=\"#Option(5):-from-product-command\" data-toc-modified-id=\"Option(5):-from-product-command-5.8\"><span class=\"toc-item-num\">5.8&nbsp;&nbsp;</span>Option(5): from product command</a></span></li><li><span><a href=\"#Data-slice\" data-toc-modified-id=\"Data-slice-5.9\"><span class=\"toc-item-num\">5.9&nbsp;&nbsp;</span>Data slice</a></span></li><li><span><a href=\"#index-slice\" data-toc-modified-id=\"index-slice-5.10\"><span class=\"toc-item-num\">5.10&nbsp;&nbsp;</span>index slice</a></span></li></ul></li><li><span><a href=\"#Deal-with-strings-\" data-toc-modified-id=\"Deal-with-strings--6\"><span class=\"toc-item-num\">6&nbsp;&nbsp;</span>Deal with strings </a></span><ul class=\"toc-item\"><li><span><a href=\"#length-function\" data-toc-modified-id=\"length-function-6.1\"><span class=\"toc-item-num\">6.1&nbsp;&nbsp;</span>length function</a></span></li><li><span><a href=\"#Boolean-questions\" data-toc-modified-id=\"Boolean-questions-6.2\"><span class=\"toc-item-num\">6.2&nbsp;&nbsp;</span>Boolean questions</a></span><ul class=\"toc-item\"><li><span><a href=\"#startwith-command\" data-toc-modified-id=\"startwith-command-6.2.1\"><span class=\"toc-item-num\">6.2.1&nbsp;&nbsp;</span>startwith command</a></span></li><li><span><a href=\"#endwith-command\" data-toc-modified-id=\"endwith-command-6.2.2\"><span class=\"toc-item-num\">6.2.2&nbsp;&nbsp;</span>endwith command</a></span></li><li><span><a href=\"#isupper-command-\" data-toc-modified-id=\"isupper-command--6.2.3\"><span class=\"toc-item-num\">6.2.3&nbsp;&nbsp;</span>isupper command </a></span></li><li><span><a href=\"#islower-command\" data-toc-modified-id=\"islower-command-6.2.4\"><span class=\"toc-item-num\">6.2.4&nbsp;&nbsp;</span>islower command</a></span></li><li><span><a href=\"#istitle-command-\" data-toc-modified-id=\"istitle-command--6.2.5\"><span class=\"toc-item-num\">6.2.5&nbsp;&nbsp;</span>istitle command </a></span></li><li><span><a href=\"#isspace-command\" data-toc-modified-id=\"isspace-command-6.2.6\"><span class=\"toc-item-num\">6.2.6&nbsp;&nbsp;</span>isspace command</a></span></li><li><span><a href=\"#isdigit-command\" data-toc-modified-id=\"isdigit-command-6.2.7\"><span class=\"toc-item-num\">6.2.7&nbsp;&nbsp;</span>isdigit command</a></span></li><li><span><a href=\"#isalpha-command\" data-toc-modified-id=\"isalpha-command-6.2.8\"><span class=\"toc-item-num\">6.2.8&nbsp;&nbsp;</span>isalpha command</a></span></li><li><span><a href=\"#isalnum\" data-toc-modified-id=\"isalnum-6.2.9\"><span class=\"toc-item-num\">6.2.9&nbsp;&nbsp;</span>isalnum</a></span></li><li><span><a href=\"#isdecimal-command\" data-toc-modified-id=\"isdecimal-command-6.2.10\"><span class=\"toc-item-num\">6.2.10&nbsp;&nbsp;</span>isdecimal command</a></span></li><li><span><a href=\"#isnumeric-command\" data-toc-modified-id=\"isnumeric-command-6.2.11\"><span class=\"toc-item-num\">6.2.11&nbsp;&nbsp;</span>isnumeric command</a></span></li></ul></li><li><span><a href=\"#search-for-a-letter-&quot;find-command&quot;\" data-toc-modified-id=\"search-for-a-letter-&quot;find-command&quot;-6.3\"><span class=\"toc-item-num\">6.3&nbsp;&nbsp;</span>search for a letter \"find command\"</a></span></li><li><span><a href=\"#Adjust-commands\" data-toc-modified-id=\"Adjust-commands-6.4\"><span class=\"toc-item-num\">6.4&nbsp;&nbsp;</span>Adjust commands</a></span><ul class=\"toc-item\"><li><span><a href=\"#just-command\" data-toc-modified-id=\"just-command-6.4.1\"><span class=\"toc-item-num\">6.4.1&nbsp;&nbsp;</span>just command</a></span></li><li><span><a href=\"#center-command\" data-toc-modified-id=\"center-command-6.4.2\"><span class=\"toc-item-num\">6.4.2&nbsp;&nbsp;</span>center command</a></span></li><li><span><a href=\"#zfill-command\" data-toc-modified-id=\"zfill-command-6.4.3\"><span class=\"toc-item-num\">6.4.3&nbsp;&nbsp;</span>zfill command</a></span></li></ul></li><li><span><a href=\"#upper-command\" data-toc-modified-id=\"upper-command-6.5\"><span class=\"toc-item-num\">6.5&nbsp;&nbsp;</span>upper command</a></span></li><li><span><a href=\"#Capitalize-command\" data-toc-modified-id=\"Capitalize-command-6.6\"><span class=\"toc-item-num\">6.6&nbsp;&nbsp;</span>Capitalize command</a></span></li><li><span><a href=\"#lower-command\" data-toc-modified-id=\"lower-command-6.7\"><span class=\"toc-item-num\">6.7&nbsp;&nbsp;</span>lower command</a></span></li><li><span><a href=\"#Swapcase-command\" data-toc-modified-id=\"Swapcase-command-6.8\"><span class=\"toc-item-num\">6.8&nbsp;&nbsp;</span>Swapcase command</a></span></li></ul></li><li><span><a href=\"#Deal-with-Time-and-Date\" data-toc-modified-id=\"Deal-with-Time-and-Date-7\"><span class=\"toc-item-num\">7&nbsp;&nbsp;</span>Deal with Time and Date</a></span><ul class=\"toc-item\"><li><span><a href=\"#Deal-with-a-date\" data-toc-modified-id=\"Deal-with-a-date-7.1\"><span class=\"toc-item-num\">7.1&nbsp;&nbsp;</span>Deal with a date</a></span></li><li><span><a href=\"#Days-Increase\" data-toc-modified-id=\"Days-Increase-7.2\"><span class=\"toc-item-num\">7.2&nbsp;&nbsp;</span>Days Increase</a></span></li><li><span><a href=\"#Days-Decrease\" data-toc-modified-id=\"Days-Decrease-7.3\"><span class=\"toc-item-num\">7.3&nbsp;&nbsp;</span>Days Decrease</a></span></li><li><span><a href=\"#Using-the-date-as-an-index\" data-toc-modified-id=\"Using-the-date-as-an-index-7.4\"><span class=\"toc-item-num\">7.4&nbsp;&nbsp;</span>Using the date as an index</a></span></li><li><span><a href=\"#Slice-the-data-using-the-date-index\" data-toc-modified-id=\"Slice-the-data-using-the-date-index-7.5\"><span class=\"toc-item-num\">7.5&nbsp;&nbsp;</span>Slice the data using the date index</a></span></li><li><span><a href=\"#Slice-the-data-using-a-year\" data-toc-modified-id=\"Slice-the-data-using-a-year-7.6\"><span class=\"toc-item-num\">7.6&nbsp;&nbsp;</span>Slice the data using a year</a></span></li><li><span><a href=\"#Slice-using-a-month\" data-toc-modified-id=\"Slice-using-a-month-7.7\"><span class=\"toc-item-num\">7.7&nbsp;&nbsp;</span>Slice using a month</a></span></li><li><span><a href=\"#Time-Range-(Period)\" data-toc-modified-id=\"Time-Range-(Period)-7.8\"><span class=\"toc-item-num\">7.8&nbsp;&nbsp;</span>Time Range (Period)</a></span><ul class=\"toc-item\"><li><span><a href=\"#periods-command\" data-toc-modified-id=\"periods-command-7.8.1\"><span class=\"toc-item-num\">7.8.1&nbsp;&nbsp;</span>periods command</a></span></li><li><span><a href=\"#frequancy-command\" data-toc-modified-id=\"frequancy-command-7.8.2\"><span class=\"toc-item-num\">7.8.2&nbsp;&nbsp;</span>frequancy command</a></span></li><li><span><a href=\"#zero-range\" data-toc-modified-id=\"zero-range-7.8.3\"><span class=\"toc-item-num\">7.8.3&nbsp;&nbsp;</span>zero range</a></span></li></ul></li><li><span><a href=\"#Business-Days--\" data-toc-modified-id=\"Business-Days---7.9\"><span class=\"toc-item-num\">7.9&nbsp;&nbsp;</span>Business Days  </a></span></li></ul></li><li><span><a href=\"#Deal-with-CSV-files\" data-toc-modified-id=\"Deal-with-CSV-files-8\"><span class=\"toc-item-num\">8&nbsp;&nbsp;</span>Deal with CSV files</a></span><ul class=\"toc-item\"><li><span><a href=\"#Read-csv-files\" data-toc-modified-id=\"Read-csv-files-8.1\"><span class=\"toc-item-num\">8.1&nbsp;&nbsp;</span>Read csv files</a></span></li><li><span><a href=\"#set_index_col\" data-toc-modified-id=\"set_index_col-8.2\"><span class=\"toc-item-num\">8.2&nbsp;&nbsp;</span>set_index_col</a></span></li><li><span><a href=\"#save-the-data-into-a-csv-file\" data-toc-modified-id=\"save-the-data-into-a-csv-file-8.3\"><span class=\"toc-item-num\">8.3&nbsp;&nbsp;</span>save the data into a csv file</a></span></li><li><span><a href=\"#save-the-data-into-an-Excel-sheet\" data-toc-modified-id=\"save-the-data-into-an-Excel-sheet-8.4\"><span class=\"toc-item-num\">8.4&nbsp;&nbsp;</span>save the data into an Excel sheet</a></span></li><li><span><a href=\"#Read-excel-or-csv-files\" data-toc-modified-id=\"Read-excel-or-csv-files-8.5\"><span class=\"toc-item-num\">8.5&nbsp;&nbsp;</span>Read excel or csv files</a></span></li><li><span><a href=\"#other-option\" data-toc-modified-id=\"other-option-8.6\"><span class=\"toc-item-num\">8.6&nbsp;&nbsp;</span>other option</a></span></li><li><span><a href=\"#conduct-some-statistics-operations\" data-toc-modified-id=\"conduct-some-statistics-operations-8.7\"><span class=\"toc-item-num\">8.7&nbsp;&nbsp;</span>conduct some statistics operations</a></span></li></ul></li></ul></div>"
   ]
  },
  {
   "cell_type": "markdown",
   "id": "historic-belarus",
   "metadata": {},
   "source": [
    "<h2 align=left>Import the required Libraries "
   ]
  },
  {
   "cell_type": "code",
   "execution_count": 1,
   "id": "romance-hospital",
   "metadata": {},
   "outputs": [],
   "source": [
    "import pandas as pd\n",
    "import numpy as np"
   ]
  },
  {
   "cell_type": "markdown",
   "id": "upper-executive",
   "metadata": {},
   "source": [
    "<h2 align=left>Basic operations"
   ]
  },
  {
   "cell_type": "markdown",
   "id": "green-toner",
   "metadata": {},
   "source": [
    "<h3 align=left>Read data"
   ]
  },
  {
   "cell_type": "code",
   "execution_count": 2,
   "id": "educational-broadway",
   "metadata": {},
   "outputs": [
    {
     "name": "stdout",
     "output_type": "stream",
     "text": [
      "0    0.25\n",
      "1    0.50\n",
      "2    0.75\n",
      "3    1.00\n",
      "dtype: float64\n"
     ]
    }
   ],
   "source": [
    "data = pd.Series([0.25, 0.5, 0.75, 1.0])\n",
    "print(data)"
   ]
  },
  {
   "cell_type": "code",
   "execution_count": 3,
   "id": "promising-samoa",
   "metadata": {},
   "outputs": [
    {
     "name": "stdout",
     "output_type": "stream",
     "text": [
      "[0.25 0.5  0.75 1.  ]\n"
     ]
    }
   ],
   "source": [
    "print(data.values)"
   ]
  },
  {
   "cell_type": "code",
   "execution_count": 4,
   "id": "referenced-migration",
   "metadata": {},
   "outputs": [
    {
     "name": "stdout",
     "output_type": "stream",
     "text": [
      "RangeIndex(start=0, stop=4, step=1)\n"
     ]
    }
   ],
   "source": [
    "print(data.index)"
   ]
  },
  {
   "cell_type": "code",
   "execution_count": 5,
   "id": "vertical-portfolio",
   "metadata": {},
   "outputs": [
    {
     "name": "stdout",
     "output_type": "stream",
     "text": [
      "<bound method Series.keys of 0    0.25\n",
      "1    0.50\n",
      "2    0.75\n",
      "3    1.00\n",
      "dtype: float64>\n"
     ]
    }
   ],
   "source": [
    "print(data.keys)"
   ]
  },
  {
   "cell_type": "code",
   "execution_count": 6,
   "id": "copyrighted-clerk",
   "metadata": {},
   "outputs": [
    {
     "name": "stdout",
     "output_type": "stream",
     "text": [
      "count    11.000000\n",
      "mean      5.363636\n",
      "std       2.292280\n",
      "min       2.000000\n",
      "25%       3.500000\n",
      "50%       5.000000\n",
      "75%       7.000000\n",
      "max       9.000000\n",
      "dtype: float64\n"
     ]
    }
   ],
   "source": [
    "data = pd.Series((3, 6, 9, 8, 5, 4, 2, 6, 3, 5, 8))\n",
    "print(data.describe())"
   ]
  },
  {
   "cell_type": "code",
   "execution_count": 7,
   "id": "blank-bloom",
   "metadata": {},
   "outputs": [
    {
     "name": "stdout",
     "output_type": "stream",
     "text": [
      "max       9.000000\n",
      "min       2.000000\n",
      "sum      59.000000\n",
      "mean      5.363636\n",
      "std       2.292280\n",
      "count    11.000000\n",
      "dtype: float64\n"
     ]
    }
   ],
   "source": [
    "print(data.agg(['max','min','sum','mean','std', 'count']))"
   ]
  },
  {
   "cell_type": "code",
   "execution_count": 8,
   "id": "driving-still",
   "metadata": {},
   "outputs": [
    {
     "name": "stdout",
     "output_type": "stream",
     "text": [
      "6\n",
      "1    6\n",
      "2    9\n",
      "dtype: int64\n",
      "1    6\n",
      "3    8\n",
      "5    4\n",
      "dtype: int64\n"
     ]
    }
   ],
   "source": [
    "print(data[1])\n",
    "print(data[1:3])\n",
    "print(data[1:7:2])"
   ]
  },
  {
   "cell_type": "code",
   "execution_count": 9,
   "id": "cosmetic-snake",
   "metadata": {},
   "outputs": [
    {
     "name": "stdout",
     "output_type": "stream",
     "text": [
      "a    1\n",
      "b    2\n",
      "c    3\n",
      "d    4\n",
      "dtype: int64\n"
     ]
    }
   ],
   "source": [
    "data1 = pd.Series([1, 2, 3, 4], index=['a', 'b', 'c', 'd'])\n",
    "print(data1)"
   ]
  },
  {
   "cell_type": "code",
   "execution_count": 10,
   "id": "blessed-break",
   "metadata": {},
   "outputs": [
    {
     "name": "stdout",
     "output_type": "stream",
     "text": [
      "a    1\n",
      "b    2\n",
      "c    3\n",
      "d    4\n",
      "dtype: int64\n"
     ]
    }
   ],
   "source": [
    "data2 = pd.Series({'a':1,'b':2,'c':3,'d':4})\n",
    "print(data2)"
   ]
  },
  {
   "cell_type": "code",
   "execution_count": 11,
   "id": "needed-mississippi",
   "metadata": {},
   "outputs": [
    {
     "name": "stdout",
     "output_type": "stream",
     "text": [
      "1\n",
      "2\n"
     ]
    }
   ],
   "source": [
    "print(data1['a'])\n",
    "print(data2['b'])"
   ]
  },
  {
   "cell_type": "code",
   "execution_count": 12,
   "id": "lesbian-reviewer",
   "metadata": {},
   "outputs": [
    {
     "name": "stdout",
     "output_type": "stream",
     "text": [
      "Int64Index([2, 3, 5, 7, 11], dtype='int64')\n"
     ]
    }
   ],
   "source": [
    "x = pd.Index([2, 3, 5, 7, 11])\n",
    "print(x)"
   ]
  },
  {
   "cell_type": "code",
   "execution_count": 13,
   "id": "pointed-postcard",
   "metadata": {},
   "outputs": [
    {
     "name": "stdout",
     "output_type": "stream",
     "text": [
      "Int64Index([1, 3, 5, 7, 9], dtype='int64')\n",
      "--------------------------------------------\n",
      "Int64Index([2, 3, 5, 7, 11], dtype='int64')\n",
      "--------------------------------------------\n",
      "Int64Index([3, 5, 7], dtype='int64')\n",
      "--------------------------------------------\n",
      "Int64Index([1, 2, 3, 5, 7, 9, 11], dtype='int64')\n",
      "--------------------------------------------\n",
      "Int64Index([1, 2, 9, 11], dtype='int64')\n"
     ]
    }
   ],
   "source": [
    "# relation between two indexes\n",
    "\n",
    "a = pd.Index([1, 3, 5, 7, 9])\n",
    "b = pd.Index([2, 3, 5, 7, 11])\n",
    "\n",
    "print(a)\n",
    "print('--------------------------------------------')\n",
    "print(b)\n",
    "print('--------------------------------------------')\n",
    "print(a.intersection(b))  # and (&)\n",
    "print('--------------------------------------------')\n",
    "print(a.union(b))  # or (|)\n",
    "print('--------------------------------------------')\n",
    "print(a.symmetric_difference(b))  # xor (^)"
   ]
  },
  {
   "cell_type": "markdown",
   "id": "color-italian",
   "metadata": {},
   "source": [
    "<h2 align=left>Graphics"
   ]
  },
  {
   "cell_type": "markdown",
   "id": "3164f3bf",
   "metadata": {},
   "source": [
    "<h3 align=left>line "
   ]
  },
  {
   "cell_type": "code",
   "execution_count": 14,
   "id": "absent-discussion",
   "metadata": {},
   "outputs": [
    {
     "data": {
      "text/plain": [
       "<AxesSubplot:>"
      ]
     },
     "execution_count": 14,
     "metadata": {},
     "output_type": "execute_result"
    },
    {
     "data": {
      "image/png": "[encoded data removed]",
      "text/plain": [
       "<Figure size 432x288 with 1 Axes>"
      ]
     },
     "metadata": {
      "needs_background": "light"
     },
     "output_type": "display_data"
    }
   ],
   "source": [
    "data = pd.Series((3, 6, 9, 8, 5, 4, 2, 6, 3, 5, 8))\n",
    "data.plot()"
   ]
  },
  {
   "cell_type": "code",
   "execution_count": 15,
   "id": "civic-plaintiff",
   "metadata": {},
   "outputs": [
    {
     "data": {
      "text/plain": [
       "<AxesSubplot:>"
      ]
     },
     "execution_count": 15,
     "metadata": {},
     "output_type": "execute_result"
    },
    {
     "data": {
      "image/png": "[encoded data removed]",
      "text/plain": [
       "<Figure size 432x288 with 1 Axes>"
      ]
     },
     "metadata": {
      "needs_background": "light"
     },
     "output_type": "display_data"
    }
   ],
   "source": [
    "data.plot(kind='line')  # same as default one (the brevious code)"
   ]
  },
  {
   "cell_type": "markdown",
   "id": "348d6607",
   "metadata": {},
   "source": [
    "<h3 align=left>pie "
   ]
  },
  {
   "cell_type": "code",
   "execution_count": 16,
   "id": "revised-perspective",
   "metadata": {},
   "outputs": [
    {
     "data": {
      "text/plain": [
       "<AxesSubplot:ylabel='None'>"
      ]
     },
     "execution_count": 16,
     "metadata": {},
     "output_type": "execute_result"
    },
    {
     "data": {
      "image/png": "[encoded data removed]",
      "text/plain": [
       "<Figure size 432x288 with 1 Axes>"
      ]
     },
     "metadata": {},
     "output_type": "display_data"
    }
   ],
   "source": [
    "data.plot(kind='pie')"
   ]
  },
  {
   "cell_type": "markdown",
   "id": "e51b5c85",
   "metadata": {},
   "source": [
    "<h3 align=left>bar "
   ]
  },
  {
   "cell_type": "code",
   "execution_count": 17,
   "id": "expired-praise",
   "metadata": {},
   "outputs": [
    {
     "data": {
      "text/plain": [
       "<AxesSubplot:>"
      ]
     },
     "execution_count": 17,
     "metadata": {},
     "output_type": "execute_result"
    },
    {
     "data": {
      "image/png": "[encoded data removed]",
      "text/plain": [
       "<Figure size 432x288 with 1 Axes>"
      ]
     },
     "metadata": {
      "needs_background": "light"
     },
     "output_type": "display_data"
    }
   ],
   "source": [
    "data.plot(kind='bar')"
   ]
  },
  {
   "cell_type": "code",
   "execution_count": 18,
   "id": "twelve-optimization",
   "metadata": {},
   "outputs": [
    {
     "data": {
      "text/plain": [
       "<AxesSubplot:>"
      ]
     },
     "execution_count": 18,
     "metadata": {},
     "output_type": "execute_result"
    },
    {
     "data": {
      "image/png": "[encoded data removed]",
      "text/plain": [
       "<Figure size 432x288 with 1 Axes>"
      ]
     },
     "metadata": {
      "needs_background": "light"
     },
     "output_type": "display_data"
    }
   ],
   "source": [
    "data.plot(kind='barh') # horizontal bars"
   ]
  },
  {
   "cell_type": "markdown",
   "id": "0804018e",
   "metadata": {},
   "source": [
    "<h3 align=left>histogram"
   ]
  },
  {
   "cell_type": "code",
   "execution_count": 19,
   "id": "apart-prerequisite",
   "metadata": {},
   "outputs": [
    {
     "data": {
      "text/plain": [
       "<AxesSubplot:ylabel='Frequency'>"
      ]
     },
     "execution_count": 19,
     "metadata": {},
     "output_type": "execute_result"
    },
    {
     "data": {
      "image/png": "[encoded data removed]",
      "text/plain": [
       "<Figure size 432x288 with 1 Axes>"
      ]
     },
     "metadata": {
      "needs_background": "light"
     },
     "output_type": "display_data"
    }
   ],
   "source": [
    "data.plot(kind='hist')  "
   ]
  },
  {
   "cell_type": "markdown",
   "id": "c37d7801",
   "metadata": {},
   "source": [
    "<h3 align=left>box"
   ]
  },
  {
   "cell_type": "code",
   "execution_count": 20,
   "id": "isolated-devices",
   "metadata": {},
   "outputs": [
    {
     "data": {
      "text/plain": [
       "<AxesSubplot:>"
      ]
     },
     "execution_count": 20,
     "metadata": {},
     "output_type": "execute_result"
    },
    {
     "data": {
      "image/png": "[encoded data removed]",
      "text/plain": [
       "<Figure size 432x288 with 1 Axes>"
      ]
     },
     "metadata": {
      "needs_background": "light"
     },
     "output_type": "display_data"
    }
   ],
   "source": [
    "data.plot(kind='box') # represent \"min, 25%, 50%, 75%, max\""
   ]
  },
  {
   "cell_type": "markdown",
   "id": "b0385da9",
   "metadata": {},
   "source": [
    "<h3 align=left>Density or kde"
   ]
  },
  {
   "cell_type": "code",
   "execution_count": 21,
   "id": "36731308",
   "metadata": {},
   "outputs": [
    {
     "data": {
      "text/plain": [
       "<AxesSubplot:ylabel='Density'>"
      ]
     },
     "execution_count": 21,
     "metadata": {},
     "output_type": "execute_result"
    },
    {
     "data": {
      "image/png": "[encoded data removed]",
      "text/plain": [
       "<Figure size 432x288 with 1 Axes>"
      ]
     },
     "metadata": {
      "needs_background": "light"
     },
     "output_type": "display_data"
    }
   ],
   "source": [
    "data.plot(kind='kde')"
   ]
  },
  {
   "cell_type": "code",
   "execution_count": 22,
   "id": "preceding-combining",
   "metadata": {},
   "outputs": [
    {
     "data": {
      "text/plain": [
       "<AxesSubplot:ylabel='Density'>"
      ]
     },
     "execution_count": 22,
     "metadata": {},
     "output_type": "execute_result"
    },
    {
     "data": {
      "image/png": "[encoded data removed]",
      "text/plain": [
       "<Figure size 432x288 with 1 Axes>"
      ]
     },
     "metadata": {
      "needs_background": "light"
     },
     "output_type": "display_data"
    }
   ],
   "source": [
    "data.plot(kind='density')  # same as previous code"
   ]
  },
  {
   "cell_type": "markdown",
   "id": "0170a136",
   "metadata": {},
   "source": [
    "<h3 align=left>area"
   ]
  },
  {
   "cell_type": "code",
   "execution_count": 23,
   "id": "compound-tracy",
   "metadata": {},
   "outputs": [
    {
     "data": {
      "text/plain": [
       "<AxesSubplot:>"
      ]
     },
     "execution_count": 23,
     "metadata": {},
     "output_type": "execute_result"
    },
    {
     "data": {
      "image/png": "[encoded data removed]",
      "text/plain": [
       "<Figure size 432x288 with 1 Axes>"
      ]
     },
     "metadata": {
      "needs_background": "light"
     },
     "output_type": "display_data"
    }
   ],
   "source": [
    "data.plot(kind='area')"
   ]
  },
  {
   "cell_type": "markdown",
   "id": "present-zealand",
   "metadata": {},
   "source": [
    "<h2 align=left>Data Frame"
   ]
  },
  {
   "cell_type": "markdown",
   "id": "0528d8a2",
   "metadata": {},
   "source": [
    ">`It is a tool dedicated to create tables, rows and columns of data`"
   ]
  },
  {
   "cell_type": "markdown",
   "id": "517ca1bd",
   "metadata": {},
   "source": [
    "<h3 align=left>Using array method \"from numpy\""
   ]
  },
  {
   "cell_type": "code",
   "execution_count": 24,
   "id": "manufactured-executive",
   "metadata": {},
   "outputs": [
    {
     "name": "stdout",
     "output_type": "stream",
     "text": [
      "   one  two  three  four  five  six\n",
      "a    6    9      8     5     4    2\n",
      "b    0    2      5     6     3    9\n",
      "c    8    5      4     1     2    3\n",
      "d    6    9      8     5     4    2\n",
      "e    0    5      3     6     9    8\n",
      "f    8    7      4     5     2    3\n"
     ]
    }
   ],
   "source": [
    "myarray = np.array([[6, 9, 8, 5, 4, 2], [0, 2, 5, 6, 3, 9],\n",
    "                    [8, 5, 4, 1, 2, 3], [6, 9, 8, 5, 4, 2],\n",
    "                    [0, 5, 3, 6, 9, 8], [8, 7, 4, 5, 2, 3]])\n",
    "\n",
    "rownames = ['a', 'b', 'c', 'd', 'e', 'f']\n",
    "colnames = ['one', 'two', 'three', 'four', 'five', 'six'] \n",
    "\n",
    "df = pd.DataFrame(myarray, index=rownames, columns=colnames)\n",
    "print(df)"
   ]
  },
  {
   "cell_type": "markdown",
   "id": "fe16f1d2",
   "metadata": {},
   "source": [
    "<h3 align=left>Using Dictionay method"
   ]
  },
  {
   "cell_type": "code",
   "execution_count": 25,
   "id": "agreed-cookbook",
   "metadata": {},
   "outputs": [
    {
     "name": "stdout",
     "output_type": "stream",
     "text": [
      "   Math  Physics  French  Chemistry\n",
      "a     1        6      11         16\n",
      "b     2        7      12         17\n",
      "c     3        8      13         18\n",
      "d     4        9      14         19\n",
      "e     5       10      15         20\n"
     ]
    }
   ],
   "source": [
    "w = pd.Series({'a': 1, 'b': 2, 'c': 3, 'd': 4, 'e': 5})\n",
    "x = pd.Series({'a': 6, 'b': 7, 'c': 8, 'd': 9, 'e': 10})\n",
    "y = pd.Series({'a': 11, 'b': 12, 'c': 13, 'd': 14, 'e': 15})\n",
    "z = pd.Series({'a': 16, 'b': 17, 'c': 18, 'd': 19, 'e': 20})\n",
    "\n",
    "grades = pd.DataFrame({'Math': w, 'Physics': x, 'French': y, 'Chemistry': z})\n",
    "print(grades)"
   ]
  },
  {
   "cell_type": "markdown",
   "id": "0f8b4749",
   "metadata": {},
   "source": [
    "<h3 align=left>Show a specific column"
   ]
  },
  {
   "cell_type": "code",
   "execution_count": 26,
   "id": "streaming-packaging",
   "metadata": {},
   "outputs": [
    {
     "name": "stdout",
     "output_type": "stream",
     "text": [
      "a    16\n",
      "b    17\n",
      "c    18\n",
      "d    19\n",
      "e    20\n",
      "Name: Chemistry, dtype: int64\n"
     ]
    }
   ],
   "source": [
    "print(grades['Chemistry'])"
   ]
  },
  {
   "cell_type": "markdown",
   "id": "07196651",
   "metadata": {},
   "source": [
    "<h3 align=left>Matrix Transpose"
   ]
  },
  {
   "cell_type": "code",
   "execution_count": 27,
   "id": "worldwide-railway",
   "metadata": {},
   "outputs": [
    {
     "name": "stdout",
     "output_type": "stream",
     "text": [
      "            a   b   c   d   e\n",
      "Math        1   2   3   4   5\n",
      "Physics     6   7   8   9  10\n",
      "French     11  12  13  14  15\n",
      "Chemistry  16  17  18  19  20\n"
     ]
    }
   ],
   "source": [
    "print(grades.T)"
   ]
  },
  {
   "cell_type": "markdown",
   "id": "1e1b7561",
   "metadata": {},
   "source": [
    "<h3 align=left>Show values and keys"
   ]
  },
  {
   "cell_type": "code",
   "execution_count": 28,
   "id": "intense-stations",
   "metadata": {},
   "outputs": [
    {
     "name": "stdout",
     "output_type": "stream",
     "text": [
      "keys = Index(['Math', 'Physics', 'French', 'Chemistry'], dtype='object')\n",
      "-----------------------------------------------------------\n",
      "[[ 1  6 11 16]\n",
      " [ 2  7 12 17]\n",
      " [ 3  8 13 18]\n",
      " [ 4  9 14 19]\n",
      " [ 5 10 15 20]]\n"
     ]
    }
   ],
   "source": [
    "print('keys =' ,grades.keys())\n",
    "print('-----------------------------------------------------------')\n",
    "print(grades.values)"
   ]
  },
  {
   "cell_type": "markdown",
   "id": "7d5d4126",
   "metadata": {},
   "source": [
    "<h3 align=left>Find out whether such a value exists or not"
   ]
  },
  {
   "cell_type": "code",
   "execution_count": 29,
   "id": "cordless-newport",
   "metadata": {},
   "outputs": [
    {
     "name": "stdout",
     "output_type": "stream",
     "text": [
      "True\n",
      "False\n",
      "True\n",
      "False\n"
     ]
    }
   ],
   "source": [
    "print('Math' in grades.keys())\n",
    "print('math' in grades.keys())\n",
    "print(12 in grades.values)\n",
    "print(55 in grades.values)"
   ]
  },
  {
   "cell_type": "markdown",
   "id": "2bb8d8fa",
   "metadata": {},
   "source": [
    "<h3 align=left>Stack the values"
   ]
  },
  {
   "cell_type": "code",
   "execution_count": 30,
   "id": "instrumental-athletics",
   "metadata": {},
   "outputs": [
    {
     "name": "stdout",
     "output_type": "stream",
     "text": [
      "a  Math          1\n",
      "   Physics       6\n",
      "   French       11\n",
      "   Chemistry    16\n",
      "b  Math          2\n",
      "   Physics       7\n",
      "   French       12\n",
      "   Chemistry    17\n",
      "c  Math          3\n",
      "   Physics       8\n",
      "   French       13\n",
      "   Chemistry    18\n",
      "d  Math          4\n",
      "   Physics       9\n",
      "   French       14\n",
      "   Chemistry    19\n",
      "e  Math          5\n",
      "   Physics      10\n",
      "   French       15\n",
      "   Chemistry    20\n",
      "dtype: int64\n"
     ]
    }
   ],
   "source": [
    "print(grades.stack())"
   ]
  },
  {
   "cell_type": "markdown",
   "id": "a633b00c",
   "metadata": {},
   "source": [
    "<h3 align=left>iloc command"
   ]
  },
  {
   "cell_type": "code",
   "execution_count": 31,
   "id": "celtic-words",
   "metadata": {},
   "outputs": [
    {
     "name": "stdout",
     "output_type": "stream",
     "text": [
      "   Math  Physics\n",
      "a     1        6\n",
      "b     2        7\n",
      "c     3        8\n"
     ]
    }
   ],
   "source": [
    "print(grades.iloc[:3, :2])"
   ]
  },
  {
   "cell_type": "markdown",
   "id": "35be162a",
   "metadata": {},
   "source": [
    "<h3 align=left>loc command"
   ]
  },
  {
   "cell_type": "code",
   "execution_count": 32,
   "id": "champion-bailey",
   "metadata": {},
   "outputs": [
    {
     "name": "stdout",
     "output_type": "stream",
     "text": [
      "   French  Chemistry\n",
      "b      12         17\n",
      "c      13         18\n"
     ]
    }
   ],
   "source": [
    "print(grades.loc['b':'c', 'French':])"
   ]
  },
  {
   "cell_type": "markdown",
   "id": "ef73be5a",
   "metadata": {},
   "source": [
    "<h3 align=left>Show values by condition"
   ]
  },
  {
   "cell_type": "code",
   "execution_count": 33,
   "id": "embedded-freight",
   "metadata": {},
   "outputs": [
    {
     "name": "stdout",
     "output_type": "stream",
     "text": [
      "   Math  Physics  French  Chemistry\n",
      "a     1        6      11         16\n",
      "b     2        7      12         17\n",
      "c     3        8      13         18\n",
      "d     4        9      14         19\n",
      "e     5       10      15         20\n",
      "------------------------------------------\n",
      "   Math  Physics  French  Chemistry\n",
      "d     4        9      14         19\n",
      "e     5       10      15         20\n"
     ]
    }
   ],
   "source": [
    "print(grades)\n",
    "print('------------------------------------------')\n",
    "print(grades.loc[grades.Math >3])"
   ]
  },
  {
   "cell_type": "markdown",
   "id": "02e2199b",
   "metadata": {},
   "source": [
    "<h3 align=left>Show columns with a specific condition"
   ]
  },
  {
   "cell_type": "code",
   "execution_count": 34,
   "id": "norwegian-invitation",
   "metadata": {},
   "outputs": [
    {
     "name": "stdout",
     "output_type": "stream",
     "text": [
      "   French  Math\n",
      "d      14     4\n",
      "e      15     5\n"
     ]
    }
   ],
   "source": [
    "print(grades.loc[grades.Math >3,['French' ,'Math']])"
   ]
  },
  {
   "cell_type": "markdown",
   "id": "080f8f9f",
   "metadata": {},
   "source": [
    "<h3 align=left>show columns"
   ]
  },
  {
   "cell_type": "code",
   "execution_count": 35,
   "id": "grateful-packet",
   "metadata": {},
   "outputs": [
    {
     "name": "stdout",
     "output_type": "stream",
     "text": [
      "Index(['Math', 'Physics', 'French', 'Chemistry'], dtype='object')\n"
     ]
    }
   ],
   "source": [
    "print(grades.columns)"
   ]
  },
  {
   "cell_type": "markdown",
   "id": "4aaee232",
   "metadata": {},
   "source": [
    "<h3 align=left>show rows (Index)"
   ]
  },
  {
   "cell_type": "code",
   "execution_count": 36,
   "id": "postal-capital",
   "metadata": {},
   "outputs": [
    {
     "name": "stdout",
     "output_type": "stream",
     "text": [
      "Index(['a', 'b', 'c', 'd', 'e'], dtype='object')\n"
     ]
    }
   ],
   "source": [
    "print(grades.index)"
   ]
  },
  {
   "cell_type": "markdown",
   "id": "cc142602",
   "metadata": {},
   "source": [
    "<h3 align=left>show a certain column"
   ]
  },
  {
   "cell_type": "code",
   "execution_count": 37,
   "id": "speaking-actor",
   "metadata": {},
   "outputs": [
    {
     "name": "stdout",
     "output_type": "stream",
     "text": [
      "a    1\n",
      "b    2\n",
      "c    3\n",
      "d    4\n",
      "e    5\n",
      "Name: Math, dtype: int64\n"
     ]
    }
   ],
   "source": [
    "print(grades['Math'])"
   ]
  },
  {
   "cell_type": "markdown",
   "id": "9205db02",
   "metadata": {},
   "source": [
    "<h3 align=left>Rank order"
   ]
  },
  {
   "cell_type": "markdown",
   "id": "1d779875",
   "metadata": {},
   "source": [
    "<h4 align=left>Descending"
   ]
  },
  {
   "cell_type": "code",
   "execution_count": 38,
   "id": "superb-fourth",
   "metadata": {},
   "outputs": [
    {
     "name": "stdout",
     "output_type": "stream",
     "text": [
      "   Math  Physics  French  Chemistry\n",
      "e     5       10      15         20\n",
      "d     4        9      14         19\n",
      "c     3        8      13         18\n",
      "b     2        7      12         17\n",
      "a     1        6      11         16\n"
     ]
    }
   ],
   "source": [
    "print(grades.sort_values(['Math'],ascending= False)) "
   ]
  },
  {
   "cell_type": "markdown",
   "id": "bf26d1d1",
   "metadata": {},
   "source": [
    "<h4 align=left>Ascending"
   ]
  },
  {
   "cell_type": "code",
   "execution_count": 39,
   "id": "extended-delaware",
   "metadata": {},
   "outputs": [
    {
     "name": "stdout",
     "output_type": "stream",
     "text": [
      "   Math  Physics  French  Chemistry\n",
      "a     1        6      11         16\n",
      "b     2        7      12         17\n",
      "c     3        8      13         18\n",
      "d     4        9      14         19\n",
      "e     5       10      15         20\n"
     ]
    }
   ],
   "source": [
    "print(grades.sort_values(['Math'],ascending = True))   "
   ]
  },
  {
   "cell_type": "markdown",
   "id": "4c7a1e29",
   "metadata": {},
   "source": [
    "<h3 align=left>Show statistical values"
   ]
  },
  {
   "cell_type": "code",
   "execution_count": 40,
   "id": "conditional-championship",
   "metadata": {},
   "outputs": [
    {
     "name": "stdout",
     "output_type": "stream",
     "text": [
      "Math          5\n",
      "Physics      10\n",
      "French       15\n",
      "Chemistry    20\n",
      "dtype: int64\n"
     ]
    }
   ],
   "source": [
    "print(grades.max())"
   ]
  },
  {
   "cell_type": "code",
   "execution_count": 41,
   "id": "common-currency",
   "metadata": {},
   "outputs": [
    {
     "name": "stdout",
     "output_type": "stream",
     "text": [
      "Math          1\n",
      "Physics       6\n",
      "French       11\n",
      "Chemistry    16\n",
      "dtype: int64\n"
     ]
    }
   ],
   "source": [
    "print(grades.min())"
   ]
  },
  {
   "cell_type": "code",
   "execution_count": 42,
   "id": "central-pavilion",
   "metadata": {},
   "outputs": [
    {
     "name": "stdout",
     "output_type": "stream",
     "text": [
      "Math          3.0\n",
      "Physics       8.0\n",
      "French       13.0\n",
      "Chemistry    18.0\n",
      "dtype: float64\n"
     ]
    }
   ],
   "source": [
    "print(grades.mean())"
   ]
  },
  {
   "cell_type": "code",
   "execution_count": 43,
   "id": "quantitative-brick",
   "metadata": {},
   "outputs": [
    {
     "name": "stdout",
     "output_type": "stream",
     "text": [
      "Math         1.581139\n",
      "Physics      1.581139\n",
      "French       1.581139\n",
      "Chemistry    1.581139\n",
      "dtype: float64\n"
     ]
    }
   ],
   "source": [
    "print(grades.std())"
   ]
  },
  {
   "cell_type": "markdown",
   "id": "28708ff4",
   "metadata": {},
   "source": [
    "<h4 align=left>Show statistical values for one column"
   ]
  },
  {
   "cell_type": "markdown",
   "id": "b7c31504",
   "metadata": {},
   "source": [
    "<h5 align=left>Example(1):"
   ]
  },
  {
   "cell_type": "code",
   "execution_count": 44,
   "id": "inappropriate-sphere",
   "metadata": {},
   "outputs": [
    {
     "name": "stdout",
     "output_type": "stream",
     "text": [
      "5\n"
     ]
    }
   ],
   "source": [
    "print(grades['Math'].max())"
   ]
  },
  {
   "cell_type": "code",
   "execution_count": 45,
   "id": "about-parking",
   "metadata": {},
   "outputs": [
    {
     "name": "stdout",
     "output_type": "stream",
     "text": [
      "11\n"
     ]
    }
   ],
   "source": [
    "print(grades['French'].min())"
   ]
  },
  {
   "cell_type": "code",
   "execution_count": 46,
   "id": "consecutive-pontiac",
   "metadata": {},
   "outputs": [
    {
     "name": "stdout",
     "output_type": "stream",
     "text": [
      "8.0\n"
     ]
    }
   ],
   "source": [
    "print(grades['Physics'].mean())"
   ]
  },
  {
   "cell_type": "code",
   "execution_count": 47,
   "id": "defined-gothic",
   "metadata": {},
   "outputs": [
    {
     "name": "stdout",
     "output_type": "stream",
     "text": [
      "1.5811388300841898\n"
     ]
    }
   ],
   "source": [
    "print(grades['Chemistry'].std())"
   ]
  },
  {
   "cell_type": "markdown",
   "id": "026e2724",
   "metadata": {},
   "source": [
    "<h5 align=left>Example(2):"
   ]
  },
  {
   "cell_type": "code",
   "execution_count": 48,
   "id": "worth-banana",
   "metadata": {},
   "outputs": [
    {
     "name": "stdout",
     "output_type": "stream",
     "text": [
      "          A         B\n",
      "0  0.868346  0.684743\n",
      "1  0.665929  0.856907\n",
      "2  0.542654  0.544926\n",
      "3  0.773211  0.878055\n",
      "4  0.183157  0.826690\n",
      "5  0.730251  0.964049\n",
      "6  0.157811  0.680843\n",
      "7  0.047795  0.233209\n",
      "8  0.136449  0.162906\n",
      "9  0.400031  0.183236\n"
     ]
    }
   ],
   "source": [
    "# using pandas DataFrame tool\n",
    "\n",
    "df = pd.DataFrame({'A': np.random.rand(10), 'B': np.random.rand(10)})\n",
    "print(df)"
   ]
  },
  {
   "cell_type": "code",
   "execution_count": 49,
   "id": "imported-scroll",
   "metadata": {},
   "outputs": [
    {
     "name": "stdout",
     "output_type": "stream",
     "text": [
      "A    4.505633\n",
      "B    6.015564\n",
      "dtype: float64\n"
     ]
    }
   ],
   "source": [
    "print(df.sum())"
   ]
  },
  {
   "cell_type": "code",
   "execution_count": 50,
   "id": "driving-norman",
   "metadata": {},
   "outputs": [
    {
     "name": "stdout",
     "output_type": "stream",
     "text": [
      "A    0.000013\n",
      "B    0.001060\n",
      "dtype: float64\n"
     ]
    }
   ],
   "source": [
    "print(df.prod())  # multibly the data column"
   ]
  },
  {
   "cell_type": "code",
   "execution_count": 51,
   "id": "marked-summit",
   "metadata": {},
   "outputs": [
    {
     "name": "stdout",
     "output_type": "stream",
     "text": [
      "A    0.450563\n",
      "B    0.601556\n",
      "dtype: float64\n"
     ]
    }
   ],
   "source": [
    "print(df.mean())"
   ]
  },
  {
   "cell_type": "code",
   "execution_count": 52,
   "id": "listed-newark",
   "metadata": {},
   "outputs": [
    {
     "name": "stdout",
     "output_type": "stream",
     "text": [
      "4.505632969185093\n",
      "------------------------------\n",
      "0.0010604817109567438\n",
      "------------------------------\n",
      "0.4505632969185093\n"
     ]
    }
   ],
   "source": [
    "# Statistical values per each column\n",
    "\n",
    "print(df['A'].sum())\n",
    "print('------------------------------')\n",
    "print(df['B'].prod())\n",
    "print('------------------------------')\n",
    "print(df['A'].mean())"
   ]
  },
  {
   "cell_type": "markdown",
   "id": "c909ab58",
   "metadata": {},
   "source": [
    "<h4 align=left>statistical columns data"
   ]
  },
  {
   "cell_type": "code",
   "execution_count": 53,
   "id": "sound-boston",
   "metadata": {},
   "outputs": [
    {
     "name": "stdout",
     "output_type": "stream",
     "text": [
      "0    0.776545\n",
      "1    0.761418\n",
      "2    0.543790\n",
      "3    0.825633\n",
      "4    0.504923\n",
      "5    0.847150\n",
      "6    0.419327\n",
      "7    0.140502\n",
      "8    0.149677\n",
      "9    0.291634\n",
      "dtype: float64\n"
     ]
    }
   ],
   "source": [
    "print(df.mean(axis='columns'))"
   ]
  },
  {
   "cell_type": "markdown",
   "id": "5e43b352",
   "metadata": {},
   "source": [
    "<h4 align=left>statistical rows data "
   ]
  },
  {
   "cell_type": "code",
   "execution_count": 54,
   "id": "known-building",
   "metadata": {},
   "outputs": [
    {
     "name": "stdout",
     "output_type": "stream",
     "text": [
      "A    0.450563\n",
      "B    0.601556\n",
      "dtype: float64\n"
     ]
    }
   ],
   "source": [
    "# it is also equal to the default method\n",
    "\n",
    "print(df.mean(axis='rows'))"
   ]
  },
  {
   "cell_type": "code",
   "execution_count": 55,
   "id": "neural-calculation",
   "metadata": {},
   "outputs": [
    {
     "name": "stdout",
     "output_type": "stream",
     "text": [
      "A    10\n",
      "B    10\n",
      "dtype: int64\n"
     ]
    }
   ],
   "source": [
    "print(df.count())"
   ]
  },
  {
   "cell_type": "code",
   "execution_count": 56,
   "id": "miniature-delicious",
   "metadata": {},
   "outputs": [
    {
     "name": "stdout",
     "output_type": "stream",
     "text": [
      "A    0.047795\n",
      "B    0.162906\n",
      "dtype: float64\n"
     ]
    }
   ],
   "source": [
    "print(df.min())"
   ]
  },
  {
   "cell_type": "code",
   "execution_count": 57,
   "id": "related-adolescent",
   "metadata": {},
   "outputs": [
    {
     "name": "stdout",
     "output_type": "stream",
     "text": [
      "A    0.868346\n",
      "B    0.964049\n",
      "dtype: float64\n"
     ]
    }
   ],
   "source": [
    "print(df.max())"
   ]
  },
  {
   "cell_type": "code",
   "execution_count": 58,
   "id": "southwest-repeat",
   "metadata": {
    "scrolled": true
   },
   "outputs": [
    {
     "name": "stdout",
     "output_type": "stream",
     "text": [
      "A    0.304117\n",
      "B    0.306094\n",
      "dtype: float64\n"
     ]
    }
   ],
   "source": [
    "print(df.std())"
   ]
  },
  {
   "cell_type": "markdown",
   "id": "6d6f3a43",
   "metadata": {},
   "source": [
    "<h3 align=left>correlation coefficient"
   ]
  },
  {
   "cell_type": "code",
   "execution_count": 59,
   "id": "monthly-pencil",
   "metadata": {},
   "outputs": [
    {
     "name": "stdout",
     "output_type": "stream",
     "text": [
      "          A         B         C\n",
      "0  0.391459  0.987342  0.002944\n",
      "1  0.819874  0.447488  0.775287\n",
      "2  0.555168  0.897110  0.109332\n",
      "3  0.297002  0.483545  0.585720\n",
      "4  0.695533  0.954134  0.388618\n"
     ]
    }
   ],
   "source": [
    "df = pd.DataFrame(np.random.rand(5, 3), columns=['A', 'B', 'C'])\n",
    "\n",
    "print(df)"
   ]
  },
  {
   "cell_type": "code",
   "execution_count": 60,
   "id": "perfect-psychiatry",
   "metadata": {},
   "outputs": [
    {
     "name": "stdout",
     "output_type": "stream",
     "text": [
      "          A         B         C\n",
      "A  1.000000 -0.094248  0.415302\n",
      "B -0.094248  1.000000 -0.883360\n",
      "C  0.415302 -0.883360  1.000000\n"
     ]
    }
   ],
   "source": [
    "print(df.corr()) "
   ]
  },
  {
   "cell_type": "markdown",
   "id": "9fa33f6c",
   "metadata": {},
   "source": [
    "<h3 align=left>skew value"
   ]
  },
  {
   "cell_type": "code",
   "execution_count": 61,
   "id": "diagnostic-jewelry",
   "metadata": {},
   "outputs": [
    {
     "name": "stdout",
     "output_type": "stream",
     "text": [
      "A    0.066591\n",
      "B   -0.553188\n",
      "C    0.081354\n",
      "dtype: float64\n"
     ]
    }
   ],
   "source": [
    "print(df.skew())"
   ]
  },
  {
   "cell_type": "markdown",
   "id": "e7f51fab",
   "metadata": {},
   "source": [
    "<h3 align=left>Create a table using a quadratic function"
   ]
  },
  {
   "cell_type": "code",
   "execution_count": 62,
   "id": "clean-thumbnail",
   "metadata": {},
   "outputs": [
    {
     "data": {
      "text/html": [
       "<div>\n",
       "<style scoped>\n",
       "    .dataframe tbody tr th:only-of-type {\n",
       "        vertical-align: middle;\n",
       "    }\n",
       "\n",
       "    .dataframe tbody tr th {\n",
       "        vertical-align: top;\n",
       "    }\n",
       "\n",
       "    .dataframe thead th {\n",
       "        text-align: right;\n",
       "    }\n",
       "</style>\n",
       "<table border=\"1\" class=\"dataframe\">\n",
       "  <thead>\n",
       "    <tr style=\"text-align: right;\">\n",
       "      <th></th>\n",
       "      <th>square</th>\n",
       "    </tr>\n",
       "  </thead>\n",
       "  <tbody>\n",
       "    <tr>\n",
       "      <th>0</th>\n",
       "      <td>0</td>\n",
       "    </tr>\n",
       "    <tr>\n",
       "      <th>1</th>\n",
       "      <td>1</td>\n",
       "    </tr>\n",
       "    <tr>\n",
       "      <th>2</th>\n",
       "      <td>4</td>\n",
       "    </tr>\n",
       "    <tr>\n",
       "      <th>3</th>\n",
       "      <td>9</td>\n",
       "    </tr>\n",
       "    <tr>\n",
       "      <th>4</th>\n",
       "      <td>16</td>\n",
       "    </tr>\n",
       "    <tr>\n",
       "      <th>5</th>\n",
       "      <td>25</td>\n",
       "    </tr>\n",
       "    <tr>\n",
       "      <th>6</th>\n",
       "      <td>36</td>\n",
       "    </tr>\n",
       "    <tr>\n",
       "      <th>7</th>\n",
       "      <td>49</td>\n",
       "    </tr>\n",
       "    <tr>\n",
       "      <th>8</th>\n",
       "      <td>64</td>\n",
       "    </tr>\n",
       "    <tr>\n",
       "      <th>9</th>\n",
       "      <td>81</td>\n",
       "    </tr>\n",
       "  </tbody>\n",
       "</table>\n",
       "</div>"
      ],
      "text/plain": [
       "   square\n",
       "0       0\n",
       "1       1\n",
       "2       4\n",
       "3       9\n",
       "4      16\n",
       "5      25\n",
       "6      36\n",
       "7      49\n",
       "8      64\n",
       "9      81"
      ]
     },
     "execution_count": 62,
     "metadata": {},
     "output_type": "execute_result"
    }
   ],
   "source": [
    "data = [{'square': i**2} for i in range(10)]\n",
    "d = pd.DataFrame(data)\n",
    "\n",
    "d"
   ]
  },
  {
   "cell_type": "markdown",
   "id": "833eca7d",
   "metadata": {},
   "source": [
    "<h3 align=left>Create a table"
   ]
  },
  {
   "cell_type": "code",
   "execution_count": 63,
   "id": "identified-murder",
   "metadata": {},
   "outputs": [
    {
     "data": {
      "text/html": [
       "<div>\n",
       "<style scoped>\n",
       "    .dataframe tbody tr th:only-of-type {\n",
       "        vertical-align: middle;\n",
       "    }\n",
       "\n",
       "    .dataframe tbody tr th {\n",
       "        vertical-align: top;\n",
       "    }\n",
       "\n",
       "    .dataframe thead th {\n",
       "        text-align: right;\n",
       "    }\n",
       "</style>\n",
       "<table border=\"1\" class=\"dataframe\">\n",
       "  <thead>\n",
       "    <tr style=\"text-align: right;\">\n",
       "      <th></th>\n",
       "      <th>food</th>\n",
       "      <th>drink</th>\n",
       "    </tr>\n",
       "  </thead>\n",
       "  <tbody>\n",
       "    <tr>\n",
       "      <th>a</th>\n",
       "      <td>0.314440</td>\n",
       "      <td>0.860573</td>\n",
       "    </tr>\n",
       "    <tr>\n",
       "      <th>b</th>\n",
       "      <td>0.597320</td>\n",
       "      <td>0.754576</td>\n",
       "    </tr>\n",
       "    <tr>\n",
       "      <th>c</th>\n",
       "      <td>0.243383</td>\n",
       "      <td>0.541765</td>\n",
       "    </tr>\n",
       "  </tbody>\n",
       "</table>\n",
       "</div>"
      ],
      "text/plain": [
       "       food     drink\n",
       "a  0.314440  0.860573\n",
       "b  0.597320  0.754576\n",
       "c  0.243383  0.541765"
      ]
     },
     "execution_count": 63,
     "metadata": {},
     "output_type": "execute_result"
    }
   ],
   "source": [
    "d = pd.DataFrame(np.random.rand(3, 2), columns=['food', 'drink'], index=['a', 'b', 'c'])\n",
    "d"
   ]
  },
  {
   "cell_type": "markdown",
   "id": "849071de",
   "metadata": {},
   "source": [
    "<h3 align=left>Create a table using multi functions"
   ]
  },
  {
   "cell_type": "code",
   "execution_count": 64,
   "id": "concerned-allergy",
   "metadata": {},
   "outputs": [
    {
     "data": {
      "text/html": [
       "<div>\n",
       "<style scoped>\n",
       "    .dataframe tbody tr th:only-of-type {\n",
       "        vertical-align: middle;\n",
       "    }\n",
       "\n",
       "    .dataframe tbody tr th {\n",
       "        vertical-align: top;\n",
       "    }\n",
       "\n",
       "    .dataframe thead th {\n",
       "        text-align: right;\n",
       "    }\n",
       "</style>\n",
       "<table border=\"1\" class=\"dataframe\">\n",
       "  <thead>\n",
       "    <tr style=\"text-align: right;\">\n",
       "      <th></th>\n",
       "      <th>square</th>\n",
       "      <th>cube</th>\n",
       "      <th>root</th>\n",
       "    </tr>\n",
       "  </thead>\n",
       "  <tbody>\n",
       "    <tr>\n",
       "      <th>0</th>\n",
       "      <td>0</td>\n",
       "      <td>0</td>\n",
       "      <td>0.000000</td>\n",
       "    </tr>\n",
       "    <tr>\n",
       "      <th>1</th>\n",
       "      <td>1</td>\n",
       "      <td>1</td>\n",
       "      <td>1.000000</td>\n",
       "    </tr>\n",
       "    <tr>\n",
       "      <th>2</th>\n",
       "      <td>4</td>\n",
       "      <td>8</td>\n",
       "      <td>1.414214</td>\n",
       "    </tr>\n",
       "    <tr>\n",
       "      <th>3</th>\n",
       "      <td>9</td>\n",
       "      <td>27</td>\n",
       "      <td>1.732051</td>\n",
       "    </tr>\n",
       "    <tr>\n",
       "      <th>4</th>\n",
       "      <td>16</td>\n",
       "      <td>64</td>\n",
       "      <td>2.000000</td>\n",
       "    </tr>\n",
       "    <tr>\n",
       "      <th>5</th>\n",
       "      <td>25</td>\n",
       "      <td>125</td>\n",
       "      <td>2.236068</td>\n",
       "    </tr>\n",
       "    <tr>\n",
       "      <th>6</th>\n",
       "      <td>36</td>\n",
       "      <td>216</td>\n",
       "      <td>2.449490</td>\n",
       "    </tr>\n",
       "    <tr>\n",
       "      <th>7</th>\n",
       "      <td>49</td>\n",
       "      <td>343</td>\n",
       "      <td>2.645751</td>\n",
       "    </tr>\n",
       "    <tr>\n",
       "      <th>8</th>\n",
       "      <td>64</td>\n",
       "      <td>512</td>\n",
       "      <td>2.828427</td>\n",
       "    </tr>\n",
       "    <tr>\n",
       "      <th>9</th>\n",
       "      <td>81</td>\n",
       "      <td>729</td>\n",
       "      <td>3.000000</td>\n",
       "    </tr>\n",
       "  </tbody>\n",
       "</table>\n",
       "</div>"
      ],
      "text/plain": [
       "   square  cube      root\n",
       "0       0     0  0.000000\n",
       "1       1     1  1.000000\n",
       "2       4     8  1.414214\n",
       "3       9    27  1.732051\n",
       "4      16    64  2.000000\n",
       "5      25   125  2.236068\n",
       "6      36   216  2.449490\n",
       "7      49   343  2.645751\n",
       "8      64   512  2.828427\n",
       "9      81   729  3.000000"
      ]
     },
     "execution_count": 64,
     "metadata": {},
     "output_type": "execute_result"
    }
   ],
   "source": [
    "data = [{'square': i**2, 'cube': i**3, 'root': i**0.5} for i in range(10)]\n",
    "d = pd.DataFrame(data)\n",
    "\n",
    "d"
   ]
  },
  {
   "cell_type": "markdown",
   "id": "40df0aef",
   "metadata": {},
   "source": [
    "<h3 align=left>Create a table using a function"
   ]
  },
  {
   "cell_type": "code",
   "execution_count": 65,
   "id": "labeled-picture",
   "metadata": {},
   "outputs": [
    {
     "name": "stdout",
     "output_type": "stream",
     "text": [
      "    A   B   C\n",
      "0  A0  B0  C0\n",
      "1  A1  B1  C1\n",
      "2  A2  B2  C2\n"
     ]
    }
   ],
   "source": [
    "def make_df(cols, ind):\n",
    "    data = {c: [str(c) + str(i) for i in ind] for c in cols}\n",
    "    return pd.DataFrame(data, ind)\n",
    "\n",
    "\n",
    "print(make_df('ABC', range(3)))"
   ]
  },
  {
   "cell_type": "markdown",
   "id": "a6b9ef5b",
   "metadata": {},
   "source": [
    "<h3 align=left>Merge dictionaries"
   ]
  },
  {
   "cell_type": "markdown",
   "id": "35661d5f",
   "metadata": {},
   "source": [
    "<h4 align=left>condition (A):"
   ]
  },
  {
   "cell_type": "code",
   "execution_count": 66,
   "id": "defensive-comment",
   "metadata": {},
   "outputs": [
    {
     "name": "stdout",
     "output_type": "stream",
     "text": [
      "   a  b\n",
      "0  1  2\n",
      "1  3  4\n",
      "2  5  6\n"
     ]
    }
   ],
   "source": [
    "d = pd.DataFrame([{'a': 1, 'b': 2}, {'a': 3, 'b': 4}, {'a': 5, 'b': 6}])\n",
    "print(d)"
   ]
  },
  {
   "cell_type": "markdown",
   "id": "e8ae34c5",
   "metadata": {},
   "source": [
    "<h4 align=left>condition (B):"
   ]
  },
  {
   "cell_type": "code",
   "execution_count": 67,
   "id": "black-criminal",
   "metadata": {},
   "outputs": [
    {
     "name": "stdout",
     "output_type": "stream",
     "text": [
      "     a    b    c    d    e\n",
      "0  1.0  2.0  NaN  NaN  NaN\n",
      "1  NaN  3.0  4.0  NaN  NaN\n",
      "2  NaN  NaN  NaN  5.0  6.0\n"
     ]
    }
   ],
   "source": [
    "# Merge dictionaries with NaN values\n",
    "\n",
    "d = pd.DataFrame([{'a': 1, 'b': 2}, {'b': 3, 'c': 4}, {'d': 5, 'e': 6}])\n",
    "print(d)"
   ]
  },
  {
   "cell_type": "markdown",
   "id": "1dffc1a4",
   "metadata": {},
   "source": [
    "<h3 align=left>Add column"
   ]
  },
  {
   "cell_type": "code",
   "execution_count": 68,
   "id": "color-maker",
   "metadata": {},
   "outputs": [
    {
     "name": "stdout",
     "output_type": "stream",
     "text": [
      "   Math  Physics  French  Chemistry\n",
      "a     1        6      11         16\n",
      "b     2        7      12         17\n",
      "c     3        8      13         18\n",
      "d     4        9      14         19\n",
      "e     5       10      15         20\n",
      "---------------------------------------------\n",
      "   Math  Physics  French  Chemistry  Total\n",
      "a     1        6      11         16   0.34\n",
      "b     2        7      12         17   0.38\n",
      "c     3        8      13         18   0.42\n",
      "d     4        9      14         19   0.46\n",
      "e     5       10      15         20   0.50\n"
     ]
    }
   ],
   "source": [
    "w = pd.Series({'a': 1, 'b': 2, 'c': 3, 'd': 4, 'e': 5})\n",
    "x = pd.Series({'a': 6, 'b': 7, 'c': 8, 'd': 9, 'e': 10})\n",
    "y = pd.Series({'a': 11, 'b': 12, 'c': 13, 'd': 14, 'e': 15})\n",
    "z = pd.Series({'a': 16, 'b': 17, 'c': 18, 'd': 19, 'e': 20})\n",
    "\n",
    "grades = pd.DataFrame({'Math': w, 'Physics': x, 'French': y, 'Chemistry': z})\n",
    "print(grades)\n",
    "print('---------------------------------------------')\n",
    "grades['Total'] = (grades['Math'] + grades['French'] + grades['Chemistry'] +\n",
    "                   grades['Physics']) / 100                                      # Add column \n",
    "print(grades)"
   ]
  },
  {
   "cell_type": "markdown",
   "id": "f53241cc",
   "metadata": {},
   "source": [
    "<h3 align=left>Math operations"
   ]
  },
  {
   "cell_type": "markdown",
   "id": "59159fb5",
   "metadata": {},
   "source": [
    "<h4 align=left>Option (1):"
   ]
  },
  {
   "cell_type": "code",
   "execution_count": 69,
   "id": "civilian-affair",
   "metadata": {},
   "outputs": [
    {
     "name": "stdout",
     "output_type": "stream",
     "text": [
      "          A         B         C\n",
      "0  0.640771  0.104324  0.529385\n",
      "1  0.889024  0.683670  0.809952\n",
      "2  0.215444  0.314998  0.716188\n",
      "3  0.201779  0.583454  0.548884\n",
      "4  0.967939  0.830696  0.625040\n",
      "---------------------------------------------\n",
      "0   -1.583239\n",
      "1   -8.275256\n",
      "2   -1.868987\n",
      "3   -1.740646\n",
      "4   -4.796866\n",
      "dtype: float64\n"
     ]
    }
   ],
   "source": [
    "df = pd.DataFrame(np.random.rand(5, 3), columns=['A', 'B', 'C'])\n",
    "\n",
    "result = (df['A'] + df['B']) / (df['C'] - 1)\n",
    "\n",
    "print(df)\n",
    "print('---------------------------------------------')\n",
    "print(result)"
   ]
  },
  {
   "cell_type": "markdown",
   "id": "53851adc",
   "metadata": {},
   "source": [
    "<h4 align=left>option (2): eval command"
   ]
  },
  {
   "cell_type": "code",
   "execution_count": 70,
   "id": "municipal-requirement",
   "metadata": {},
   "outputs": [
    {
     "name": "stdout",
     "output_type": "stream",
     "text": [
      "0   -1.583239\n",
      "1   -8.275256\n",
      "2   -1.868987\n",
      "3   -1.740646\n",
      "4   -4.796866\n",
      "dtype: float64\n"
     ]
    }
   ],
   "source": [
    "result = pd.eval(\"(df.A + df.B) / (df.C - 1)\")\n",
    "print(result)"
   ]
  },
  {
   "cell_type": "markdown",
   "id": "c7cb2381",
   "metadata": {},
   "source": [
    "<h4 align=left>query command"
   ]
  },
  {
   "cell_type": "markdown",
   "id": "43e155ad",
   "metadata": {},
   "source": [
    "<h5 align=left>Option(1):"
   ]
  },
  {
   "cell_type": "code",
   "execution_count": 71,
   "id": "personal-nicholas",
   "metadata": {},
   "outputs": [
    {
     "name": "stdout",
     "output_type": "stream",
     "text": [
      "          A         B         C\n",
      "2  0.215444  0.314998  0.716188\n"
     ]
    }
   ],
   "source": [
    "result = df.query('A < 0.5 and B < 0.5')\n",
    "print(result)"
   ]
  },
  {
   "cell_type": "markdown",
   "id": "315ae679",
   "metadata": {},
   "source": [
    "<h5 align=left>Option(2):"
   ]
  },
  {
   "cell_type": "code",
   "execution_count": 72,
   "id": "friendly-ghana",
   "metadata": {},
   "outputs": [
    {
     "name": "stdout",
     "output_type": "stream",
     "text": [
      "          A         B         C\n",
      "2  0.215444  0.314998  0.716188\n"
     ]
    }
   ],
   "source": [
    "tmp1 = df.A < 0.5\n",
    "tmp2 = df.B < 0.5\n",
    "tmp3 = tmp1 & tmp2\n",
    "result = df[tmp3]\n",
    "\n",
    "print(result)"
   ]
  },
  {
   "cell_type": "markdown",
   "id": "6f74c439",
   "metadata": {},
   "source": [
    "<h5 align=left>Option(3):"
   ]
  },
  {
   "cell_type": "code",
   "execution_count": 73,
   "id": "earned-precipitation",
   "metadata": {},
   "outputs": [
    {
     "name": "stdout",
     "output_type": "stream",
     "text": [
      "          A         B         C\n",
      "2  0.215444  0.314998  0.716188\n"
     ]
    }
   ],
   "source": [
    "result = df[(df.A < 0.5) & (df.B < 0.5)]\n",
    "print(result)"
   ]
  },
  {
   "cell_type": "markdown",
   "id": "6f00ddaa",
   "metadata": {},
   "source": [
    "<h5 align=left>Option(4):"
   ]
  },
  {
   "cell_type": "code",
   "execution_count": 74,
   "id": "silver-rebound",
   "metadata": {},
   "outputs": [
    {
     "name": "stdout",
     "output_type": "stream",
     "text": [
      "          A         B         C\n",
      "0  0.640771  0.104324  0.529385\n",
      "2  0.215444  0.314998  0.716188\n",
      "3  0.201779  0.583454  0.548884\n"
     ]
    }
   ],
   "source": [
    "result = df[(df.A < 0.5) | (df.B < 0.5)]\n",
    "print(result)"
   ]
  },
  {
   "cell_type": "markdown",
   "id": "67550296",
   "metadata": {},
   "source": [
    "<h3 align=left>Merging tabels"
   ]
  },
  {
   "cell_type": "code",
   "execution_count": 75,
   "id": "fitted-apparatus",
   "metadata": {},
   "outputs": [
    {
     "name": "stdout",
     "output_type": "stream",
     "text": [
      "  employee        group\n",
      "0      Bob   Accounting\n",
      "1     Jake  Engineering\n",
      "2     Lisa  Engineering\n",
      "3      Sue           HR\n",
      "---------------------------------------------\n",
      "  employee  hire_date\n",
      "0     Lisa       2004\n",
      "1      Bob       2008\n",
      "2     Jake       2012\n",
      "3      Sue       2014\n",
      "---------------------------------------------\n",
      "  employee        group  hire_date\n",
      "0      Bob   Accounting       2008\n",
      "1     Jake  Engineering       2012\n",
      "2     Lisa  Engineering       2004\n",
      "3      Sue           HR       2014\n"
     ]
    }
   ],
   "source": [
    "df1 = pd.DataFrame({\n",
    "    'employee': ['Bob', 'Jake', 'Lisa', 'Sue'],\n",
    "    'group': ['Accounting', 'Engineering', 'Engineering', 'HR']})\n",
    "\n",
    "df2 = pd.DataFrame({\n",
    "    'employee': ['Lisa', 'Bob', 'Jake', 'Sue'],\n",
    "    'hire_date': [2004, 2008, 2012, 2014]})\n",
    "\n",
    "print(df1)\n",
    "print('---------------------------------------------')\n",
    "print(df2)\n",
    "\n",
    "df3 = pd.merge(df1,df2)\n",
    "print('---------------------------------------------')\n",
    "print(df3)"
   ]
  },
  {
   "cell_type": "code",
   "execution_count": 76,
   "id": "rubber-dealing",
   "metadata": {},
   "outputs": [
    {
     "name": "stdout",
     "output_type": "stream",
     "text": [
      "  employee        group  hire_date\n",
      "0      Bob   Accounting       2008\n",
      "1     Jake  Engineering       2012\n",
      "2     Lisa  Engineering       2004\n",
      "3      Sue           HR       2014\n",
      "--------------------------\n",
      "         group supervisor\n",
      "0   Accounting      Carly\n",
      "1  Engineering      Guido\n",
      "2           HR      Steve\n",
      "--------------------------\n",
      "  employee        group  hire_date supervisor\n",
      "0      Bob   Accounting       2008      Carly\n",
      "1     Jake  Engineering       2012      Guido\n",
      "2     Lisa  Engineering       2004      Guido\n",
      "3      Sue           HR       2014      Steve\n"
     ]
    }
   ],
   "source": [
    "df4 = pd.DataFrame({\n",
    "    'group': ['Accounting', 'Engineering', 'HR'],\n",
    "    'supervisor': ['Carly', 'Guido', 'Steve']\n",
    "})\n",
    "\n",
    "print(df3)\n",
    "print('--------------------------')\n",
    "df5 = pd.merge(df3, df4)\n",
    "print(df4)\n",
    "print('--------------------------')\n",
    "print(df5)"
   ]
  },
  {
   "cell_type": "markdown",
   "id": "4495b00c",
   "metadata": {},
   "source": [
    "<h4 align=left>choose the left & the right sides of the columns table"
   ]
  },
  {
   "cell_type": "code",
   "execution_count": 77,
   "id": "sublime-antarctica",
   "metadata": {},
   "outputs": [
    {
     "name": "stdout",
     "output_type": "stream",
     "text": [
      "  employee        group\n",
      "0      Bob   Accounting\n",
      "1     Jake  Engineering\n",
      "2     Lisa  Engineering\n",
      "3      Sue           HR\n",
      "--------------------------\n",
      "   name  salary\n",
      "0   Bob   70000\n",
      "1  Jake   80000\n",
      "2  Lisa  120000\n",
      "3   Sue   90000\n",
      "--------------------------\n",
      "  employee        group  name  salary\n",
      "0      Bob   Accounting   Bob   70000\n",
      "1     Jake  Engineering  Jake   80000\n",
      "2     Lisa  Engineering  Lisa  120000\n",
      "3      Sue           HR   Sue   90000\n"
     ]
    }
   ],
   "source": [
    "df3 = pd.DataFrame({\n",
    "    'name': ['Bob', 'Jake', 'Lisa', 'Sue'],\n",
    "    'salary': [70000, 80000, 120000, 90000]\n",
    "})\n",
    "\n",
    "print(df1)\n",
    "print('--------------------------')\n",
    "print(df3)\n",
    "print('--------------------------')\n",
    "print(pd.merge(df1, df3, left_on=\"employee\", right_on=\"name\"))"
   ]
  },
  {
   "cell_type": "markdown",
   "id": "f3dd8f75",
   "metadata": {},
   "source": [
    "<h4 align=left>Drop repeated column"
   ]
  },
  {
   "cell_type": "code",
   "execution_count": 78,
   "id": "innovative-topic",
   "metadata": {},
   "outputs": [
    {
     "name": "stdout",
     "output_type": "stream",
     "text": [
      "  employee        group  salary\n",
      "0      Bob   Accounting   70000\n",
      "1     Jake  Engineering   80000\n",
      "2     Lisa  Engineering  120000\n",
      "3      Sue           HR   90000\n"
     ]
    }
   ],
   "source": [
    "print(\n",
    "    pd.merge(df1, df3, left_on=\"employee\", right_on=\"name\").drop('name',\n",
    "                                                                 axis=1))"
   ]
  },
  {
   "cell_type": "markdown",
   "id": "08a20b1b",
   "metadata": {},
   "source": [
    "<h3 align=left>Set index command"
   ]
  },
  {
   "cell_type": "code",
   "execution_count": 79,
   "id": "complimentary-secondary",
   "metadata": {},
   "outputs": [
    {
     "name": "stdout",
     "output_type": "stream",
     "text": [
      "  employee        group\n",
      "0      Bob   Accounting\n",
      "1     Jake  Engineering\n",
      "2     Lisa  Engineering\n",
      "3      Sue           HR\n",
      "                group\n",
      "employee             \n",
      "Bob        Accounting\n",
      "Jake      Engineering\n",
      "Lisa      Engineering\n",
      "Sue                HR\n"
     ]
    }
   ],
   "source": [
    "print(df1)\n",
    "\n",
    "df2 = df1.set_index('employee')\n",
    "print(df2)"
   ]
  },
  {
   "cell_type": "markdown",
   "id": "132140bb",
   "metadata": {},
   "source": [
    "<h3 align=left>Data intersection"
   ]
  },
  {
   "cell_type": "markdown",
   "id": "35b80a35",
   "metadata": {},
   "source": [
    "<h4 align=left>Default merge intersection"
   ]
  },
  {
   "cell_type": "code",
   "execution_count": 80,
   "id": "tough-aruba",
   "metadata": {},
   "outputs": [
    {
     "name": "stdout",
     "output_type": "stream",
     "text": [
      "    name   food\n",
      "1  Peter   fish\n",
      "2   Paul  beans\n",
      "3   Mary  bread\n",
      "-----------------------------\n",
      "     name drink\n",
      "1    Mary  cola\n",
      "2  Joseph  7 up\n",
      "-----------------------------\n",
      "   name   food drink\n",
      "0  Mary  bread  cola\n"
     ]
    }
   ],
   "source": [
    "df1 = pd.DataFrame(\n",
    "    {\n",
    "        'name': ['Peter', 'Paul', 'Mary'],\n",
    "        'food': ['fish', 'beans', 'bread']\n",
    "    },\n",
    "    columns=['name', 'food'],\n",
    "    index=['1', '2', '3'])\n",
    "\n",
    "df2 = pd.DataFrame({\n",
    "    'name': ['Mary', 'Joseph'],\n",
    "    'drink': ['cola', '7 up']\n",
    "    },\n",
    "    columns=['name', 'drink'],\n",
    "    index=['1', '2'])\n",
    "\n",
    "print(df1)\n",
    "print('-----------------------------')\n",
    "print(df2)\n",
    "print('-----------------------------')\n",
    "df3 = pd.merge(df1, df2)\n",
    "print(df3)"
   ]
  },
  {
   "cell_type": "markdown",
   "id": "8304c14c",
   "metadata": {},
   "source": [
    "<h4 align=left>inner method"
   ]
  },
  {
   "cell_type": "code",
   "execution_count": 81,
   "id": "respective-capitol",
   "metadata": {},
   "outputs": [
    {
     "name": "stdout",
     "output_type": "stream",
     "text": [
      "   name   food drink\n",
      "0  Mary  bread  cola\n"
     ]
    }
   ],
   "source": [
    "# it is the same as the default way\n",
    "\n",
    "df3 = pd.merge(df1, df2, how='inner')\n",
    "print(df3)"
   ]
  },
  {
   "cell_type": "markdown",
   "id": "3a32c4b9",
   "metadata": {},
   "source": [
    "<h4 align=left>outer method"
   ]
  },
  {
   "cell_type": "code",
   "execution_count": 82,
   "id": "opponent-leadership",
   "metadata": {},
   "outputs": [
    {
     "name": "stdout",
     "output_type": "stream",
     "text": [
      "     name   food drink\n",
      "0   Peter   fish   NaN\n",
      "1    Paul  beans   NaN\n",
      "2    Mary  bread  cola\n",
      "3  Joseph    NaN  7 up\n"
     ]
    }
   ],
   "source": [
    "# gets all the rows then fill the empty cells with NaN value\n",
    "\n",
    "df3 = pd.merge(df1, df2, how='outer')  \n",
    "print(df3)"
   ]
  },
  {
   "cell_type": "markdown",
   "id": "50f9b0d1",
   "metadata": {},
   "source": [
    "<h4 align=left>right method"
   ]
  },
  {
   "cell_type": "code",
   "execution_count": 83,
   "id": "consecutive-enough",
   "metadata": {},
   "outputs": [
    {
     "name": "stdout",
     "output_type": "stream",
     "text": [
      "    name   food\n",
      "1  Peter   fish\n",
      "2   Paul  beans\n",
      "3   Mary  bread\n",
      "--------------------\n",
      "     name drink\n",
      "1    Mary  cola\n",
      "2  Joseph  7 up\n",
      "--------------------\n",
      "     name   food drink\n",
      "0    Mary  bread  cola\n",
      "1  Joseph    NaN  7 up\n"
     ]
    }
   ],
   "source": [
    "# it uses all the right table then fill it from the left one \n",
    "\n",
    "df3 = pd.merge(df1, df2, how='right')\n",
    "print(df1)\n",
    "print('--------------------')\n",
    "print(df2)\n",
    "print('--------------------')\n",
    "print(df3)"
   ]
  },
  {
   "cell_type": "markdown",
   "id": "3cb46df9",
   "metadata": {},
   "source": [
    "<h4 align=left>left method"
   ]
  },
  {
   "cell_type": "code",
   "execution_count": 84,
   "id": "southeast-spank",
   "metadata": {},
   "outputs": [
    {
     "name": "stdout",
     "output_type": "stream",
     "text": [
      "    name   food drink\n",
      "0  Peter   fish   NaN\n",
      "1   Paul  beans   NaN\n",
      "2   Mary  bread  cola\n"
     ]
    }
   ],
   "source": [
    "# it uses all the table then fill it from the right one \n",
    "\n",
    "df3 = pd.merge(df1, df2, how='left')\n",
    "print(df3)"
   ]
  },
  {
   "cell_type": "markdown",
   "id": "78cad836",
   "metadata": {},
   "source": [
    "<h4 align=left>Statistical data"
   ]
  },
  {
   "cell_type": "code",
   "execution_count": 85,
   "id": "gorgeous-newark",
   "metadata": {},
   "outputs": [
    {
     "name": "stdout",
     "output_type": "stream",
     "text": [
      "  key  data\n",
      "0   A     0\n",
      "1   B     1\n",
      "2   C     2\n",
      "3   A     3\n",
      "4   B     4\n",
      "5   C     5\n",
      "------------------------------\n",
      "           data\n",
      "count  6.000000\n",
      "mean   2.500000\n",
      "std    1.870829\n",
      "min    0.000000\n",
      "25%    1.250000\n",
      "50%    2.500000\n",
      "75%    3.750000\n",
      "max    5.000000\n"
     ]
    }
   ],
   "source": [
    "df = pd.DataFrame({\n",
    "    'key': ['A', 'B', 'C', 'A', 'B', 'C'],\n",
    "    'data': range(6)\n",
    "},\n",
    "    columns=['key', 'data'])\n",
    "\n",
    "print(df)\n",
    "print('------------------------------')\n",
    "print(df.describe())"
   ]
  },
  {
   "cell_type": "markdown",
   "id": "9ae7d50c",
   "metadata": {},
   "source": [
    "<h4 align=left>groupby function"
   ]
  },
  {
   "cell_type": "code",
   "execution_count": 86,
   "id": "centered-classic",
   "metadata": {},
   "outputs": [
    {
     "name": "stdout",
     "output_type": "stream",
     "text": [
      "     data\n",
      "key      \n",
      "A       3\n",
      "B       5\n",
      "C       7\n"
     ]
    }
   ],
   "source": [
    "# It will gather the values in data column for same keys. \n",
    "\n",
    "print(df.groupby('key').sum())"
   ]
  },
  {
   "cell_type": "code",
   "execution_count": 87,
   "id": "suburban-marijuana",
   "metadata": {},
   "outputs": [
    {
     "name": "stdout",
     "output_type": "stream",
     "text": [
      "     data                                         \n",
      "    count mean      std  min   25%  50%   75%  max\n",
      "key                                               \n",
      "A     2.0  1.5  2.12132  0.0  0.75  1.5  2.25  3.0\n",
      "B     2.0  2.5  2.12132  1.0  1.75  2.5  3.25  4.0\n",
      "C     2.0  3.5  2.12132  2.0  2.75  3.5  4.25  5.0\n"
     ]
    }
   ],
   "source": [
    "print(df.groupby('key').describe())"
   ]
  },
  {
   "cell_type": "code",
   "execution_count": 88,
   "id": "aggregate-provision",
   "metadata": {},
   "outputs": [
    {
     "name": "stdout",
     "output_type": "stream",
     "text": [
      "             key\n",
      "data  count  A      2.00000\n",
      "             B      2.00000\n",
      "             C      2.00000\n",
      "      mean   A      1.50000\n",
      "             B      2.50000\n",
      "             C      3.50000\n",
      "      std    A      2.12132\n",
      "             B      2.12132\n",
      "             C      2.12132\n",
      "      min    A      0.00000\n",
      "             B      1.00000\n",
      "             C      2.00000\n",
      "      25%    A      0.75000\n",
      "             B      1.75000\n",
      "             C      2.75000\n",
      "      50%    A      1.50000\n",
      "             B      2.50000\n",
      "             C      3.50000\n",
      "      75%    A      2.25000\n",
      "             B      3.25000\n",
      "             C      4.25000\n",
      "      max    A      3.00000\n",
      "             B      4.00000\n",
      "             C      5.00000\n",
      "dtype: float64\n"
     ]
    }
   ],
   "source": [
    "print(df.groupby('key').describe().unstack())"
   ]
  },
  {
   "cell_type": "code",
   "execution_count": 89,
   "id": "passive-nightmare",
   "metadata": {},
   "outputs": [
    {
     "name": "stdout",
     "output_type": "stream",
     "text": [
      "  key  data1  data2\n",
      "0   A      0      5\n",
      "1   B      1      0\n",
      "2   C      2      0\n",
      "3   A      3      3\n",
      "4   B      4      1\n",
      "5   C      5      4\n",
      "------------------------------\n",
      "     data1  data2\n",
      "key              \n",
      "A        0      5\n",
      "B        1      1\n",
      "C        2      4\n"
     ]
    }
   ],
   "source": [
    "df = pd.DataFrame(\n",
    "    {\n",
    "        'key': ['A', 'B', 'C', 'A', 'B', 'C'],\n",
    "        'data1': range(6),\n",
    "        'data2': np.random.randint(0, 10, 6)\n",
    "    },\n",
    "    columns=['key', 'data1', 'data2'])\n",
    "\n",
    "print(df)\n",
    "df2 = df.groupby('key').aggregate({'data1': 'min', 'data2': 'max'})\n",
    "print('------------------------------')\n",
    "print(df2)"
   ]
  },
  {
   "cell_type": "markdown",
   "id": "ddae6f37",
   "metadata": {},
   "source": [
    "<h4 align=left>filter function"
   ]
  },
  {
   "cell_type": "code",
   "execution_count": 90,
   "id": "based-question",
   "metadata": {},
   "outputs": [
    {
     "name": "stdout",
     "output_type": "stream",
     "text": [
      "Empty DataFrame\n",
      "Columns: [key, data1, data2]\n",
      "Index: []\n"
     ]
    }
   ],
   "source": [
    "def filter_func(x):\n",
    "    return x['data2'].std() > 3\n",
    "\n",
    "\n",
    "df2 = df.groupby('key').filter(filter_func)\n",
    "print(df2)"
   ]
  },
  {
   "cell_type": "markdown",
   "id": "57f1cbad",
   "metadata": {},
   "source": [
    "<h4 align=left>lambda function"
   ]
  },
  {
   "cell_type": "code",
   "execution_count": 91,
   "id": "together-camera",
   "metadata": {},
   "outputs": [
    {
     "name": "stdout",
     "output_type": "stream",
     "text": [
      "   data1  data2\n",
      "0      0     25\n",
      "1      1      0\n",
      "2      4      0\n",
      "3      9      9\n",
      "4     16      1\n",
      "5     25     16\n"
     ]
    }
   ],
   "source": [
    "df2 = df.groupby('key').transform(lambda x: x**2)\n",
    "print(df2)"
   ]
  },
  {
   "cell_type": "markdown",
   "id": "secure-armstrong",
   "metadata": {},
   "source": [
    "<h2 align=left>MultiIndex tool"
   ]
  },
  {
   "cell_type": "markdown",
   "id": "0a129579",
   "metadata": {},
   "source": [
    "<h3 align=left>Option(1): from_tuples command"
   ]
  },
  {
   "cell_type": "code",
   "execution_count": 92,
   "id": "willing-romania",
   "metadata": {},
   "outputs": [
    {
     "name": "stdout",
     "output_type": "stream",
     "text": [
      "California  2000    10000\n",
      "            2010    15000\n",
      "New York    2000    20000\n",
      "            2010    25000\n",
      "Texas       2000    30000\n",
      "            2010    35000\n",
      "dtype: int64\n"
     ]
    }
   ],
   "source": [
    "index = [('California', 2000), ('California', 2010), ('New York', 2000),\n",
    "         ('New York', 2010), ('Texas', 2000), ('Texas', 2010)]\n",
    "\n",
    "populations = [10000, 15000, 20000, 25000, 30000, 35000]\n",
    "\n",
    "index = pd.MultiIndex.from_tuples(index)\n",
    "pop = pd.Series(populations, index=index)\n",
    "pop = pop.reindex(index)\n",
    "\n",
    "print(pop)"
   ]
  },
  {
   "cell_type": "markdown",
   "id": "03367bd0",
   "metadata": {},
   "source": [
    "<h3 align=left>specific year"
   ]
  },
  {
   "cell_type": "code",
   "execution_count": 93,
   "id": "funny-number",
   "metadata": {},
   "outputs": [
    {
     "name": "stdout",
     "output_type": "stream",
     "text": [
      "California    15000\n",
      "New York      25000\n",
      "Texas         35000\n",
      "dtype: int64\n"
     ]
    }
   ],
   "source": [
    "print(pop[:, 2010])"
   ]
  },
  {
   "cell_type": "markdown",
   "id": "1f1719cc",
   "metadata": {},
   "source": [
    "<h3 align=left>unstack command"
   ]
  },
  {
   "cell_type": "code",
   "execution_count": 94,
   "id": "removed-crawford",
   "metadata": {},
   "outputs": [
    {
     "name": "stdout",
     "output_type": "stream",
     "text": [
      "             2000   2010\n",
      "California  10000  15000\n",
      "New York    20000  25000\n",
      "Texas       30000  35000\n"
     ]
    }
   ],
   "source": [
    "print(pop.unstack())"
   ]
  },
  {
   "cell_type": "markdown",
   "id": "174d974b",
   "metadata": {},
   "source": [
    "<h3 align=left>Add Column"
   ]
  },
  {
   "cell_type": "code",
   "execution_count": 95,
   "id": "funded-thanks",
   "metadata": {},
   "outputs": [
    {
     "name": "stdout",
     "output_type": "stream",
     "text": [
      "California  2000    10000\n",
      "            2010    15000\n",
      "New York    2000    20000\n",
      "            2010    25000\n",
      "Texas       2000    30000\n",
      "            2010    35000\n",
      "dtype: int64\n",
      "---------------------------------\n",
      "                 total  under18\n",
      "California 2000  10000  9267089\n",
      "           2010  15000  9284094\n",
      "New York   2000  20000  4687374\n",
      "           2010  25000  4318033\n",
      "Texas      2000  30000  5906301\n",
      "           2010  35000  6879014\n"
     ]
    }
   ],
   "source": [
    "pop_df = pd.DataFrame({\n",
    "    'total':\n",
    "    pop,\n",
    "    'under18': [9267089, 9284094, 4687374, 4318033, 5906301, 6879014]\n",
    "})\n",
    "\n",
    "print(pop)\n",
    "print(\"---------------------------------\")\n",
    "print(pop_df)"
   ]
  },
  {
   "cell_type": "markdown",
   "id": "ee222534",
   "metadata": {},
   "source": [
    "<h3 align =left>Option(2): Two lists in index"
   ]
  },
  {
   "cell_type": "code",
   "execution_count": 96,
   "id": "subtle-worthy",
   "metadata": {},
   "outputs": [
    {
     "name": "stdout",
     "output_type": "stream",
     "text": [
      "       income    profit\n",
      "a 1  0.659363  0.466315\n",
      "  2  0.421359  0.531218\n",
      "b 1  0.197817  0.796879\n",
      "  2  0.902251  0.130793\n"
     ]
    }
   ],
   "source": [
    "df = pd.DataFrame(np.random.rand(4, 2),\n",
    "                  index=[['a', 'a', 'b', 'b'], [1, 2, 1, 2]],\n",
    "                  columns=['income', 'profit'])\n",
    "\n",
    "print(df)"
   ]
  },
  {
   "cell_type": "markdown",
   "id": "944a32ef",
   "metadata": {},
   "source": [
    "<h3 align=left>Option(3): DataFrame"
   ]
  },
  {
   "cell_type": "code",
   "execution_count": 97,
   "id": "viral-settle",
   "metadata": {},
   "outputs": [
    {
     "name": "stdout",
     "output_type": "stream",
     "text": [
      "  California         Texas        New York       \n",
      "        2000   2010   2000   2010     2000   2010\n",
      "1      10000  15000  20000  25000    30000  35000\n",
      "2      10000  15000  20000  25000    30000  35000\n",
      "3      10000  15000  20000  25000    30000  35000\n",
      "4      10000  15000  20000  25000    30000  35000\n",
      "5      10000  15000  20000  25000    30000  35000\n",
      "6      10000  15000  20000  25000    30000  35000\n"
     ]
    }
   ],
   "source": [
    "data = {('California', 2000): 10000,('California', 2010):15000,\n",
    "        ('Texas', 2000): 20000,('Texas', 2010): 25000,\n",
    "        ('New York', 2000): 30000,('New York', 2010): 35000}\n",
    "df = pd.DataFrame(data, index=['1','2','3','4','5','6'])\n",
    "\n",
    "print(df)"
   ]
  },
  {
   "cell_type": "markdown",
   "id": "affff029",
   "metadata": {},
   "source": [
    "<h3 align=left>Optiion(4): pandas Series"
   ]
  },
  {
   "cell_type": "code",
   "execution_count": 98,
   "id": "medium-guarantee",
   "metadata": {},
   "outputs": [
    {
     "name": "stdout",
     "output_type": "stream",
     "text": [
      "California  2000    10000\n",
      "            2010    15000\n",
      "Texas       2000    20000\n",
      "            2010    25000\n",
      "New York    2000    30000\n",
      "            2010    35000\n",
      "dtype: int64\n"
     ]
    }
   ],
   "source": [
    "data = {('California', 2000): 10000,('California', 2010):15000,\n",
    "        ('Texas', 2000): 20000,('Texas', 2010): 25000,\n",
    "        ('New York', 2000): 30000,('New York', 2010): 35000}\n",
    "\n",
    "df = pd.Series(data)\n",
    "\n",
    "print(df)"
   ]
  },
  {
   "cell_type": "markdown",
   "id": "d45fb4fe",
   "metadata": {},
   "source": [
    "<h3 align=left>Option(5): from product command"
   ]
  },
  {
   "cell_type": "code",
   "execution_count": 99,
   "id": "protective-directory",
   "metadata": {},
   "outputs": [
    {
     "name": "stdout",
     "output_type": "stream",
     "text": [
      "subject     Bob      Guido       Sue     \n",
      "type         HR Temp    HR Temp   HR Temp\n",
      "year visit                               \n",
      "2013 1      3.0 -0.0  -0.0 -0.0 -1.0 -0.0\n",
      "     2      0.0  1.0   2.0 -0.0  1.0 -1.0\n",
      "2014 1      1.0  1.0   0.0 -0.0  0.0  0.0\n",
      "     2     -1.0 -0.0  -0.0 -1.0 -0.0 -1.0\n"
     ]
    }
   ],
   "source": [
    "index = pd.MultiIndex.from_product([[2013, 2014], [1, 2]],\n",
    "                                   names=['year', 'visit'])\n",
    "\n",
    "columns = pd.MultiIndex.from_product([['Bob', 'Guido', 'Sue'], ['HR', 'Temp']],\n",
    "                                     names=['subject', 'type'])\n",
    "\n",
    "data = np.round(np.random.randn(4, 6))\n",
    "health_data = pd.DataFrame(data, index=index, columns=columns)\n",
    "print(health_data)"
   ]
  },
  {
   "cell_type": "markdown",
   "id": "a7639691",
   "metadata": {},
   "source": [
    "<h3 align=left>Data slice"
   ]
  },
  {
   "cell_type": "code",
   "execution_count": 100,
   "id": "nuclear-intro",
   "metadata": {},
   "outputs": [
    {
     "name": "stdout",
     "output_type": "stream",
     "text": [
      "year  visit\n",
      "2013  1       -0.0\n",
      "      2        2.0\n",
      "2014  1        0.0\n",
      "      2       -0.0\n",
      "Name: (Guido, HR), dtype: float64\n"
     ]
    }
   ],
   "source": [
    "print(health_data['Guido', 'HR'])"
   ]
  },
  {
   "cell_type": "code",
   "execution_count": 101,
   "id": "cardiac-sherman",
   "metadata": {},
   "outputs": [
    {
     "name": "stdout",
     "output_type": "stream",
     "text": [
      "year  visit\n",
      "2013  1        3.0\n",
      "      2        0.0\n",
      "2014  1        1.0\n",
      "      2       -1.0\n",
      "Name: (Bob, HR), dtype: float64\n"
     ]
    }
   ],
   "source": [
    "print(health_data.loc[:, ('Bob', 'HR')])"
   ]
  },
  {
   "cell_type": "markdown",
   "id": "aa83f6c3",
   "metadata": {},
   "source": [
    "<h3 align=left>index slice"
   ]
  },
  {
   "cell_type": "code",
   "execution_count": 102,
   "id": "fossil-sewing",
   "metadata": {},
   "outputs": [
    {
     "name": "stdout",
     "output_type": "stream",
     "text": [
      "subject     Bob Guido  Sue\n",
      "type         HR    HR   HR\n",
      "year visit                \n",
      "2013 1      3.0  -0.0 -1.0\n",
      "2014 1      1.0   0.0  0.0\n"
     ]
    }
   ],
   "source": [
    "idx = pd.IndexSlice\n",
    "print(health_data.loc[idx[:, 1], idx[:, 'HR']])"
   ]
  },
  {
   "cell_type": "markdown",
   "id": "compliant-electric",
   "metadata": {},
   "source": [
    "<h2 align=left>Deal with strings "
   ]
  },
  {
   "cell_type": "markdown",
   "id": "e5bc63ed",
   "metadata": {},
   "source": [
    "<h3 align=left>length function"
   ]
  },
  {
   "cell_type": "code",
   "execution_count": 103,
   "id": "failing-exclusion",
   "metadata": {},
   "outputs": [
    {
     "name": "stdout",
     "output_type": "stream",
     "text": [
      "0    5\n",
      "1    4\n",
      "2    4\n",
      "3    2\n",
      "4    2\n",
      "dtype: int64\n"
     ]
    }
   ],
   "source": [
    "data = ['peter', 'Paul', 'MARY', '15', '  ']\n",
    "\n",
    "print(pd.Series(data).str.len())  # length"
   ]
  },
  {
   "cell_type": "markdown",
   "id": "30848e60",
   "metadata": {},
   "source": [
    "<h3 align=left>Boolean questions"
   ]
  },
  {
   "cell_type": "markdown",
   "id": "fb9757d8",
   "metadata": {},
   "source": [
    "<h4 align=left>startwith command"
   ]
  },
  {
   "cell_type": "code",
   "execution_count": 104,
   "id": "cognitive-rubber",
   "metadata": {},
   "outputs": [
    {
     "name": "stdout",
     "output_type": "stream",
     "text": [
      "0     True\n",
      "1    False\n",
      "2    False\n",
      "3    False\n",
      "4    False\n",
      "dtype: bool\n"
     ]
    }
   ],
   "source": [
    "print( pd.Series(data).str.startswith('p'))  # is it start with \"p\""
   ]
  },
  {
   "cell_type": "markdown",
   "id": "cc3b984d",
   "metadata": {},
   "source": [
    "<h4 align=left>endwith command"
   ]
  },
  {
   "cell_type": "code",
   "execution_count": 105,
   "id": "standing-place",
   "metadata": {},
   "outputs": [
    {
     "name": "stdout",
     "output_type": "stream",
     "text": [
      "0    False\n",
      "1    False\n",
      "2     True\n",
      "3    False\n",
      "4    False\n",
      "dtype: bool\n"
     ]
    }
   ],
   "source": [
    "print( pd.Series(data).str.endswith('Y'))  #does is end with \"Y\""
   ]
  },
  {
   "cell_type": "markdown",
   "id": "204b03af",
   "metadata": {},
   "source": [
    "<h4 align=left>isupper command "
   ]
  },
  {
   "cell_type": "code",
   "execution_count": 106,
   "id": "palestinian-twelve",
   "metadata": {},
   "outputs": [
    {
     "name": "stdout",
     "output_type": "stream",
     "text": [
      "0    False\n",
      "1    False\n",
      "2     True\n",
      "3    False\n",
      "4    False\n",
      "dtype: bool\n"
     ]
    }
   ],
   "source": [
    "print( pd.Series(data).str.isupper())      # is it all calpital?"
   ]
  },
  {
   "cell_type": "markdown",
   "id": "49933367",
   "metadata": {},
   "source": [
    "<h4 align=left>islower command"
   ]
  },
  {
   "cell_type": "code",
   "execution_count": 107,
   "id": "maritime-robertson",
   "metadata": {},
   "outputs": [
    {
     "name": "stdout",
     "output_type": "stream",
     "text": [
      "0     True\n",
      "1    False\n",
      "2    False\n",
      "3    False\n",
      "4    False\n",
      "dtype: bool\n"
     ]
    }
   ],
   "source": [
    "print( pd.Series(data).str.islower())          # is it lower ?"
   ]
  },
  {
   "cell_type": "markdown",
   "id": "f60f705f",
   "metadata": {},
   "source": [
    "<h4 align=left>istitle command "
   ]
  },
  {
   "cell_type": "code",
   "execution_count": 108,
   "id": "excess-blind",
   "metadata": {},
   "outputs": [
    {
     "name": "stdout",
     "output_type": "stream",
     "text": [
      "0    False\n",
      "1     True\n",
      "2    False\n",
      "3    False\n",
      "4    False\n",
      "dtype: bool\n"
     ]
    }
   ],
   "source": [
    "print( pd.Series(data).str.istitle())   # is it like like \"This\""
   ]
  },
  {
   "cell_type": "markdown",
   "id": "f04e1d16",
   "metadata": {},
   "source": [
    "<h4 align=left>isspace command"
   ]
  },
  {
   "cell_type": "code",
   "execution_count": 109,
   "id": "hungarian-field",
   "metadata": {},
   "outputs": [
    {
     "name": "stdout",
     "output_type": "stream",
     "text": [
      "0    False\n",
      "1    False\n",
      "2    False\n",
      "3    False\n",
      "4     True\n",
      "dtype: bool\n"
     ]
    }
   ],
   "source": [
    "print( pd.Series(data).str.isspace())   # is it all spaces ?"
   ]
  },
  {
   "cell_type": "markdown",
   "id": "d52cfc7b",
   "metadata": {},
   "source": [
    "<h4 align=left>isdigit command"
   ]
  },
  {
   "cell_type": "code",
   "execution_count": 110,
   "id": "egyptian-insured",
   "metadata": {},
   "outputs": [
    {
     "name": "stdout",
     "output_type": "stream",
     "text": [
      "0    False\n",
      "1    False\n",
      "2    False\n",
      "3     True\n",
      "4    False\n",
      "dtype: bool\n"
     ]
    }
   ],
   "source": [
    "print( pd.Series(data).str.isdigit())   # is it numbers ?"
   ]
  },
  {
   "cell_type": "markdown",
   "id": "27bab2dd",
   "metadata": {},
   "source": [
    "<h4 align=left>isalpha command"
   ]
  },
  {
   "cell_type": "code",
   "execution_count": 111,
   "id": "intermediate-difficulty",
   "metadata": {},
   "outputs": [
    {
     "name": "stdout",
     "output_type": "stream",
     "text": [
      "0     True\n",
      "1     True\n",
      "2     True\n",
      "3    False\n",
      "4    False\n",
      "dtype: bool\n"
     ]
    }
   ],
   "source": [
    "print(pd.Series(data).str.isalpha())  # is it all letters ?"
   ]
  },
  {
   "cell_type": "markdown",
   "id": "7ac38d9e",
   "metadata": {},
   "source": [
    "<h4 align=left>isalnum"
   ]
  },
  {
   "cell_type": "code",
   "execution_count": 112,
   "id": "heard-diabetes",
   "metadata": {},
   "outputs": [
    {
     "name": "stdout",
     "output_type": "stream",
     "text": [
      "0     True\n",
      "1     True\n",
      "2     True\n",
      "3     True\n",
      "4    False\n",
      "dtype: bool\n"
     ]
    }
   ],
   "source": [
    "print( pd.Series(data).str.isalnum())   # is it not got any spaces ? "
   ]
  },
  {
   "cell_type": "markdown",
   "id": "63dc66d8",
   "metadata": {},
   "source": [
    "<h4 align=left>isdecimal command"
   ]
  },
  {
   "cell_type": "code",
   "execution_count": 113,
   "id": "destroyed-portuguese",
   "metadata": {},
   "outputs": [
    {
     "name": "stdout",
     "output_type": "stream",
     "text": [
      "0    False\n",
      "1    False\n",
      "2    False\n",
      "3     True\n",
      "4    False\n",
      "dtype: bool\n"
     ]
    }
   ],
   "source": [
    "print( pd.Series(data).str.isdecimal())  # is it decimals ?"
   ]
  },
  {
   "cell_type": "markdown",
   "id": "c2dd71e4",
   "metadata": {},
   "source": [
    "<h4 align=left>isnumeric command"
   ]
  },
  {
   "cell_type": "code",
   "execution_count": 114,
   "id": "empirical-culture",
   "metadata": {},
   "outputs": [
    {
     "name": "stdout",
     "output_type": "stream",
     "text": [
      "0    False\n",
      "1    False\n",
      "2    False\n",
      "3     True\n",
      "4    False\n",
      "dtype: bool\n"
     ]
    }
   ],
   "source": [
    "print(pd.Series(data).str.isnumeric())  # is it number"
   ]
  },
  {
   "cell_type": "markdown",
   "id": "14b6a4bd",
   "metadata": {},
   "source": [
    "<h3 align=left>search for a letter \"find command\""
   ]
  },
  {
   "cell_type": "code",
   "execution_count": 115,
   "id": "functional-polyester",
   "metadata": {},
   "outputs": [
    {
     "name": "stdout",
     "output_type": "stream",
     "text": [
      "0    2\n",
      "1   -1\n",
      "2   -1\n",
      "3   -1\n",
      "4   -1\n",
      "dtype: int64\n"
     ]
    }
   ],
   "source": [
    "print( pd.Series(data).str.find('t'))  # find this letter (in case it is not there the results will be -1)"
   ]
  },
  {
   "cell_type": "code",
   "execution_count": 116,
   "id": "ranging-concord",
   "metadata": {},
   "outputs": [
    {
     "name": "stdout",
     "output_type": "stream",
     "text": [
      "0   -1\n",
      "1   -1\n",
      "2    1\n",
      "3   -1\n",
      "4   -1\n",
      "dtype: int64\n"
     ]
    }
   ],
   "source": [
    "print( pd.Series(data).str.rfind('A'))    # find it from right"
   ]
  },
  {
   "cell_type": "markdown",
   "id": "d98e69b5",
   "metadata": {},
   "source": [
    "<h3 align=left>Adjust commands"
   ]
  },
  {
   "cell_type": "markdown",
   "id": "92b2326f",
   "metadata": {},
   "source": [
    "<h4 align= left>just command"
   ]
  },
  {
   "cell_type": "code",
   "execution_count": 117,
   "id": "white-immunology",
   "metadata": {},
   "outputs": [
    {
     "name": "stdout",
     "output_type": "stream",
     "text": [
      "0                   peter\n",
      "1                    Paul\n",
      "2                    MARY\n",
      "3                      15\n",
      "4                        \n",
      "dtype: object\n"
     ]
    }
   ],
   "source": [
    "print( pd.Series(data).str.rjust(20))   # adjust from right"
   ]
  },
  {
   "cell_type": "code",
   "execution_count": 118,
   "id": "entire-layer",
   "metadata": {},
   "outputs": [
    {
     "name": "stdout",
     "output_type": "stream",
     "text": [
      "0    peter                                         ...\n",
      "1    Paul                                          ...\n",
      "2    MARY                                          ...\n",
      "3    15                                            ...\n",
      "4                                                  ...\n",
      "dtype: object\n"
     ]
    }
   ],
   "source": [
    "print(pd.Series(data).str.ljust(50))  # adjust from left"
   ]
  },
  {
   "cell_type": "markdown",
   "id": "99d00a4d",
   "metadata": {},
   "source": [
    "<h4 align=left>center command"
   ]
  },
  {
   "cell_type": "code",
   "execution_count": 119,
   "id": "white-apparel",
   "metadata": {},
   "outputs": [
    {
     "name": "stdout",
     "output_type": "stream",
     "text": [
      "0      peter   \n",
      "1       Paul   \n",
      "2       MARY   \n",
      "3        15    \n",
      "4              \n",
      "dtype: object\n"
     ]
    }
   ],
   "source": [
    "\n",
    "print(pd.Series(data).str.center(10))  # make it center"
   ]
  },
  {
   "cell_type": "markdown",
   "id": "8ca70bcc",
   "metadata": {},
   "source": [
    "<h4 align=left>zfill command"
   ]
  },
  {
   "cell_type": "code",
   "execution_count": 120,
   "id": "swedish-position",
   "metadata": {},
   "outputs": [
    {
     "name": "stdout",
     "output_type": "stream",
     "text": [
      "0    peter\n",
      "1    0Paul\n",
      "2    0MARY\n",
      "3    00015\n",
      "4    000  \n",
      "dtype: object\n"
     ]
    }
   ],
   "source": [
    "print(pd.Series(data).str.zfill(5))  # fill zeros"
   ]
  },
  {
   "cell_type": "markdown",
   "id": "cec413b0",
   "metadata": {},
   "source": [
    "<h3 align=left>upper command"
   ]
  },
  {
   "cell_type": "code",
   "execution_count": 121,
   "id": "needed-reward",
   "metadata": {},
   "outputs": [
    {
     "name": "stdout",
     "output_type": "stream",
     "text": [
      "0    PETER\n",
      "1     PAUL\n",
      "2     MARY\n",
      "3       15\n",
      "4         \n",
      "dtype: object\n"
     ]
    }
   ],
   "source": [
    "print( pd.Series(data).str.upper())   # make it capital"
   ]
  },
  {
   "cell_type": "markdown",
   "id": "75a9f0f8",
   "metadata": {},
   "source": [
    "<h3 align=left>Capitalize command"
   ]
  },
  {
   "cell_type": "code",
   "execution_count": 122,
   "id": "specific-transformation",
   "metadata": {},
   "outputs": [
    {
     "name": "stdout",
     "output_type": "stream",
     "text": [
      "0    Peter\n",
      "1     Paul\n",
      "2     Mary\n",
      "3       15\n",
      "4         \n",
      "dtype: object\n"
     ]
    }
   ],
   "source": [
    "print(pd.Series(data).str.capitalize())  # make it like 'This', title"
   ]
  },
  {
   "cell_type": "markdown",
   "id": "3df0b9a7",
   "metadata": {},
   "source": [
    "<h3 align=left>lower command"
   ]
  },
  {
   "cell_type": "code",
   "execution_count": 123,
   "id": "southern-hindu",
   "metadata": {},
   "outputs": [
    {
     "name": "stdout",
     "output_type": "stream",
     "text": [
      "0    peter\n",
      "1     paul\n",
      "2     mary\n",
      "3       15\n",
      "4         \n",
      "dtype: object\n"
     ]
    }
   ],
   "source": [
    "print(pd.Series(data).str.lower())  # make it lower"
   ]
  },
  {
   "cell_type": "markdown",
   "id": "9e2ebb68",
   "metadata": {},
   "source": [
    "<h3 align=left>Swapcase command"
   ]
  },
  {
   "cell_type": "code",
   "execution_count": 124,
   "id": "independent-extraction",
   "metadata": {},
   "outputs": [
    {
     "name": "stdout",
     "output_type": "stream",
     "text": [
      "0    PETER\n",
      "1     pAUL\n",
      "2     mary\n",
      "3       15\n",
      "4         \n",
      "dtype: object\n"
     ]
    }
   ],
   "source": [
    "print( pd.Series(data).str.swapcase())    # switch capital & small"
   ]
  },
  {
   "cell_type": "markdown",
   "id": "talented-protocol",
   "metadata": {},
   "source": [
    "<h2 align=left>Deal with Time and Date"
   ]
  },
  {
   "cell_type": "markdown",
   "id": "8cfcb3b8",
   "metadata": {},
   "source": [
    "<h3 align=left>Deal with a date"
   ]
  },
  {
   "cell_type": "code",
   "execution_count": 125,
   "id": "optional-theory",
   "metadata": {},
   "outputs": [
    {
     "name": "stdout",
     "output_type": "stream",
     "text": [
      "2021-07-18 00:00:00\n"
     ]
    }
   ],
   "source": [
    "x = pd.to_datetime(\"18th of July, 2021\")\n",
    "print(x)"
   ]
  },
  {
   "cell_type": "markdown",
   "id": "aeaf04a2",
   "metadata": {},
   "source": [
    "<h3 align=left>Days Increase"
   ]
  },
  {
   "cell_type": "code",
   "execution_count": 126,
   "id": "severe-potential",
   "metadata": {},
   "outputs": [
    {
     "name": "stdout",
     "output_type": "stream",
     "text": [
      "DatetimeIndex(['2021-07-18', '2021-07-19', '2021-07-20', '2021-07-21',\n",
      "               '2021-07-22', '2021-07-23', '2021-07-24', '2021-07-25',\n",
      "               '2021-07-26', '2021-07-27', '2021-07-28', '2021-07-29',\n",
      "               '2021-07-30', '2021-07-31', '2021-08-01', '2021-08-02',\n",
      "               '2021-08-03', '2021-08-04', '2021-08-05', '2021-08-06'],\n",
      "              dtype='datetime64[ns]', freq=None)\n"
     ]
    }
   ],
   "source": [
    "y = x + pd.to_timedelta(np.arange(20), 'D')  # the increasing periods will be by days\n",
    "\n",
    "print(y)"
   ]
  },
  {
   "cell_type": "markdown",
   "id": "c282b0e1",
   "metadata": {},
   "source": [
    "<h3 align=left>Days Decrease"
   ]
  },
  {
   "cell_type": "code",
   "execution_count": 127,
   "id": "extended-village",
   "metadata": {},
   "outputs": [
    {
     "name": "stdout",
     "output_type": "stream",
     "text": [
      "DatetimeIndex(['2021-07-18', '2021-07-17', '2021-07-16', '2021-07-15',\n",
      "               '2021-07-14', '2021-07-13', '2021-07-12', '2021-07-11',\n",
      "               '2021-07-10', '2021-07-09', '2021-07-08', '2021-07-07',\n",
      "               '2021-07-06', '2021-07-05', '2021-07-04', '2021-07-03',\n",
      "               '2021-07-02', '2021-07-01', '2021-06-30', '2021-06-29'],\n",
      "              dtype='datetime64[ns]', freq=None)\n"
     ]
    }
   ],
   "source": [
    "x = pd.to_datetime(\"18th of July, 2021\")\n",
    "y = x - pd.to_timedelta(np.arange(20), 'D')\n",
    "\n",
    "print(y)"
   ]
  },
  {
   "cell_type": "markdown",
   "id": "55a4fe89",
   "metadata": {},
   "source": [
    "<h3 align=left>Using the date as an index"
   ]
  },
  {
   "cell_type": "code",
   "execution_count": 128,
   "id": "sealed-mileage",
   "metadata": {},
   "outputs": [
    {
     "name": "stdout",
     "output_type": "stream",
     "text": [
      "2014-07-04    0\n",
      "2014-08-04    1\n",
      "2015-07-04    2\n",
      "2015-08-04    3\n",
      "dtype: int64\n"
     ]
    }
   ],
   "source": [
    "index = pd.DatetimeIndex(\n",
    "    ['2014-07-04', '2014-08-04', '2015-07-04', '2015-08-04'])\n",
    "\n",
    "data = pd.Series([0, 1, 2, 3], index=index)\n",
    "\n",
    "print(data)"
   ]
  },
  {
   "cell_type": "markdown",
   "id": "1addaa13",
   "metadata": {},
   "source": [
    "<h3 align=left>Slice the data using the date index"
   ]
  },
  {
   "cell_type": "code",
   "execution_count": 129,
   "id": "acknowledged-reconstruction",
   "metadata": {},
   "outputs": [
    {
     "name": "stdout",
     "output_type": "stream",
     "text": [
      "2011-03-12    0\n",
      "2012-08-21    1\n",
      "dtype: int64\n"
     ]
    }
   ],
   "source": [
    "index = pd.DatetimeIndex(\n",
    "    ['2011-03-12', '2012-08-21', '2013-07-11', '2014-11-08'])\n",
    "\n",
    "data = pd.Series([0, 1, 2, 3], index=index)\n",
    "\n",
    "print(data['2011-01-01':'2012-12-31'])"
   ]
  },
  {
   "cell_type": "markdown",
   "id": "3bed966a",
   "metadata": {},
   "source": [
    "<h3 align=left>Slice the data using a year"
   ]
  },
  {
   "cell_type": "code",
   "execution_count": 130,
   "id": "advance-palace",
   "metadata": {},
   "outputs": [
    {
     "name": "stdout",
     "output_type": "stream",
     "text": [
      "2012-08-21    1\n",
      "dtype: int64\n"
     ]
    }
   ],
   "source": [
    "print(data['2012'])"
   ]
  },
  {
   "cell_type": "markdown",
   "id": "28878072",
   "metadata": {},
   "source": [
    "<h3 align=left>Slice using a month"
   ]
  },
  {
   "cell_type": "code",
   "execution_count": 131,
   "id": "announced-transaction",
   "metadata": {},
   "outputs": [
    {
     "name": "stdout",
     "output_type": "stream",
     "text": [
      "2012-08-21    1\n",
      "dtype: int64\n"
     ]
    }
   ],
   "source": [
    "print(data['2012-08'])"
   ]
  },
  {
   "cell_type": "markdown",
   "id": "1a5c15de",
   "metadata": {},
   "source": [
    "<h3 align=left>Time Range (Period)"
   ]
  },
  {
   "cell_type": "code",
   "execution_count": 132,
   "id": "seventh-marathon",
   "metadata": {},
   "outputs": [
    {
     "name": "stdout",
     "output_type": "stream",
     "text": [
      "DatetimeIndex(['2011-12-25', '2011-12-26', '2011-12-27', '2011-12-28',\n",
      "               '2011-12-29', '2011-12-30', '2011-12-31', '2012-01-01',\n",
      "               '2012-01-02', '2012-01-03', '2012-01-04', '2012-01-05',\n",
      "               '2012-01-06', '2012-01-07', '2012-01-08'],\n",
      "              dtype='datetime64[ns]', freq='D')\n"
     ]
    }
   ],
   "source": [
    "data = pd.date_range('2011-12-25', '2012-01-08')\n",
    "print(data)"
   ]
  },
  {
   "cell_type": "markdown",
   "id": "e7ab1bb2",
   "metadata": {},
   "source": [
    "<h4 align=left>periods command"
   ]
  },
  {
   "cell_type": "code",
   "execution_count": 133,
   "id": "inside-victory",
   "metadata": {},
   "outputs": [
    {
     "name": "stdout",
     "output_type": "stream",
     "text": [
      "DatetimeIndex(['2011-12-25', '2011-12-26', '2011-12-27', '2011-12-28',\n",
      "               '2011-12-29', '2011-12-30', '2011-12-31', '2012-01-01'],\n",
      "              dtype='datetime64[ns]', freq='D')\n"
     ]
    }
   ],
   "source": [
    "data = pd.date_range('2011-12-25', periods=8) # the period will be automatically using days\n",
    "print(data)"
   ]
  },
  {
   "cell_type": "markdown",
   "id": "6df0f29c",
   "metadata": {},
   "source": [
    "<h4 align=left>frequancy command"
   ]
  },
  {
   "cell_type": "code",
   "execution_count": 134,
   "id": "interstate-honduras",
   "metadata": {},
   "outputs": [
    {
     "name": "stdout",
     "output_type": "stream",
     "text": [
      "DatetimeIndex(['2011-12-25 00:00:00', '2011-12-25 01:00:00',\n",
      "               '2011-12-25 02:00:00', '2011-12-25 03:00:00',\n",
      "               '2011-12-25 04:00:00', '2011-12-25 05:00:00',\n",
      "               '2011-12-25 06:00:00', '2011-12-25 07:00:00'],\n",
      "              dtype='datetime64[ns]', freq='H')\n"
     ]
    }
   ],
   "source": [
    "data = pd.date_range('2011-12-25', periods=8, freq='H')\n",
    "print(data)"
   ]
  },
  {
   "cell_type": "markdown",
   "id": "3eb91882",
   "metadata": {},
   "source": [
    "<h4 align=left>zero range"
   ]
  },
  {
   "cell_type": "code",
   "execution_count": 135,
   "id": "collected-philosophy",
   "metadata": {},
   "outputs": [
    {
     "name": "stdout",
     "output_type": "stream",
     "text": [
      "TimedeltaIndex(['0 days 00:00:00', '0 days 01:00:00', '0 days 02:00:00',\n",
      "                '0 days 03:00:00', '0 days 04:00:00', '0 days 05:00:00',\n",
      "                '0 days 06:00:00', '0 days 07:00:00', '0 days 08:00:00',\n",
      "                '0 days 09:00:00'],\n",
      "               dtype='timedelta64[ns]', freq='H')\n"
     ]
    }
   ],
   "source": [
    "data = pd.timedelta_range(0, periods=10, freq='H')\n",
    "print(data)"
   ]
  },
  {
   "cell_type": "code",
   "execution_count": 136,
   "id": "desperate-tunnel",
   "metadata": {},
   "outputs": [
    {
     "name": "stdout",
     "output_type": "stream",
     "text": [
      "TimedeltaIndex(['0 days 00:00:00', '0 days 02:30:40', '0 days 05:01:20',\n",
      "                '0 days 07:32:00', '0 days 10:02:40', '0 days 12:33:20',\n",
      "                '0 days 15:04:00', '0 days 17:34:40', '0 days 20:05:20'],\n",
      "               dtype='timedelta64[ns]', freq='9040S')\n"
     ]
    }
   ],
   "source": [
    "data = pd.timedelta_range(0, periods=9, freq=\"2H30T40S\")\n",
    "print(data)"
   ]
  },
  {
   "cell_type": "markdown",
   "id": "0d596e33",
   "metadata": {},
   "source": [
    "<h3 align=left>Business Days  "
   ]
  },
  {
   "cell_type": "code",
   "execution_count": 137,
   "id": "recorded-herald",
   "metadata": {},
   "outputs": [
    {
     "name": "stdout",
     "output_type": "stream",
     "text": [
      "DatetimeIndex(['2018-07-05', '2018-07-06', '2018-07-09', '2018-07-10',\n",
      "               '2018-07-11'],\n",
      "              dtype='datetime64[ns]', freq='B')\n"
     ]
    }
   ],
   "source": [
    "from pandas.tseries.offsets import BDay\n",
    "\n",
    "data = pd.date_range('2018-07-05', periods=5, freq=BDay())\n",
    "print(data)"
   ]
  },
  {
   "cell_type": "markdown",
   "id": "private-pressing",
   "metadata": {},
   "source": [
    "<h2 align=left>Deal with CSV files"
   ]
  },
  {
   "cell_type": "markdown",
   "id": "cd370ad1",
   "metadata": {},
   "source": [
    "<h3 align=left>Read csv files"
   ]
  },
  {
   "cell_type": "code",
   "execution_count": 138,
   "id": "falling-depression",
   "metadata": {},
   "outputs": [
    {
     "data": {
      "text/html": [
       "<div>\n",
       "<style scoped>\n",
       "    .dataframe tbody tr th:only-of-type {\n",
       "        vertical-align: middle;\n",
       "    }\n",
       "\n",
       "    .dataframe tbody tr th {\n",
       "        vertical-align: top;\n",
       "    }\n",
       "\n",
       "    .dataframe thead th {\n",
       "        text-align: right;\n",
       "    }\n",
       "</style>\n",
       "<table border=\"1\" class=\"dataframe\">\n",
       "  <thead>\n",
       "    <tr style=\"text-align: right;\">\n",
       "      <th></th>\n",
       "      <th>Id</th>\n",
       "      <th>SepalLengthCm</th>\n",
       "      <th>SepalWidthCm</th>\n",
       "      <th>PetalLengthCm</th>\n",
       "      <th>PetalWidthCm</th>\n",
       "      <th>Species</th>\n",
       "    </tr>\n",
       "  </thead>\n",
       "  <tbody>\n",
       "    <tr>\n",
       "      <th>0</th>\n",
       "      <td>1</td>\n",
       "      <td>5.1</td>\n",
       "      <td>3.5</td>\n",
       "      <td>1.4</td>\n",
       "      <td>0.2</td>\n",
       "      <td>Iris-setosa</td>\n",
       "    </tr>\n",
       "    <tr>\n",
       "      <th>1</th>\n",
       "      <td>2</td>\n",
       "      <td>4.9</td>\n",
       "      <td>3.0</td>\n",
       "      <td>1.4</td>\n",
       "      <td>0.2</td>\n",
       "      <td>Iris-setosa</td>\n",
       "    </tr>\n",
       "    <tr>\n",
       "      <th>2</th>\n",
       "      <td>3</td>\n",
       "      <td>4.7</td>\n",
       "      <td>3.2</td>\n",
       "      <td>1.3</td>\n",
       "      <td>0.2</td>\n",
       "      <td>Iris-setosa</td>\n",
       "    </tr>\n",
       "    <tr>\n",
       "      <th>3</th>\n",
       "      <td>4</td>\n",
       "      <td>4.6</td>\n",
       "      <td>3.1</td>\n",
       "      <td>1.5</td>\n",
       "      <td>0.2</td>\n",
       "      <td>Iris-setosa</td>\n",
       "    </tr>\n",
       "    <tr>\n",
       "      <th>4</th>\n",
       "      <td>5</td>\n",
       "      <td>5.0</td>\n",
       "      <td>3.6</td>\n",
       "      <td>1.4</td>\n",
       "      <td>0.2</td>\n",
       "      <td>Iris-setosa</td>\n",
       "    </tr>\n",
       "  </tbody>\n",
       "</table>\n",
       "</div>"
      ],
      "text/plain": [
       "   Id  SepalLengthCm  SepalWidthCm  PetalLengthCm  PetalWidthCm      Species\n",
       "0   1            5.1           3.5            1.4           0.2  Iris-setosa\n",
       "1   2            4.9           3.0            1.4           0.2  Iris-setosa\n",
       "2   3            4.7           3.2            1.3           0.2  Iris-setosa\n",
       "3   4            4.6           3.1            1.5           0.2  Iris-setosa\n",
       "4   5            5.0           3.6            1.4           0.2  Iris-setosa"
      ]
     },
     "execution_count": 138,
     "metadata": {},
     "output_type": "execute_result"
    }
   ],
   "source": [
    "df = pd.read_csv('1.csv', delimiter=\";\")\n",
    "df.head()"
   ]
  },
  {
   "cell_type": "markdown",
   "id": "2a54bd81",
   "metadata": {},
   "source": [
    "<h3 align=left>set_index_col"
   ]
  },
  {
   "cell_type": "code",
   "execution_count": 139,
   "id": "western-compromise",
   "metadata": {},
   "outputs": [
    {
     "data": {
      "text/html": [
       "<div>\n",
       "<style scoped>\n",
       "    .dataframe tbody tr th:only-of-type {\n",
       "        vertical-align: middle;\n",
       "    }\n",
       "\n",
       "    .dataframe tbody tr th {\n",
       "        vertical-align: top;\n",
       "    }\n",
       "\n",
       "    .dataframe thead th {\n",
       "        text-align: right;\n",
       "    }\n",
       "</style>\n",
       "<table border=\"1\" class=\"dataframe\">\n",
       "  <thead>\n",
       "    <tr style=\"text-align: right;\">\n",
       "      <th></th>\n",
       "      <th>Id</th>\n",
       "      <th>SepalLengthCm</th>\n",
       "      <th>PetalLengthCm</th>\n",
       "      <th>PetalWidthCm</th>\n",
       "      <th>Species</th>\n",
       "    </tr>\n",
       "    <tr>\n",
       "      <th>SepalWidthCm</th>\n",
       "      <th></th>\n",
       "      <th></th>\n",
       "      <th></th>\n",
       "      <th></th>\n",
       "      <th></th>\n",
       "    </tr>\n",
       "  </thead>\n",
       "  <tbody>\n",
       "    <tr>\n",
       "      <th>3.5</th>\n",
       "      <td>1</td>\n",
       "      <td>5.1</td>\n",
       "      <td>1.4</td>\n",
       "      <td>0.2</td>\n",
       "      <td>Iris-setosa</td>\n",
       "    </tr>\n",
       "    <tr>\n",
       "      <th>3.0</th>\n",
       "      <td>2</td>\n",
       "      <td>4.9</td>\n",
       "      <td>1.4</td>\n",
       "      <td>0.2</td>\n",
       "      <td>Iris-setosa</td>\n",
       "    </tr>\n",
       "    <tr>\n",
       "      <th>3.2</th>\n",
       "      <td>3</td>\n",
       "      <td>4.7</td>\n",
       "      <td>1.3</td>\n",
       "      <td>0.2</td>\n",
       "      <td>Iris-setosa</td>\n",
       "    </tr>\n",
       "    <tr>\n",
       "      <th>3.1</th>\n",
       "      <td>4</td>\n",
       "      <td>4.6</td>\n",
       "      <td>1.5</td>\n",
       "      <td>0.2</td>\n",
       "      <td>Iris-setosa</td>\n",
       "    </tr>\n",
       "    <tr>\n",
       "      <th>3.6</th>\n",
       "      <td>5</td>\n",
       "      <td>5.0</td>\n",
       "      <td>1.4</td>\n",
       "      <td>0.2</td>\n",
       "      <td>Iris-setosa</td>\n",
       "    </tr>\n",
       "  </tbody>\n",
       "</table>\n",
       "</div>"
      ],
      "text/plain": [
       "              Id  SepalLengthCm  PetalLengthCm  PetalWidthCm      Species\n",
       "SepalWidthCm                                                             \n",
       "3.5            1            5.1            1.4           0.2  Iris-setosa\n",
       "3.0            2            4.9            1.4           0.2  Iris-setosa\n",
       "3.2            3            4.7            1.3           0.2  Iris-setosa\n",
       "3.1            4            4.6            1.5           0.2  Iris-setosa\n",
       "3.6            5            5.0            1.4           0.2  Iris-setosa"
      ]
     },
     "execution_count": 139,
     "metadata": {},
     "output_type": "execute_result"
    }
   ],
   "source": [
    "data=pd.read_csv('1.csv', delimiter= ';', index_col='SepalWidthCm')\n",
    "data.head(5)"
   ]
  },
  {
   "cell_type": "markdown",
   "id": "644167f4",
   "metadata": {},
   "source": [
    "<h3 align=left>save the data into a csv file"
   ]
  },
  {
   "cell_type": "code",
   "execution_count": 140,
   "id": "humanitarian-comedy",
   "metadata": {},
   "outputs": [
    {
     "name": "stdout",
     "output_type": "stream",
     "text": [
      "   Math  Physics  French  Chemistry\n",
      "a     1        6      11         16\n",
      "b     2        7      12         17\n",
      "c     3        8      13         18\n",
      "d     4        9      14         19\n",
      "e     5       10      15         20\n"
     ]
    }
   ],
   "source": [
    "w = pd.Series({'a': 1, 'b': 2, 'c': 3, 'd': 4, 'e': 5})\n",
    "x = pd.Series({'a': 6, 'b': 7, 'c': 8, 'd': 9, 'e': 10})\n",
    "y = pd.Series({'a': 11, 'b': 12, 'c': 13, 'd': 14, 'e': 15})\n",
    "z = pd.Series({'a': 16, 'b': 17, 'c': 18, 'd': 19, 'e': 20})\n",
    "\n",
    "grades = pd.DataFrame({'Math': w, 'Physics': x, 'French': y, 'Chemistry': z})\n",
    "\n",
    "print(grades)"
   ]
  },
  {
   "cell_type": "code",
   "execution_count": 141,
   "id": "thirty-bobby",
   "metadata": {},
   "outputs": [],
   "source": [
    "# save the data to CSV file\n",
    "grades.to_csv('2.csv', index=False, header=True)"
   ]
  },
  {
   "cell_type": "markdown",
   "id": "873e59d3",
   "metadata": {},
   "source": [
    "<h3 align =left>save the data into an Excel sheet"
   ]
  },
  {
   "cell_type": "code",
   "execution_count": 142,
   "id": "infectious-overall",
   "metadata": {},
   "outputs": [],
   "source": [
    "grades.to_excel(\n",
    "    r'2.xlsx',\n",
    "    index=False,\n",
    "    header=True,\n",
    "    sheet_name='grades')"
   ]
  },
  {
   "cell_type": "markdown",
   "id": "4a5f4c85",
   "metadata": {},
   "source": [
    "<h3 align =left>Read excel or csv files"
   ]
  },
  {
   "cell_type": "code",
   "execution_count": 143,
   "id": "addressed-strand",
   "metadata": {},
   "outputs": [
    {
     "name": "stdout",
     "output_type": "stream",
     "text": [
      "   Math  Physics  French  Chemistry\n",
      "0     1        6      11         16\n",
      "1     2        7      12         17\n",
      "2     3        8      13         18\n",
      "3     4        9      14         19\n",
      "4     5       10      15         20\n",
      "--------------------------------------\n",
      "   Math  Physics  French  Chemistry\n",
      "0     1        6      11         16\n",
      "1     2        7      12         17\n",
      "2     3        8      13         18\n",
      "3     4        9      14         19\n",
      "4     5       10      15         20\n"
     ]
    }
   ],
   "source": [
    "grades1 = pd.read_csv('2.csv')\n",
    "grades2 = pd.read_excel('2.xlsx')\n",
    "\n",
    "print(grades1)\n",
    "print('--------------------------------------')\n",
    "print(grades2)"
   ]
  },
  {
   "cell_type": "markdown",
   "id": "0d0c1035",
   "metadata": {},
   "source": [
    "<h3 align=left>other option"
   ]
  },
  {
   "cell_type": "code",
   "execution_count": 144,
   "id": "distant-halifax",
   "metadata": {},
   "outputs": [
    {
     "name": "stdout",
     "output_type": "stream",
     "text": [
      "      a        b       c          d\n",
      "0  Math  Physics  French  Chemistry\n",
      "1     1        6      11         16\n",
      "2     2        7      12         17\n",
      "3     3        8      13         18\n",
      "4     4        9      14         19\n",
      "5     5       10      15         20\n"
     ]
    }
   ],
   "source": [
    "from pandas import read_csv\n",
    "filename = '2.csv'\n",
    "names = ['a', 'b', 'c', 'd']\n",
    "data = read_csv(filename, names=names)\n",
    "print(data)"
   ]
  },
  {
   "cell_type": "markdown",
   "id": "12c571b2",
   "metadata": {},
   "source": [
    "<h3 align=left>conduct some statistics operations"
   ]
  },
  {
   "cell_type": "code",
   "execution_count": 145,
   "id": "0e20c022",
   "metadata": {},
   "outputs": [
    {
     "data": {
      "text/html": [
       "<div>\n",
       "<style scoped>\n",
       "    .dataframe tbody tr th:only-of-type {\n",
       "        vertical-align: middle;\n",
       "    }\n",
       "\n",
       "    .dataframe tbody tr th {\n",
       "        vertical-align: top;\n",
       "    }\n",
       "\n",
       "    .dataframe thead th {\n",
       "        text-align: right;\n",
       "    }\n",
       "</style>\n",
       "<table border=\"1\" class=\"dataframe\">\n",
       "  <thead>\n",
       "    <tr style=\"text-align: right;\">\n",
       "      <th></th>\n",
       "      <th>a</th>\n",
       "      <th>b</th>\n",
       "      <th>c</th>\n",
       "      <th>d</th>\n",
       "    </tr>\n",
       "  </thead>\n",
       "  <tbody>\n",
       "    <tr>\n",
       "      <th>count</th>\n",
       "      <td>6</td>\n",
       "      <td>6</td>\n",
       "      <td>6</td>\n",
       "      <td>6</td>\n",
       "    </tr>\n",
       "    <tr>\n",
       "      <th>unique</th>\n",
       "      <td>6</td>\n",
       "      <td>6</td>\n",
       "      <td>6</td>\n",
       "      <td>6</td>\n",
       "    </tr>\n",
       "    <tr>\n",
       "      <th>top</th>\n",
       "      <td>Math</td>\n",
       "      <td>Physics</td>\n",
       "      <td>French</td>\n",
       "      <td>Chemistry</td>\n",
       "    </tr>\n",
       "    <tr>\n",
       "      <th>freq</th>\n",
       "      <td>1</td>\n",
       "      <td>1</td>\n",
       "      <td>1</td>\n",
       "      <td>1</td>\n",
       "    </tr>\n",
       "  </tbody>\n",
       "</table>\n",
       "</div>"
      ],
      "text/plain": [
       "           a        b       c          d\n",
       "count      6        6       6          6\n",
       "unique     6        6       6          6\n",
       "top     Math  Physics  French  Chemistry\n",
       "freq       1        1       1          1"
      ]
     },
     "execution_count": 145,
     "metadata": {},
     "output_type": "execute_result"
    }
   ],
   "source": [
    "data.describe()"
   ]
  },
  {
   "cell_type": "code",
   "execution_count": 146,
   "id": "direct-denver",
   "metadata": {},
   "outputs": [],
   "source": [
    "# from pandas import read_csv\n",
    "# from pandas import set_option\n",
    "\n",
    "# filename = \"D:\\\\pima-indians-diabetes.csv\" # i do not have the file\n",
    "# names = [\n",
    "#     'preg', 'plas', 'pres', 'skin', 'test', 'mass', 'pedi', 'age', 'class'\n",
    "# ]\n",
    "# data = read_csv(filename, names=names)\n",
    "# set_option('display.width', 100)\n",
    "# set_option('precision', 3)\n",
    "# description = data.describe()\n",
    "# print(description)"
   ]
  },
  {
   "cell_type": "code",
   "execution_count": 147,
   "id": "marked-union",
   "metadata": {},
   "outputs": [],
   "source": [
    "# Class Distribution\n",
    "# from pandas import read_csv\n",
    "\n",
    "# class_counts = data.groupby('class').size() \n",
    "# print(class_counts)"
   ]
  },
  {
   "cell_type": "code",
   "execution_count": 148,
   "id": "corrected-relations",
   "metadata": {},
   "outputs": [],
   "source": [
    "# correlation coefficient\n",
    "\n",
    "# correlations = data.corr(method='pearson') \n",
    "# print(correlations)"
   ]
  },
  {
   "cell_type": "code",
   "execution_count": 149,
   "id": "international-hormone",
   "metadata": {
    "code_folding": []
   },
   "outputs": [],
   "source": [
    "# Skew data\n",
    "\n",
    "# from pandas import read_csv\n",
    "# filename = \"D:\\\\pima-indians-diabetes.data.csv\"\n",
    "# names = ['preg', 'plas', 'pres', 'skin', 'test', 'mass', 'pedi', 'age', 'class']\n",
    "# data = read_csv(filename, names=names)\n",
    "# skew = data.skew()\n",
    "# print(skew)"
   ]
  }
 ],
 "metadata": {
  "kernelspec": {
   "display_name": "base",
   "language": "python",
   "name": "python3"
  },
  "language_info": {
   "codemirror_mode": {
    "name": "ipython",
    "version": 3
   },
   "file_extension": ".py",
   "mimetype": "text/x-python",
   "name": "python",
   "nbconvert_exporter": "python",
   "pygments_lexer": "ipython3",
   "version": "3.9.12"
  },
  "latex_envs": {
   "LaTeX_envs_menu_present": true,
   "autoclose": false,
   "autocomplete": true,
   "bibliofile": "biblio.bib",
   "cite_by": "apalike",
   "current_citInitial": 1,
   "eqLabelWithNumbers": true,
   "eqNumInitial": 1,
   "hotkeys": {
    "equation": "Ctrl-E",
    "itemize": "Ctrl-I"
   },
   "labels_anchors": false,
   "latex_user_defs": false,
   "report_style_numbering": false,
   "user_envs_cfg": false
  },
  "toc": {
   "base_numbering": 1,
   "nav_menu": {},
   "number_sections": true,
   "sideBar": false,
   "skip_h1_title": true,
   "title_cell": "Table of Contents",
   "title_sidebar": "Contents",
   "toc_cell": true,
   "toc_position": {
    "height": "620.6px",
    "left": "27px",
    "top": "133.562px",
    "width": "251px"
   },
   "toc_section_display": true,
   "toc_window_display": true
  },
  "vscode": {
   "interpreter": {
    "hash": "55f2fe7b1c560c2d324ed046faeb8a55513d29ab718ddf7bfc99dad8debd2a7a"
   }
  }
 },
 "nbformat": 4,
 "nbformat_minor": 5
}
